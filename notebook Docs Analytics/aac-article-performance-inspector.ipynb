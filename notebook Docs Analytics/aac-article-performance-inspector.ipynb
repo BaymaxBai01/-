{
 "cells": [
  {
   "cell_type": "markdown",
   "metadata": {},
   "source": [
    "# AAC Article "
   ]
  },
  {
   "cell_type": "markdown",
   "metadata": {},
   "source": [
    "## Initialize Kusto connection in Python Environment\n",
    "\n",
    "Running the queries in this analysis requires package [Kqlmagic](https://github.com/microsoft/jupyter-Kqlmagic). Following commands will install and load the pacage. There's a Kusto connection creation and test command. When you run the command, you will see a link of https://microsoft.com/devicelogin popped up in the output. Please do click that and input the code. This will grant Kusto permission to your environment of this jupyter note. If you run all the commands in one session, you just have to authorize once."
   ]
  },
  {
   "cell_type": "code",
   "execution_count": 2,
   "metadata": {},
   "outputs": [
    {
     "data": {
      "application/javascript": [
       "try {IPython.notebook.kernel.execute(\"NOTEBOOK_URL = '\" + window.location + \"'\");} catch(err) {;}"
      ],
      "text/plain": [
       "<IPython.core.display.Javascript object>"
      ]
     },
     "metadata": {},
     "output_type": "display_data"
    },
    {
     "data": {
      "application/javascript": [
       "try {IPython.notebook.kernel.reconnect();} catch(err) {;}"
      ],
      "text/plain": [
       "<IPython.core.display.Javascript object>"
      ]
     },
     "metadata": {},
     "output_type": "display_data"
    },
    {
     "data": {
      "text/html": [
       "<html>\n",
       "            <head>\n",
       "            <style>\n",
       "            .kql-magic-banner {\n",
       "                display: flex; \n",
       "                background-color: #d9edf7;\n",
       "            }\n",
       "            .kql-magic-banner > div {\n",
       "                margin: 10px; \n",
       "                padding: 20px; \n",
       "                color: #3a87ad; \n",
       "                font-size: 13px;\n",
       "            }\n",
       "            </style>\n",
       "            </head>\n",
       "            <body>\n",
       "                <div class='kql-magic-banner'>\n",
       "                    <div><img src='data:image/png;base64,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'></div>\n",
       "                    <div>\n",
       "                        <p>Kql Query Language, aka kql, is the query language for advanced analytics on Azure Monitor resources. The current supported data sources are \n",
       "                        Azure Data Explorer (Kusto), Log Analytics and Application Insights. To get more information execute '%kql --help \"kql\"'</p>\n",
       "                        <p>   &bull; kql reference: Click on 'Help' tab > and Select 'kql reference' or execute '%kql --help \"kql\"'<br>\n",
       "                          &bull; Kqlmagic configuration: execute '%config Kqlmagic'<br>\n",
       "                          &bull; Kqlmagic usage: execute '%kql --usage'<br>\n",
       "                    </div>\n",
       "                </div>\n",
       "            </body>\n",
       "            </html>"
      ],
      "text/plain": [
       "<IPython.core.display.HTML object>"
      ]
     },
     "metadata": {},
     "output_type": "display_data"
    },
    {
     "data": {
      "text/html": [
       "<html>\n",
       "        <head>\n",
       "        \n",
       "        </head>\n",
       "        <body>\n",
       "        <div><p style='padding: 10px; color: #3a87ad; background-color: #d9edf7; border-color: #bce9f1'>Kqlmagic&nbsp;package&nbsp;is&nbsp;updated&nbsp;frequently.&nbsp;Run&nbsp;&apos;!pip&nbsp;install&nbsp;Kqlmagic&nbsp;--no-cache-dir&nbsp;--upgrade&apos;&nbsp;to&nbsp;use&nbsp;the&nbsp;latest&nbsp;version.<br>Kqlmagic&nbsp;version:&nbsp;0.1.108.post7,&nbsp;source:&nbsp;https://github.com/Microsoft/jupyter-Kqlmagic</p></div>\n",
       "        </body>\n",
       "        </html>"
      ],
      "text/plain": [
       "<IPython.core.display.HTML object>"
      ]
     },
     "metadata": {},
     "output_type": "display_data"
    },
    {
     "data": {
      "text/html": [
       "<!DOCTYPE html>\n",
       "            <html><body>\n",
       "            <div style='padding: 10px; color: #3a87ad; background-color: #d9edf7; border-color: #bce9f1'>\n",
       "            Click to find out what's new in Kqlmagic \n",
       "\n",
       "            <button onclick=\"this.style.visibility='visible';kql_MagicLaunchWindowFunction('Kqlmagic_temp_files/what_new_history.html','fullscreen=no,directories=no,location=no,menubar=no,resizable=yes,scrollbars=yes,status=no,titlebar=no,toolbar=no,','what_new_history','https://notebooks.azure.com')\">What's New? </button>\n",
       "            \n",
       "            </div>\n",
       "\n",
       "            <script>\n",
       "\n",
       "            function kql_MagicLaunchWindowFunction(file_path, window_params, window_name, notebooks_host) {\n",
       "                var url;\n",
       "                if (notebooks_host == 'text') {\n",
       "                    url = ''\n",
       "                } else if (file_path.startsWith('http')) {\n",
       "                    url = file_path;\n",
       "                } else {\n",
       "                    var base_url = '';\n",
       "\n",
       "                    // check if azure notebook\n",
       "                    var azure_host = (notebooks_host == null || notebooks_host.length == 0) ? 'https://notebooks.azure.com' : notebooks_host;\n",
       "                    var start = azure_host.search('//');\n",
       "                    var azure_host_suffix = '.' + azure_host.substring(start+2);\n",
       "\n",
       "                    var loc = String(window.location);\n",
       "                    var end = loc.search(azure_host_suffix);\n",
       "                    start = loc.search('//');\n",
       "                    if (start > 0 && end > 0) {\n",
       "                        var parts = loc.substring(start+2, end).split('-');\n",
       "                        if (parts.length == 2) {\n",
       "                            var library = parts[0];\n",
       "                            var user = parts[1];\n",
       "                            base_url = azure_host + '/api/user/' +user+ '/library/' +library+ '/html/';\n",
       "                        }\n",
       "                    }\n",
       "\n",
       "                    // check if local jupyter lab\n",
       "                    if (base_url.length == 0) {\n",
       "                        var configDataScipt  = document.getElementById('jupyter-config-data');\n",
       "                        if (configDataScipt != null) {\n",
       "                            var jupyterConfigData = JSON.parse(configDataScipt.textContent);\n",
       "                            if (jupyterConfigData['appName'] == 'JupyterLab' && jupyterConfigData['serverRoot'] != null &&  jupyterConfigData['treeUrl'] != null) {\n",
       "                                var basePath = '/home/nbuser/library' + '/';\n",
       "                                if (basePath.startsWith(jupyterConfigData['serverRoot'])) {\n",
       "                                    base_url = '/files/' + basePath.substring(jupyterConfigData['serverRoot'].length+1);\n",
       "                                }\n",
       "                            } \n",
       "                        }\n",
       "                    }\n",
       "\n",
       "                    // assume local jupyter notebook\n",
       "                    if (base_url.length == 0) {\n",
       "\n",
       "                        var parts = loc.split('/');\n",
       "                        parts.pop();\n",
       "                        base_url = parts.join('/') + '/';\n",
       "                    }\n",
       "                    url = base_url + file_path;\n",
       "                }\n",
       "\n",
       "                window.focus();\n",
       "                var w = screen.width / 2;\n",
       "                var h = screen.height / 2;\n",
       "                params = 'width='+w+',height='+h;\n",
       "                kql_Magic_what_new_history = window.open(url, window_name, window_params + params);\n",
       "                if (url == '') {\n",
       "                    var el = kql_Magic_what_new_history.document.createElement('p');\n",
       "                    kql_Magic_what_new_history.document.body.overflow = 'auto';\n",
       "                    el.style.top = 0;\n",
       "                    el.style.left = 0;\n",
       "                    el.innerHTML = file_path;\n",
       "                    kql_Magic_what_new_history.document.body.appendChild(el);\n",
       "                }\n",
       "            }\n",
       "            </script>\n",
       "\n",
       "            </body></html>"
      ],
      "text/plain": [
       "<IPython.core.display.HTML object>"
      ]
     },
     "metadata": {},
     "output_type": "display_data"
    }
   ],
   "source": [
    "%load_ext Kqlmagic"
   ]
  },
  {
   "cell_type": "code",
   "execution_count": 1,
   "metadata": {},
   "outputs": [
    {
     "name": "stdout",
     "output_type": "stream",
     "text": [
      "Collecting Kqlmagic\n",
      "\u001b[?25l  Downloading https://files.pythonhosted.org/packages/3b/dd/7bfc9f4b347ed5582285e24ea9b0886a7e28b5581ddec09bfd071070c0dd/Kqlmagic-0.1.108.post7-py3-none-any.whl (142kB)\n",
      "\u001b[K     |████████████████████████████████| 143kB 1.3MB/s eta 0:00:01\n",
      "\u001b[?25hRequirement already satisfied, skipping upgrade: setuptools>=41.0.1 in /home/nbuser/anaconda3_501/lib/python3.6/site-packages (from Kqlmagic) (41.6.0)\n",
      "Requirement already satisfied, skipping upgrade: Pygments>=2.2.0 in /home/nbuser/anaconda3_501/lib/python3.6/site-packages (from Kqlmagic) (2.2.0)\n",
      "Requirement already satisfied, skipping upgrade: ipython>=7.1.1 in /home/nbuser/anaconda3_501/lib/python3.6/site-packages (from Kqlmagic) (7.1.1)\n",
      "Requirement already satisfied, skipping upgrade: plotly>=3.10.0 in /home/nbuser/anaconda3_501/lib/python3.6/site-packages (from Kqlmagic) (4.2.1)\n",
      "Requirement already satisfied, skipping upgrade: prettytable>=0.7.2 in /home/nbuser/anaconda3_501/lib/python3.6/site-packages (from Kqlmagic) (0.7.2)\n",
      "Requirement already satisfied, skipping upgrade: seaborn>=0.9.0 in /home/nbuser/anaconda3_501/lib/python3.6/site-packages (from Kqlmagic) (0.9.0)\n",
      "Requirement already satisfied, skipping upgrade: pandas>=0.23.4 in /home/nbuser/anaconda3_501/lib/python3.6/site-packages (from Kqlmagic) (0.23.4)\n",
      "Requirement already satisfied, skipping upgrade: traitlets>=4.3.2 in /home/nbuser/anaconda3_501/lib/python3.6/site-packages (from Kqlmagic) (4.3.2)\n",
      "Requirement already satisfied, skipping upgrade: adal>=1.2.1 in /home/nbuser/anaconda3_501/lib/python3.6/site-packages (from Kqlmagic) (1.2.2)\n",
      "Requirement already satisfied, skipping upgrade: requests>=2.21.0 in /home/nbuser/anaconda3_501/lib/python3.6/site-packages (from Kqlmagic) (2.22.0)\n",
      "Requirement already satisfied, skipping upgrade: python-dateutil>=2.7.5 in /home/nbuser/anaconda3_501/lib/python3.6/site-packages (from Kqlmagic) (2.8.1)\n",
      "Requirement already satisfied, skipping upgrade: psutil>=5.4.7 in /home/nbuser/anaconda3_501/lib/python3.6/site-packages (from Kqlmagic) (5.4.7)\n",
      "Requirement already satisfied, skipping upgrade: six>=1.11.0 in /home/nbuser/anaconda3_501/lib/python3.6/site-packages (from Kqlmagic) (1.11.0)\n",
      "Requirement already satisfied, skipping upgrade: lxml>=4.2.5 in /home/nbuser/anaconda3_501/lib/python3.6/site-packages (from Kqlmagic) (4.2.5)\n",
      "Requirement already satisfied, skipping upgrade: beautifulsoup4>=4.6.3 in /home/nbuser/anaconda3_501/lib/python3.6/site-packages (from Kqlmagic) (4.6.3)\n",
      "Requirement already satisfied, skipping upgrade: matplotlib>=3.0.0 in /home/nbuser/anaconda3_501/lib/python3.6/site-packages (from Kqlmagic) (3.0.0)\n",
      "Requirement already satisfied, skipping upgrade: Markdown>=3.0.1 in /home/nbuser/anaconda3_501/lib/python3.6/site-packages (from Kqlmagic) (3.0.1)\n",
      "Requirement already satisfied, skipping upgrade: pytz>=2019.1 in /home/nbuser/anaconda3_501/lib/python3.6/site-packages (from Kqlmagic) (2019.3)\n",
      "Requirement already satisfied, skipping upgrade: ipykernel>=5.1.1 in /home/nbuser/anaconda3_501/lib/python3.6/site-packages (from Kqlmagic) (5.1.3)\n",
      "Requirement already satisfied, skipping upgrade: pyjwt>=1.7.1 in /home/nbuser/anaconda3_501/lib/python3.6/site-packages (from Kqlmagic) (1.7.1)\n",
      "Requirement already satisfied, skipping upgrade: backcall in /home/nbuser/anaconda3_501/lib/python3.6/site-packages (from ipython>=7.1.1->Kqlmagic) (0.1.0)\n",
      "Requirement already satisfied, skipping upgrade: pickleshare in /home/nbuser/anaconda3_501/lib/python3.6/site-packages (from ipython>=7.1.1->Kqlmagic) (0.7.5)\n",
      "Requirement already satisfied, skipping upgrade: prompt-toolkit<2.1.0,>=2.0.0 in /home/nbuser/anaconda3_501/lib/python3.6/site-packages (from ipython>=7.1.1->Kqlmagic) (2.0.7)\n",
      "Requirement already satisfied, skipping upgrade: decorator in /home/nbuser/anaconda3_501/lib/python3.6/site-packages (from ipython>=7.1.1->Kqlmagic) (4.3.0)\n",
      "Requirement already satisfied, skipping upgrade: pexpect; sys_platform != \"win32\" in /home/nbuser/anaconda3_501/lib/python3.6/site-packages (from ipython>=7.1.1->Kqlmagic) (4.6.0)\n",
      "Requirement already satisfied, skipping upgrade: jedi>=0.10 in /home/nbuser/anaconda3_501/lib/python3.6/site-packages (from ipython>=7.1.1->Kqlmagic) (0.13.1)\n",
      "Requirement already satisfied, skipping upgrade: retrying>=1.3.3 in /home/nbuser/anaconda3_501/lib/python3.6/site-packages (from plotly>=3.10.0->Kqlmagic) (1.3.3)\n",
      "Requirement already satisfied, skipping upgrade: scipy>=0.14.0 in /home/nbuser/anaconda3_501/lib/python3.6/site-packages (from seaborn>=0.9.0->Kqlmagic) (1.1.0)\n",
      "Requirement already satisfied, skipping upgrade: numpy>=1.9.3 in /home/nbuser/anaconda3_501/lib/python3.6/site-packages (from seaborn>=0.9.0->Kqlmagic) (1.16.2)\n",
      "Requirement already satisfied, skipping upgrade: ipython-genutils in /home/nbuser/anaconda3_501/lib/python3.6/site-packages (from traitlets>=4.3.2->Kqlmagic) (0.2.0)\n",
      "Requirement already satisfied, skipping upgrade: cryptography>=1.1.0 in /home/nbuser/anaconda3_501/lib/python3.6/site-packages (from adal>=1.2.1->Kqlmagic) (2.3.1)\n",
      "Requirement already satisfied, skipping upgrade: chardet<3.1.0,>=3.0.2 in /home/nbuser/anaconda3_501/lib/python3.6/site-packages (from requests>=2.21.0->Kqlmagic) (3.0.4)\n",
      "Requirement already satisfied, skipping upgrade: idna<2.9,>=2.5 in /home/nbuser/anaconda3_501/lib/python3.6/site-packages (from requests>=2.21.0->Kqlmagic) (2.7)\n",
      "Requirement already satisfied, skipping upgrade: certifi>=2017.4.17 in /home/nbuser/anaconda3_501/lib/python3.6/site-packages (from requests>=2.21.0->Kqlmagic) (2018.10.15)\n",
      "Requirement already satisfied, skipping upgrade: urllib3!=1.25.0,!=1.25.1,<1.26,>=1.21.1 in /home/nbuser/anaconda3_501/lib/python3.6/site-packages (from requests>=2.21.0->Kqlmagic) (1.23)\n",
      "Requirement already satisfied, skipping upgrade: cycler>=0.10 in /home/nbuser/anaconda3_501/lib/python3.6/site-packages (from matplotlib>=3.0.0->Kqlmagic) (0.10.0)\n",
      "Requirement already satisfied, skipping upgrade: kiwisolver>=1.0.1 in /home/nbuser/anaconda3_501/lib/python3.6/site-packages (from matplotlib>=3.0.0->Kqlmagic) (1.0.1)\n",
      "Requirement already satisfied, skipping upgrade: pyparsing!=2.0.4,!=2.1.2,!=2.1.6,>=2.0.1 in /home/nbuser/anaconda3_501/lib/python3.6/site-packages (from matplotlib>=3.0.0->Kqlmagic) (2.3.0)\n",
      "Requirement already satisfied, skipping upgrade: tornado>=4.2 in /home/nbuser/anaconda3_501/lib/python3.6/site-packages (from ipykernel>=5.1.1->Kqlmagic) (4.5.3)\n",
      "Requirement already satisfied, skipping upgrade: jupyter-client in /home/nbuser/anaconda3_501/lib/python3.6/site-packages (from ipykernel>=5.1.1->Kqlmagic) (5.2.3)\n",
      "Requirement already satisfied, skipping upgrade: wcwidth in /home/nbuser/anaconda3_501/lib/python3.6/site-packages (from prompt-toolkit<2.1.0,>=2.0.0->ipython>=7.1.1->Kqlmagic) (0.1.7)\n",
      "Requirement already satisfied, skipping upgrade: ptyprocess>=0.5 in /home/nbuser/anaconda3_501/lib/python3.6/site-packages (from pexpect; sys_platform != \"win32\"->ipython>=7.1.1->Kqlmagic) (0.6.0)\n",
      "Requirement already satisfied, skipping upgrade: parso>=0.3.0 in /home/nbuser/anaconda3_501/lib/python3.6/site-packages (from jedi>=0.10->ipython>=7.1.1->Kqlmagic) (0.3.1)\n",
      "Requirement already satisfied, skipping upgrade: asn1crypto>=0.21.0 in /home/nbuser/anaconda3_501/lib/python3.6/site-packages (from cryptography>=1.1.0->adal>=1.2.1->Kqlmagic) (0.24.0)\n",
      "Requirement already satisfied, skipping upgrade: cffi!=1.11.3,>=1.7 in /home/nbuser/anaconda3_501/lib/python3.6/site-packages (from cryptography>=1.1.0->adal>=1.2.1->Kqlmagic) (1.11.5)\n",
      "Requirement already satisfied, skipping upgrade: jupyter_core in /home/nbuser/anaconda3_501/lib/python3.6/site-packages (from jupyter-client->ipykernel>=5.1.1->Kqlmagic) (4.4.0)\n",
      "Requirement already satisfied, skipping upgrade: pyzmq>=13 in /home/nbuser/anaconda3_501/lib/python3.6/site-packages (from jupyter-client->ipykernel>=5.1.1->Kqlmagic) (17.1.2)\n",
      "Requirement already satisfied, skipping upgrade: pycparser in /home/nbuser/anaconda3_501/lib/python3.6/site-packages (from cffi!=1.11.3,>=1.7->cryptography>=1.1.0->adal>=1.2.1->Kqlmagic) (2.19)\n",
      "Installing collected packages: Kqlmagic\n",
      "  Found existing installation: Kqlmagic 0.1.107.post1\n",
      "    Uninstalling Kqlmagic-0.1.107.post1:\n",
      "      Successfully uninstalled Kqlmagic-0.1.107.post1\n"
     ]
    },
    {
     "name": "stdout",
     "output_type": "stream",
     "text": [
      "Successfully installed Kqlmagic-0.1.108.post7\n",
      "\u001b[33mWARNING: You are using pip version 19.3.1; however, version 20.0.2 is available.\n",
      "You should consider upgrading via the 'pip install --upgrade pip' command.\u001b[0m\n"
     ]
    }
   ],
   "source": [
    "!pip install Kqlmagic --no-cache-dir --upgrade"
   ]
  },
  {
   "cell_type": "code",
   "execution_count": 1,
   "metadata": {},
   "outputs": [
    {
     "name": "stdout",
     "output_type": "stream",
     "text": [
      "To sign in, use a web browser to open the page https://microsoft.com/devicelogin and enter the code FB2HN6AKL to authenticate.\n",
      "['5606352639']\n"
     ]
    }
   ],
   "source": [
    "import numpy as np\n",
    "import matplotlib.pyplot as plt\n",
    "import pandas as pd\n",
    "\n",
    "from azure.kusto.data.request import KustoClient, KustoConnectionStringBuilder\n",
    "kcsb = KustoConnectionStringBuilder.with_aad_device_authentication(\"https://cgadataout.kusto.windows.net\")\n",
    "kc = KustoClient(kcsb)\n",
    "\n",
    "query= \"\"\"database(\"CustomerTouchPoint\").PageView\n",
    "| where Site == 'docs.microsoft.com'\n",
    "| count\"\"\"\n",
    "response = kc.execute(\"DevRelWorkArea\", query)\n",
    "print(response.primary_results[0][0])"
   ]
  },
  {
   "cell_type": "code",
   "execution_count": 24,
   "metadata": {},
   "outputs": [
    {
     "name": "stdout",
     "output_type": "stream",
     "text": [
      "aac repo page type statistic loaded\n"
     ]
    }
   ],
   "source": [
    "# architecture-center by page types\n",
    "query= \"\"\"let aac = database('Publish').ContentKPIByTopicKeyMonthly\n",
    "| where startofmonth(Date) == datetime(2020-02-01)\n",
    "| where Locale == 'en-us'\n",
    "| where RepoName !contains 'office'\n",
    "| where RepoName !contains 'dynamics'\n",
    "| where RepoName !contains 'outlook'\n",
    "| where TopicKey <>  '63846178-bbbb-de25-87cb-4d0b397ea523'\n",
    "| extend TopicType = tostring(TopicType)\n",
    "| invoke cluster('cgadataout.kusto.windows.net').database('Publish').GetPrimaryKPIScore();\n",
    "aac\n",
    "| where RepoName == 'architecture-center'\n",
    "| project TopicKey, PageViews, PageType, PrimaryKPIScore\n",
    "| join kind=inner(\n",
    "    aac\n",
    "    | summarize hint.strategy = shuffle 25PctlL1 = percentile(PrimaryKPIScore, 25) by PageType\n",
    ") on PageType\n",
    "| summarize\n",
    "    pageviews_overperforming = sumif(PageViews, PrimaryKPIScore>=25PctlL1),\n",
    "    pageviews_underperforming = sumif(PageViews, PrimaryKPIScore<25PctlL1),\n",
    "    pageviews_total = sum(PageViews),\n",
    "    topics_overperforming = dcountif(TopicKey,PrimaryKPIScore>=25PctlL1,2),\n",
    "    topics_underperforming = dcountif(TopicKey,PrimaryKPIScore<25PctlL1,2),\n",
    "    topics_total = dcount(TopicKey,2)\n",
    "    by PageType\n",
    "| extend rate_pageviews_overperforming = todouble(pageviews_overperforming)/(pageviews_overperforming+pageviews_underperforming)\n",
    "| extend rate_topics_overperforming = todouble(topics_overperforming)/(topics_overperforming+topics_underperforming)\"\"\"\n",
    "response = kc.execute(\"DevRelWorkArea\", query)\n",
    "ptype = []\n",
    "pvhighperf = []\n",
    "pvlowperf = []\n",
    "pvtotal = []\n",
    "tphighperf = []\n",
    "tplowperf = []\n",
    "tptotal=[]\n",
    "ratepvhighperf = []\n",
    "ratetphighperf = []\n",
    "for row in response.primary_results[0]:\n",
    "    ptype.append(row[0])\n",
    "    pvhighperf.append(row[1])\n",
    "    pvlowperf.append(row[2])\n",
    "    pvtotal.append(row[3])\n",
    "    tphighperf.append(row[4])\n",
    "    tplowperf.append(row[5])\n",
    "    tptotal.append(row[6])\n",
    "    ratepvhighperf.append(row[7])\n",
    "    ratetphighperf.append(row[8])\n",
    "print(\"aac repo page type statistic loaded\")"
   ]
  },
  {
   "cell_type": "code",
   "execution_count": 13,
   "metadata": {},
   "outputs": [
    {
     "name": "stdout",
     "output_type": "stream",
     "text": [
      "['Reference', 'ExampleScenario', 'HubLanding', 'DesignGuide', 'ReferenceArchitecture', 'Overview']\n",
      "[3922.0, 15764.0, 106261.0, 131511.0, 143110.0, 3195.0]\n",
      "[0.0, 6713.0, 13.0, 48762.0, 149485.0, 4054.0]\n"
     ]
    }
   ],
   "source": [
    "print(ptype)\n",
    "print(pvhighperf)\n",
    "print(pvlowperf)"
   ]
  },
  {
   "cell_type": "code",
   "execution_count": 25,
   "metadata": {
    "scrolled": true
   },
   "outputs": [
    {
     "data": {
      "image/png": "[encoded data removed]",
      "text/plain": [
       "<Figure size 720x360 with 1 Axes>"
      ]
     },
     "metadata": {
      "needs_background": "light"
     },
     "output_type": "display_data"
    }
   ],
   "source": [
    "y_pos = np.arange(len(ptype))\n",
    "fig = plt.figure(figsize=(10,5))\n",
    "ax = fig.add_subplot(111)\n",
    "ax.barh(y_pos, pvtotal, color='r',align='center')\n",
    "ax.barh(y_pos, pvhighperf, color='g',align='center')\n",
    "ax.set_yticks(y_pos)\n",
    "ax.set_yticklabels(ptype)\n",
    "ax.set_xlabel('Page Views on High/Low Performing Topics of AAC Repo')\n",
    "plt.show()\n",
    "#df = pd.DataFrame({\"PageType\": ptype,\n",
    "#                  \"% of Page Views on High Performing Topics\": ratepvhighperf})\n",
    "#df = df[::-1]\n",
    "#print(df)"
   ]
  },
  {
   "cell_type": "code",
   "execution_count": 26,
   "metadata": {},
   "outputs": [
    {
     "name": "stdout",
     "output_type": "stream",
     "text": [
      "aac repo page type statistic loaded\n",
      "0.2535971223021583\n"
     ]
    }
   ],
   "source": [
    "# RA topics\n",
    "query= \"\"\"let aac = database('Publish').ContentKPIByTopicKeyMonthly\n",
    "| where startofmonth(Date) == datetime(2020-02-01)\n",
    "| where Locale == 'en-us'\n",
    "| where RepoName !contains 'office'\n",
    "| where RepoName !contains 'dynamics'\n",
    "| where RepoName !contains 'outlook'\n",
    "| where TopicKey <>  '63846178-bbbb-de25-87cb-4d0b397ea523'\n",
    "| extend TopicType = tostring(TopicType)\n",
    "| invoke cluster('cgadataout.kusto.windows.net').database('Publish').GetPrimaryKPIScore();\n",
    "aac\n",
    "| where RepoName == 'architecture-center'\n",
    "| where PageType == 'ReferenceArchitecture'\n",
    "| project TopicKey, PageViews, PrimaryKPIScore\"\"\"\n",
    "response = kc.execute(\"DevRelWorkArea\", query)\n",
    "tpkey=[]\n",
    "tppv=[]\n",
    "tpscore=[]\n",
    "for row in response.primary_results[0]:\n",
    "    tpkey.append(row[0])\n",
    "    tppv.append(row[1])\n",
    "    tpscore.append(row[2])\n",
    "print(\"aac repo page type statistic loaded\")\n",
    "\n",
    "# RA 25 percenticle\n",
    "query= \"\"\"database('Publish').ContentKPIByTopicKeyMonthly\n",
    "| where startofmonth(Date) == datetime(2020-02-01)\n",
    "| where Locale == 'en-us'\n",
    "| where RepoName !contains 'office'\n",
    "| where RepoName !contains 'dynamics'\n",
    "| where RepoName !contains 'outlook'\n",
    "| where TopicKey <>  '63846178-bbbb-de25-87cb-4d0b397ea523'\n",
    "| extend TopicType = tostring(TopicType)\n",
    "| invoke cluster('cgadataout.kusto.windows.net').database('Publish').GetPrimaryKPIScore()\n",
    "| where PageType == 'ReferenceArchitecture'\n",
    "| summarize hint.strategy = shuffle 25PctlL1 = percentile(PrimaryKPIScore, 25)\"\"\"\n",
    "response = kc.execute(\"DevRelWorkArea\", query)\n",
    "rascore_25pctl=0.0\n",
    "for row in response.primary_results[0]:\n",
    "    rascore_25pctl = row[0]\n",
    "print(rascore_25pctl)"
   ]
  },
  {
   "cell_type": "code",
   "execution_count": 28,
   "metadata": {},
   "outputs": [
    {
     "data": {
      "image/png": "[encoded data removed]",
      "text/plain": [
       "<Figure size 720x504 with 1 Axes>"
      ]
     },
     "metadata": {
      "needs_background": "light"
     },
     "output_type": "display_data"
    }
   ],
   "source": [
    "fig=plt.figure(figsize=(10,7))\n",
    "ax=fig.add_axes([0,0,1,1])\n",
    "ax.scatter(tpscore, tppv, color='b')\n",
    "ax.set_xlabel('PrimaryKPIScore of RA Topic')\n",
    "ax.set_ylabel('Page Views of RA Topic')\n",
    "ax.set_title('Traffic and Performance of RA Topics')\n",
    "plt.axvline(x=rascore_25pctl, color='r', linewidth=1)\n",
    "plt.show()"
   ]
  },
  {
   "cell_type": "code",
   "execution_count": 3,
   "metadata": {},
   "outputs": [
    {
     "name": "stdout",
     "output_type": "stream",
     "text": [
      "ra topics loaded\n"
     ]
    }
   ],
   "source": [
    "# CTR+Bounce Rate for RA topics\n",
    "query= \"\"\"let startDate = datetime(2020-02-01);\n",
    "let endDate = datetime(2020-03-01);\n",
    "let locale = \"en-us\";\n",
    "database('CustomerTouchPoint').PageView\n",
    "| where StartDateTime >= startDate and StartDateTime < endDate\n",
    "| where Site == \"docs.microsoft.com\"\n",
    "| where IsTest!=1 and enrich_url_pg_query_string !contains \"traffic-source=cats\" | invoke cluster('Cgadataout').database('Publish').ApplyTechSitesBotFilters()\n",
    "| where Locale == Locale\n",
    "| summarize hint.strategy = shuffle\n",
    "    PageViews = dcount(PageViewId,2),\n",
    "    Bounces=dcountif(PageViewId, IsBounce, 2),\n",
    "    ClickThroughs = dcountif(PageViewId, LinkClickEvents>0, 2)\n",
    "    by TopicKey\n",
    "| join kind=leftouter (\n",
    "database(\"DevRelWorkArea\").GetTopics(locale)\n",
    ") on TopicKey\n",
    "| where RepoName == 'architecture-center'\n",
    "| where PageType == 'ReferenceArchitecture'\n",
    "| extend isTarget = TopicKey == '4f3b9f17-3e21-2b2b-6089-b4fbd4387cf9'\n",
    "| extend\n",
    "    NonBounceRate = 1-(Bounces/todouble(PageViews)),\n",
    "    ClickThroughRate = ClickThroughs/todouble(PageViews)\n",
    "| project TopicKey, isTarget, ClickThroughRate, NonBounceRate\"\"\"\n",
    "response = kc.execute(\"DevRelWorkArea\", query)\n",
    "rakey=[]\n",
    "istg=[]\n",
    "ctr=[]\n",
    "nbr=[]\n",
    "for row in response.primary_results[0]:\n",
    "    rakey.append(row[0])\n",
    "    istg.append(row[1])\n",
    "    ctr.append(row[2])\n",
    "    nbr.append(row[3])\n",
    "print(\"ra topics loaded\")"
   ]
  },
  {
   "cell_type": "code",
   "execution_count": 10,
   "metadata": {
    "scrolled": true
   },
   "outputs": [
    {
     "data": {
      "image/png": "[encoded data removed]",
      "text/plain": [
       "<Figure size 720x504 with 1 Axes>"
      ]
     },
     "metadata": {
      "needs_background": "light"
     },
     "output_type": "display_data"
    }
   ],
   "source": [
    "fig=plt.figure(figsize=(10,7))\n",
    "ax=fig.add_axes([0,0,1,1])\n",
    "for i in range(len(rakey)):\n",
    "    if istg[i]==1:\n",
    "        ax.scatter(ctr[i], nbr[i], c='r', marker=\"^\")\n",
    "    else:\n",
    "        ax.scatter(ctr[i], nbr[i], c='b')\n",
    "ax.set_xlabel('Click Through Rate of RA Topic')\n",
    "ax.set_ylabel('Non Bounce Rate of RA Topic')\n",
    "ax.set_title('Primary Metrics of RA Topics')\n",
    "plt.show()"
   ]
  },
  {
   "cell_type": "code",
   "execution_count": 11,
   "metadata": {},
   "outputs": [
    {
     "name": "stdout",
     "output_type": "stream",
     "text": [
      "aws metrics by referrer types loaded\n"
     ]
    }
   ],
   "source": [
    "# aws metrics by referrer type\n",
    "query= \"\"\"let startDate = datetime(2020-02-01);\n",
    "let endDate = datetime(2020-03-01);\n",
    "let locale = \"en-us\";\n",
    "database('CustomerTouchPoint').PageView\n",
    "| where StartDateTime >= startDate and StartDateTime < endDate\n",
    "| where Site == \"docs.microsoft.com\"\n",
    "| where IsTest!=1 and enrich_url_pg_query_string !contains \"traffic-source=cats\" | invoke cluster('Cgadataout').database('Publish').ApplyTechSitesBotFilters()\n",
    "| where Locale == Locale\n",
    "| where TopicKey == '4f3b9f17-3e21-2b2b-6089-b4fbd4387cf9'\n",
    "| where ReferrerType != 'Paid Search'\n",
    "| summarize hint.strategy = shuffle\n",
    "    PageViews = dcount(PageViewId,2),\n",
    "    Bounces=dcountif(PageViewId, IsBounce, 2),\n",
    "    ClickThroughs = dcountif(PageViewId, LinkClickEvents>0, 2)\n",
    "    by ReferrerType\n",
    "| extend\n",
    "    NonBounceRate = 1-(Bounces/todouble(PageViews)),\n",
    "    ClickThroughRate = ClickThroughs/todouble(PageViews)\n",
    "| project ReferrerType, PageViews, ClickThroughRate, NonBounceRate\"\"\"\n",
    "response = kc.execute(\"DevRelWorkArea\", query)\n",
    "reftype=[]\n",
    "refpv=[]\n",
    "refctr=[]\n",
    "refnbr=[]\n",
    "for row in response.primary_results[0]:\n",
    "    reftype.append(row[0])\n",
    "    refpv.append(row[1])\n",
    "    refctr.append(row[2])\n",
    "    refnbr.append(row[3])\n",
    "print(\"aws metrics by referrer types loaded\")"
   ]
  },
  {
   "cell_type": "code",
   "execution_count": 15,
   "metadata": {},
   "outputs": [
    {
     "data": {
      "image/png": "[encoded data removed]",
      "text/plain": [
       "<Figure size 720x504 with 1 Axes>"
      ]
     },
     "metadata": {
      "needs_background": "light"
     },
     "output_type": "display_data"
    }
   ],
   "source": [
    "fig=plt.figure(figsize=(10,7))\n",
    "ax=fig.add_axes([0,0,1,1])\n",
    "ax.scatter(refctr, refnbr, color='#96C9F3', s=refpv)\n",
    "for i, t in enumerate(reftype):\n",
    "    ax.annotate(t, (refctr[i], refnbr[i]))\n",
    "ax.set_xlabel('Click Through Rate')\n",
    "ax.set_ylabel('Non Bounce Rate')\n",
    "ax.set_title('aws-professional/services metrics by referrer type')\n",
    "plt.show()"
   ]
  },
  {
   "cell_type": "code",
   "execution_count": 7,
   "metadata": {},
   "outputs": [
    {
     "ename": "KeyboardInterrupt",
     "evalue": "",
     "output_type": "error",
     "traceback": [
      "\u001b[0;31m---------------------------------------------------------------------------\u001b[0m",
      "\u001b[0;31mTypeError\u001b[0m                                 Traceback (most recent call last)",
      "\u001b[0;32m~/anaconda3_501/lib/python3.6/site-packages/urllib3/connectionpool.py\u001b[0m in \u001b[0;36m_make_request\u001b[0;34m(self, conn, method, url, timeout, chunked, **httplib_request_kw)\u001b[0m\n\u001b[1;32m    376\u001b[0m             \u001b[0;32mtry\u001b[0m\u001b[0;34m:\u001b[0m  \u001b[0;31m# Python 2.7, use buffering of HTTP responses\u001b[0m\u001b[0;34m\u001b[0m\u001b[0m\n\u001b[0;32m--> 377\u001b[0;31m                 \u001b[0mhttplib_response\u001b[0m \u001b[0;34m=\u001b[0m \u001b[0mconn\u001b[0m\u001b[0;34m.\u001b[0m\u001b[0mgetresponse\u001b[0m\u001b[0;34m(\u001b[0m\u001b[0mbuffering\u001b[0m\u001b[0;34m=\u001b[0m\u001b[0;32mTrue\u001b[0m\u001b[0;34m)\u001b[0m\u001b[0;34m\u001b[0m\u001b[0m\n\u001b[0m\u001b[1;32m    378\u001b[0m             \u001b[0;32mexcept\u001b[0m \u001b[0mTypeError\u001b[0m\u001b[0;34m:\u001b[0m  \u001b[0;31m# Python 2.6 and older, Python 3\u001b[0m\u001b[0;34m\u001b[0m\u001b[0m\n",
      "\u001b[0;31mTypeError\u001b[0m: getresponse() got an unexpected keyword argument 'buffering'",
      "\nDuring handling of the above exception, another exception occurred:\n",
      "\u001b[0;31mWantReadError\u001b[0m                             Traceback (most recent call last)",
      "\u001b[0;32m~/anaconda3_501/lib/python3.6/site-packages/urllib3/contrib/pyopenssl.py\u001b[0m in \u001b[0;36mrecv_into\u001b[0;34m(self, *args, **kwargs)\u001b[0m\n\u001b[1;32m    284\u001b[0m         \u001b[0;32mtry\u001b[0m\u001b[0;34m:\u001b[0m\u001b[0;34m\u001b[0m\u001b[0m\n\u001b[0;32m--> 285\u001b[0;31m             \u001b[0;32mreturn\u001b[0m \u001b[0mself\u001b[0m\u001b[0;34m.\u001b[0m\u001b[0mconnection\u001b[0m\u001b[0;34m.\u001b[0m\u001b[0mrecv_into\u001b[0m\u001b[0;34m(\u001b[0m\u001b[0;34m*\u001b[0m\u001b[0margs\u001b[0m\u001b[0;34m,\u001b[0m \u001b[0;34m**\u001b[0m\u001b[0mkwargs\u001b[0m\u001b[0;34m)\u001b[0m\u001b[0;34m\u001b[0m\u001b[0m\n\u001b[0m\u001b[1;32m    286\u001b[0m         \u001b[0;32mexcept\u001b[0m \u001b[0mOpenSSL\u001b[0m\u001b[0;34m.\u001b[0m\u001b[0mSSL\u001b[0m\u001b[0;34m.\u001b[0m\u001b[0mSysCallError\u001b[0m \u001b[0;32mas\u001b[0m \u001b[0me\u001b[0m\u001b[0;34m:\u001b[0m\u001b[0;34m\u001b[0m\u001b[0m\n",
      "\u001b[0;32m~/anaconda3_501/lib/python3.6/site-packages/OpenSSL/SSL.py\u001b[0m in \u001b[0;36mrecv_into\u001b[0;34m(self, buffer, nbytes, flags)\u001b[0m\n\u001b[1;32m   1813\u001b[0m             \u001b[0mresult\u001b[0m \u001b[0;34m=\u001b[0m \u001b[0m_lib\u001b[0m\u001b[0;34m.\u001b[0m\u001b[0mSSL_read\u001b[0m\u001b[0;34m(\u001b[0m\u001b[0mself\u001b[0m\u001b[0;34m.\u001b[0m\u001b[0m_ssl\u001b[0m\u001b[0;34m,\u001b[0m \u001b[0mbuf\u001b[0m\u001b[0;34m,\u001b[0m \u001b[0mnbytes\u001b[0m\u001b[0;34m)\u001b[0m\u001b[0;34m\u001b[0m\u001b[0m\n\u001b[0;32m-> 1814\u001b[0;31m         \u001b[0mself\u001b[0m\u001b[0;34m.\u001b[0m\u001b[0m_raise_ssl_error\u001b[0m\u001b[0;34m(\u001b[0m\u001b[0mself\u001b[0m\u001b[0;34m.\u001b[0m\u001b[0m_ssl\u001b[0m\u001b[0;34m,\u001b[0m \u001b[0mresult\u001b[0m\u001b[0;34m)\u001b[0m\u001b[0;34m\u001b[0m\u001b[0m\n\u001b[0m\u001b[1;32m   1815\u001b[0m \u001b[0;34m\u001b[0m\u001b[0m\n",
      "\u001b[0;32m~/anaconda3_501/lib/python3.6/site-packages/OpenSSL/SSL.py\u001b[0m in \u001b[0;36m_raise_ssl_error\u001b[0;34m(self, ssl, result)\u001b[0m\n\u001b[1;32m   1613\u001b[0m         \u001b[0;32mif\u001b[0m \u001b[0merror\u001b[0m \u001b[0;34m==\u001b[0m \u001b[0m_lib\u001b[0m\u001b[0;34m.\u001b[0m\u001b[0mSSL_ERROR_WANT_READ\u001b[0m\u001b[0;34m:\u001b[0m\u001b[0;34m\u001b[0m\u001b[0m\n\u001b[0;32m-> 1614\u001b[0;31m             \u001b[0;32mraise\u001b[0m \u001b[0mWantReadError\u001b[0m\u001b[0;34m(\u001b[0m\u001b[0;34m)\u001b[0m\u001b[0;34m\u001b[0m\u001b[0m\n\u001b[0m\u001b[1;32m   1615\u001b[0m         \u001b[0;32melif\u001b[0m \u001b[0merror\u001b[0m \u001b[0;34m==\u001b[0m \u001b[0m_lib\u001b[0m\u001b[0;34m.\u001b[0m\u001b[0mSSL_ERROR_WANT_WRITE\u001b[0m\u001b[0;34m:\u001b[0m\u001b[0;34m\u001b[0m\u001b[0m\n",
      "\u001b[0;31mWantReadError\u001b[0m: ",
      "\nDuring handling of the above exception, another exception occurred:\n",
      "\u001b[0;31mKeyboardInterrupt\u001b[0m                         Traceback (most recent call last)",
      "\u001b[0;32m<ipython-input-7-9016fd94f8b9>\u001b[0m in \u001b[0;36m<module>\u001b[0;34m\u001b[0m\n\u001b[1;32m     30\u001b[0m \u001b[0;34m|\u001b[0m \u001b[0mextend\u001b[0m \u001b[0mPrimaryKPIScoreL2\u001b[0m \u001b[0;34m=\u001b[0m \u001b[0mPrimaryKPIScore\u001b[0m\u001b[0;34m\u001b[0m\u001b[0m\n\u001b[1;32m     31\u001b[0m | project ReferrerType = strcat(ReferrerType,\" (\",tostring(round(PrimaryKPIScoreL2,3)),\")\"), PageViews, PrimaryKPIScoreL2\"\"\"\n\u001b[0;32m---> 32\u001b[0;31m \u001b[0mresponse\u001b[0m \u001b[0;34m=\u001b[0m \u001b[0mkc\u001b[0m\u001b[0;34m.\u001b[0m\u001b[0mexecute\u001b[0m\u001b[0;34m(\u001b[0m\u001b[0;34m\"DevRelWorkArea\"\u001b[0m\u001b[0;34m,\u001b[0m \u001b[0mquery\u001b[0m\u001b[0;34m)\u001b[0m\u001b[0;34m\u001b[0m\u001b[0m\n\u001b[0m\u001b[1;32m     33\u001b[0m \u001b[0mrf\u001b[0m \u001b[0;34m=\u001b[0m \u001b[0;34m[\u001b[0m\u001b[0;34m]\u001b[0m\u001b[0;34m\u001b[0m\u001b[0m\n\u001b[1;32m     34\u001b[0m \u001b[0mpv\u001b[0m \u001b[0;34m=\u001b[0m \u001b[0;34m[\u001b[0m\u001b[0;34m]\u001b[0m\u001b[0;34m\u001b[0m\u001b[0m\n",
      "\u001b[0;32m~/anaconda3_501/lib/python3.6/site-packages/azure/kusto/data/request.py\u001b[0m in \u001b[0;36mexecute\u001b[0;34m(self, database, query, properties)\u001b[0m\n\u001b[1;32m    395\u001b[0m         \u001b[0;32mif\u001b[0m \u001b[0mquery\u001b[0m\u001b[0;34m.\u001b[0m\u001b[0mstartswith\u001b[0m\u001b[0;34m(\u001b[0m\u001b[0;34m\".\"\u001b[0m\u001b[0;34m)\u001b[0m\u001b[0;34m:\u001b[0m\u001b[0;34m\u001b[0m\u001b[0m\n\u001b[1;32m    396\u001b[0m             \u001b[0;32mreturn\u001b[0m \u001b[0mself\u001b[0m\u001b[0;34m.\u001b[0m\u001b[0mexecute_mgmt\u001b[0m\u001b[0;34m(\u001b[0m\u001b[0mdatabase\u001b[0m\u001b[0;34m,\u001b[0m \u001b[0mquery\u001b[0m\u001b[0;34m,\u001b[0m \u001b[0mproperties\u001b[0m\u001b[0;34m)\u001b[0m\u001b[0;34m\u001b[0m\u001b[0m\n\u001b[0;32m--> 397\u001b[0;31m         \u001b[0;32mreturn\u001b[0m \u001b[0mself\u001b[0m\u001b[0;34m.\u001b[0m\u001b[0mexecute_query\u001b[0m\u001b[0;34m(\u001b[0m\u001b[0mdatabase\u001b[0m\u001b[0;34m,\u001b[0m \u001b[0mquery\u001b[0m\u001b[0;34m,\u001b[0m \u001b[0mproperties\u001b[0m\u001b[0;34m)\u001b[0m\u001b[0;34m\u001b[0m\u001b[0m\n\u001b[0m\u001b[1;32m    398\u001b[0m \u001b[0;34m\u001b[0m\u001b[0m\n\u001b[1;32m    399\u001b[0m     \u001b[0;32mdef\u001b[0m \u001b[0mexecute_query\u001b[0m\u001b[0;34m(\u001b[0m\u001b[0mself\u001b[0m\u001b[0;34m,\u001b[0m \u001b[0mdatabase\u001b[0m\u001b[0;34m,\u001b[0m \u001b[0mquery\u001b[0m\u001b[0;34m,\u001b[0m \u001b[0mproperties\u001b[0m\u001b[0;34m=\u001b[0m\u001b[0;32mNone\u001b[0m\u001b[0;34m)\u001b[0m\u001b[0;34m:\u001b[0m\u001b[0;34m\u001b[0m\u001b[0m\n",
      "\u001b[0;32m~/anaconda3_501/lib/python3.6/site-packages/azure/kusto/data/request.py\u001b[0m in \u001b[0;36mexecute_query\u001b[0;34m(self, database, query, properties)\u001b[0m\n\u001b[1;32m    406\u001b[0m         \"\"\"\n\u001b[1;32m    407\u001b[0m         return self._execute(\n\u001b[0;32m--> 408\u001b[0;31m             \u001b[0mself\u001b[0m\u001b[0;34m.\u001b[0m\u001b[0m_query_endpoint\u001b[0m\u001b[0;34m,\u001b[0m \u001b[0mdatabase\u001b[0m\u001b[0;34m,\u001b[0m \u001b[0mquery\u001b[0m\u001b[0;34m,\u001b[0m \u001b[0;32mNone\u001b[0m\u001b[0;34m,\u001b[0m \u001b[0mKustoClient\u001b[0m\u001b[0;34m.\u001b[0m\u001b[0m_query_default_timeout\u001b[0m\u001b[0;34m,\u001b[0m \u001b[0mproperties\u001b[0m\u001b[0;34m\u001b[0m\u001b[0m\n\u001b[0m\u001b[1;32m    409\u001b[0m         )\n\u001b[1;32m    410\u001b[0m \u001b[0;34m\u001b[0m\u001b[0m\n",
      "\u001b[0;32m~/anaconda3_501/lib/python3.6/site-packages/azure/kusto/data/request.py\u001b[0m in \u001b[0;36m_execute\u001b[0;34m(self, endpoint, database, query, payload, timeout, properties)\u001b[0m\n\u001b[1;32m    468\u001b[0m \u001b[0;34m\u001b[0m\u001b[0m\n\u001b[1;32m    469\u001b[0m         response = self._session.post(\n\u001b[0;32m--> 470\u001b[0;31m             \u001b[0mendpoint\u001b[0m\u001b[0;34m,\u001b[0m \u001b[0mheaders\u001b[0m\u001b[0;34m=\u001b[0m\u001b[0mrequest_headers\u001b[0m\u001b[0;34m,\u001b[0m \u001b[0mdata\u001b[0m\u001b[0;34m=\u001b[0m\u001b[0mpayload\u001b[0m\u001b[0;34m,\u001b[0m \u001b[0mjson\u001b[0m\u001b[0;34m=\u001b[0m\u001b[0mjson_payload\u001b[0m\u001b[0;34m,\u001b[0m \u001b[0mtimeout\u001b[0m\u001b[0;34m=\u001b[0m\u001b[0mtimeout\u001b[0m\u001b[0;34m.\u001b[0m\u001b[0mseconds\u001b[0m\u001b[0;34m\u001b[0m\u001b[0m\n\u001b[0m\u001b[1;32m    471\u001b[0m         )\n\u001b[1;32m    472\u001b[0m \u001b[0;34m\u001b[0m\u001b[0m\n",
      "\u001b[0;32m~/anaconda3_501/lib/python3.6/site-packages/requests/sessions.py\u001b[0m in \u001b[0;36mpost\u001b[0;34m(self, url, data, json, **kwargs)\u001b[0m\n\u001b[1;32m    579\u001b[0m         \"\"\"\n\u001b[1;32m    580\u001b[0m \u001b[0;34m\u001b[0m\u001b[0m\n\u001b[0;32m--> 581\u001b[0;31m         \u001b[0;32mreturn\u001b[0m \u001b[0mself\u001b[0m\u001b[0;34m.\u001b[0m\u001b[0mrequest\u001b[0m\u001b[0;34m(\u001b[0m\u001b[0;34m'POST'\u001b[0m\u001b[0;34m,\u001b[0m \u001b[0murl\u001b[0m\u001b[0;34m,\u001b[0m \u001b[0mdata\u001b[0m\u001b[0;34m=\u001b[0m\u001b[0mdata\u001b[0m\u001b[0;34m,\u001b[0m \u001b[0mjson\u001b[0m\u001b[0;34m=\u001b[0m\u001b[0mjson\u001b[0m\u001b[0;34m,\u001b[0m \u001b[0;34m**\u001b[0m\u001b[0mkwargs\u001b[0m\u001b[0;34m)\u001b[0m\u001b[0;34m\u001b[0m\u001b[0m\n\u001b[0m\u001b[1;32m    582\u001b[0m \u001b[0;34m\u001b[0m\u001b[0m\n\u001b[1;32m    583\u001b[0m     \u001b[0;32mdef\u001b[0m \u001b[0mput\u001b[0m\u001b[0;34m(\u001b[0m\u001b[0mself\u001b[0m\u001b[0;34m,\u001b[0m \u001b[0murl\u001b[0m\u001b[0;34m,\u001b[0m \u001b[0mdata\u001b[0m\u001b[0;34m=\u001b[0m\u001b[0;32mNone\u001b[0m\u001b[0;34m,\u001b[0m \u001b[0;34m**\u001b[0m\u001b[0mkwargs\u001b[0m\u001b[0;34m)\u001b[0m\u001b[0;34m:\u001b[0m\u001b[0;34m\u001b[0m\u001b[0m\n",
      "\u001b[0;32m~/anaconda3_501/lib/python3.6/site-packages/requests/sessions.py\u001b[0m in \u001b[0;36mrequest\u001b[0;34m(self, method, url, params, data, headers, cookies, files, auth, timeout, allow_redirects, proxies, hooks, stream, verify, cert, json)\u001b[0m\n\u001b[1;32m    531\u001b[0m         }\n\u001b[1;32m    532\u001b[0m         \u001b[0msend_kwargs\u001b[0m\u001b[0;34m.\u001b[0m\u001b[0mupdate\u001b[0m\u001b[0;34m(\u001b[0m\u001b[0msettings\u001b[0m\u001b[0;34m)\u001b[0m\u001b[0;34m\u001b[0m\u001b[0m\n\u001b[0;32m--> 533\u001b[0;31m         \u001b[0mresp\u001b[0m \u001b[0;34m=\u001b[0m \u001b[0mself\u001b[0m\u001b[0;34m.\u001b[0m\u001b[0msend\u001b[0m\u001b[0;34m(\u001b[0m\u001b[0mprep\u001b[0m\u001b[0;34m,\u001b[0m \u001b[0;34m**\u001b[0m\u001b[0msend_kwargs\u001b[0m\u001b[0;34m)\u001b[0m\u001b[0;34m\u001b[0m\u001b[0m\n\u001b[0m\u001b[1;32m    534\u001b[0m \u001b[0;34m\u001b[0m\u001b[0m\n\u001b[1;32m    535\u001b[0m         \u001b[0;32mreturn\u001b[0m \u001b[0mresp\u001b[0m\u001b[0;34m\u001b[0m\u001b[0m\n",
      "\u001b[0;32m~/anaconda3_501/lib/python3.6/site-packages/requests/sessions.py\u001b[0m in \u001b[0;36msend\u001b[0;34m(self, request, **kwargs)\u001b[0m\n\u001b[1;32m    644\u001b[0m \u001b[0;34m\u001b[0m\u001b[0m\n\u001b[1;32m    645\u001b[0m         \u001b[0;31m# Send the request\u001b[0m\u001b[0;34m\u001b[0m\u001b[0;34m\u001b[0m\u001b[0m\n\u001b[0;32m--> 646\u001b[0;31m         \u001b[0mr\u001b[0m \u001b[0;34m=\u001b[0m \u001b[0madapter\u001b[0m\u001b[0;34m.\u001b[0m\u001b[0msend\u001b[0m\u001b[0;34m(\u001b[0m\u001b[0mrequest\u001b[0m\u001b[0;34m,\u001b[0m \u001b[0;34m**\u001b[0m\u001b[0mkwargs\u001b[0m\u001b[0;34m)\u001b[0m\u001b[0;34m\u001b[0m\u001b[0m\n\u001b[0m\u001b[1;32m    647\u001b[0m \u001b[0;34m\u001b[0m\u001b[0m\n\u001b[1;32m    648\u001b[0m         \u001b[0;31m# Total elapsed time of the request (approximately)\u001b[0m\u001b[0;34m\u001b[0m\u001b[0;34m\u001b[0m\u001b[0m\n",
      "\u001b[0;32m~/anaconda3_501/lib/python3.6/site-packages/requests/adapters.py\u001b[0m in \u001b[0;36msend\u001b[0;34m(self, request, stream, timeout, verify, cert, proxies)\u001b[0m\n\u001b[1;32m    447\u001b[0m                     \u001b[0mdecode_content\u001b[0m\u001b[0;34m=\u001b[0m\u001b[0;32mFalse\u001b[0m\u001b[0;34m,\u001b[0m\u001b[0;34m\u001b[0m\u001b[0m\n\u001b[1;32m    448\u001b[0m                     \u001b[0mretries\u001b[0m\u001b[0;34m=\u001b[0m\u001b[0mself\u001b[0m\u001b[0;34m.\u001b[0m\u001b[0mmax_retries\u001b[0m\u001b[0;34m,\u001b[0m\u001b[0;34m\u001b[0m\u001b[0m\n\u001b[0;32m--> 449\u001b[0;31m                     \u001b[0mtimeout\u001b[0m\u001b[0;34m=\u001b[0m\u001b[0mtimeout\u001b[0m\u001b[0;34m\u001b[0m\u001b[0m\n\u001b[0m\u001b[1;32m    450\u001b[0m                 )\n\u001b[1;32m    451\u001b[0m \u001b[0;34m\u001b[0m\u001b[0m\n",
      "\u001b[0;32m~/anaconda3_501/lib/python3.6/site-packages/urllib3/connectionpool.py\u001b[0m in \u001b[0;36murlopen\u001b[0;34m(self, method, url, body, headers, retries, redirect, assert_same_host, timeout, pool_timeout, release_conn, chunked, body_pos, **response_kw)\u001b[0m\n\u001b[1;32m    598\u001b[0m                                                   \u001b[0mtimeout\u001b[0m\u001b[0;34m=\u001b[0m\u001b[0mtimeout_obj\u001b[0m\u001b[0;34m,\u001b[0m\u001b[0;34m\u001b[0m\u001b[0m\n\u001b[1;32m    599\u001b[0m                                                   \u001b[0mbody\u001b[0m\u001b[0;34m=\u001b[0m\u001b[0mbody\u001b[0m\u001b[0;34m,\u001b[0m \u001b[0mheaders\u001b[0m\u001b[0;34m=\u001b[0m\u001b[0mheaders\u001b[0m\u001b[0;34m,\u001b[0m\u001b[0;34m\u001b[0m\u001b[0m\n\u001b[0;32m--> 600\u001b[0;31m                                                   chunked=chunked)\n\u001b[0m\u001b[1;32m    601\u001b[0m \u001b[0;34m\u001b[0m\u001b[0m\n\u001b[1;32m    602\u001b[0m             \u001b[0;31m# If we're going to release the connection in ``finally:``, then\u001b[0m\u001b[0;34m\u001b[0m\u001b[0;34m\u001b[0m\u001b[0m\n",
      "\u001b[0;32m~/anaconda3_501/lib/python3.6/site-packages/urllib3/connectionpool.py\u001b[0m in \u001b[0;36m_make_request\u001b[0;34m(self, conn, method, url, timeout, chunked, **httplib_request_kw)\u001b[0m\n\u001b[1;32m    378\u001b[0m             \u001b[0;32mexcept\u001b[0m \u001b[0mTypeError\u001b[0m\u001b[0;34m:\u001b[0m  \u001b[0;31m# Python 2.6 and older, Python 3\u001b[0m\u001b[0;34m\u001b[0m\u001b[0m\n\u001b[1;32m    379\u001b[0m                 \u001b[0;32mtry\u001b[0m\u001b[0;34m:\u001b[0m\u001b[0;34m\u001b[0m\u001b[0m\n\u001b[0;32m--> 380\u001b[0;31m                     \u001b[0mhttplib_response\u001b[0m \u001b[0;34m=\u001b[0m \u001b[0mconn\u001b[0m\u001b[0;34m.\u001b[0m\u001b[0mgetresponse\u001b[0m\u001b[0;34m(\u001b[0m\u001b[0;34m)\u001b[0m\u001b[0;34m\u001b[0m\u001b[0m\n\u001b[0m\u001b[1;32m    381\u001b[0m                 \u001b[0;32mexcept\u001b[0m \u001b[0mException\u001b[0m \u001b[0;32mas\u001b[0m \u001b[0me\u001b[0m\u001b[0;34m:\u001b[0m\u001b[0;34m\u001b[0m\u001b[0m\n\u001b[1;32m    382\u001b[0m                     \u001b[0;31m# Remove the TypeError from the exception chain in Python 3;\u001b[0m\u001b[0;34m\u001b[0m\u001b[0;34m\u001b[0m\u001b[0m\n",
      "\u001b[0;32m~/anaconda3_501/lib/python3.6/http/client.py\u001b[0m in \u001b[0;36mgetresponse\u001b[0;34m(self)\u001b[0m\n\u001b[1;32m   1329\u001b[0m         \u001b[0;32mtry\u001b[0m\u001b[0;34m:\u001b[0m\u001b[0;34m\u001b[0m\u001b[0m\n\u001b[1;32m   1330\u001b[0m             \u001b[0;32mtry\u001b[0m\u001b[0;34m:\u001b[0m\u001b[0;34m\u001b[0m\u001b[0m\n\u001b[0;32m-> 1331\u001b[0;31m                 \u001b[0mresponse\u001b[0m\u001b[0;34m.\u001b[0m\u001b[0mbegin\u001b[0m\u001b[0;34m(\u001b[0m\u001b[0;34m)\u001b[0m\u001b[0;34m\u001b[0m\u001b[0m\n\u001b[0m\u001b[1;32m   1332\u001b[0m             \u001b[0;32mexcept\u001b[0m \u001b[0mConnectionError\u001b[0m\u001b[0;34m:\u001b[0m\u001b[0;34m\u001b[0m\u001b[0m\n\u001b[1;32m   1333\u001b[0m                 \u001b[0mself\u001b[0m\u001b[0;34m.\u001b[0m\u001b[0mclose\u001b[0m\u001b[0;34m(\u001b[0m\u001b[0;34m)\u001b[0m\u001b[0;34m\u001b[0m\u001b[0m\n",
      "\u001b[0;32m~/anaconda3_501/lib/python3.6/http/client.py\u001b[0m in \u001b[0;36mbegin\u001b[0;34m(self)\u001b[0m\n\u001b[1;32m    295\u001b[0m         \u001b[0;31m# read until we get a non-100 response\u001b[0m\u001b[0;34m\u001b[0m\u001b[0;34m\u001b[0m\u001b[0m\n\u001b[1;32m    296\u001b[0m         \u001b[0;32mwhile\u001b[0m \u001b[0;32mTrue\u001b[0m\u001b[0;34m:\u001b[0m\u001b[0;34m\u001b[0m\u001b[0m\n\u001b[0;32m--> 297\u001b[0;31m             \u001b[0mversion\u001b[0m\u001b[0;34m,\u001b[0m \u001b[0mstatus\u001b[0m\u001b[0;34m,\u001b[0m \u001b[0mreason\u001b[0m \u001b[0;34m=\u001b[0m \u001b[0mself\u001b[0m\u001b[0;34m.\u001b[0m\u001b[0m_read_status\u001b[0m\u001b[0;34m(\u001b[0m\u001b[0;34m)\u001b[0m\u001b[0;34m\u001b[0m\u001b[0m\n\u001b[0m\u001b[1;32m    298\u001b[0m             \u001b[0;32mif\u001b[0m \u001b[0mstatus\u001b[0m \u001b[0;34m!=\u001b[0m \u001b[0mCONTINUE\u001b[0m\u001b[0;34m:\u001b[0m\u001b[0;34m\u001b[0m\u001b[0m\n\u001b[1;32m    299\u001b[0m                 \u001b[0;32mbreak\u001b[0m\u001b[0;34m\u001b[0m\u001b[0m\n",
      "\u001b[0;32m~/anaconda3_501/lib/python3.6/http/client.py\u001b[0m in \u001b[0;36m_read_status\u001b[0;34m(self)\u001b[0m\n\u001b[1;32m    256\u001b[0m \u001b[0;34m\u001b[0m\u001b[0m\n\u001b[1;32m    257\u001b[0m     \u001b[0;32mdef\u001b[0m \u001b[0m_read_status\u001b[0m\u001b[0;34m(\u001b[0m\u001b[0mself\u001b[0m\u001b[0;34m)\u001b[0m\u001b[0;34m:\u001b[0m\u001b[0;34m\u001b[0m\u001b[0m\n\u001b[0;32m--> 258\u001b[0;31m         \u001b[0mline\u001b[0m \u001b[0;34m=\u001b[0m \u001b[0mstr\u001b[0m\u001b[0;34m(\u001b[0m\u001b[0mself\u001b[0m\u001b[0;34m.\u001b[0m\u001b[0mfp\u001b[0m\u001b[0;34m.\u001b[0m\u001b[0mreadline\u001b[0m\u001b[0;34m(\u001b[0m\u001b[0m_MAXLINE\u001b[0m \u001b[0;34m+\u001b[0m \u001b[0;36m1\u001b[0m\u001b[0;34m)\u001b[0m\u001b[0;34m,\u001b[0m \u001b[0;34m\"iso-8859-1\"\u001b[0m\u001b[0;34m)\u001b[0m\u001b[0;34m\u001b[0m\u001b[0m\n\u001b[0m\u001b[1;32m    259\u001b[0m         \u001b[0;32mif\u001b[0m \u001b[0mlen\u001b[0m\u001b[0;34m(\u001b[0m\u001b[0mline\u001b[0m\u001b[0;34m)\u001b[0m \u001b[0;34m>\u001b[0m \u001b[0m_MAXLINE\u001b[0m\u001b[0;34m:\u001b[0m\u001b[0;34m\u001b[0m\u001b[0m\n\u001b[1;32m    260\u001b[0m             \u001b[0;32mraise\u001b[0m \u001b[0mLineTooLong\u001b[0m\u001b[0;34m(\u001b[0m\u001b[0;34m\"status line\"\u001b[0m\u001b[0;34m)\u001b[0m\u001b[0;34m\u001b[0m\u001b[0m\n",
      "\u001b[0;32m~/anaconda3_501/lib/python3.6/socket.py\u001b[0m in \u001b[0;36mreadinto\u001b[0;34m(self, b)\u001b[0m\n\u001b[1;32m    584\u001b[0m         \u001b[0;32mwhile\u001b[0m \u001b[0;32mTrue\u001b[0m\u001b[0;34m:\u001b[0m\u001b[0;34m\u001b[0m\u001b[0m\n\u001b[1;32m    585\u001b[0m             \u001b[0;32mtry\u001b[0m\u001b[0;34m:\u001b[0m\u001b[0;34m\u001b[0m\u001b[0m\n\u001b[0;32m--> 586\u001b[0;31m                 \u001b[0;32mreturn\u001b[0m \u001b[0mself\u001b[0m\u001b[0;34m.\u001b[0m\u001b[0m_sock\u001b[0m\u001b[0;34m.\u001b[0m\u001b[0mrecv_into\u001b[0m\u001b[0;34m(\u001b[0m\u001b[0mb\u001b[0m\u001b[0;34m)\u001b[0m\u001b[0;34m\u001b[0m\u001b[0m\n\u001b[0m\u001b[1;32m    587\u001b[0m             \u001b[0;32mexcept\u001b[0m \u001b[0mtimeout\u001b[0m\u001b[0;34m:\u001b[0m\u001b[0;34m\u001b[0m\u001b[0m\n\u001b[1;32m    588\u001b[0m                 \u001b[0mself\u001b[0m\u001b[0;34m.\u001b[0m\u001b[0m_timeout_occurred\u001b[0m \u001b[0;34m=\u001b[0m \u001b[0;32mTrue\u001b[0m\u001b[0;34m\u001b[0m\u001b[0m\n",
      "\u001b[0;32m~/anaconda3_501/lib/python3.6/site-packages/urllib3/contrib/pyopenssl.py\u001b[0m in \u001b[0;36mrecv_into\u001b[0;34m(self, *args, **kwargs)\u001b[0m\n\u001b[1;32m    295\u001b[0m                 \u001b[0;32mraise\u001b[0m\u001b[0;34m\u001b[0m\u001b[0m\n\u001b[1;32m    296\u001b[0m         \u001b[0;32mexcept\u001b[0m \u001b[0mOpenSSL\u001b[0m\u001b[0;34m.\u001b[0m\u001b[0mSSL\u001b[0m\u001b[0;34m.\u001b[0m\u001b[0mWantReadError\u001b[0m\u001b[0;34m:\u001b[0m\u001b[0;34m\u001b[0m\u001b[0m\n\u001b[0;32m--> 297\u001b[0;31m             \u001b[0;32mif\u001b[0m \u001b[0;32mnot\u001b[0m \u001b[0mutil\u001b[0m\u001b[0;34m.\u001b[0m\u001b[0mwait_for_read\u001b[0m\u001b[0;34m(\u001b[0m\u001b[0mself\u001b[0m\u001b[0;34m.\u001b[0m\u001b[0msocket\u001b[0m\u001b[0;34m,\u001b[0m \u001b[0mself\u001b[0m\u001b[0;34m.\u001b[0m\u001b[0msocket\u001b[0m\u001b[0;34m.\u001b[0m\u001b[0mgettimeout\u001b[0m\u001b[0;34m(\u001b[0m\u001b[0;34m)\u001b[0m\u001b[0;34m)\u001b[0m\u001b[0;34m:\u001b[0m\u001b[0;34m\u001b[0m\u001b[0m\n\u001b[0m\u001b[1;32m    298\u001b[0m                 \u001b[0;32mraise\u001b[0m \u001b[0mtimeout\u001b[0m\u001b[0;34m(\u001b[0m\u001b[0;34m'The read operation timed out'\u001b[0m\u001b[0;34m)\u001b[0m\u001b[0;34m\u001b[0m\u001b[0m\n\u001b[1;32m    299\u001b[0m             \u001b[0;32melse\u001b[0m\u001b[0;34m:\u001b[0m\u001b[0;34m\u001b[0m\u001b[0m\n",
      "\u001b[0;32m~/anaconda3_501/lib/python3.6/site-packages/urllib3/util/wait.py\u001b[0m in \u001b[0;36mwait_for_read\u001b[0;34m(sock, timeout)\u001b[0m\n\u001b[1;32m    144\u001b[0m     \u001b[0mReturns\u001b[0m \u001b[0;32mTrue\u001b[0m \u001b[0;32mif\u001b[0m \u001b[0mthe\u001b[0m \u001b[0msocket\u001b[0m \u001b[0;32mis\u001b[0m \u001b[0mreadable\u001b[0m\u001b[0;34m,\u001b[0m \u001b[0;32mor\u001b[0m \u001b[0;32mFalse\u001b[0m \u001b[0;32mif\u001b[0m \u001b[0mthe\u001b[0m \u001b[0mtimeout\u001b[0m \u001b[0mexpired\u001b[0m\u001b[0;34m.\u001b[0m\u001b[0;34m\u001b[0m\u001b[0m\n\u001b[1;32m    145\u001b[0m     \"\"\"\n\u001b[0;32m--> 146\u001b[0;31m     \u001b[0;32mreturn\u001b[0m \u001b[0mwait_for_socket\u001b[0m\u001b[0;34m(\u001b[0m\u001b[0msock\u001b[0m\u001b[0;34m,\u001b[0m \u001b[0mread\u001b[0m\u001b[0;34m=\u001b[0m\u001b[0;32mTrue\u001b[0m\u001b[0;34m,\u001b[0m \u001b[0mtimeout\u001b[0m\u001b[0;34m=\u001b[0m\u001b[0mtimeout\u001b[0m\u001b[0;34m)\u001b[0m\u001b[0;34m\u001b[0m\u001b[0m\n\u001b[0m\u001b[1;32m    147\u001b[0m \u001b[0;34m\u001b[0m\u001b[0m\n\u001b[1;32m    148\u001b[0m \u001b[0;34m\u001b[0m\u001b[0m\n",
      "\u001b[0;32m~/anaconda3_501/lib/python3.6/site-packages/urllib3/util/wait.py\u001b[0m in \u001b[0;36mpoll_wait_for_socket\u001b[0;34m(sock, read, write, timeout)\u001b[0m\n\u001b[1;32m    105\u001b[0m         \u001b[0;32mreturn\u001b[0m \u001b[0mpoll_obj\u001b[0m\u001b[0;34m.\u001b[0m\u001b[0mpoll\u001b[0m\u001b[0;34m(\u001b[0m\u001b[0mt\u001b[0m\u001b[0;34m)\u001b[0m\u001b[0;34m\u001b[0m\u001b[0m\n\u001b[1;32m    106\u001b[0m \u001b[0;34m\u001b[0m\u001b[0m\n\u001b[0;32m--> 107\u001b[0;31m     \u001b[0;32mreturn\u001b[0m \u001b[0mbool\u001b[0m\u001b[0;34m(\u001b[0m\u001b[0m_retry_on_intr\u001b[0m\u001b[0;34m(\u001b[0m\u001b[0mdo_poll\u001b[0m\u001b[0;34m,\u001b[0m \u001b[0mtimeout\u001b[0m\u001b[0;34m)\u001b[0m\u001b[0;34m)\u001b[0m\u001b[0;34m\u001b[0m\u001b[0m\n\u001b[0m\u001b[1;32m    108\u001b[0m \u001b[0;34m\u001b[0m\u001b[0m\n\u001b[1;32m    109\u001b[0m \u001b[0;34m\u001b[0m\u001b[0m\n",
      "\u001b[0;32m~/anaconda3_501/lib/python3.6/site-packages/urllib3/util/wait.py\u001b[0m in \u001b[0;36m_retry_on_intr\u001b[0;34m(fn, timeout)\u001b[0m\n\u001b[1;32m     40\u001b[0m     \u001b[0;31m# Modern Python, that retries syscalls by default\u001b[0m\u001b[0;34m\u001b[0m\u001b[0;34m\u001b[0m\u001b[0m\n\u001b[1;32m     41\u001b[0m     \u001b[0;32mdef\u001b[0m \u001b[0m_retry_on_intr\u001b[0m\u001b[0;34m(\u001b[0m\u001b[0mfn\u001b[0m\u001b[0;34m,\u001b[0m \u001b[0mtimeout\u001b[0m\u001b[0;34m)\u001b[0m\u001b[0;34m:\u001b[0m\u001b[0;34m\u001b[0m\u001b[0m\n\u001b[0;32m---> 42\u001b[0;31m         \u001b[0;32mreturn\u001b[0m \u001b[0mfn\u001b[0m\u001b[0;34m(\u001b[0m\u001b[0mtimeout\u001b[0m\u001b[0;34m)\u001b[0m\u001b[0;34m\u001b[0m\u001b[0m\n\u001b[0m\u001b[1;32m     43\u001b[0m \u001b[0;32melse\u001b[0m\u001b[0;34m:\u001b[0m\u001b[0;34m\u001b[0m\u001b[0m\n\u001b[1;32m     44\u001b[0m     \u001b[0;31m# Old and broken Pythons.\u001b[0m\u001b[0;34m\u001b[0m\u001b[0;34m\u001b[0m\u001b[0m\n",
      "\u001b[0;32m~/anaconda3_501/lib/python3.6/site-packages/urllib3/util/wait.py\u001b[0m in \u001b[0;36mdo_poll\u001b[0;34m(t)\u001b[0m\n\u001b[1;32m    103\u001b[0m         \u001b[0;32mif\u001b[0m \u001b[0mt\u001b[0m \u001b[0;32mis\u001b[0m \u001b[0;32mnot\u001b[0m \u001b[0;32mNone\u001b[0m\u001b[0;34m:\u001b[0m\u001b[0;34m\u001b[0m\u001b[0m\n\u001b[1;32m    104\u001b[0m             \u001b[0mt\u001b[0m \u001b[0;34m*=\u001b[0m \u001b[0;36m1000\u001b[0m\u001b[0;34m\u001b[0m\u001b[0m\n\u001b[0;32m--> 105\u001b[0;31m         \u001b[0;32mreturn\u001b[0m \u001b[0mpoll_obj\u001b[0m\u001b[0;34m.\u001b[0m\u001b[0mpoll\u001b[0m\u001b[0;34m(\u001b[0m\u001b[0mt\u001b[0m\u001b[0;34m)\u001b[0m\u001b[0;34m\u001b[0m\u001b[0m\n\u001b[0m\u001b[1;32m    106\u001b[0m \u001b[0;34m\u001b[0m\u001b[0m\n\u001b[1;32m    107\u001b[0m     \u001b[0;32mreturn\u001b[0m \u001b[0mbool\u001b[0m\u001b[0;34m(\u001b[0m\u001b[0m_retry_on_intr\u001b[0m\u001b[0;34m(\u001b[0m\u001b[0mdo_poll\u001b[0m\u001b[0;34m,\u001b[0m \u001b[0mtimeout\u001b[0m\u001b[0;34m)\u001b[0m\u001b[0;34m)\u001b[0m\u001b[0;34m\u001b[0m\u001b[0m\n",
      "\u001b[0;31mKeyboardInterrupt\u001b[0m: "
     ]
    }
   ],
   "source": [
    "query= \"\"\"let startDate = datetime(2020-02-01);\n",
    "let endDate = datetime(2020-03-01);\n",
    "let locale = \"en-us\";\n",
    "database('CustomerTouchPoint').PageView\n",
    "| where StartDateTime >= startDate and StartDateTime < endDate\n",
    "| where Site == \"docs.microsoft.com\"\n",
    "| where IsTest!=1 and enrich_url_pg_query_string !contains \"traffic-source=cats\" | invoke cluster('Cgadataout').database('Publish').ApplyTechSitesBotFilters()\n",
    "| where Locale == Locale\n",
    "| where TopicKey == '4f3b9f17-3e21-2b2b-6089-b4fbd4387cf9'\n",
    "| where ReferrerType != 'Paid Search'\n",
    "| summarize hint.strategy = shuffle\n",
    "    PageViews = dcount(PageViewId,2),\n",
    "    Bounces=dcountif(PageViewId, IsBounce, 2),\n",
    "    ClickThroughs = dcountif(PageViewId, LinkClickEvents>0, 2),\n",
    "    MedianPageViewTime = percentile(ActivePageViewLength,50)\n",
    "    by TopicKey, ReferrerType\n",
    "| join kind=leftouter (\n",
    "database(\"DevRelWorkArea\").GetTopics(locale)\n",
    ") on TopicKey\n",
    "| extend\n",
    "    BounceRate = Bounces/todouble(PageViews),\n",
    "    ClickThroughRate = ClickThroughs/todouble(PageViews),\n",
    "    DwellTimeDelta = 0.0,\n",
    "    ExitRate = (MedianPageViewTime - EstimatedSecondsToRead)/todouble(EstimatedSecondsToRead), //not use in this PageType\n",
    "    LearnModuleCompletion = 0, //not use in this PageType\n",
    "    LearnUnitCompletion = 0, //not use in this PageType\n",
    "    LearnModuleCompletionRate = 0.0, //not use in this PageType\n",
    "    LearnUnitCompletionRate = 0.0 //not use in this PageType\n",
    "| invoke cluster('cgadataout.kusto.windows.net').database('Publish').GetPrimaryKPIScore()\n",
    "| extend PrimaryKPIScoreL2 = PrimaryKPIScore\n",
    "| project ReferrerType = strcat(ReferrerType,\" (\",tostring(round(PrimaryKPIScoreL2,3)),\")\"), PageViews, PrimaryKPIScoreL2\"\"\"\n",
    "response = kc.execute(\"DevRelWorkArea\", query)\n",
    "rf = []\n",
    "pv = []\n",
    "scoreL2 = []\n",
    "for row in response.primary_results[0]:\n",
    "    rf.append(row[0])\n",
    "    pv.append(row[1])\n",
    "    scoreL2.append(row[2])\n",
    "print(\"article scores loaded\")"
   ]
  },
  {
   "cell_type": "code",
   "execution_count": null,
   "metadata": {},
   "outputs": [],
   "source": [
    "print(scoreL2)\n",
    "\n",
    "df = pd.DataFrame({\"Referrer\": rf,\n",
    "                  \"MedianPrimaryKPIScoreL2\": scoreL2})\n",
    "print(df)\n",
    "df = df.T\n",
    "df.columns = df.iloc[0]\n",
    "df = df.iloc[1:]\n",
    "df = df.reset_index()\n",
    "\n",
    "print(df)"
   ]
  },
  {
   "cell_type": "code",
   "execution_count": null,
   "metadata": {},
   "outputs": [],
   "source": [
    "query= \"\"\"database('Publish').ContentKPIByTopicKeyMonthly\n",
    "| where startofmonth(Date) == datetime(2020-02-01)\n",
    "| where Locale == 'en-us'\n",
    "| where RepoName !contains 'office'\n",
    "| where RepoName !contains 'dynamics'\n",
    "| where RepoName !contains 'outlook'\n",
    "| where TopicKey <>  '63846178-bbbb-de25-87cb-4d0b397ea523'\n",
    "| extend TopicType = tostring(TopicType)\n",
    "| invoke cluster('cgadataout.kusto.windows.net').database('Publish').GetPrimaryKPIScore()\n",
    "| where PageType == 'ReferenceArchitecture'\n",
    "| summarize hint.strategy = shuffle (10PctlL1,25PctlL1,50PctlL1,75PctlL1,90PctlL1) = percentiles(PrimaryKPIScore, 10, 25, 50, 75, 90) by PageType\"\"\"\n",
    "response = kc.execute(\"DevRelWorkArea\", query)\n",
    "pctl_10 = 0.0\n",
    "pctl_25 = 0.0\n",
    "pctl_50 = 0.0\n",
    "pctl_75 = 0.0\n",
    "pctl_90 = 0.0\n",
    "for row in response.primary_results[0]:\n",
    "    pctl_10 = row[0]\n",
    "    pctl_25 = row[1]\n",
    "    pctl_50 = row[2]\n",
    "    pctl_75 = row[3]\n",
    "    pctl_90 = row[4]\n",
    "print(\"L1 scores loaded\")"
   ]
  },
  {
   "cell_type": "code",
   "execution_count": null,
   "metadata": {},
   "outputs": [],
   "source": [
    "df = pd.DataFrame({\"Referrer\": rf,\n",
    "                  \"PrimaryKPIScoreL2\": scoreL2})\n",
    "print(df)\n",
    "df = df.T\n",
    "df.columns = df.iloc[0]\n",
    "df = df.iloc[1:]\n",
    "df = df.reset_index()\n",
    "\n",
    "## Radar Chart\n",
    "from math import pi\n",
    "\n",
    "# ------- PART 1: Create background\n",
    " \n",
    "# number of variable\n",
    "categories=list(df)[1:]\n",
    "N = len(categories)\n",
    " \n",
    "# What will be the angle of each axis in the plot? (we divide the plot / number of variable)\n",
    "angles = [n / float(N) * 2 * pi for n in range(N)]\n",
    "angles += angles[:1]\n",
    " \n",
    "# Initialise the spider plot\n",
    "ax = plt.subplot(111, polar=True)\n",
    " \n",
    "# If you want the first axis to be on top:\n",
    "ax.set_theta_offset(pi / 2)\n",
    "ax.set_theta_direction(-1)\n",
    " \n",
    "# Draw one axe per variable + add labels labels yet\n",
    "plt.xticks(angles[:-1], categories)\n",
    " \n",
    "# Draw ylabels\n",
    "ax.set_rlabel_position(0)\n",
    "plt.yticks([0.173,0.254], [\"RA Page Type 10pctl (0.173)\",\"RA Page Type 25pctl (0.254)\"], color=\"red\", size=10)\n",
    "plt.ylim(-0.2,0.35)\n",
    " \n",
    " \n",
    "# ------- PART 2: Add plots\n",
    " \n",
    "# Plot each individual = each line of the data\n",
    "# I don't do a loop, because plotting more than 3 groups makes the chart unreadable\n",
    " \n",
    "# Ind1\n",
    "values=df.loc[0].drop('index').values.flatten().tolist()\n",
    "values += values[:1]\n",
    "ax.plot(angles, values, linewidth=1, linestyle='solid', label=\"PrimaryKPIScoreL2\")\n",
    "ax.fill(angles, values, 'b', alpha=0.1)\n",
    " \n",
    "# Ind2\n",
    "# values=df.loc[1].drop('index').values.flatten().tolist()\n",
    "# values += values[:1]\n",
    "# ax.plot(angles, values, linewidth=1, linestyle='solid', label=\"Median of PrimaryKPIScoreL1\")\n",
    "# ax.fill(angles, values, 'r', alpha=0.1)\n",
    " \n",
    "# Add legend\n",
    "plt.legend(loc='upper right', bbox_to_anchor=(0.1, 0.1))\n",
    "\n",
    "plt.show()"
   ]
  },
  {
   "cell_type": "markdown",
   "metadata": {},
   "source": [
    "We see that most of the page types have the median value of PrimaryKPIScoreL2 (performance from site search) better than the median value of PrimaryKPIScoreL1 (performance overall) except \"ReferenceArchitecture\" and \"Unknown\" types. There have another concept **25 Percentile of PrimaryKPIScore** in content performance model which is used for identifying over-performing topics vs under-performance topics. Let's see how the radar chart becomes when comparing the 25 percentile values between L2 and L1."
   ]
  },
  {
   "cell_type": "code",
   "execution_count": null,
   "metadata": {},
   "outputs": [],
   "source": [
    "df = pd.DataFrame({\"PageType\": ptype,\n",
    "                  \"25PctlPrimaryKPIScoreL2\": oL2,\n",
    "                  \"25PctlPrimaryKPIScoreL1\": oL1})\n",
    "print(df)\n",
    "df = df.T\n",
    "df.columns = df.iloc[0]\n",
    "df = df.iloc[1:]\n",
    "df = df.reset_index()\n",
    "\n",
    "## Radar Chart\n",
    "from math import pi\n",
    "\n",
    "# ------- PART 1: Create background\n",
    " \n",
    "# number of variable\n",
    "categories=list(df)[1:]\n",
    "N = len(categories)\n",
    " \n",
    "# What will be the angle of each axis in the plot? (we divide the plot / number of variable)\n",
    "angles = [n / float(N) * 2 * pi for n in range(N)]\n",
    "angles += angles[:1]\n",
    " \n",
    "# Initialise the spider plot\n",
    "ax = plt.subplot(111, polar=True)\n",
    " \n",
    "# If you want the first axis to be on top:\n",
    "ax.set_theta_offset(pi / 2)\n",
    "ax.set_theta_direction(-1)\n",
    " \n",
    "# Draw one axe per variable + add labels labels yet\n",
    "plt.xticks(angles[:-1], categories)\n",
    " \n",
    "# Draw ylabels\n",
    "ax.set_rlabel_position(0)\n",
    "plt.yticks([-0.8,-0.6,-0.4,-0.2,0,0.5], [\"-0.8\",\"-0.6\",\"-0.4\",\"-0.2\",\"0\",\"0.5\"], color=\"black\", size=7)\n",
    "plt.ylim(-1,1)\n",
    " \n",
    " \n",
    "# ------- PART 2: Add plots\n",
    " \n",
    "# Plot each individual = each line of the data\n",
    "# I don't do a loop, because plotting more than 3 groups makes the chart unreadable\n",
    " \n",
    "# Ind1\n",
    "values=df.loc[0].drop('index').values.flatten().tolist()\n",
    "values += values[:1]\n",
    "ax.plot(angles, values, linewidth=1, linestyle='solid', label=\"Median of PrimaryKPIScoreL2\")\n",
    "ax.fill(angles, values, 'b', alpha=0.1)\n",
    " \n",
    "# Ind2\n",
    "values=df.loc[1].drop('index').values.flatten().tolist()\n",
    "values += values[:1]\n",
    "ax.plot(angles, values, linewidth=1, linestyle='solid', label=\"Median of PrimaryKPIScoreL1\")\n",
    "ax.fill(angles, values, 'r', alpha=0.1)\n",
    " \n",
    "# Add legend\n",
    "plt.legend(loc='upper right', bbox_to_anchor=(0.1, 0.1))\n",
    "\n",
    "plt.show()"
   ]
  },
  {
   "cell_type": "markdown",
   "metadata": {},
   "source": [
    "It becomes more interesting that the 25 percentile chart shows a different result. Most of the page types have the 25 percentile values of PrimaryKPIScoreL1 larger than what of L2. Putting median value comparison and 25 percentile value comparison together, **an hypothesis is that the PrimaryKPIScoreL2 values are not normally distributed**. Let's look at the scores distribution of \"Article\" type."
   ]
  },
  {
   "cell_type": "code",
   "execution_count": null,
   "metadata": {},
   "outputs": [],
   "source": [
    "# get PrimaryKPIScoreL2 by topics from site search\n",
    "query= \"\"\"let startDate = datetime(2020-01-01);\n",
    "let endDate = datetime(2020-02-01);\n",
    "let locale = \"en-us\";\n",
    "database('DevRelWorkArea').PageViewsFromSiteSearch(startDate, endofday(startofday(endDate,-1)), locale)\n",
    "| join kind=leftouter (\n",
    "cluster('cgadataout').database('CustomerTouchPoint').PageView\n",
    "| where StartDateTime >= startDate and StartDateTime < endDate\n",
    "| where Site == \"docs.microsoft.com\"\n",
    "| where Locale == locale\n",
    "| where IsTest!=1 and enrich_url_pg_query_string !contains \"traffic-source=cats\" | invoke cluster('Cgadataout').database('DevRelWorkArea').ApplyTechSitesBotFilters()\n",
    "| summarize hint.strategy = shuffle (StartDateTime, PageViewId, Url, TopicKey, ReferrerType, ReferrerDomain, Referrer_uri_stem, ReferrerQueryString) = arg_max(StartDateTime, PageViewId, Url, TopicKey, ReferrerType, ReferrerDomain, Referrer_uri_stem, ReferrerQueryString) by enrich_session_id\n",
    "| extend ReferrerUrl = strcat(\"https://\",ReferrerDomain,Referrer_uri_stem) //SiteSearch\n",
    "| where not(Url matches regex \"https://docs.microsoft.com/([^/]*)/search/\") //SiteSearch\n",
    "| where ReferrerUrl matches regex \"https://docs.microsoft.com/([^/]*)/search/\" //SiteSearch\n",
    "| project TargetPageViewId = PageViewId, IsExit = 1\n",
    ") on TargetPageViewId\n",
    "| summarize hint.strategy = shuffle\n",
    "    Pages = dcount(TargetTopicKey,2),\n",
    "    PageViews = dcount(TargetPageViewId,2),\n",
    "    Bounces=dcountif(TargetPageViewId, TargetIsBounce, 2),\n",
    "    ClickThroughs = dcountif(TargetPageViewId, TargetLinkClickEvents>0, 2),\n",
    "    Exits = dcountif(TargetPageViewId, IsExit==1, 2),\n",
    "    MedianPageViewTime = percentile(TargetPageViewLength,50)\n",
    "    by TargetTopicKey\n",
    "| join kind=inner (\n",
    "database(\"DevRelWorkArea\").GetTopics(locale)\n",
    ") on $left.TargetTopicKey == $right.TopicKey\n",
    "| where PageType == 'Article'\n",
    "| extend\n",
    "    BounceRate = Bounces/todouble(PageViews),\n",
    "    ClickThroughRate = ClickThroughs/todouble(PageViews),\n",
    "    DwellTimeDelta = (MedianPageViewTime - EstimatedSecondsToRead)/todouble(EstimatedSecondsToRead),\n",
    "    ExitRate = Exits/todouble(PageViews),\n",
    "    LearnModuleCompletion = 0,\n",
    "    LearnUnitCompletion = 0,\n",
    "    LearnModuleCompletionRate = 0.0,\n",
    "    LearnUnitCompletionRate = 0.0\n",
    "| invoke cluster('cgadataout.kusto.windows.net').database('Publish').GetPrimaryKPIScore()\n",
    "| extend PrimaryKPIScoreL2 = PrimaryKPIScore\n",
    "| project TargetTopicKey, PrimaryKPIScoreL2, PageViews\"\"\"\n",
    "response = kc.execute(\"DevRelWorkArea\", query)\n",
    "tpL2 = []\n",
    "scoreL2 = []\n",
    "pvL2 = []\n",
    "for row in response.primary_results[0]:\n",
    "    tpL2.append(row[0])\n",
    "    scoreL2.append(row[1])\n",
    "    pvL2.append(row[2])\n",
    "print(\"data loaded\")"
   ]
  },
  {
   "cell_type": "code",
   "execution_count": null,
   "metadata": {
    "scrolled": false
   },
   "outputs": [],
   "source": [
    "n_bins = 20\n",
    "n_scoreL2 = []\n",
    "for (i, item) in enumerate(scoreL2):\n",
    "    if item > 2:\n",
    "        n_scoreL2.append(2)\n",
    "    else:\n",
    "        n_scoreL2.append(item)\n",
    "\n",
    "fig, axs = plt.subplots(1, 2, sharey=True, tight_layout=True, figsize=(10,5))\n",
    "axs[0].hist(scoreL2, bins=n_bins)\n",
    "axs[0].set_xlabel('PrimaryKPIScoreL2')\n",
    "axs[1].hist(n_scoreL2, bins=n_bins)\n",
    "axs[1].set_xlabel('PrimaryKPIScoreL2 with outliers set to 2')"
   ]
  },
  {
   "cell_type": "markdown",
   "metadata": {},
   "source": [
    "In the left chart, it shows the distribution of the actual PrimaryKPIScoreL2 values. The right chart shows the distribution of PrimaryKPIScoreL2 values with outliers fixed. There are several topics (viewed from site search) having extremely large DwellTime which made the performance score be a very big value. I set the score of these outliers to 2 which can get a more readable histogram."
   ]
  },
  {
   "cell_type": "code",
   "execution_count": null,
   "metadata": {},
   "outputs": [],
   "source": [
    "# get PrimaryKPIScoreL1 by topics\n",
    "query= \"\"\"database('Publish').ContentKPIByTopicKeyMonthly\n",
    "| where startofmonth(Date) == datetime(2020-01-01)\n",
    "| where Locale == 'en-us'\n",
    "| where RepoName !contains 'office'\n",
    "| where RepoName !contains 'dynamics'\n",
    "| where RepoName !contains 'outlook'\n",
    "| where TopicKey <>  '63846178-bbbb-de25-87cb-4d0b397ea523'\n",
    "| extend TopicType = tostring(TopicType)\n",
    "| invoke cluster('cgadataout.kusto.windows.net').database('Publish').GetPrimaryKPIScore()\n",
    "| where PageType == 'Article'\n",
    "| project TopicKey, PrimaryKPIScore, PageViews\"\"\"\n",
    "response = kc.execute(\"DevRelWorkArea\", query)\n",
    "tpL1 = []\n",
    "scoreL1 = []\n",
    "pvL1 = []\n",
    "for row in response.primary_results[0]:\n",
    "    tpL1.append(row[0])\n",
    "    scoreL1.append(row[1])\n",
    "    pvL1.append(row[2])"
   ]
  },
  {
   "cell_type": "code",
   "execution_count": null,
   "metadata": {},
   "outputs": [],
   "source": [
    "n_bins = 20\n",
    "n_scoreL1 = []\n",
    "for (i, item) in enumerate(scoreL1):\n",
    "    if item > 2:\n",
    "        n_scoreL1.append(2)\n",
    "    else:\n",
    "        n_scoreL1.append(item)\n",
    "fig, axs = plt.subplots(1, 2, sharey=True, tight_layout=True, figsize=(10,5))\n",
    "axs[0].hist(scoreL1, bins=n_bins)\n",
    "axs[0].set_xlabel('PrimaryKPIScoreL1')\n",
    "axs[1].hist(n_scoreL1, bins=n_bins)\n",
    "axs[1].set_xlabel('PrimaryKPIScoreL1 with outliers set to 2')"
   ]
  },
  {
   "cell_type": "markdown",
   "metadata": {},
   "source": [
    "Since we get idea of how PrimaryKPIScoreL2 is measured. Also, we have compared the median values by page type between PrimaryKPIScoreL2 and PrimaryKPIScoreL1. Then another question is that because the PrimaryKPIScoreL2 is calculated at topic level, to understand better the performance of traffic, we need to look at the performance score and traffic (page views) together.\n",
    "\n",
    "So, let's define: **If the PrimaryKPIScoreL2 > 25 percentile value of PrimaryKPIScoreL1, then we say the topic from site search (its traffic from site search) is high performing. Otherwise we say the topic from site search is low performing.**"
   ]
  },
  {
   "cell_type": "code",
   "execution_count": null,
   "metadata": {},
   "outputs": [],
   "source": [
    "# reference to https://www.tutorialspoint.com/matplotlib/matplotlib_scatter_plot.htm\n",
    "fig=plt.figure(figsize=(10,7))\n",
    "ax=fig.add_axes([0,0,1,1])\n",
    "ax.scatter(n_scoreL2, pvL2, color='b')\n",
    "ax.set_xlabel('PrimaryKPIScoreL2 on Topic')\n",
    "ax.set_ylabel('Page Views on Topic')\n",
    "ax.set_title('Traffic and Performance of \"Article\" topics From Site Search')\n",
    "plt.axvline(x=-0.806845, color='r', linewidth=1)\n",
    "plt.show()"
   ]
  },
  {
   "cell_type": "markdown",
   "metadata": {},
   "source": [
    "From the scatter chart, we may see that more than 85% of the points are at right side of the red line. The red vertical line is 25 percentile value of PrimaryKPIScoreL1. The y axis is the page views on each topic. We may see most of the pages having page views less than 100. There are several pages having high traffic, all of them seems be high performing.\n",
    "\n",
    "Furthermore, we can sum the page views of the high performing topics from site search, and we sum the page views of the low performing topics from site search. Thus, we are able to know the percentage of page views on high performing topics. Following is the % of page views on high performing topics per page type (LearnModule, LearnUnit not included)."
   ]
  },
  {
   "cell_type": "code",
   "execution_count": null,
   "metadata": {},
   "outputs": [],
   "source": [
    "# get PrimaryKPIScoreL1 by topics\n",
    "query= \"\"\"let startDate = datetime(2020-01-01);\n",
    "let endDate = datetime(2020-02-01);\n",
    "let locale = \"en-us\";\n",
    "database('DevRelWorkArea').PageViewsFromSiteSearch(startDate, endofday(startofday(endDate,-1)), locale)\n",
    "| join kind=leftouter (\n",
    "cluster('cgadataout').database('CustomerTouchPoint').PageView\n",
    "| where StartDateTime >= startDate and StartDateTime < endDate\n",
    "| where Site == \"docs.microsoft.com\"\n",
    "| where Locale == locale\n",
    "| where IsTest!=1 and enrich_url_pg_query_string !contains \"traffic-source=cats\" | invoke cluster('Cgadataout').database('DevRelWorkArea').ApplyTechSitesBotFilters()\n",
    "| summarize hint.strategy = shuffle (StartDateTime, PageViewId, Url, TopicKey, ReferrerType, ReferrerDomain, Referrer_uri_stem, ReferrerQueryString) = arg_max(StartDateTime, PageViewId, Url, TopicKey, ReferrerType, ReferrerDomain, Referrer_uri_stem, ReferrerQueryString) by enrich_session_id\n",
    "| extend ReferrerUrl = strcat(\"https://\",ReferrerDomain,Referrer_uri_stem) //SiteSearch\n",
    "| where not(Url matches regex \"https://docs.microsoft.com/([^/]*)/search/\") //SiteSearch\n",
    "| where ReferrerUrl matches regex \"https://docs.microsoft.com/([^/]*)/search/\" //SiteSearch\n",
    "| project TargetPageViewId = PageViewId, IsExit = 1\n",
    ") on TargetPageViewId\n",
    "| summarize hint.strategy = shuffle\n",
    "    Pages = dcount(TargetTopicKey,2),\n",
    "    PageViews = dcount(TargetPageViewId,2),\n",
    "    Bounces=dcountif(TargetPageViewId, TargetIsBounce, 2),\n",
    "    ClickThroughs = dcountif(TargetPageViewId, TargetLinkClickEvents>0, 2),\n",
    "    Exits = dcountif(TargetPageViewId, IsExit==1, 2),\n",
    "    MedianPageViewTime = percentile(TargetPageViewLength,50)\n",
    "    by TargetTopicKey\n",
    "| join kind=inner (\n",
    "database(\"DevRelWorkArea\").GetTopics(locale)\n",
    ") on $left.TargetTopicKey == $right.TopicKey\n",
    "| where PageType !in ('LearnModule','LearnUnit')\n",
    "| extend\n",
    "    BounceRate = Bounces/todouble(PageViews),\n",
    "    ClickThroughRate = ClickThroughs/todouble(PageViews),\n",
    "    DwellTimeDelta = (MedianPageViewTime - EstimatedSecondsToRead)/todouble(EstimatedSecondsToRead),\n",
    "    ExitRate = Exits/todouble(PageViews),\n",
    "    LearnModuleCompletion = 0,\n",
    "    LearnUnitCompletion = 0,\n",
    "    LearnModuleCompletionRate = 0.0,\n",
    "    LearnUnitCompletionRate = 0.0\n",
    "| invoke cluster('cgadataout.kusto.windows.net').database('Publish').GetPrimaryKPIScore()\n",
    "| extend PrimaryKPIScoreL2 = PrimaryKPIScore\n",
    "| project TargetTopicKey, PrimaryKPIScoreL2, PageViews, PageType\n",
    "| join kind=leftouter (\n",
    "database(\"DevRelWorkArea\").GetL1PrimaryKPIScore(startDate, \"en-us\")\n",
    ") on PageType\n",
    "| summarize\n",
    "    pv_highperf = sumif(PageViews, PrimaryKPIScoreL2 > ThresholdPrimaryKPIScore_L1),\n",
    "    pv_lowperf = sumif(PageViews, PrimaryKPIScoreL2 <= ThresholdPrimaryKPIScore_L1)\n",
    "    by PageType\n",
    "| extend pv_total = pv_highperf+pv_lowperf\n",
    "| extend rate_highperf = round(pv_highperf/todouble(pv_total),3)\n",
    "| sort by PageType desc\"\"\"\n",
    "response = kc.execute(\"DevRelWorkArea\", query)\n",
    "ptype = []\n",
    "pvhighperf = []\n",
    "pvlowperf = []\n",
    "pvtotal = []\n",
    "ratehighperf = []\n",
    "for row in response.primary_results[0]:\n",
    "    ptype.append(row[0])\n",
    "    pvhighperf.append(row[1])\n",
    "    pvlowperf.append(row[2])\n",
    "    pvtotal.append(row[3])\n",
    "    ratehighperf.append(row[4])\n",
    "print(\"data loaded\")"
   ]
  },
  {
   "cell_type": "code",
   "execution_count": null,
   "metadata": {},
   "outputs": [],
   "source": [
    "# reference to https://stackoverflow.com/questions/21397549/stack-bar-plot-in-matplotlib-and-add-label-to-each-section-and-suggestions\n",
    "y_pos = np.arange(len(ptype))\n",
    "fig = plt.figure(figsize=(10,5))\n",
    "ax = fig.add_subplot(111)\n",
    "ax.barh(y_pos, pvhighperf,color='g',align='center')\n",
    "ax.barh(y_pos, pvlowperf,color='r',align='center')\n",
    "ax.set_yticks(y_pos)\n",
    "ax.set_yticklabels(ptype)\n",
    "ax.set_xlabel('Page Views on High/Low Performing Topics (From Site Search)')\n",
    "plt.show()\n",
    "\n",
    "df = pd.DataFrame({\"PageType\": ptype,\n",
    "                  \"% of Page Views on High Performing Topics\": ratehighperf})\n",
    "df = df[::-1]\n",
    "print(df)"
   ]
  },
  {
   "cell_type": "markdown",
   "metadata": {},
   "source": [
    "From that table, we can see \"Reference\", \"Conceptual\", \"Article\" types have high page views traffic. Their % of page views on high performing topics (from site search) are around 85%. \"Unknown\" type also has relatively high page view traffic comparing to the rest, its % is low, only 68.9%. We may have interests to see what are the low performing pages referred from site search, especially the ones having relatively high page views traffic. Following lists the top 20 low performing Reference topics from site search, ranked by their page views from site search."
   ]
  },
  {
   "cell_type": "code",
   "execution_count": null,
   "metadata": {},
   "outputs": [],
   "source": [
    "# get PrimaryKPIScoreL2 by topics\n",
    "query= \"\"\"let startDate = datetime(2020-01-01);\n",
    "let endDate = startofmonth(startDate,1);\n",
    "let locale = \"en-us\";\n",
    "database('DevRelWorkArea').PageViewsFromSiteSearch(startDate, endofday(startofday(endDate,-1)), locale)\n",
    "| join kind=leftouter (\n",
    "cluster('cgadataout').database('CustomerTouchPoint').PageView\n",
    "| where StartDateTime >= startDate and StartDateTime < endDate\n",
    "| where Site == \"docs.microsoft.com\"\n",
    "| where Locale == locale\n",
    "| where IsTest!=1 and enrich_url_pg_query_string !contains \"traffic-source=cats\" | invoke cluster('Cgadataout').database('DevRelWorkArea').ApplyTechSitesBotFilters()\n",
    "| summarize hint.strategy = shuffle (StartDateTime, PageViewId, Url, TopicKey, ReferrerType, ReferrerDomain, Referrer_uri_stem, ReferrerQueryString) = arg_max(StartDateTime, PageViewId, Url, TopicKey, ReferrerType, ReferrerDomain, Referrer_uri_stem, ReferrerQueryString) by enrich_session_id\n",
    "| extend ReferrerUrl = strcat(\"https://\",ReferrerDomain,Referrer_uri_stem) //SiteSearch\n",
    "| where not(Url matches regex \"https://docs.microsoft.com/([^/]*)/search/\") //SiteSearch\n",
    "| where ReferrerUrl matches regex \"https://docs.microsoft.com/([^/]*)/search/\" //SiteSearch\n",
    "| project TargetPageViewId = PageViewId, IsExit = 1\n",
    ") on TargetPageViewId\n",
    "| summarize hint.strategy = shuffle\n",
    "    Pages = dcount(TargetTopicKey,2),\n",
    "    PageViews = dcount(TargetPageViewId,2),\n",
    "    Bounces=dcountif(TargetPageViewId, TargetIsBounce, 2),\n",
    "    ClickThroughs = dcountif(TargetPageViewId, TargetLinkClickEvents>0, 2),\n",
    "    Exits = dcountif(TargetPageViewId, IsExit==1, 2),\n",
    "    MedianPageViewTime = percentile(TargetPageViewLength,50),\n",
    "    TargetURL = max(TargetURL)\n",
    "    by TargetTopicKey\n",
    "| join kind=inner (\n",
    "database(\"DevRelWorkArea\").GetTopics(locale)\n",
    ") on $left.TargetTopicKey == $right.TopicKey\n",
    "| where PageType == 'Reference'\n",
    "| extend\n",
    "    BounceRate = Bounces/todouble(PageViews),\n",
    "    ClickThroughRate = ClickThroughs/todouble(PageViews),\n",
    "    DwellTimeDelta = (MedianPageViewTime - EstimatedSecondsToRead)/todouble(EstimatedSecondsToRead),\n",
    "    ExitRate = Exits/todouble(PageViews),\n",
    "    LearnModuleCompletion = 0,\n",
    "    LearnUnitCompletion = 0,\n",
    "    LearnModuleCompletionRate = 0.0,\n",
    "    LearnUnitCompletionRate = 0.0\n",
    "| invoke cluster('cgadataout.kusto.windows.net').database('Publish').GetPrimaryKPIScore()\n",
    "| extend PrimaryKPIScoreL2 = PrimaryKPIScore\n",
    "| project TargetTopicKey, TargetURL, PrimaryKPIScoreL2, PageViews, PageType\n",
    "| join kind=leftouter (\n",
    "database(\"DevRelWorkArea\").GetL1PrimaryKPIScore(startDate, \"en-us\")\n",
    ") on PageType\n",
    "| where PrimaryKPIScoreL2 <= ThresholdPrimaryKPIScore_L1\n",
    "| top 10 by PageViews desc\n",
    "| project TargetURL, PageType, PageViews, PrimaryKPIScoreL2, 25PercentilePrimaryKPIScoreL1 = ThresholdPrimaryKPIScore_L1\n",
    "| extend L2L1Delta = PrimaryKPIScoreL2 - 25PercentilePrimaryKPIScoreL1\"\"\"\n",
    "response = kc.execute(\"DevRelWorkArea\", query)\n",
    "url = []\n",
    "ptype = []\n",
    "pv = []\n",
    "L2 = []\n",
    "oL1 = []\n",
    "delta = []\n",
    "for row in response.primary_results[0]:\n",
    "    url.append(row[0])\n",
    "    ptype.append(row[1])\n",
    "    pv.append(row[2])\n",
    "    L2.append(row[3])\n",
    "    oL1.append(row[4])\n",
    "    delta.append(row[5])\n",
    "df = pd.DataFrame({\"URL\": url,\n",
    "                   \"PageType\": ptype,\n",
    "                   \"PageViews\": pv,\n",
    "                   \"L2\": L2,\n",
    "                   \"25 Pctl L1\": oL1,\n",
    "                   \"Delta\": delta})\n",
    "# print(df)\n",
    "from IPython.display import display, HTML\n",
    "display(HTML(df.to_html()))"
   ]
  },
  {
   "cell_type": "markdown",
   "metadata": {},
   "source": [
    "If we want to see what search terms make one certain topic become low performing, we may have the breakdown by search terms. For each search term and target topic, we may also calculate out one score (let's call it `PrimaryKPIScoreL3`) which measures the performance on the page views to the topic from that search term. Take a the top one low performing unknown type topic \"https://docs.microsoft.com/en-us/sql/t-sql/statements/set-offsets-transact-sql\" as an example."
   ]
  },
  {
   "cell_type": "code",
   "execution_count": null,
   "metadata": {},
   "outputs": [],
   "source": [
    "# get PrimaryKPIScoreL3 by search terms\n",
    "query= \"\"\"let startDate = datetime(2020-01-01);\n",
    "let endDate = startofmonth(startDate,1);\n",
    "let locale = \"en-us\";\n",
    "database('DevRelWorkArea').PageViewsFromSiteSearch(startDate, endofday(startofday(endDate,-1)), locale)\n",
    "| where TargetURL == \"https://docs.microsoft.com/en-us/sql/t-sql/statements/set-offsets-transact-sql\"\n",
    "| join kind=leftouter (\n",
    "cluster('cgadataout').database('CustomerTouchPoint').PageView\n",
    "| where StartDateTime >= startDate and StartDateTime < endDate\n",
    "| where Site == \"docs.microsoft.com\"\n",
    "| where Locale == locale\n",
    "| where IsTest!=1 and enrich_url_pg_query_string !contains \"traffic-source=cats\" | invoke cluster('Cgadataout').database('DevRelWorkArea').ApplyTechSitesBotFilters()\n",
    "| summarize hint.strategy = shuffle (StartDateTime, PageViewId, Url, TopicKey, ReferrerType, ReferrerDomain, Referrer_uri_stem, ReferrerQueryString) = arg_max(StartDateTime, PageViewId, Url, TopicKey, ReferrerType, ReferrerDomain, Referrer_uri_stem, ReferrerQueryString) by enrich_session_id\n",
    "| extend ReferrerUrl = strcat(\"https://\",ReferrerDomain,Referrer_uri_stem) //SiteSearch\n",
    "| where not(Url matches regex \"https://docs.microsoft.com/([^/]*)/search/\") //SiteSearch\n",
    "| where ReferrerUrl matches regex \"https://docs.microsoft.com/([^/]*)/search/\" //SiteSearch\n",
    "| project TargetPageViewId = PageViewId, IsExit = 1\n",
    ") on TargetPageViewId\n",
    "| summarize hint.strategy = shuffle\n",
    "    Pages = dcount(TargetTopicKey,2),\n",
    "    PageViews = dcount(TargetPageViewId,2),\n",
    "    Bounces=dcountif(TargetPageViewId, TargetIsBounce, 2),\n",
    "    ClickThroughs = dcountif(TargetPageViewId, TargetLinkClickEvents>0, 2),\n",
    "    Exits = dcountif(TargetPageViewId, IsExit==1, 2),\n",
    "    MedianPageViewTime = percentile(TargetPageViewLength,50),\n",
    "    TargetURL = max(TargetURL)\n",
    "    by TargetTopicKey, TargetSearchTerm\n",
    "| join kind=inner (\n",
    "database(\"DevRelWorkArea\").GetTopics(locale)\n",
    ") on $left.TargetTopicKey == $right.TopicKey\n",
    "| extend\n",
    "    BounceRate = Bounces/todouble(PageViews),\n",
    "    ClickThroughRate = ClickThroughs/todouble(PageViews),\n",
    "    DwellTimeDelta = (MedianPageViewTime - EstimatedSecondsToRead)/todouble(EstimatedSecondsToRead),\n",
    "    ExitRate = Exits/todouble(PageViews),\n",
    "    LearnModuleCompletion = 0,\n",
    "    LearnUnitCompletion = 0,\n",
    "    LearnModuleCompletionRate = 0.0,\n",
    "    LearnUnitCompletionRate = 0.0\n",
    "| invoke cluster('cgadataout.kusto.windows.net').database('Publish').GetPrimaryKPIScore()\n",
    "| extend PrimaryKPIScoreL3 = PrimaryKPIScore\n",
    "| project TargetSearchTerm, TargetURL, PrimaryKPIScoreL3, PageViews\"\"\"\n",
    "response = kc.execute(\"DevRelWorkArea\", query)\n",
    "term = []\n",
    "url = []\n",
    "L3 = []\n",
    "pv = []\n",
    "for row in response.primary_results[0]:\n",
    "    term.append(row[0])\n",
    "    url.append(row[1])\n",
    "    L3.append(row[2])\n",
    "    pv.append(row[3])\n",
    "df = pd.DataFrame({\"SearchTerms\": term,\n",
    "                   \"URL\": url,\n",
    "                   \"PageViews\": pv,\n",
    "                   \"L3\": L3,\n",
    "                   \"L2\": [-0.05]*len(term)\n",
    "                  })\n",
    "from IPython.display import display, HTML\n",
    "display(HTML(df.to_html()))"
   ]
  }
 ],
 "metadata": {
  "kernelspec": {
   "display_name": "Python 3",
   "language": "python",
   "name": "python3"
  },
  "language_info": {
   "codemirror_mode": {
    "name": "ipython",
    "version": 3
   },
   "file_extension": ".py",
   "mimetype": "text/x-python",
   "name": "python",
   "nbconvert_exporter": "python",
   "pygments_lexer": "ipython3",
   "version": "3.7.3"
  }
 },
 "nbformat": 4,
 "nbformat_minor": 2
}
