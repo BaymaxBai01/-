{
 "cells": [
  {
   "cell_type": "code",
   "execution_count": 11,
   "metadata": {},
   "outputs": [],
   "source": [
    "from pyecharts import Kline\n",
    "\n",
    "v1 = [[2320.26, 2320.26, 2287.3, 2362.94], [2300, 2291.3, 2288.26, 2308.38],\n",
    "      [2295.35, 2346.5, 2295.35, 2345.92], [2347.22, 2358.98, 2337.35, 2363.8],\n",
    "      [2360.75, 2382.48, 2347.89, 2383.76], [2383.43, 2385.42, 2371.23, 2391.82],\n",
    "      [2377.41, 2419.02, 2369.57, 2421.15], [2425.92, 2428.15, 2417.58, 2440.38],\n",
    "      [2411, 2433.13, 2403.3, 2437.42], [2432.68, 2334.48, 2427.7, 2441.73],\n",
    "      [2430.69, 2418.53, 2394.22, 2433.89], [2416.62, 2432.4, 2414.4, 2443.03],\n",
    "      [2441.91, 2421.56, 2418.43, 2444.8], [2420.26, 2382.91, 2373.53, 2427.07],\n",
    "      [2383.49, 2397.18, 2370.61, 2397.94], [2378.82, 2325.95, 2309.17, 2378.82],\n",
    "      [2322.94, 2314.16, 2308.76, 2330.88], [2320.62, 2325.82, 2315.01, 2338.78],\n",
    "      [2313.74, 2293.34, 2289.89, 2340.71], [2297.77, 2313.22, 2292.03, 2324.63],\n",
    "      [2322.32, 2365.59, 2308.92, 2366.16], [2364.54, 2359.51, 2330.86, 2369.65],\n",
    "      [2332.08, 2273.4, 2259.25, 2333.54], [2274.81, 2326.31, 2270.1, 2328.14],\n",
    "      [2333.61, 2347.18, 2321.6, 2351.44], [2340.44, 2324.29, 2304.27, 2352.02],\n",
    "      [2326.42, 2318.61, 2314.59, 2333.67], [2314.68, 2310.59, 2296.58, 2320.96],\n",
    "      [2309.16, 2286.6, 2264.83, 2333.29], [2282.17, 2263.97, 2253.25, 2286.33],\n",
    "      [2255.77, 2270.28, 2253.31, 2276.22]]\n",
    "kline = Kline(\"K 线图示例\")\n",
    "kline.add(\"日K\", [\"2017/7/{}\".format(i + 1) for i in range(31)], v1,\n",
    "         mark_point=[\"max\"], #mark_point是用来标记处最大值\n",
    "         is_datazoom_show=True, #is_datazoom_show是用来标记出是否具有伸缩坐标轴功能的\n",
    "         )\n",
    "kline.render(\"K线图.html\")"
   ]
  },
  {
   "cell_type": "code",
   "execution_count": 12,
   "metadata": {},
   "outputs": [],
   "source": [
    "# https://cloud.tencent.com/developer/article/1388001\n",
    "def backtesting_plot(table_name, indicator_name_list):\n",
    "    # data preparation\n",
    "    da = pd.DataFrame(data=table_name)\n",
    "    da['volume'] = da['volume'].apply(lambda vol: vol if vol > 0 else 0)\n",
    "    date = da[\"datetime\"].apply(lambda x: str(x)).tolist()\n",
    "    k_plot_value = da.apply(lambda record: [record['open'], record['close'], record['low'], record['high']], axis=1).tolist()\n",
    "    \n",
    "    # K chart\n",
    "    kline = Kline()\n",
    "    kline.add(\"Backtesting Result\", date, k_plot_value)\n",
    "    \n",
    "    indicator_lines = Line()\n",
    "    for indicator_name in indicator_name_list:\n",
    "        indicator_lines.add(indicator_name, date, da[indicator_name].tolist())\n",
    "    # trading volume bar chart\n",
    "    bar = Bar()\n",
    "    bar.add(\"volume\", date, da[\"volume\"],\n",
    "            tooltip_tragger=\"axis\", is_legend_show=False, is_yaxis_show=False, yaxis_max=5*max(da[\"volume\"]))\n",
    "    # buy and sell\n",
    "    v1 = date[10]\n",
    "    v2 = da['high'].iloc[10]\n",
    "    es = EffectScatter(\"buy\")\n",
    "    es.add(\"buy\", [v1], [v2])\n",
    "    v1 = date[18]\n",
    "    v2 = da['high'].iloc[18]\n",
    "    es.add( \"sell\",  [v1],  [v2], symbol=\"pin\",)\n",
    "    \n",
    "    overlap = Overlap()\n",
    "    overlap.add(kline)\n",
    "    overlap.add(indicator_lines,)\n",
    "    overlap.add(bar,yaxis_index=1, is_add_yaxis=True)\n",
    "    overlap.add(es)\n",
    "    overlap.render(path='tt.html')"
   ]
  },
  {
   "cell_type": "markdown",
   "metadata": {},
   "source": [
    "柱状图-Bar"
   ]
  },
  {
   "cell_type": "code",
   "execution_count": 14,
   "metadata": {},
   "outputs": [],
   "source": [
    "#导入柱状图-Bar\n",
    "from pyecharts import Bar\n",
    "#设置行名\n",
    "columns = [\"Jan\", \"Feb\", \"Mar\", \"Apr\", \"May\", \"Jun\", \"Jul\", \"Aug\", \"Sep\", \"Oct\", \"Nov\", \"Dec\"]\n",
    "#设置数据\n",
    "data1 = [2.0, 4.9, 7.0, 23.2, 25.6, 76.7, 135.6, 162.2, 32.6, 20.0, 6.4, 3.3]\n",
    "data2 = [2.6, 5.9, 9.0, 26.4, 28.7, 70.7, 175.6, 182.2, 48.7, 18.8, 6.0, 2.3]\n",
    "#设置柱状图的主标题与副标题\n",
    "bar = Bar(\"柱状图\", \"一年的降水量与蒸发量\")\n",
    "#添加柱状图的数据及配置项\n",
    "bar.add(\"降水量\", columns, data1, mark_line=[\"average\"], mark_point=[\"max\", \"min\"])\n",
    "bar.add(\"蒸发量\", columns, data2, mark_line=[\"average\"], mark_point=[\"max\", \"min\"])\n",
    "#生成本地文件（默认为.html文件）\n",
    "bar.render(\"柱状图.html\")"
   ]
  },
  {
   "cell_type": "code",
   "execution_count": 15,
   "metadata": {},
   "outputs": [],
   "source": [
    "#导入饼图Pie\n",
    "from pyecharts import Pie\n",
    "#设置主标题与副标题，标题设置居中，设置宽度为900\n",
    "pie = Pie(\"饼状图\", \"一年的降水量与蒸发量\",title_pos='center',width=900)\n",
    "#加入数据，设置坐标位置为【25，50】，上方的colums选项取消显示\n",
    "pie.add(\"降水量\", columns, data1 ,center=[25,50],is_legend_show=False)\n",
    "#加入数据，设置坐标位置为【75，50】，上方的colums选项取消显示，显示label标签\n",
    "pie.add(\"蒸发量\", columns, data2 ,center=[75,50],is_legend_show=False,is_label_show=True)\n",
    "#保存图表\n",
    "pie.render(\"饼图.html\")"
   ]
  },
  {
   "cell_type": "code",
   "execution_count": 19,
   "metadata": {},
   "outputs": [],
   "source": [
    "#导入箱型图Boxplot\n",
    "from pyecharts import Boxplot \n",
    "boxplot = Boxplot(\"箱形图\", \"一年的降水量与蒸发量\")\n",
    "x_axis = ['降水量','蒸发量']\n",
    "y_axis = [data1,data2]\n",
    "#prepare_data方法可以将数据转为嵌套的 [min, Q1, median (or Q2), Q3, max]  # median 中位数\n",
    "yaxis = boxplot.prepare_data(y_axis)       \n",
    "boxplot.add(\"天气统计\", x_axis, yaxis)\n",
    "boxplot.render(\"箱体图.html\")"
   ]
  },
  {
   "cell_type": "code",
   "execution_count": 17,
   "metadata": {},
   "outputs": [],
   "source": [
    "from pyecharts import Line\n",
    "line = Line(\"折线图\",\"一年的降水量与蒸发量\")\n",
    "#is_label_show是设置上方数据是否显示\n",
    "line.add(\"降水量\", columns, data1, is_label_show=True)\n",
    "line.add(\"蒸发量\", columns, data2, is_label_show=True)\n",
    "line.render(\"折线图.html\")"
   ]
  },
  {
   "cell_type": "code",
   "execution_count": 20,
   "metadata": {},
   "outputs": [],
   "source": [
    "from pyecharts import Radar\n",
    "radar = Radar(\"雷达图\", \"一年的降水量与蒸发量\")\n",
    "#由于雷达图传入的数据得为多维数据，所以这里需要做一下处理\n",
    "radar_data1 = [[2.0, 4.9, 7.0, 23.2, 25.6, 76.7, 135.6, 162.2, 32.6, 20.0, 6.4, 3.3]]\n",
    "radar_data2 = [[2.6, 5.9, 9.0, 26.4, 28.7, 70.7, 175.6, 182.2, 48.7, 18.8, 6.0, 2.3]]\n",
    "#设置column的最大值，为了雷达图更为直观，这里的月份最大值设置有所不同\n",
    "schema = [ \n",
    "    (\"Jan\", 5), (\"Feb\",10), (\"Mar\", 10),\n",
    "    (\"Apr\", 50), (\"May\", 50), (\"Jun\", 200),\n",
    "    (\"Jul\", 200), (\"Aug\", 200), (\"Sep\", 50),\n",
    "    (\"Oct\", 50), (\"Nov\", 10), (\"Dec\", 5)\n",
    "]\n",
    "#传入坐标\n",
    "radar.config(schema)\n",
    "radar.add(\"降水量\",radar_data1)\n",
    "#一般默认为同一种颜色，这里为了便于区分，需要设置item的颜色\n",
    "radar.add(\"蒸发量\",radar_data2,item_color=\"#1C86EE\")\n",
    "radar.render(\"雷达图.html\")"
   ]
  },
  {
   "cell_type": "code",
   "execution_count": 21,
   "metadata": {},
   "outputs": [],
   "source": [
    "from pyecharts import Scatter\n",
    "scatter = Scatter(\"散点图\", \"一年的降水量与蒸发量\")\n",
    "#xais_name是设置横坐标名称，这里由于显示问题，还需要将y轴名称与y轴的距离进行设置\n",
    "scatter.add(\"降水量与蒸发量的散点分布\", data1,data2,xaxis_name=\"降水量\",yaxis_name=\"蒸发量\",\n",
    "            yaxis_name_gap=40)\n",
    "scatter.render(\"散点图.html\")"
   ]
  },
  {
   "cell_type": "code",
   "execution_count": null,
   "metadata": {},
   "outputs": [],
   "source": [
    "# https://www.sohu.com/a/278412237_464033"
   ]
  }
 ],
 "metadata": {
  "kernelspec": {
   "display_name": "Python 3",
   "language": "python",
   "name": "python3"
  },
  "language_info": {
   "codemirror_mode": {
    "name": "ipython",
    "version": 3
   },
   "file_extension": ".py",
   "mimetype": "text/x-python",
   "name": "python",
   "nbconvert_exporter": "python",
   "pygments_lexer": "ipython3",
   "version": "3.7.4"
  }
 },
 "nbformat": 4,
 "nbformat_minor": 4
}
