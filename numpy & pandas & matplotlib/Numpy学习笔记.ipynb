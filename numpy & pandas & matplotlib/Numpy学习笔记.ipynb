{
 "cells": [
  {
   "cell_type": "code",
   "execution_count": 1,
   "metadata": {},
   "outputs": [],
   "source": [
    "import numpy as np # numpy是用来做矩阵运算的"
   ]
  },
  {
   "cell_type": "code",
   "execution_count": 7,
   "metadata": {},
   "outputs": [
    {
     "name": "stdout",
     "output_type": "stream",
     "text": [
      "[['时间长度' 'UV_Total(M)' 'PV_Total(M)' 'UV_🔺(M)' 'PV_🔺(M)' 'UV_by_month(M)'\n",
      "  'PV_by_month(M)' '']\n",
      " ['前1个月' '51' '229' '51' '229' '51' '229' '']\n",
      " ['前2个月' '84' '434' '33' '205' '40' '204' '']\n",
      " ['前3个月' '116' '656' '32' '222' '41' '221' '']\n",
      " ['前4个月' '147' '869' '31' '213' '41' '212' '']\n",
      " ['前5个月' '179' '1090' '32' '221' '42' '218' '']\n",
      " ['前6个月' '205' '1283' '26' '193' '37' '195' '']\n",
      " ['前7个月' '233' '1484' '28' '200' '39' '201' '']\n",
      " ['前8个月' '259' '1650' '25' '167' '35' '167' '']\n",
      " ['前9个月' '285' '1831' '27' '181' '37' '185' '']\n",
      " ['前10个月' '313' '2026' '28' '195' '38' '190' '']\n",
      " ['前11个月' '340' '2183' '27' '157' '36' '165' '']\n",
      " ['前12个月' '369' '2345' '29' '163' '38' '165' '']\n",
      " ['前13个月' '390' '2490' '21' '144' '30' '141' '']]\n"
     ]
    }
   ],
   "source": [
    "# genfromtxt 函数是np自带的打开文件的函数，delimiter是分隔符，dtype是数据格式\n",
    "opentxt1 = np.genfromtxt(\"HomeWork.txt\",encoding=\"utf-8\",delimiter=\",\",dtype=str)\n",
    "# print(type(opentxt1))\n",
    "# print(opentxt1)\n",
    "#print(help(np.genfromtxt)) #通过help(函数名)可以查看每一个函数下的具体功能\n",
    "print(opentxt1)"
   ]
  },
  {
   "cell_type": "code",
   "execution_count": 16,
   "metadata": {},
   "outputs": [
    {
     "name": "stdout",
     "output_type": "stream",
     "text": [
      "[1 2 3 4]\n",
      "[1 2 3 4 list([5, 6, 7, 8])]\n",
      "[1 2 3 4 list([5, 6, 7, 8, [9, 10, 11]])]\n",
      "[2]\n",
      "[[1 2]\n",
      " [1 2]]\n"
     ]
    }
   ],
   "source": [
    "arr_1 = np.array([1,2,3,4]) #一维\n",
    "print(arr_1) \n",
    "arr_2 = np.array([1,2,3,4,[5,6,7,8]]) #二维\n",
    "print(arr_2) \n",
    "arr_3 = np.array([1,2,3,4,[5,6,7,8,[9,10,11]]]) #三维\n",
    "print(arr_3)\n",
    "\n",
    "#切片和步长\n",
    "arr_4 = arr_1[1:3:2] #2代表步长，一维数组与列表类似\n",
    "print(arr_4)\n",
    "\n",
    "arr_5 = np.array([np.arange(5),np.arange(5),np.arange(5)])\n",
    "print(arr_5[0:2,1:3]) #二维数组切片有两个，分别是行切片和列切片"
   ]
  },
  {
   "cell_type": "code",
   "execution_count": 7,
   "metadata": {},
   "outputs": [
    {
     "name": "stdout",
     "output_type": "stream",
     "text": [
      "[[0.88882234 0.86244327 0.50788768]\n",
      " [0.63345682 0.6379651  0.60083536]]\n",
      "维度个数 2\n",
      "各维度大小 (2, 3)\n",
      "数据类型 float64\n",
      "元素个数 6\n",
      "[[0 9 4]\n",
      " [3 3 5]]\n",
      "[[-10.78474832 -13.72895478  10.97224973 -12.186602  ]\n",
      " [  0.18294363  -1.24719795  21.07385981  -8.42795136]]\n",
      "[29.31569225 23.91638951 48.67265    96.45183745 19.19609962 59.49432895\n",
      " 14.42229285 37.52635041 83.110468   50.8191762  97.99281724 35.94787284\n",
      "  1.1223901  11.48925171 23.81040598  4.99110744  3.32087144 84.37909743\n",
      " 33.68521322 33.07612949 41.77494947 88.95417609 13.63197654 34.27362571\n",
      " 11.9816422  81.67879528 78.14058493 55.58483064 42.64116477 80.28271727\n",
      " 31.82759861 95.04436115 61.20121452 26.46026057 37.58783969 59.78839512\n",
      " 93.92069327 95.08910146 96.82744083 72.09069393 57.00228606 91.58104547\n",
      " 45.63382232  6.63349487 68.96797441 72.79258402 94.32195529 44.99816173\n",
      " 35.55480307 92.62929251 64.65659593 10.34426429  7.14468664 39.16516732\n",
      " 46.0738393  12.93005159 49.40948388 11.37010282 86.64207385 98.70137901\n",
      " 70.19864396 37.43936245 66.06400403 72.88154878 84.57524608  9.91965185\n",
      " 43.52826126 34.19273155 30.41417262 80.33905317 78.188464   30.82267543\n",
      " 52.41942477 29.00874055 40.24266318 96.26193917 95.84427838 74.71836961\n",
      " 87.68001322 55.42358801 48.89396989  3.28371734 34.87221262 68.01191362\n",
      " 19.2031555  21.08734389 21.90399466 15.76189823 20.02540629 52.77529116\n",
      " 32.64804921 92.40198192 42.86443236 71.592724   15.01572129 54.18734116\n",
      " 78.56998434 76.90643946 97.32212438 13.18681778]\n",
      "[[ 0.98598865 -1.88432601  0.13684278  0.9404147  -0.11515529 -0.01585001\n",
      "   1.48192986 -0.80227731 -1.09072773 -0.75855965]\n",
      " [-1.69726014  0.52263901 -0.55892912 -0.91538695  0.25244236 -0.23864481\n",
      "   0.40688642 -1.18864372  1.96134828  0.78102575]\n",
      " [-0.17848229  1.91058176  1.46580046  0.31832621 -0.3068495  -0.69174751\n",
      "  -0.01019989  0.23026542 -0.45615649 -1.08222405]\n",
      " [ 0.79217788  0.73246225 -0.34740352  0.56494832  2.29008694  0.12535829\n",
      "  -1.587661    1.39449363 -0.44088312  0.06158098]\n",
      " [ 0.60976535 -1.51983301  1.13985954  1.47394263 -2.41878842 -0.01247269\n",
      "   0.4448183   0.04079138  1.56325148  1.46152003]\n",
      " [ 0.44911165 -0.03969828 -0.92870774  0.79338093 -0.38045607  1.05327543\n",
      "  -0.99441426  1.69561917  1.65925349 -0.52326163]\n",
      " [ 0.9404404  -1.33390898  0.23211072  1.3130336  -0.45732056 -0.89609965\n",
      "   2.32482164 -1.3902971  -1.48191557  0.9135808 ]\n",
      " [ 1.15393699 -0.72852341 -1.06580649 -0.42552474 -2.26918059 -0.40476116\n",
      "   0.02248031  0.58840214  0.41133863 -0.2744548 ]\n",
      " [ 0.66089954 -0.27453172  0.43909993  0.1969776   0.13465154  0.43936809\n",
      "  -2.07112713 -2.26648015  0.40564154  0.39162841]\n",
      " [-1.79560825 -0.74966818 -1.95700335 -0.8559756  -0.82653603 -0.39754225\n",
      "   1.25268384 -1.09807575 -0.85604139  0.49337975]]\n"
     ]
    }
   ],
   "source": [
    "\"\"\"\n",
    "1.numpy.random.rand() \n",
    "官方文档中给出的用法是：numpy.random.rand(d0,d1,…dn) \n",
    "以给定的形状创建一个数组，并在数组中加入在[0,1]之间均匀分布的随机样本。\n",
    "\"\"\"\n",
    "data1 = np.random.rand(2,3) # 随机生成一个2行2列的矩阵,范围默认0到1，类型是浮点型\n",
    "print(data1)\n",
    "print('维度个数',data1.ndim)\n",
    "print('各维度大小',data1.shape)\n",
    "print('数据类型',data1.dtype)\n",
    "print('元素个数',data1.size)\n",
    "\n",
    "\"\"\"\n",
    "3.numpy.random.randint() \n",
    "官方文档中给出的用法是：numpy.random.randint(low,high=None,size=None,dtype) \n",
    "生成在半开半闭区间[low,high)上离散均匀分布的整数值;若high=None，则取值区间变为[0,low) \n",
    "用法及实现 \n",
    "high=None的情形 \n",
    "\"\"\"\n",
    "data2 = np.random.randint(0,10,size=(2,3)) # 随机生成一个2行2列的矩阵,范围可以指定，比如0到10,类型是整数\n",
    "print(data2)\n",
    "\n",
    "\n",
    "\"\"\"\n",
    "2.numpy.random.randn() \n",
    "官方文档中给出的用法是：numpy.random.rand(d0,d1,…dn) \n",
    "以给定的形状创建一个数组，数组元素来符合标准正态分布N(0,1) \n",
    "若要获得一般正态分布则可用sigma * np.random.randn(…) + mu进行表示 \n",
    "\"\"\"\n",
    "data3 = 10 * np.random.randn(2,4)\n",
    "print(data3)\n",
    "\n",
    "\n",
    "\"\"\"\n",
    "4.numpy.random.uniform(0,100,100)  \n",
    "从零到100随机生成100个浮点类型的随机数\n",
    "\"\"\"\n",
    "\n",
    "data4 = np.random.uniform(0,100,100)\n",
    "print(data4)\n",
    "\n",
    "\"\"\"\n",
    "5.正态分布\n",
    "\"\"\"\n",
    "\n",
    "data5 = np.random.normal(0,1,(10,10)) #均值为0，标准差为1，十行十列的正态分布\n",
    "print(data5)"
   ]
  },
  {
   "cell_type": "code",
   "execution_count": 18,
   "metadata": {},
   "outputs": [
    {
     "data": {
      "text/plain": [
       "array([[ 0.98598865, -1.88432601,  0.13684278,  0.9404147 , -0.11515529],\n",
       "       [-1.69726014,  0.52263901, -0.55892912, -0.91538695,  0.25244236],\n",
       "       [-0.17848229,  1.91058176,  1.46580046,  0.31832621, -0.3068495 ],\n",
       "       [ 0.79217788,  0.73246225, -0.34740352,  0.56494832,  2.29008694],\n",
       "       [ 0.60976535, -1.51983301,  1.13985954,  1.47394263, -2.41878842]])"
      ]
     },
     "execution_count": 18,
     "metadata": {},
     "output_type": "execute_result"
    }
   ],
   "source": [
    "# 正态分布的逻辑运算\n",
    "temp = data5[:5,:5].copy() #在data5基础上取5行5列，然后copy\n",
    "temp"
   ]
  },
  {
   "cell_type": "code",
   "execution_count": 19,
   "metadata": {},
   "outputs": [
    {
     "data": {
      "text/plain": [
       "array([1.08768228, 0.64385364, 0.79324362, 0.71931149, 2.38035397])"
      ]
     },
     "execution_count": 19,
     "metadata": {},
     "output_type": "execute_result"
    }
   ],
   "source": [
    "np.mean(temp,axis=1) #均值\n",
    "np.std(temp,axis=1) #标准差-描述波动性\n",
    "np.var(temp,axis=1) #方差-描述波动性"
   ]
  },
  {
   "cell_type": "code",
   "execution_count": 12,
   "metadata": {},
   "outputs": [
    {
     "data": {
      "text/plain": [
       "array([[ 1.        , -1.88432601,  0.13684278,  1.        , -0.11515529],\n",
       "       [-1.69726014,  1.        , -0.55892912, -0.91538695,  0.25244236],\n",
       "       [-0.17848229,  1.        ,  1.        ,  0.31832621, -0.3068495 ],\n",
       "       [ 1.        ,  1.        , -0.34740352,  1.        ,  1.        ],\n",
       "       [ 1.        , -1.51983301,  1.        ,  1.        , -2.41878842]])"
      ]
     },
     "execution_count": 12,
     "metadata": {},
     "output_type": "execute_result"
    }
   ],
   "source": [
    "# 条件赋值\n",
    "temp[temp > 0.5] = 1\n",
    "temp"
   ]
  },
  {
   "cell_type": "code",
   "execution_count": 15,
   "metadata": {},
   "outputs": [
    {
     "data": {
      "text/plain": [
       "array([[1, 0, 1, 1, 0],\n",
       "       [0, 1, 0, 0, 1],\n",
       "       [0, 1, 1, 1, 0],\n",
       "       [1, 1, 0, 1, 1],\n",
       "       [1, 0, 1, 1, 0]])"
      ]
     },
     "execution_count": 15,
     "metadata": {},
     "output_type": "execute_result"
    }
   ],
   "source": [
    "# 对于大于0 的值变为1 其他为0\n",
    "temp = np.where(temp>0,1,0)\n",
    "temp"
   ]
  },
  {
   "cell_type": "code",
   "execution_count": 17,
   "metadata": {},
   "outputs": [
    {
     "data": {
      "text/plain": [
       "array([[1, 1, 1, 1, 1],\n",
       "       [1, 1, 1, 1, 1],\n",
       "       [1, 1, 1, 1, 1],\n",
       "       [1, 1, 1, 1, 1],\n",
       "       [1, 1, 1, 1, 1]])"
      ]
     },
     "execution_count": 17,
     "metadata": {},
     "output_type": "execute_result"
    }
   ],
   "source": [
    "# 复合运算\n",
    "temp = np.where(np.logical_or(temp>0,temp<1),1,0) #logical_or和logical_and\n",
    "temp"
   ]
  },
  {
   "cell_type": "code",
   "execution_count": 10,
   "metadata": {},
   "outputs": [
    {
     "name": "stdout",
     "output_type": "stream",
     "text": [
      "[0 1 2 3 4 5 6 7 8 9]\n",
      "各维度大小 (10,)\n"
     ]
    }
   ],
   "source": [
    "list1 = range(10)  # 生成一个1行10列的矩阵\n",
    "data2 = np.array(list1)\n",
    "print(data2)\n",
    "print('各维度大小',data2.shape)"
   ]
  },
  {
   "cell_type": "code",
   "execution_count": 6,
   "metadata": {},
   "outputs": [
    {
     "name": "stdout",
     "output_type": "stream",
     "text": [
      "[0 1 2 3 4] [0. 1. 2. 3. 4.] [1 3 5 7 9] [  0.          11.11111111  22.22222222  33.33333333  44.44444444\n",
      "  55.55555556  66.66666667  77.77777778  88.88888889 100.        ]\n"
     ]
    }
   ],
   "source": [
    "arr_1 = np.arange(5)\n",
    "arr_2 = np.arange(5,dtype=float) #浮点型显示\n",
    "arr_3 = np.arange(1,10,2) #左闭右开\n",
    "\n",
    "\"\"\"\n",
    "创建固定范围的数组\n",
    "\"\"\"\n",
    "arr_4 = np.linspace(0,100,10) # 左闭右闭\n",
    "\n",
    "print(arr_1,arr_2,arr_3,arr_4)"
   ]
  },
  {
   "cell_type": "code",
   "execution_count": 17,
   "metadata": {},
   "outputs": [
    {
     "name": "stdout",
     "output_type": "stream",
     "text": [
      "[[0 1 2 3 4 5 6 7 8 9]\n",
      " [0 1 2 3 4 5 6 7 8 9]]\n",
      "各维度大小 (2, 10)\n"
     ]
    }
   ],
   "source": [
    "list2 = [range(10),range(10)] # 生成一个2行10列的矩阵\n",
    "data3 = np.array(list2)\n",
    "print(data3)\n",
    "print('各维度大小',data3.shape)"
   ]
  },
  {
   "cell_type": "code",
   "execution_count": 22,
   "metadata": {},
   "outputs": [
    {
     "name": "stdout",
     "output_type": "stream",
     "text": [
      "[[0. 0. 0. 0.]\n",
      " [0. 0. 0. 0.]\n",
      " [0. 0. 0. 0.]]\n"
     ]
    }
   ],
   "source": [
    "zeros_arr = np.zeros((3,4)) # 全0矩阵\n",
    "print(zeros_arr)"
   ]
  },
  {
   "cell_type": "code",
   "execution_count": 23,
   "metadata": {},
   "outputs": [
    {
     "name": "stdout",
     "output_type": "stream",
     "text": [
      "[[1. 1. 1. 1.]\n",
      " [1. 1. 1. 1.]\n",
      " [1. 1. 1. 1.]]\n"
     ]
    }
   ],
   "source": [
    "ones_arr = np.ones((3,4)) # 全1矩阵\n",
    "print(ones_arr)"
   ]
  },
  {
   "cell_type": "code",
   "execution_count": 2,
   "metadata": {},
   "outputs": [
    {
     "name": "stdout",
     "output_type": "stream",
     "text": [
      "[[1. 1. 1. 1.]\n",
      " [1. 1. 1. 1.]\n",
      " [1. 1. 1. 1.]]\n"
     ]
    }
   ],
   "source": [
    "ones_arr = np.ones([3,4]) # 全1矩阵\n",
    "print(ones_arr)"
   ]
  },
  {
   "cell_type": "code",
   "execution_count": 29,
   "metadata": {},
   "outputs": [
    {
     "name": "stdout",
     "output_type": "stream",
     "text": [
      "[[6.23042070e-307 1.86918699e-306 1.69121096e-306 1.33511562e-306\n",
      "  1.42419938e-306 7.56603881e-307]\n",
      " [8.45603441e-307 1.42417221e-306 1.60219306e-306 6.23059726e-307\n",
      "  1.06811422e-306 1.42417221e-306]\n",
      " [1.37961641e-306 6.23039354e-307 6.23053954e-307 8.01100605e-307\n",
      "  8.34451504e-308 9.34531022e-307]]\n"
     ]
    }
   ],
   "source": [
    "empty_arr = np.empty((3,6))\n",
    "print(empty_arr)"
   ]
  },
  {
   "cell_type": "code",
   "execution_count": 31,
   "metadata": {},
   "outputs": [
    {
     "name": "stdout",
     "output_type": "stream",
     "text": [
      "[[         0          0          0          0          0          0]\n",
      " [         0          0          0          0       1324          0]\n",
      " [         0          0          0          0 -202628624        456]]\n"
     ]
    }
   ],
   "source": [
    "empty_enpty_arr = np.empty((3,6),int)\n",
    "print(empty_enpty_arr)"
   ]
  },
  {
   "cell_type": "code",
   "execution_count": 33,
   "metadata": {},
   "outputs": [
    {
     "name": "stdout",
     "output_type": "stream",
     "text": [
      "[ 2 23  4]\n"
     ]
    }
   ],
   "source": [
    "a = np.array([2,23,4],dtype = np.int64) # 生成一个指定的1行3列矩阵\n",
    "print(a)"
   ]
  },
  {
   "cell_type": "code",
   "execution_count": 32,
   "metadata": {},
   "outputs": [
    {
     "name": "stdout",
     "output_type": "stream",
     "text": [
      "[[ 2 23]\n",
      " [ 2 32]]\n"
     ]
    }
   ],
   "source": [
    "b = np.array([[2,23],[2,32]]) # 生成一个指定的2行2列矩阵\n",
    "print (b)"
   ]
  },
  {
   "cell_type": "code",
   "execution_count": 41,
   "metadata": {},
   "outputs": [
    {
     "name": "stdout",
     "output_type": "stream",
     "text": [
      "[[ 0  1  2  3]\n",
      " [ 4  5  6  7]\n",
      " [ 8  9 10 11]]\n",
      "[[ 0  1  2  3]\n",
      " [ 4  5  6  7]\n",
      " [ 8  9 10 11]]\n"
     ]
    }
   ],
   "source": [
    "e = np.arange(12).reshape((3,4)) # 生成一个3行4列的矩阵，12个数值 = array(range(12))\n",
    "f = np.array(range(12)).reshape(3,4) #两种写法等价\n",
    "print (e)\n",
    "print (f)"
   ]
  },
  {
   "cell_type": "code",
   "execution_count": 42,
   "metadata": {},
   "outputs": [
    {
     "name": "stdout",
     "output_type": "stream",
     "text": [
      "[[  0   1   4   9]\n",
      " [ 16  25  36  49]\n",
      " [ 64  81 100 121]]\n"
     ]
    }
   ],
   "source": [
    "f = e**2   # 矩阵中的每个值求平方\n",
    "print (f)"
   ]
  },
  {
   "cell_type": "code",
   "execution_count": 43,
   "metadata": {},
   "outputs": [
    {
     "name": "stdout",
     "output_type": "stream",
     "text": [
      "[[ 0.          8.41470985 -7.56802495  4.12118485]\n",
      " [-2.87903317 -1.3235175  -9.91778853 -9.53752653]\n",
      " [ 9.20026038 -6.29887994 -5.06365641  9.98815225]]\n"
     ]
    }
   ],
   "source": [
    "g = 10*np.sin(f)  # 正弦函数，乘法\n",
    "print (g)"
   ]
  },
  {
   "cell_type": "code",
   "execution_count": 44,
   "metadata": {},
   "outputs": [
    {
     "name": "stdout",
     "output_type": "stream",
     "text": [
      "[[ True  True  True  True]\n",
      " [ True  True  True  True]\n",
      " [ True  True False False]]\n"
     ]
    }
   ],
   "source": [
    "print (f<100) #判断，布尔类型"
   ]
  },
  {
   "cell_type": "code",
   "execution_count": 47,
   "metadata": {},
   "outputs": [
    {
     "name": "stdout",
     "output_type": "stream",
     "text": [
      "[[  50  782]\n",
      " [  68 1070]]\n"
     ]
    }
   ],
   "source": [
    "# 矩阵乘法\n",
    "h = np.dot(b,b)\n",
    "print (h)"
   ]
  },
  {
   "cell_type": "code",
   "execution_count": 49,
   "metadata": {},
   "outputs": [
    {
     "data": {
      "text/plain": [
       "array([[0.35132693, 0.82157914, 0.39887   , 0.671085  ],\n",
       "       [0.6521914 , 0.75335833, 0.78101865, 0.10407246]])"
      ]
     },
     "execution_count": 49,
     "metadata": {},
     "output_type": "execute_result"
    }
   ],
   "source": [
    "# 返回一个0~1之间得随机数，形状为2行*4列的矩阵\n",
    "i = np.random.random((2,4))\n",
    "i"
   ]
  },
  {
   "cell_type": "code",
   "execution_count": 15,
   "metadata": {},
   "outputs": [
    {
     "name": "stdout",
     "output_type": "stream",
     "text": [
      "[[3. 0. 3. 5.]\n",
      " [2. 3. 3. 5.]\n",
      " [6. 5. 1. 6.]]\n",
      "[3. 0. 3. 5. 2. 3. 3. 5. 6. 5. 1. 6.]\n",
      "[[3. 0. 3. 5. 2. 3.]\n",
      " [3. 5. 6. 5. 1. 6.]]\n"
     ]
    }
   ],
   "source": [
    "i = np.floor(10*np.random.random((3,4))) # floor 向下取整\n",
    "print(i)\n",
    "print(i.ravel()) # 将矩阵拉平，成为一个向量\n",
    "i.shape = (2,6) # 指定将向量的形状\n",
    "print(i)"
   ]
  },
  {
   "cell_type": "code",
   "execution_count": 33,
   "metadata": {},
   "outputs": [
    {
     "data": {
      "text/plain": [
       "0.1025217213337806"
      ]
     },
     "execution_count": 33,
     "metadata": {},
     "output_type": "execute_result"
    }
   ],
   "source": [
    "# 返回一个样本，具有标准正态分布。\n",
    "i = np.random.randn()\n",
    "i"
   ]
  },
  {
   "cell_type": "code",
   "execution_count": 34,
   "metadata": {},
   "outputs": [
    {
     "name": "stdout",
     "output_type": "stream",
     "text": [
      "[[11  9 11 12]\n",
      " [10  9 11 10]]\n"
     ]
    }
   ],
   "source": [
    "# 返回随机的整数，位于半开区间 [low, high)。\n",
    "i = np.random.randint(9,15,size=(2,4))\n",
    "print (i)"
   ]
  },
  {
   "cell_type": "code",
   "execution_count": 36,
   "metadata": {},
   "outputs": [
    {
     "name": "stdout",
     "output_type": "stream",
     "text": [
      "[43 40]\n",
      "[43 40]\n",
      "[21 18 22 22]\n"
     ]
    }
   ],
   "source": [
    "# 两种求和方法效果一样\n",
    "print(np.sum(i,axis = 1)) #对每一行求和\n",
    "print(i.sum(axis = 1)) # axis = 1 为横向的意思\n",
    "print(i.sum(axis = 0)) # axis = 0 为纵向的意思"
   ]
  },
  {
   "cell_type": "code",
   "execution_count": 62,
   "metadata": {},
   "outputs": [
    {
     "name": "stdout",
     "output_type": "stream",
     "text": [
      "[14 14 12 14]\n",
      "[13 12 11 11]\n"
     ]
    }
   ],
   "source": [
    "# 列：axis = 0 行：axis = 1\n",
    "print (np.max(i,axis = 0)) #对每一列找最大值\n",
    "print (np.min(i,axis = 0)) #对每一列找最大值"
   ]
  },
  {
   "cell_type": "code",
   "execution_count": 17,
   "metadata": {},
   "outputs": [
    {
     "name": "stdout",
     "output_type": "stream",
     "text": [
      "[[ 2  3  4  5]\n",
      " [ 6  7  8  9]\n",
      " [10 11 12 13]]\n",
      "0\n"
     ]
    }
   ],
   "source": [
    "A = np.arange(2,14).reshape((3,4)) #将2，14的一维数组转为3行4列的二维数组\n",
    "print(A)\n",
    "print (np.argmin(A)) #最小值索引"
   ]
  },
  {
   "cell_type": "code",
   "execution_count": 67,
   "metadata": {},
   "outputs": [
    {
     "name": "stdout",
     "output_type": "stream",
     "text": [
      "11\n"
     ]
    }
   ],
   "source": [
    "print (np.argmax(A)) #最大值索引"
   ]
  },
  {
   "cell_type": "code",
   "execution_count": 68,
   "metadata": {},
   "outputs": [
    {
     "name": "stdout",
     "output_type": "stream",
     "text": [
      "7.5\n"
     ]
    }
   ],
   "source": [
    "print (np.mean(A)) #平均值"
   ]
  },
  {
   "cell_type": "code",
   "execution_count": 69,
   "metadata": {},
   "outputs": [
    {
     "name": "stdout",
     "output_type": "stream",
     "text": [
      "7.5\n"
     ]
    }
   ],
   "source": [
    "print (np.median(A)) #中位数"
   ]
  },
  {
   "cell_type": "code",
   "execution_count": 70,
   "metadata": {},
   "outputs": [
    {
     "name": "stdout",
     "output_type": "stream",
     "text": [
      "[ 2  5  9 14 20 27 35 44 54 65 77 90]\n"
     ]
    }
   ],
   "source": [
    "print (np.cumsum(A)) #逐步累加"
   ]
  },
  {
   "cell_type": "code",
   "execution_count": 71,
   "metadata": {},
   "outputs": [
    {
     "name": "stdout",
     "output_type": "stream",
     "text": [
      "[[1 1 1]\n",
      " [1 1 1]\n",
      " [1 1 1]]\n"
     ]
    }
   ],
   "source": [
    "print (np.diff(A)) #累差"
   ]
  },
  {
   "cell_type": "code",
   "execution_count": 72,
   "metadata": {},
   "outputs": [
    {
     "name": "stdout",
     "output_type": "stream",
     "text": [
      "(array([0, 0, 0, 0, 1, 1, 1, 1, 2, 2, 2, 2], dtype=int64), array([0, 1, 2, 3, 0, 1, 2, 3, 0, 1, 2, 3], dtype=int64))\n"
     ]
    }
   ],
   "source": [
    "print (np.nonzero(A)) #非0值的位置\n",
    "'''\n",
    "简单来说就是参数是数组或者矩阵，返回值为该数组或者矩阵中非零元素的下标值构成的元组。该元组有两维，第一维是非零元素所在的行，第二维是非零元素所在的列。\n",
    "如果\n",
    "\n",
    "a=mat([ [1,0,0],         \n",
    "       [1,0,0],\n",
    "        [0,0,0]])                      \n",
    "则 nonzero(a) 返回值为 (array([0, 1]), array([0, 0])) , 因为矩阵a只有两个非零值， 在第0行、第0列，和第1行、第0列。所以结果元组中，第一个行维度数据为（0,1） 元组第二个列维度都为（0,0）。\n",
    "'''"
   ]
  },
  {
   "cell_type": "code",
   "execution_count": 73,
   "metadata": {},
   "outputs": [
    {
     "name": "stdout",
     "output_type": "stream",
     "text": [
      "[[ 2  3  4  5]\n",
      " [ 6  7  8  9]\n",
      " [10 11 12 13]]\n"
     ]
    }
   ],
   "source": [
    "print (np.sort(A)) #矩阵排序"
   ]
  },
  {
   "cell_type": "code",
   "execution_count": 74,
   "metadata": {},
   "outputs": [
    {
     "name": "stdout",
     "output_type": "stream",
     "text": [
      "[[ 2  6 10]\n",
      " [ 3  7 11]\n",
      " [ 4  8 12]\n",
      " [ 5  9 13]]\n"
     ]
    }
   ],
   "source": [
    "print (np.transpose(A)) #矩阵的转置"
   ]
  },
  {
   "cell_type": "code",
   "execution_count": 75,
   "metadata": {},
   "outputs": [
    {
     "name": "stdout",
     "output_type": "stream",
     "text": [
      "[[ 2  6 10]\n",
      " [ 3  7 11]\n",
      " [ 4  8 12]\n",
      " [ 5  9 13]]\n"
     ]
    }
   ],
   "source": [
    "print (A.T) #同上"
   ]
  },
  {
   "cell_type": "code",
   "execution_count": 76,
   "metadata": {},
   "outputs": [
    {
     "name": "stdout",
     "output_type": "stream",
     "text": [
      "[[140 158 176 194]\n",
      " [158 179 200 221]\n",
      " [176 200 224 248]\n",
      " [194 221 248 275]]\n"
     ]
    }
   ],
   "source": [
    "print ((A.T).dot(A)) #A的转置与A的矩阵乘法"
   ]
  },
  {
   "cell_type": "code",
   "execution_count": 77,
   "metadata": {},
   "outputs": [
    {
     "name": "stdout",
     "output_type": "stream",
     "text": [
      "[[5 5 5 5]\n",
      " [6 7 8 9]\n",
      " [9 9 9 9]]\n"
     ]
    }
   ],
   "source": [
    "print (np.clip(A,5,9)) #保留A中大于5小于9的数，小于5的值转为5，大于9的值转为9"
   ]
  },
  {
   "cell_type": "code",
   "execution_count": 78,
   "metadata": {},
   "outputs": [
    {
     "name": "stdout",
     "output_type": "stream",
     "text": [
      "[ 3.5  7.5 11.5]\n"
     ]
    }
   ],
   "source": [
    "print (np.mean(A,axis=1)) #对每一行求平均值"
   ]
  },
  {
   "cell_type": "code",
   "execution_count": 31,
   "metadata": {},
   "outputs": [
    {
     "name": "stdout",
     "output_type": "stream",
     "text": [
      "[ 1  2  3  4  5  6  7  8  9 10 11 12 13 14 15 16 17 18 19 20]\n",
      "[[ 1  2  3  4  5]\n",
      " [ 6  7  8  9 10]\n",
      " [11 12 13 14 15]\n",
      " [16 17 18 19 20]]\n",
      "[[ 1  2  3  4  5  6  7  8  9 10]\n",
      " [11 12 13 14 15 16 17 18 19 20]]\n",
      "--------------------------------------------------\n",
      "[[ 1  2  3  4  5]\n",
      " [ 6  7  8  9 10]\n",
      " [11 12 13 14 15]\n",
      " [16 17 18 19 20]]\n",
      "[[ 1  2  3  4  5  6  7  8  9 10]\n",
      " [11 12 13 14 15 16 17 18 19 20]]\n",
      "--------------------------------------------------\n",
      "[ 1  2  3  4  5  6  7  8  9 10 11 12 13 14 15 16 17 18 19 20 21 22 23 24]\n"
     ]
    }
   ],
   "source": [
    "# 重新设置维度：reshape和resize\n",
    "arr_1 = np.arange(1,21) #生成1到20的一维数组\n",
    "print(arr_1)\n",
    "print(arr_1.reshape(4,5)) # 转成4*5的二维数组，这里行和列的乘积必须等于一维数组的元素个数\n",
    "print(arr_1.reshape(2,10)) # 转成2*10的二维数组。\n",
    "print(\"-\"*50)\n",
    "arr_1.resize(4,5)\n",
    "print(arr_1)\n",
    "arr_1.resize(2,10)\n",
    "print(arr_1)\n",
    "\n",
    "print(\"-\"*50)\n",
    "\n",
    "\n",
    "# 降维：多维降为一维ravel和flatten\n",
    "arr_2 = np.arange(1,25) #生成1到20的一维数组\n",
    "arr_2 = arr_2.reshape(4,6) # 一维转多维\n",
    "#print(arr_2.ravel()) # 多维转一维\n",
    "print(arr_2.flatten()) # 多维转一维"
   ]
  },
  {
   "cell_type": "code",
   "execution_count": 79,
   "metadata": {},
   "outputs": [
    {
     "name": "stdout",
     "output_type": "stream",
     "text": [
      "[[ 3  4  5  6]\n",
      " [ 7  8  9 10]\n",
      " [11 12 13 14]]\n"
     ]
    }
   ],
   "source": [
    "# 索引\n",
    "B = np.arange(3,15).reshape(3,4)\n",
    "print (B)"
   ]
  },
  {
   "cell_type": "code",
   "execution_count": 80,
   "metadata": {},
   "outputs": [
    {
     "name": "stdout",
     "output_type": "stream",
     "text": [
      "8\n",
      "12\n"
     ]
    }
   ],
   "source": [
    "print (B[1][1])\n",
    "print (B[2,1])"
   ]
  },
  {
   "cell_type": "code",
   "execution_count": 81,
   "metadata": {},
   "outputs": [
    {
     "name": "stdout",
     "output_type": "stream",
     "text": [
      "[ 4  8 12]\n",
      "[ 9 10]\n"
     ]
    }
   ],
   "source": [
    "print (B[:,1]) #第1列的所有数\n",
    "print (B[1,2:4]) #第一行第2位到第3位的数"
   ]
  },
  {
   "cell_type": "code",
   "execution_count": 82,
   "metadata": {},
   "outputs": [
    {
     "name": "stdout",
     "output_type": "stream",
     "text": [
      "[3 4 5 6]\n",
      "[ 7  8  9 10]\n",
      "[11 12 13 14]\n"
     ]
    }
   ],
   "source": [
    "# 通过循环来打印每一行\n",
    "for row in B:\n",
    "    print (row)"
   ]
  },
  {
   "cell_type": "code",
   "execution_count": 83,
   "metadata": {},
   "outputs": [
    {
     "name": "stdout",
     "output_type": "stream",
     "text": [
      "[ 3  7 11]\n",
      "[ 4  8 12]\n",
      "[ 5  9 13]\n",
      "[ 6 10 14]\n"
     ]
    }
   ],
   "source": [
    "# 通过循环来打印（转置）列\n",
    "for column in B.T:\n",
    "    print (column)"
   ]
  },
  {
   "cell_type": "code",
   "execution_count": 91,
   "metadata": {},
   "outputs": [
    {
     "name": "stdout",
     "output_type": "stream",
     "text": [
      "3\n",
      "4\n",
      "5\n",
      "6\n",
      "7\n",
      "8\n",
      "9\n",
      "10\n",
      "11\n",
      "12\n",
      "13\n",
      "14\n"
     ]
    }
   ],
   "source": [
    "# 打印每一个项目\n",
    "for item in B.flat:\n",
    "    print (item)"
   ]
  },
  {
   "cell_type": "code",
   "execution_count": 92,
   "metadata": {},
   "outputs": [
    {
     "name": "stdout",
     "output_type": "stream",
     "text": [
      "[ 3  4  5  6  7  8  9 10 11 12 13 14]\n"
     ]
    }
   ],
   "source": [
    "# 将矩阵转为一行\n",
    "print (B.flatten())"
   ]
  },
  {
   "cell_type": "code",
   "execution_count": 95,
   "metadata": {},
   "outputs": [
    {
     "name": "stdout",
     "output_type": "stream",
     "text": [
      "[[1 1 1]\n",
      " [2 2 2]]\n",
      "(2, 3) (3,)\n"
     ]
    }
   ],
   "source": [
    "# 矩阵的合并\n",
    "C = np.array([1,1,1])\n",
    "D = np.array([2,2,2])\n",
    "E = np.vstack((C,D)) #上下合并\n",
    "print (E)\n",
    "print (E.shape,C.shape) #打印E和C的形状"
   ]
  },
  {
   "cell_type": "code",
   "execution_count": 96,
   "metadata": {},
   "outputs": [
    {
     "name": "stdout",
     "output_type": "stream",
     "text": [
      "[1 1 1 2 2 2]\n",
      "(6,) (3,)\n"
     ]
    }
   ],
   "source": [
    "F = np.hstack((C,D)) #左右合并\n",
    "print (F)\n",
    "print (F.shape,C.shape)"
   ]
  },
  {
   "cell_type": "code",
   "execution_count": 98,
   "metadata": {},
   "outputs": [
    {
     "name": "stdout",
     "output_type": "stream",
     "text": [
      "[[1 1 1]]\n",
      "(1, 3)\n"
     ]
    }
   ],
   "source": [
    "G = C[np.newaxis,:] #在行上增加一个维度\n",
    "print (G)\n",
    "print (G.shape)"
   ]
  },
  {
   "cell_type": "code",
   "execution_count": 99,
   "metadata": {},
   "outputs": [
    {
     "name": "stdout",
     "output_type": "stream",
     "text": [
      "[[1]\n",
      " [1]\n",
      " [1]]\n",
      "(3, 1)\n"
     ]
    }
   ],
   "source": [
    "H = C [:,np.newaxis] #在列上增加一个维度\n",
    "print (H)\n",
    "print (H.shape)"
   ]
  },
  {
   "cell_type": "code",
   "execution_count": 100,
   "metadata": {},
   "outputs": [
    {
     "name": "stdout",
     "output_type": "stream",
     "text": [
      "[[1 2]\n",
      " [1 2]\n",
      " [1 2]]\n",
      "(3, 2)\n"
     ]
    }
   ],
   "source": [
    "I = np.hstack((C[:,np.newaxis],D[:,np.newaxis])) #左右合并\n",
    "print (I)\n",
    "print (I.shape)"
   ]
  },
  {
   "cell_type": "code",
   "execution_count": 101,
   "metadata": {},
   "outputs": [
    {
     "name": "stdout",
     "output_type": "stream",
     "text": [
      "[[1]\n",
      " [1]\n",
      " [1]\n",
      " [2]\n",
      " [2]\n",
      " [2]\n",
      " [2]\n",
      " [2]\n",
      " [2]\n",
      " [1]\n",
      " [1]\n",
      " [1]]\n",
      "(12, 1)\n"
     ]
    }
   ],
   "source": [
    "# 多个array进行合并\n",
    "J = np.concatenate((C[:,np.newaxis],D[:,np.newaxis],D[:,np.newaxis],C[:,np.newaxis]),axis=0) #纵向合并\n",
    "print (J)\n",
    "print (J.shape)"
   ]
  },
  {
   "cell_type": "code",
   "execution_count": 102,
   "metadata": {},
   "outputs": [
    {
     "name": "stdout",
     "output_type": "stream",
     "text": [
      "[[1 2 2 1]\n",
      " [1 2 2 1]\n",
      " [1 2 2 1]]\n",
      "(3, 4)\n"
     ]
    }
   ],
   "source": [
    "K = np.concatenate((C[:,np.newaxis],D[:,np.newaxis],D[:,np.newaxis],C[:,np.newaxis]),axis=1) #横向合并\n",
    "print (K)\n",
    "print (K.shape)"
   ]
  },
  {
   "cell_type": "code",
   "execution_count": 103,
   "metadata": {},
   "outputs": [
    {
     "name": "stdout",
     "output_type": "stream",
     "text": [
      "[[ 0  1  2  3]\n",
      " [ 4  5  6  7]\n",
      " [ 8  9 10 11]]\n",
      "[array([[0, 1],\n",
      "       [4, 5],\n",
      "       [8, 9]]), array([[ 2,  3],\n",
      "       [ 6,  7],\n",
      "       [10, 11]])]\n",
      "[array([[0, 1, 2, 3]]), array([[4, 5, 6, 7]]), array([[ 8,  9, 10, 11]])]\n",
      "[array([[0, 1],\n",
      "       [4, 5],\n",
      "       [8, 9]]), array([[ 2],\n",
      "       [ 6],\n",
      "       [10]]), array([[ 3],\n",
      "       [ 7],\n",
      "       [11]])]\n"
     ]
    }
   ],
   "source": [
    "A = np.arange(12).reshape((3,4))\n",
    "print (A)"
   ]
  },
  {
   "cell_type": "code",
   "execution_count": 104,
   "metadata": {},
   "outputs": [
    {
     "name": "stdout",
     "output_type": "stream",
     "text": [
      "[array([[0, 1],\n",
      "       [4, 5],\n",
      "       [8, 9]]), array([[ 2,  3],\n",
      "       [ 6,  7],\n",
      "       [10, 11]])]\n"
     ]
    }
   ],
   "source": [
    "print (np.split(A,2,axis=1)) #纵向均等分割"
   ]
  },
  {
   "cell_type": "code",
   "execution_count": 105,
   "metadata": {},
   "outputs": [
    {
     "name": "stdout",
     "output_type": "stream",
     "text": [
      "[array([[0, 1, 2, 3]]), array([[4, 5, 6, 7]]), array([[ 8,  9, 10, 11]])]\n"
     ]
    }
   ],
   "source": [
    "print (np.split(A,3,axis=0)) #横向均等分割"
   ]
  },
  {
   "cell_type": "code",
   "execution_count": 106,
   "metadata": {},
   "outputs": [
    {
     "name": "stdout",
     "output_type": "stream",
     "text": [
      "[array([[0, 1],\n",
      "       [4, 5],\n",
      "       [8, 9]]), array([[ 2],\n",
      "       [ 6],\n",
      "       [10]]), array([[ 3],\n",
      "       [ 7],\n",
      "       [11]])]\n"
     ]
    }
   ],
   "source": [
    "print (np.array_split(A,3,axis=1)) #纵向不等分割"
   ]
  },
  {
   "cell_type": "code",
   "execution_count": 107,
   "metadata": {},
   "outputs": [
    {
     "name": "stdout",
     "output_type": "stream",
     "text": [
      "[0 1 2 3]\n",
      "[11  1  2  3]\n",
      "[11  1  2  3]\n"
     ]
    }
   ],
   "source": [
    "# 关联赋值，a值改变，全部改变\n",
    "a = np.arange(4)\n",
    "print (a)\n",
    "b=a\n",
    "c=a\n",
    "d=b\n",
    "a[0] = 11\n",
    "print (b)\n",
    "print (d)"
   ]
  },
  {
   "cell_type": "code",
   "execution_count": 108,
   "metadata": {},
   "outputs": [
    {
     "name": "stdout",
     "output_type": "stream",
     "text": [
      "[11  1  2 33]\n",
      "[11  1  2  3]\n"
     ]
    }
   ],
   "source": [
    "# 非关联赋值\n",
    "e = a.copy()\n",
    "a[3] = 33\n",
    "print (a)\n",
    "print (e)"
   ]
  },
  {
   "cell_type": "code",
   "execution_count": 7,
   "metadata": {},
   "outputs": [
    {
     "name": "stdout",
     "output_type": "stream",
     "text": [
      "[False False False False]\n",
      "[ True  True False False]\n"
     ]
    }
   ],
   "source": [
    "vector = np.array([5,10,15,20])\n",
    "equal_to_ten_and_five = (vector == 10) & (vector == 5)  # 判断某个值是否等于5和10\n",
    "equal_to_ten_or_five = (vector == 10) | (vector == 5)  # 判断某个值是否等于5或10\n",
    "print(equal_to_ten_and_five)\n",
    "print(equal_to_ten_or_five)"
   ]
  },
  {
   "cell_type": "code",
   "execution_count": 8,
   "metadata": {},
   "outputs": [
    {
     "name": "stdout",
     "output_type": "stream",
     "text": [
      "[1. 2. 3.]\n"
     ]
    }
   ],
   "source": [
    "vector = np.array([\"1\",\"2\",\"3\"])\n",
    "vector = vector.astype(float)  # astype 函数转换类型\n",
    "print(vector)"
   ]
  },
  {
   "cell_type": "code",
   "execution_count": 22,
   "metadata": {},
   "outputs": [
    {
     "data": {
      "text/plain": [
       "6"
      ]
     },
     "metadata": {},
     "output_type": "display_data"
    },
    {
     "data": {
      "text/plain": [
       "array([51., 33., 32., 31., 32., 26., 28., 25., 27., 28., 27., 29., 21.])"
      ]
     },
     "metadata": {},
     "output_type": "display_data"
    },
    {
     "data": {
      "text/plain": [
       "array([229., 205., 222., 213., 221., 193., 200., 167., 181., 195., 157.,\n",
       "       163., 144.])"
      ]
     },
     "metadata": {},
     "output_type": "display_data"
    },
    {
     "data": {
      "text/plain": [
       "30.0"
      ]
     },
     "metadata": {},
     "output_type": "display_data"
    },
    {
     "data": {
      "text/plain": [
       "30.663855421686748"
      ]
     },
     "metadata": {},
     "output_type": "display_data"
    },
    {
     "data": {
      "text/plain": [
       "array([ 0,  1,  2,  3,  4,  5,  6,  7,  8,  9, 10, 11, 12])"
      ]
     },
     "metadata": {},
     "output_type": "display_data"
    },
    {
     "data": {
      "text/plain": [
       "26.923076923076923"
      ]
     },
     "metadata": {},
     "output_type": "display_data"
    },
    {
     "data": {
      "text/plain": [
       "28.0"
      ]
     },
     "metadata": {},
     "output_type": "display_data"
    },
    {
     "data": {
      "text/plain": [
       "46.76923076923077"
      ]
     },
     "metadata": {},
     "output_type": "display_data"
    },
    {
     "data": {
      "text/plain": [
       "6.838803314120883"
      ]
     },
     "metadata": {},
     "output_type": "display_data"
    },
    {
     "data": {
      "text/plain": [
       "array([-18.,  -1.,  -1.,   1.,  -6.,   2.,  -3.,   2.,   1.,  -1.,   2.,\n",
       "        -8.])"
      ]
     },
     "metadata": {},
     "output_type": "display_data"
    },
    {
     "data": {
      "text/plain": [
       "array([51., 33., 32., 31., 32., 26., 28., 25., 27., 28., 27., 29., 21.])"
      ]
     },
     "metadata": {},
     "output_type": "display_data"
    },
    {
     "data": {
      "text/plain": [
       "array([-0.35294118, -0.03030303, -0.03125   ,  0.03225806, -0.1875    ,\n",
       "        0.07692308, -0.10714286,  0.08      ,  0.03703704, -0.03571429,\n",
       "        0.07407407, -0.27586207])"
      ]
     },
     "metadata": {},
     "output_type": "display_data"
    },
    {
     "data": {
      "text/plain": [
       "(array([ 3,  5,  7,  8, 10], dtype=int64),)"
      ]
     },
     "execution_count": 22,
     "metadata": {},
     "output_type": "execute_result"
    }
   ],
   "source": [
    "aa = np.array([[1,2,3],[4,5,6]])\n",
    "display(aa.size) # 在jupyter中可以用display打印\n",
    "\n",
    "\n",
    "\n",
    "c,v = np.loadtxt('HomeWork1.csv',delimiter=',',usecols=(2,3),unpack=True,encoding='utf-8')\n",
    "display(c)\n",
    "display(v)\n",
    "\n",
    "d = np.mean(c) # 普通平均值\n",
    "display(d)\n",
    "\n",
    "ave = np.average(c,weights=v) # 以v为权重计算平均\n",
    "display(ave)\n",
    "\n",
    "t = np.arange(len(c))\n",
    "display(t)\n",
    "ave = np.average(c,weights=t) # 以靠近的日期为高权重计算平均\n",
    "display(ave)\n",
    "\n",
    "median = np.median(c) # 中位数\n",
    "display(median)\n",
    "\n",
    "var = np.var(c) # 方差\n",
    "display(var)\n",
    "\n",
    "std = np.std(c) # 标准差\n",
    "display(std)\n",
    "\n",
    "diff = np.diff(c) # 关联性\n",
    "display(diff) #后一个值减前一个值\n",
    "display(c)\n",
    "\n",
    "# 可以用来计算每日股票收益率\n",
    "rate = diff/c[:-1] # 从第0个开始切片，到倒数第1个值切片\n",
    "display(rate)\n",
    "\n",
    "# 看看拿些天是大于0的\n",
    "np.where(rate>0)"
   ]
  },
  {
   "cell_type": "code",
   "execution_count": 36,
   "metadata": {},
   "outputs": [
    {
     "data": {
      "text/plain": [
       "array([[  nan,  229.,   51.,  229.,   51.,  229.,   51.,    0.],\n",
       "       [  84.,  434.,   33.,  205.,   40.,  204.,   91.,    8.],\n",
       "       [ 116.,  656.,   32.,  222.,   41.,  221.,  133.,   17.],\n",
       "       [ 147.,  869.,   31.,  213.,   41.,  212.,  173.,   26.],\n",
       "       [ 179., 1090.,   32.,  221.,   42.,  218.,  215.,   36.],\n",
       "       [ 205., 1283.,   26.,  193.,   37.,  195.,  253.,   47.],\n",
       "       [ 233., 1484.,   28.,  200.,   39.,  201.,  291.,   58.],\n",
       "       [ 259., 1650.,   25.,  167.,   35.,  167.,  326.,   68.],\n",
       "       [ 285., 1831.,   27.,  181.,   37.,  185.,  364.,   78.],\n",
       "       [ 313., 2026.,   28.,  195.,   38.,  190.,  402.,   89.],\n",
       "       [ 340., 2183.,   27.,  157.,   36.,  165.,  438.,   98.],\n",
       "       [ 369., 2345.,   29.,  163.,   38.,  165.,  476.,  107.],\n",
       "       [ 390., 2490.,   21.,  144.,   30.,  141.,  506.,  116.]])"
      ]
     },
     "execution_count": 36,
     "metadata": {},
     "output_type": "execute_result"
    }
   ],
   "source": [
    "data = np.genfromtxt('HomeWork1.csv',delimiter=',') # 读取文件\n",
    "data"
   ]
  },
  {
   "cell_type": "code",
   "execution_count": 32,
   "metadata": {},
   "outputs": [
    {
     "name": "stdout",
     "output_type": "stream",
     "text": [
      "[51. 33. 32. 31. 32. 26. 28. 25. 27. 28. 27. 29. 21.] [229. 205. 222. 213. 221. 193. 200. 167. 181. 195. 157. 163. 144.]\n"
     ]
    }
   ],
   "source": [
    "c,v = np.loadtxt('HomeWork1.csv',delimiter=',',usecols=(2,3),unpack=True,encoding='utf-8') # 读取文件中的某xx列\n",
    "print(c,v)"
   ]
  },
  {
   "cell_type": "code",
   "execution_count": null,
   "metadata": {},
   "outputs": [],
   "source": []
  }
 ],
 "metadata": {
  "kernelspec": {
   "display_name": "Python 3",
   "language": "python",
   "name": "python3"
  },
  "language_info": {
   "codemirror_mode": {
    "name": "ipython",
    "version": 3
   },
   "file_extension": ".py",
   "mimetype": "text/x-python",
   "name": "python",
   "nbconvert_exporter": "python",
   "pygments_lexer": "ipython3",
   "version": "3.7.4"
  }
 },
 "nbformat": 4,
 "nbformat_minor": 4
}
