{
 "cells": [
  {
   "cell_type": "code",
   "execution_count": 2,
   "metadata": {},
   "outputs": [],
   "source": [
    "import numpy as np\n",
    "import pandas as pd"
   ]
  },
  {
   "cell_type": "code",
   "execution_count": 2,
   "metadata": {},
   "outputs": [
    {
     "name": "stdout",
     "output_type": "stream",
     "text": [
      "0    1.0\n",
      "1    3.0\n",
      "2    5.0\n",
      "3    NaN\n",
      "4    4.0\n",
      "5    1.0\n",
      "dtype: float64\n"
     ]
    }
   ],
   "source": [
    "s = pd.Series([1,3,5,np.nan,4,1])\n",
    "print (s)"
   ]
  },
  {
   "cell_type": "code",
   "execution_count": 3,
   "metadata": {},
   "outputs": [
    {
     "name": "stdout",
     "output_type": "stream",
     "text": [
      "Index(['时间长度', 'UV_Total(M)', 'PV_Total(M)', 'UV_🔺(M)', 'PV_🔺(M)',\n",
      "       'UV_by_month(M)', 'PV_by_month(M)', 'Unnamed: 7', 'Unnamed: 8'],\n",
      "      dtype='object')\n",
      "(36, 9)\n"
     ]
    }
   ],
   "source": [
    "food_info = pd.read_csv(\"HomeWork.csv\")\n",
    "# print(food_info)\n",
    "# print(help(pd.read_csv))\n",
    "print(food_info.columns)\n",
    "print(food_info.shape)"
   ]
  },
  {
   "cell_type": "code",
   "execution_count": 4,
   "metadata": {},
   "outputs": [
    {
     "data": {
      "text/html": [
       "<div>\n",
       "<style scoped>\n",
       "    .dataframe tbody tr th:only-of-type {\n",
       "        vertical-align: middle;\n",
       "    }\n",
       "\n",
       "    .dataframe tbody tr th {\n",
       "        vertical-align: top;\n",
       "    }\n",
       "\n",
       "    .dataframe thead th {\n",
       "        text-align: right;\n",
       "    }\n",
       "</style>\n",
       "<table border=\"1\" class=\"dataframe\">\n",
       "  <thead>\n",
       "    <tr style=\"text-align: right;\">\n",
       "      <th></th>\n",
       "      <th>时间长度</th>\n",
       "      <th>UV_Total(M)</th>\n",
       "      <th>PV_Total(M)</th>\n",
       "      <th>UV_🔺(M)</th>\n",
       "      <th>PV_🔺(M)</th>\n",
       "      <th>UV_by_month(M)</th>\n",
       "      <th>PV_by_month(M)</th>\n",
       "      <th>Unnamed: 7</th>\n",
       "      <th>Unnamed: 8</th>\n",
       "    </tr>\n",
       "  </thead>\n",
       "  <tbody>\n",
       "    <tr>\n",
       "      <th>0</th>\n",
       "      <td>前1个月</td>\n",
       "      <td>51.0</td>\n",
       "      <td>229.0</td>\n",
       "      <td>51.0</td>\n",
       "      <td>229.0</td>\n",
       "      <td>51.0</td>\n",
       "      <td>229.0</td>\n",
       "      <td>51.0</td>\n",
       "      <td>0.0</td>\n",
       "    </tr>\n",
       "    <tr>\n",
       "      <th>1</th>\n",
       "      <td>前2个月</td>\n",
       "      <td>84.0</td>\n",
       "      <td>434.0</td>\n",
       "      <td>33.0</td>\n",
       "      <td>205.0</td>\n",
       "      <td>40.0</td>\n",
       "      <td>204.0</td>\n",
       "      <td>91.0</td>\n",
       "      <td>8.0</td>\n",
       "    </tr>\n",
       "    <tr>\n",
       "      <th>2</th>\n",
       "      <td>前3个月</td>\n",
       "      <td>116.0</td>\n",
       "      <td>656.0</td>\n",
       "      <td>32.0</td>\n",
       "      <td>222.0</td>\n",
       "      <td>41.0</td>\n",
       "      <td>221.0</td>\n",
       "      <td>133.0</td>\n",
       "      <td>17.0</td>\n",
       "    </tr>\n",
       "  </tbody>\n",
       "</table>\n",
       "</div>"
      ],
      "text/plain": [
       "   时间长度  UV_Total(M)  PV_Total(M)  UV_🔺(M)  PV_🔺(M)  UV_by_month(M)  \\\n",
       "0  前1个月         51.0        229.0     51.0    229.0            51.0   \n",
       "1  前2个月         84.0        434.0     33.0    205.0            40.0   \n",
       "2  前3个月        116.0        656.0     32.0    222.0            41.0   \n",
       "\n",
       "   PV_by_month(M)  Unnamed: 7  Unnamed: 8  \n",
       "0           229.0        51.0         0.0  \n",
       "1           204.0        91.0         8.0  \n",
       "2           221.0       133.0        17.0  "
      ]
     },
     "execution_count": 4,
     "metadata": {},
     "output_type": "execute_result"
    }
   ],
   "source": [
    "food_info.head(3) # 显示头3行"
   ]
  },
  {
   "cell_type": "code",
   "execution_count": 7,
   "metadata": {},
   "outputs": [
    {
     "data": {
      "text/plain": [
       "0      891.0\n",
       "1     1099.0\n",
       "2     1438.0\n",
       "3     1712.0\n",
       "4     2033.0\n",
       "5     2239.0\n",
       "6     2534.0\n",
       "7     2697.0\n",
       "8     2988.0\n",
       "9     3281.0\n",
       "10    3444.0\n",
       "11    3692.0\n",
       "12    3838.0\n",
       "13       0.0\n",
       "14       0.0\n",
       "15       0.0\n",
       "16       0.0\n",
       "17       0.0\n",
       "18       0.0\n",
       "19       0.0\n",
       "20       0.0\n",
       "21       0.0\n",
       "22       0.0\n",
       "23       0.0\n",
       "24       0.0\n",
       "25       0.0\n",
       "26       0.0\n",
       "27       0.0\n",
       "28       0.0\n",
       "29       0.0\n",
       "30       0.0\n",
       "31       0.0\n",
       "32       0.0\n",
       "33       0.0\n",
       "34       0.0\n",
       "35       0.0\n",
       "dtype: float64"
      ]
     },
     "metadata": {},
     "output_type": "display_data"
    },
    {
     "data": {
      "text/plain": [
       "UV_Total(M)        2971.0\n",
       "PV_Total(M)       18570.0\n",
       "UV_🔺(M)             390.0\n",
       "PV_🔺(M)            2490.0\n",
       "UV_by_month(M)      505.0\n",
       "PV_by_month(M)     2493.0\n",
       "Unnamed: 7         3719.0\n",
       "Unnamed: 8          748.0\n",
       "dtype: float64"
      ]
     },
     "metadata": {},
     "output_type": "display_data"
    }
   ],
   "source": [
    "data_test = food_info.sum(axis=1)\n",
    "display(data_test)\n",
    "data_test = food_info.sum(axis=0)\n",
    "display(data_test)"
   ]
  },
  {
   "cell_type": "code",
   "execution_count": 12,
   "metadata": {},
   "outputs": [
    {
     "data": {
      "text/plain": [
       "2971.0"
      ]
     },
     "metadata": {},
     "output_type": "display_data"
    },
    {
     "data": {
      "text/plain": [
       "13"
      ]
     },
     "metadata": {},
     "output_type": "display_data"
    }
   ],
   "source": [
    "data_test = food_info['UV_Total(M)'].sum()\n",
    "display(data_test)\n",
    "data_test = food_info['UV_Total(M)'].count()\n",
    "display(data_test)"
   ]
  },
  {
   "cell_type": "code",
   "execution_count": 5,
   "metadata": {},
   "outputs": [
    {
     "data": {
      "text/html": [
       "<div>\n",
       "<style scoped>\n",
       "    .dataframe tbody tr th:only-of-type {\n",
       "        vertical-align: middle;\n",
       "    }\n",
       "\n",
       "    .dataframe tbody tr th {\n",
       "        vertical-align: top;\n",
       "    }\n",
       "\n",
       "    .dataframe thead th {\n",
       "        text-align: right;\n",
       "    }\n",
       "</style>\n",
       "<table border=\"1\" class=\"dataframe\">\n",
       "  <thead>\n",
       "    <tr style=\"text-align: right;\">\n",
       "      <th></th>\n",
       "      <th>时间长度</th>\n",
       "      <th>UV_Total(M)</th>\n",
       "      <th>PV_Total(M)</th>\n",
       "      <th>UV_🔺(M)</th>\n",
       "      <th>PV_🔺(M)</th>\n",
       "      <th>UV_by_month(M)</th>\n",
       "      <th>PV_by_month(M)</th>\n",
       "      <th>Unnamed: 7</th>\n",
       "      <th>Unnamed: 8</th>\n",
       "    </tr>\n",
       "  </thead>\n",
       "  <tbody>\n",
       "    <tr>\n",
       "      <th>33</th>\n",
       "      <td>NaN</td>\n",
       "      <td>NaN</td>\n",
       "      <td>NaN</td>\n",
       "      <td>NaN</td>\n",
       "      <td>NaN</td>\n",
       "      <td>NaN</td>\n",
       "      <td>NaN</td>\n",
       "      <td>NaN</td>\n",
       "      <td>NaN</td>\n",
       "    </tr>\n",
       "    <tr>\n",
       "      <th>34</th>\n",
       "      <td>NaN</td>\n",
       "      <td>NaN</td>\n",
       "      <td>NaN</td>\n",
       "      <td>NaN</td>\n",
       "      <td>NaN</td>\n",
       "      <td>NaN</td>\n",
       "      <td>NaN</td>\n",
       "      <td>NaN</td>\n",
       "      <td>NaN</td>\n",
       "    </tr>\n",
       "    <tr>\n",
       "      <th>35</th>\n",
       "      <td>NaN</td>\n",
       "      <td>NaN</td>\n",
       "      <td>NaN</td>\n",
       "      <td>NaN</td>\n",
       "      <td>NaN</td>\n",
       "      <td>NaN</td>\n",
       "      <td>NaN</td>\n",
       "      <td>NaN</td>\n",
       "      <td>NaN</td>\n",
       "    </tr>\n",
       "  </tbody>\n",
       "</table>\n",
       "</div>"
      ],
      "text/plain": [
       "   时间长度  UV_Total(M)  PV_Total(M)  UV_🔺(M)  PV_🔺(M)  UV_by_month(M)  \\\n",
       "33  NaN          NaN          NaN      NaN      NaN             NaN   \n",
       "34  NaN          NaN          NaN      NaN      NaN             NaN   \n",
       "35  NaN          NaN          NaN      NaN      NaN             NaN   \n",
       "\n",
       "    PV_by_month(M)  Unnamed: 7  Unnamed: 8  \n",
       "33             NaN         NaN         NaN  \n",
       "34             NaN         NaN         NaN  \n",
       "35             NaN         NaN         NaN  "
      ]
     },
     "execution_count": 5,
     "metadata": {},
     "output_type": "execute_result"
    }
   ],
   "source": [
    "food_info.tail(3) # 显示尾3行"
   ]
  },
  {
   "cell_type": "code",
   "execution_count": 6,
   "metadata": {},
   "outputs": [
    {
     "name": "stdout",
     "output_type": "stream",
     "text": [
      "   时间长度  UV_Total(M)  PV_Total(M)  UV_🔺(M)  PV_🔺(M)  UV_by_month(M)  \\\n",
      "3  前4个月        147.0        869.0     31.0    213.0            41.0   \n",
      "4  前5个月        179.0       1090.0     32.0    221.0            42.0   \n",
      "5  前6个月        205.0       1283.0     26.0    193.0            37.0   \n",
      "6  前7个月        233.0       1484.0     28.0    200.0            39.0   \n",
      "\n",
      "   PV_by_month(M)  Unnamed: 7  Unnamed: 8  \n",
      "3           212.0       173.0        26.0  \n",
      "4           218.0       215.0        36.0  \n",
      "5           195.0       253.0        47.0  \n",
      "6           201.0       291.0        58.0  \n"
     ]
    }
   ],
   "source": [
    "print(food_info.loc[3:6]) # 拿到3-6行数据"
   ]
  },
  {
   "cell_type": "code",
   "execution_count": 7,
   "metadata": {},
   "outputs": [
    {
     "name": "stdout",
     "output_type": "stream",
     "text": [
      "0      前1个月\n",
      "1      前2个月\n",
      "2      前3个月\n",
      "3      前4个月\n",
      "4      前5个月\n",
      "5      前6个月\n",
      "6      前7个月\n",
      "7      前8个月\n",
      "8      前9个月\n",
      "9     前10个月\n",
      "10    前11个月\n",
      "11    前12个月\n",
      "12    前13个月\n",
      "13      NaN\n",
      "14      NaN\n",
      "15      NaN\n",
      "16      NaN\n",
      "17      NaN\n",
      "18      NaN\n",
      "19      NaN\n",
      "20      NaN\n",
      "21      NaN\n",
      "22      NaN\n",
      "23      NaN\n",
      "24      NaN\n",
      "25      NaN\n",
      "26      NaN\n",
      "27      NaN\n",
      "28      NaN\n",
      "29      NaN\n",
      "30      NaN\n",
      "31      NaN\n",
      "32      NaN\n",
      "33      NaN\n",
      "34      NaN\n",
      "35      NaN\n",
      "Name: 时间长度, dtype: object\n"
     ]
    }
   ],
   "source": [
    "print(food_info[\"时间长度\"]) # 拿到\"时间长度\"列数据"
   ]
  },
  {
   "cell_type": "code",
   "execution_count": 8,
   "metadata": {},
   "outputs": [
    {
     "name": "stdout",
     "output_type": "stream",
     "text": [
      "['时间长度', 'UV_Total(M)', 'PV_Total(M)', 'UV_🔺(M)', 'PV_🔺(M)', 'UV_by_month(M)', 'PV_by_month(M)', 'Unnamed: 7', 'Unnamed: 8']\n"
     ]
    }
   ],
   "source": [
    "col_names = food_info.columns.tolist() # 拿到表头，这是一个列表，可以遍历\n",
    "print(col_names)"
   ]
  },
  {
   "cell_type": "code",
   "execution_count": 14,
   "metadata": {},
   "outputs": [
    {
     "name": "stdout",
     "output_type": "stream",
     "text": [
      "0     2.290000e+08\n",
      "1     4.340000e+08\n",
      "2     6.560000e+08\n",
      "3     8.690000e+08\n",
      "4     1.090000e+09\n",
      "5     1.283000e+09\n",
      "6     1.484000e+09\n",
      "7     1.650000e+09\n",
      "8     1.831000e+09\n",
      "9     2.026000e+09\n",
      "10    2.183000e+09\n",
      "11    2.345000e+09\n",
      "12    2.490000e+09\n",
      "13             NaN\n",
      "14             NaN\n",
      "15             NaN\n",
      "16             NaN\n",
      "17             NaN\n",
      "18             NaN\n",
      "19             NaN\n",
      "20             NaN\n",
      "21             NaN\n",
      "22             NaN\n",
      "23             NaN\n",
      "24             NaN\n",
      "25             NaN\n",
      "26             NaN\n",
      "27             NaN\n",
      "28             NaN\n",
      "29             NaN\n",
      "30             NaN\n",
      "31             NaN\n",
      "32             NaN\n",
      "33             NaN\n",
      "34             NaN\n",
      "35             NaN\n",
      "Name: PV_Total(M), dtype: float64\n"
     ]
    }
   ],
   "source": [
    "PV_100000 = food_info[\"PV_Total(M)\"]*1000000  #列乘法\n",
    "print(PV_100000)"
   ]
  },
  {
   "cell_type": "code",
   "execution_count": 9,
   "metadata": {},
   "outputs": [
    {
     "name": "stdout",
     "output_type": "stream",
     "text": [
      "0     4.490196\n",
      "1     5.166667\n",
      "2     5.655172\n",
      "3     5.911565\n",
      "4     6.089385\n",
      "5     6.258537\n",
      "6     6.369099\n",
      "7     6.370656\n",
      "8     6.424561\n",
      "9     6.472843\n",
      "10    6.420588\n",
      "11    6.355014\n",
      "12    6.384615\n",
      "13         NaN\n",
      "14         NaN\n",
      "15         NaN\n",
      "16         NaN\n",
      "17         NaN\n",
      "18         NaN\n",
      "19         NaN\n",
      "20         NaN\n",
      "21         NaN\n",
      "22         NaN\n",
      "23         NaN\n",
      "24         NaN\n",
      "25         NaN\n",
      "26         NaN\n",
      "27         NaN\n",
      "28         NaN\n",
      "29         NaN\n",
      "30         NaN\n",
      "31         NaN\n",
      "32         NaN\n",
      "33         NaN\n",
      "34         NaN\n",
      "35         NaN\n",
      "dtype: float64\n"
     ]
    }
   ],
   "source": [
    "AVE = food_info[\"PV_Total(M)\"] / food_info[\"UV_Total(M)\"] # 列除以列\n",
    "print(AVE)"
   ]
  },
  {
   "cell_type": "code",
   "execution_count": 10,
   "metadata": {},
   "outputs": [
    {
     "name": "stdout",
     "output_type": "stream",
     "text": [
      "2490.0\n"
     ]
    }
   ],
   "source": [
    "MAX = food_info[\"PV_Total(M)\"].max() # 找到最大值\n",
    "print(MAX)"
   ]
  },
  {
   "cell_type": "code",
   "execution_count": 11,
   "metadata": {},
   "outputs": [
    {
     "data": {
      "text/plain": [
       "0     False\n",
       "1     False\n",
       "2     False\n",
       "3     False\n",
       "4     False\n",
       "5     False\n",
       "6     False\n",
       "7     False\n",
       "8     False\n",
       "9     False\n",
       "10    False\n",
       "11    False\n",
       "12    False\n",
       "13     True\n",
       "14     True\n",
       "15     True\n",
       "16     True\n",
       "17     True\n",
       "18     True\n",
       "19     True\n",
       "20     True\n",
       "21     True\n",
       "22     True\n",
       "23     True\n",
       "24     True\n",
       "25     True\n",
       "26     True\n",
       "27     True\n",
       "28     True\n",
       "29     True\n",
       "30     True\n",
       "31     True\n",
       "32     True\n",
       "33     True\n",
       "34     True\n",
       "35     True\n",
       "Name: PV_Total(M), dtype: bool"
      ]
     },
     "execution_count": 11,
     "metadata": {},
     "output_type": "execute_result"
    }
   ],
   "source": [
    "food_info[\"PV_Total(M)\"].isnull()  # 查看是否为空值"
   ]
  },
  {
   "cell_type": "code",
   "execution_count": 14,
   "metadata": {},
   "outputs": [
    {
     "data": {
      "text/plain": [
       "84.0"
      ]
     },
     "execution_count": 14,
     "metadata": {},
     "output_type": "execute_result"
    }
   ],
   "source": [
    "food_info.iat[1,1] # 查找单个单元格值"
   ]
  },
  {
   "cell_type": "code",
   "execution_count": 16,
   "metadata": {},
   "outputs": [
    {
     "name": "stdout",
     "output_type": "stream",
     "text": [
      "          a         b         c         d         e\n",
      "h  0.436816  0.088807  0.834588  0.162531  0.797060\n",
      "i  0.982454  0.974725  0.248338  0.257267  0.982717\n",
      "j  0.181840  0.023147  0.575065  0.353099  0.149367\n",
      "k  0.511112  0.954592  0.997001  0.705359  0.752101\n",
      "l  0.533666  0.684380  0.271450  0.276632  0.526453\n"
     ]
    }
   ],
   "source": [
    "df = pd.DataFrame(np.random.rand(5,5),columns=list(\"abcde\"),index=list(\"hijkl\"))\n",
    "print(df)"
   ]
  },
  {
   "cell_type": "markdown",
   "metadata": {},
   "source": [
    "# 星巴克数据分析"
   ]
  },
  {
   "cell_type": "code",
   "execution_count": 4,
   "metadata": {},
   "outputs": [
    {
     "name": "stdout",
     "output_type": "stream",
     "text": [
      "           Brand  Store Number        Store Name Ownership Type  \\\n",
      "0      Starbucks  47370-257954     Meritxell, 96       Licensed   \n",
      "1      Starbucks  22331-212325  Ajman Drive Thru       Licensed   \n",
      "2      Starbucks  47089-256771         Dana Mall       Licensed   \n",
      "3      Starbucks  22126-218024        Twofour 54       Licensed   \n",
      "4      Starbucks  17127-178586      Al Ain Tower       Licensed   \n",
      "...          ...           ...               ...            ...   \n",
      "25595  Starbucks  21401-212072               Rex       Licensed   \n",
      "25596  Starbucks  24010-226985          Panorama       Licensed   \n",
      "25597  Starbucks  47608-253804     Rosebank Mall       Licensed   \n",
      "25598  Starbucks  47640-253809      Menlyn Maine       Licensed   \n",
      "25599  Starbucks  47609-253286    Mall of Africa       Licensed   \n",
      "\n",
      "                                          Street Address  \\\n",
      "0                                      Av. Meritxell, 96   \n",
      "1                                   1 Street 69, Al Jarf   \n",
      "2                           Sheikh Khalifa Bin Zayed St.   \n",
      "3                                        Al Salam Street   \n",
      "4                        Khaldiya Area, Abu Dhabi Island   \n",
      "...                                                  ...   \n",
      "25595  141 Nguyễn Huệ, Quận 1, Góc đường Pasteur và L...   \n",
      "25596  SN-44, Tòa Nhà Panorama, 208 Trần Văn Trà, Quận 7   \n",
      "25597          Cnr Tyrwhitt and Cradock Avenue, Rosebank   \n",
      "25598  Shop 61B, Central Square, Cnr Aramist & Coroba...   \n",
      "25599             Shop 2077, Upper Level, Waterfall City   \n",
      "\n",
      "                        City State/Province Country Postcode  Phone Number  \\\n",
      "0           Andorra la Vella              7      AD    AD500     376818720   \n",
      "1                      Ajman             AJ      AE      NaN           NaN   \n",
      "2                      Ajman             AJ      AE      NaN           NaN   \n",
      "3                  Abu Dhabi             AZ      AE      NaN           NaN   \n",
      "4                  Abu Dhabi             AZ      AE      NaN           NaN   \n",
      "...                      ...            ...     ...      ...           ...   \n",
      "25595  Thành Phố Hồ Chí Minh             SG      VN    70000  08 3824 4668   \n",
      "25596  Thành Phố Hồ Chí Minh             SG      VN    70000  08 5413 8292   \n",
      "25597           Johannesburg             GT      ZA     2194   27873500159   \n",
      "25598                 Menlyn             GT      ZA      181           NaN   \n",
      "25599                Midrand             GT      ZA     1682   27873500215   \n",
      "\n",
      "                             Timezone  Longitude  Latitude  \n",
      "0             GMT+1:00 Europe/Andorra       1.53     42.51  \n",
      "1                GMT+04:00 Asia/Dubai      55.47     25.42  \n",
      "2                GMT+04:00 Asia/Dubai      55.47     25.39  \n",
      "3                GMT+04:00 Asia/Dubai      54.38     24.48  \n",
      "4                GMT+04:00 Asia/Dubai      54.54     24.51  \n",
      "...                               ...        ...       ...  \n",
      "25595          GMT+000000 Asia/Saigon     106.70     10.78  \n",
      "25596          GMT+000000 Asia/Saigon     106.71     10.72  \n",
      "25597  GMT+000000 Africa/Johannesburg      28.04    -26.15  \n",
      "25598  GMT+000000 Africa/Johannesburg      28.28    -25.79  \n",
      "25599  GMT+000000 Africa/Johannesburg      28.11    -26.02  \n",
      "\n",
      "[25600 rows x 13 columns]\n"
     ]
    }
   ],
   "source": [
    "import numpy as np\n",
    "import pandas as pd\n",
    "\n",
    "df = pd.read_csv(r\"directory.csv\",encoding=\"utf-8\")  # 读取csv文件\n",
    "print(df)"
   ]
  },
  {
   "cell_type": "code",
   "execution_count": 8,
   "metadata": {},
   "outputs": [
    {
     "name": "stdout",
     "output_type": "stream",
     "text": [
      "['Starbucks' 'Teavana' 'Evolution Fresh' 'Coffee House Holdings']\n",
      "4\n"
     ]
    }
   ],
   "source": [
    "# 首先看下星巴克旗下有什么品牌\n",
    "\n",
    "data = df['Brand'].unique()  # unique函数是指唯一值，即查看唯一值\n",
    "print(data)\n",
    "data = df['Brand'].nunique()  # 查看唯一值的数量\n",
    "print(data)"
   ]
  },
  {
   "cell_type": "code",
   "execution_count": 10,
   "metadata": {},
   "outputs": [
    {
     "ename": "AttributeError",
     "evalue": "'function' object has no attribute 'sum'",
     "output_type": "error",
     "traceback": [
      "\u001b[1;31m---------------------------------------------------------------------------\u001b[0m",
      "\u001b[1;31mAttributeError\u001b[0m                            Traceback (most recent call last)",
      "\u001b[1;32m<ipython-input-10-69230d699f46>\u001b[0m in \u001b[0;36m<module>\u001b[1;34m\u001b[0m\n\u001b[1;32m----> 1\u001b[1;33m \u001b[0mdf\u001b[0m\u001b[1;33m.\u001b[0m\u001b[0misnull\u001b[0m\u001b[1;33m.\u001b[0m\u001b[0msum\u001b[0m\u001b[1;33m(\u001b[0m\u001b[1;33m)\u001b[0m\u001b[1;33m\u001b[0m\u001b[1;33m\u001b[0m\u001b[0m\n\u001b[0m",
      "\u001b[1;31mAttributeError\u001b[0m: 'function' object has no attribute 'sum'"
     ]
    }
   ],
   "source": [
    "df.isnull.sum()"
   ]
  },
  {
   "cell_type": "code",
   "execution_count": 14,
   "metadata": {},
   "outputs": [
    {
     "name": "stdout",
     "output_type": "stream",
     "text": [
      "        math  english    physics\n",
      "gender                          \n",
      "female  84.5     98.5  87.000000\n",
      "male    94.0     89.0  91.666667\n",
      "        math     english         physics    \n",
      "        mean max    mean  max       mean max\n",
      "gender                                      \n",
      "female  84.5  88    98.5  100  87.000000  99\n",
      "male    94.0  98    89.0   91  91.666667  95\n",
      "   id   name  gender  math  english  physics\n",
      "3   4   Lily  female    81      100       99\n",
      "1   2  Betty  female    88       97       75\n",
      "2   3   Jack    male    90       89       95\n",
      "4   5   Bill    male    94       91       95\n",
      "0   1  James    male    98       87       85\n",
      "   id   name  gender  math  english  physics\n",
      "0   1  James    male    98       87       85\n",
      "4   5   Bill    male    94       91       95\n",
      "2   3   Jack    male    90       89       95\n",
      "1   2  Betty  female    88       97       75\n",
      "3   4   Lily  female    81      100       99\n"
     ]
    }
   ],
   "source": [
    "import pandas as pd\n",
    "import numpy as np\n",
    "\n",
    "df = pd.DataFrame([[1, 'James', 'male', 98, 87, 85],\n",
    "                   [2, 'Betty', 'female', 88, 97, 75],\n",
    "                   [3, 'Jack', 'male', 90, 89, 95],\n",
    "                   [4, 'Lily', 'female', 81, 100, 99],\n",
    "                   [5, 'Bill', 'male', 94, 91, 95]],\n",
    "                  columns=['id', 'name', 'gender', 'math', 'english', 'physics'])\n",
    "\n",
    "df_group = df.groupby('gender')\n",
    "print(df_group[['math', 'english', 'physics']].agg('mean'))\n",
    "print(df_group[['math', 'english', 'physics']].agg(['mean', 'max']))\n",
    "print(df.sort_values(\"math\"))\n",
    "print(df.sort_values([\"math\", \"physics\"], ascending=False))\n"
   ]
  },
  {
   "cell_type": "code",
   "execution_count": null,
   "metadata": {},
   "outputs": [],
   "source": []
  }
 ],
 "metadata": {
  "kernelspec": {
   "display_name": "Python 3",
   "language": "python",
   "name": "python3"
  },
  "language_info": {
   "codemirror_mode": {
    "name": "ipython",
    "version": 3
   },
   "file_extension": ".py",
   "mimetype": "text/x-python",
   "name": "python",
   "nbconvert_exporter": "python",
   "pygments_lexer": "ipython3",
   "version": "3.7.4"
  }
 },
 "nbformat": 4,
 "nbformat_minor": 4
}
