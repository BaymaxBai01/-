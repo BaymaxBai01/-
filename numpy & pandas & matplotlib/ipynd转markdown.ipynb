{
 "cells": [
  {
   "cell_type": "markdown",
   "metadata": {},
   "source": [
    "# 通过cmd命令行工具将ipynd文件转为markdown文件\n",
    "\n",
    "# 修改地址即可，语法格式是html语言，只显示打印结果，不显示代码\n",
    "\n",
    "Jupyter nbconvert “C:\\Users\\v-liba\\Downloads\\Marketing_Bank.ipynb” -–to markdown -–output “analysis_output_2.md” -–TemplateExporter.exclude_input=True"
   ]
  }
 ],
 "metadata": {
  "kernelspec": {
   "display_name": "Python 3",
   "language": "python",
   "name": "python3"
  },
  "language_info": {
   "codemirror_mode": {
    "name": "ipython",
    "version": 3
   },
   "file_extension": ".py",
   "mimetype": "text/x-python",
   "name": "python",
   "nbconvert_exporter": "python",
   "pygments_lexer": "ipython3",
   "version": "3.7.3"
  }
 },
 "nbformat": 4,
 "nbformat_minor": 4
}
