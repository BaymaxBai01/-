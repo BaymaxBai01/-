{
 "cells": [
  {
   "cell_type": "markdown",
   "metadata": {},
   "source": [
    "https://github.com/RichardFu123/Python100Cases/blob/master/Python100.md"
   ]
  },
  {
   "cell_type": "code",
   "execution_count": 2,
   "metadata": {},
   "outputs": [
    {
     "name": "stdout",
     "output_type": "stream",
     "text": [
      "1 2 3\n",
      "1 2 4\n",
      "1 3 2\n",
      "1 3 4\n",
      "1 4 2\n",
      "1 4 3\n",
      "2 1 3\n",
      "2 1 4\n",
      "2 3 1\n",
      "2 3 4\n",
      "2 4 1\n",
      "2 4 3\n",
      "3 1 2\n",
      "3 1 4\n",
      "3 2 1\n",
      "3 2 4\n",
      "3 4 1\n",
      "3 4 2\n",
      "4 1 2\n",
      "4 1 3\n",
      "4 2 1\n",
      "4 2 3\n",
      "4 3 1\n",
      "4 3 2\n",
      "24\n",
      "(1, 2, 3)\n",
      "(1, 2, 4)\n",
      "(1, 3, 2)\n",
      "(1, 3, 4)\n",
      "(1, 4, 2)\n",
      "(1, 4, 3)\n",
      "(2, 1, 3)\n",
      "(2, 1, 4)\n",
      "(2, 3, 1)\n",
      "(2, 3, 4)\n",
      "(2, 4, 1)\n",
      "(2, 4, 3)\n",
      "(3, 1, 2)\n",
      "(3, 1, 4)\n",
      "(3, 2, 1)\n",
      "(3, 2, 4)\n",
      "(3, 4, 1)\n",
      "(3, 4, 2)\n",
      "(4, 1, 2)\n",
      "(4, 1, 3)\n",
      "(4, 2, 1)\n",
      "(4, 2, 3)\n",
      "(4, 3, 1)\n",
      "(4, 3, 2)\n",
      "24\n"
     ]
    }
   ],
   "source": [
    "\"\"\"实例001：数字组合\n",
    "题目 有四个数字：1、2、3、4，能组成多少个互不相同且无重复数字的三位数？各是多少？\n",
    "\n",
    "程序分析 遍历全部可能，把有重复的剃掉。\"\"\"\n",
    "\n",
    "total=0\n",
    "for i in range(1,5):\n",
    "    for j in range(1,5):\n",
    "        for k in range(1,5):\n",
    "            if ((i!=j)and(j!=k)and(k!=i)):\n",
    "                print(i,j,k)\n",
    "                total+=1\n",
    "print(total)\n",
    "\n",
    "\"\"\"简便方法 用itertools中的permutations即可。\"\"\"\n",
    "\n",
    "import itertools\n",
    "sum2=0\n",
    "a=[1,2,3,4]\n",
    "for i in itertools.permutations(a,3):\n",
    "    print(i)\n",
    "    sum2+=1\n",
    "print(sum2)\n"
   ]
  },
  {
   "cell_type": "code",
   "execution_count": 3,
   "metadata": {},
   "outputs": [
    {
     "name": "stdout",
     "output_type": "stream",
     "text": [
      "Show me the money: 200003\n",
      "17500.15\n"
     ]
    }
   ],
   "source": [
    "\"\"\"实例002：“个税计算”\n",
    "题目 企业发放的奖金根据利润提成。利润(I)低于或等于10万元时，奖金可提10%；利润高于10万元，低于20万元时，\n",
    "低于10万元的部分按10%提成，高于10万元的部分，可提成7.5%；20万到40万之间时，高于20万元的部分，可提成5%；\n",
    "40万到60万之间时高于40万元的部分，可提成3%；60万到100万之间时，高于60万元的部分，可提成1.5%，高于100万元时，\n",
    "超过100万元的部分按1%提成，从键盘输入当月利润I，求应发放奖金总数？\n",
    "\n",
    "程序分析 分区间计算即可。\"\"\"\n",
    "\n",
    "profit=int(input('Show me the money: '))\n",
    "bonus=0\n",
    "thresholds=[100000,100000,200000,200000,400000]\n",
    "rates=[0.1,0.075,0.05,0.03,0.015,0.01]\n",
    "for i in range(len(thresholds)):\n",
    "    if profit<=thresholds[i]:\n",
    "        bonus+=profit*rates[i]\n",
    "        profit=0\n",
    "        break\n",
    "    else:\n",
    "        bonus+=thresholds[i]*rates[i]\n",
    "        profit-=thresholds[i]\n",
    "bonus+=profit*rates[-1]\n",
    "print(bonus)"
   ]
  },
  {
   "cell_type": "code",
   "execution_count": 4,
   "metadata": {},
   "outputs": [
    {
     "name": "stdout",
     "output_type": "stream",
     "text": [
      "85\n"
     ]
    }
   ],
   "source": [
    "\"\"\"实例003：完全平方数\n",
    "题目 一个整数，它加上100后是一个完全平方数，再加上168又是一个完全平方数，请问该数是多少？\n",
    "\n",
    "程序分析 因为168对于指数爆炸来说实在太小了，所以可以直接省略数学分析，用最朴素的方法来获取上限:\"\"\"\n",
    "\n",
    "n=0\n",
    "while (n+1)**2-n*n<=168:\n",
    "    n+=1\n",
    "print(n+1)"
   ]
  },
  {
   "cell_type": "markdown",
   "metadata": {},
   "source": [
    "思路是：最坏的结果是n的平方与(n+1)的平方刚好差168，由于是平方的关系，不可能存在比这更大的间隙。 至于判断是否是完全平方数，最简单的方法是：平方根的值小数为0即可。 结合起来："
   ]
  },
  {
   "cell_type": "code",
   "execution_count": 1,
   "metadata": {},
   "outputs": [
    {
     "name": "stdout",
     "output_type": "stream",
     "text": [
      "-99\n",
      "21\n",
      "261\n",
      "1581\n"
     ]
    }
   ],
   "source": [
    "n=0\n",
    "while (n+1)**2-n*n<=168:\n",
    "    n+=1\n",
    "\n",
    "for i in range((n+1)**2):\n",
    "    if i**0.5==int(i**0.5) and (i+168)**0.5==int((i+168)**0.5):\n",
    "        print(i-100)"
   ]
  },
  {
   "cell_type": "code",
   "execution_count": 3,
   "metadata": {},
   "outputs": [
    {
     "name": "stdout",
     "output_type": "stream",
     "text": [
      "Year:1986\n",
      "Month:5\n",
      "day:6\n",
      "126\n"
     ]
    }
   ],
   "source": [
    "\"\"\"\n",
    "实例004：这天第几天\n",
    "**题目：**输入某年某月某日，判断这一天是这一年的第几天？\n",
    "\n",
    "**程序分析：**特殊情况，闰年时需考虑二月多加一天：\n",
    "\"\"\"\n",
    "\n",
    "def isLeapYear(y):\n",
    "    return (y%400==0 or (y%4==0 and y%100!=0))\n",
    "DofM=[0,31,28,31,30,31,30,31,31,30,31,30]\n",
    "res=0\n",
    "year=int(input('Year:'))\n",
    "month=int(input('Month:'))\n",
    "day=int(input('day:'))\n",
    "if isLeapYear(year):\n",
    "    DofM[2]+=1\n",
    "for i in range(month):\n",
    "    res+=DofM[i]\n",
    "print(res+day)"
   ]
  },
  {
   "cell_type": "code",
   "execution_count": 4,
   "metadata": {},
   "outputs": [
    {
     "name": "stdout",
     "output_type": "stream",
     "text": [
      "int0: 1\n",
      "int1: 5\n",
      "int2: 8\n",
      "[1, 5, 8]\n",
      "int0: 8\n",
      "int1: 8\n",
      "int2: 3\n",
      "[3, 8, 8]\n"
     ]
    }
   ],
   "source": [
    "\"\"\"\n",
    "实例005：三数排序\n",
    "**题目：**输入三个整数x,y,z，请把这三个数由小到大输出。\n",
    "\n",
    "**程序分析：**练练手就随便找个排序算法实现一下，偷懒就直接调函数。\n",
    "\"\"\"\n",
    "\n",
    "raw=[]\n",
    "for i in range(3):\n",
    "    x=int(input('int%d: '%(i)))\n",
    "    raw.append(x)\n",
    "    \n",
    "for i in range(len(raw)):\n",
    "    for j in range(i,len(raw)):\n",
    "        if raw[i]>raw[j]:\n",
    "            raw[i],raw[j]=raw[j],raw[i]\n",
    "print(raw)\n",
    "\n",
    "\n",
    "raw2=[]\n",
    "for i in range(3):\n",
    "    x=int(input('int%d: '%(i)))\n",
    "    raw2.append(x)\n",
    "print(sorted(raw2))"
   ]
  },
  {
   "cell_type": "code",
   "execution_count": 26,
   "metadata": {},
   "outputs": [
    {
     "name": "stdout",
     "output_type": "stream",
     "text": [
      "6765\n",
      "0.0019941329956054688\n"
     ]
    }
   ],
   "source": [
    "\"\"\"\n",
    "实例006：斐波那契数列\n",
    "**题目：**斐波那契数列。\n",
    "\n",
    "**程序分析：**斐波那契数列（Fibonacci sequence），从1,1开始，后面每一项等于前面两项之和。图方便就递归实现，图性能就用循环。\n",
    "\"\"\"\n",
    "import time\n",
    "start = time.time()\n",
    "\n",
    "# 递归实现\n",
    "def Fib(n):\n",
    "    return 1 if n<=2 else Fib(n-1)+Fib(n-2)\n",
    "print(Fib(int(20)))\n",
    "\n",
    "end = time.time()\n",
    "print(end-start)"
   ]
  },
  {
   "cell_type": "code",
   "execution_count": 25,
   "metadata": {},
   "outputs": [
    {
     "name": "stdout",
     "output_type": "stream",
     "text": [
      "6765\n",
      "0.0\n"
     ]
    }
   ],
   "source": [
    "import time\n",
    "start = time.time()\n",
    "\n",
    "# 朴素实现\n",
    "target=int(20)\n",
    "res=0\n",
    "a,b=1,1\n",
    "for i in range(target-1):\n",
    "    a,b=b,a+b\n",
    "print(a)\n",
    "\n",
    "end = time.time()\n",
    "print(end-start)"
   ]
  },
  {
   "cell_type": "code",
   "execution_count": 24,
   "metadata": {},
   "outputs": [
    {
     "name": "stdout",
     "output_type": "stream",
     "text": [
      "6765\n",
      "0.0029969215393066406\n"
     ]
    }
   ],
   "source": [
    "import time\n",
    "start = time.time()\n",
    "\n",
    "def fab(n):\n",
    "    if n==0 or n==1:\n",
    "        return n\n",
    "    else:\n",
    "        return fab(n-1)+fab(n-2)\n",
    "\n",
    "print(fab(20))\n",
    "\n",
    "end = time.time()\n",
    "print(end-start)"
   ]
  },
  {
   "cell_type": "code",
   "execution_count": 24,
   "metadata": {},
   "outputs": [
    {
     "name": "stdout",
     "output_type": "stream",
     "text": [
      "3.0 2.0\n",
      "2.0\n",
      "--------------------------------------------------\n",
      "5.0 3.0\n",
      "3.5\n",
      "--------------------------------------------------\n",
      "8.0 5.0\n",
      "5.166666666666667\n",
      "--------------------------------------------------\n",
      "13.0 8.0\n",
      "6.7666666666666675\n",
      "--------------------------------------------------\n",
      "21.0 13.0\n",
      "8.391666666666667\n",
      "--------------------------------------------------\n",
      "34.0 21.0\n",
      "10.007051282051282\n",
      "--------------------------------------------------\n",
      "55.0 34.0\n",
      "11.626098901098901\n",
      "--------------------------------------------------\n",
      "89.0 55.0\n",
      "13.24374595992243\n",
      "--------------------------------------------------\n",
      "144.0 89.0\n",
      "14.86192777810425\n",
      "--------------------------------------------------\n",
      "233.0 144.0\n",
      "16.479905306194137\n",
      "--------------------------------------------------\n",
      "377.0 233.0\n",
      "18.097960861749694\n",
      "--------------------------------------------------\n",
      "610.0 377.0\n",
      "19.715986612822654\n",
      "--------------------------------------------------\n",
      "987.0 610.0\n",
      "21.334023748101167\n",
      "--------------------------------------------------\n",
      "1597.0 987.0\n",
      "22.95205653498641\n",
      "--------------------------------------------------\n",
      "2584.0 1597.0\n",
      "24.570090982808093\n",
      "--------------------------------------------------\n",
      "4181.0 2584.0\n",
      "26.188124796208218\n",
      "--------------------------------------------------\n",
      "6765.0 4181.0\n",
      "27.806158851935773\n",
      "--------------------------------------------------\n",
      "10946.0 6765.0\n",
      "29.42419281510248\n",
      "--------------------------------------------------\n",
      "17711.0 10946.0\n",
      "31.042226813624282\n",
      "--------------------------------------------------\n",
      "28657.0 17711.0\n",
      "32.66026079864164\n",
      "--------------------------------------------------\n"
     ]
    }
   ],
   "source": [
    "\"\"\"\n",
    "实例024：斐波那契数列II\n",
    "**题目：**有一分数序列：2/1，3/2，5/3，8/5，13/8，21/13...求出这个数列的前20项之和。\n",
    "\n",
    "**程序分析：**就是斐波那契数列的后一项除以前一项。\n",
    "\"\"\"\n",
    "\n",
    "a = 2.0\n",
    "b = 1.0\n",
    "s = 0\n",
    "for n in range(20):\n",
    "    s += a / b\n",
    "    a,b = a + b,a\n",
    "    print(a,b)\n",
    "    print(s)\n",
    "    print(\"-\"*50)"
   ]
  },
  {
   "cell_type": "code",
   "execution_count": 29,
   "metadata": {},
   "outputs": [
    {
     "name": "stdout",
     "output_type": "stream",
     "text": [
      "a= [1, 2, 3, 4, ['a', 'b', 'c'], 5]\n",
      "b= [1, 2, 3, 4, ['a', 'b', 'c'], 5]\n",
      "c= [1, 2, 3, 4, ['a', 'b', 'c']]\n",
      "d= [1, 2, 3, 4, ['a', 'b', 'c']]\n",
      "e= [1, 2, 3, 4, ['a', 'b']]\n"
     ]
    }
   ],
   "source": [
    "\"\"\"\n",
    "实例007：copy\n",
    "**题目：**将一个列表的数据复制到另一个列表中。\n",
    "\n",
    "**程序分析：**使用列表[:]，拿不准可以调用copy模块。\n",
    "\"\"\"\n",
    "\n",
    "import copy\n",
    "a = [1,2,3,4,['a','b']]\n",
    "\n",
    "b = a\t\t\t\t\t# 赋值\n",
    "c = a[:]\t\t\t\t# 浅拷贝\n",
    "d = copy.copy(a)\t\t# 浅拷贝\n",
    "e = copy.deepcopy(a)\t# 深拷贝\n",
    "\n",
    "a.append(5)\n",
    "a[4].append('c')\n",
    "\n",
    "print('a=',a)\n",
    "print('b=',b)\n",
    "print('c=',c)\n",
    "print('d=',d)\n",
    "print('e=',e)"
   ]
  },
  {
   "cell_type": "code",
   "execution_count": 30,
   "metadata": {},
   "outputs": [
    {
     "name": "stdout",
     "output_type": "stream",
     "text": [
      "1*1= 1 \n",
      "2*1= 2 2*2= 4 \n",
      "3*1= 3 3*2= 6 3*3= 9 \n",
      "4*1= 4 4*2= 8 4*3=12 4*4=16 \n",
      "5*1= 5 5*2=10 5*3=15 5*4=20 5*5=25 \n",
      "6*1= 6 6*2=12 6*3=18 6*4=24 6*5=30 6*6=36 \n",
      "7*1= 7 7*2=14 7*3=21 7*4=28 7*5=35 7*6=42 7*7=49 \n",
      "8*1= 8 8*2=16 8*3=24 8*4=32 8*5=40 8*6=48 8*7=56 8*8=64 \n",
      "9*1= 9 9*2=18 9*3=27 9*4=36 9*5=45 9*6=54 9*7=63 9*8=72 9*9=81 \n"
     ]
    }
   ],
   "source": [
    "\"\"\"\n",
    "实例008:九九乘法表\n",
    "**题目：**输出 9*9 乘法口诀表。\n",
    "\n",
    "**程序分析：**分行与列考虑，共9行9列，i控制行，j控制列。\n",
    "\"\"\"\n",
    "\n",
    "for i in range(1,10):\n",
    "    for j in range(1,i+1):\n",
    "        print('%d*%d=%2ld '%(i,j,i*j),end='')\n",
    "    print()"
   ]
  },
  {
   "cell_type": "code",
   "execution_count": 31,
   "metadata": {},
   "outputs": [
    {
     "name": "stdout",
     "output_type": "stream",
     "text": [
      "25\n",
      "26\n",
      "27\n",
      "28\n"
     ]
    }
   ],
   "source": [
    "\"\"\"\n",
    "\n",
    "\"\"\"\n",
    "\n",
    "import time\n",
    "for i in range(4):\n",
    "    print(str(int(time.time()))[-2:])\n",
    "    time.sleep(1)"
   ]
  },
  {
   "cell_type": "code",
   "execution_count": 39,
   "metadata": {},
   "outputs": [
    {
     "name": "stdout",
     "output_type": "stream",
     "text": [
      "time.struct_time(tm_year=2020, tm_mon=6, tm_mday=10, tm_hour=17, tm_min=32, tm_sec=44, tm_wday=2, tm_yday=162, tm_isdst=0)\n",
      "2020-06-10 17:32:44 Wednesday\n",
      "1591781564.2773366\n",
      "1591781564\n",
      "1591781564\n",
      "64\n",
      "----------\n",
      "time.struct_time(tm_year=2020, tm_mon=6, tm_mday=10, tm_hour=17, tm_min=32, tm_sec=45, tm_wday=2, tm_yday=162, tm_isdst=0)\n",
      "2020-06-10 17:32:45 Wednesday\n",
      "1591781565.2781715\n",
      "1591781565\n",
      "1591781565\n",
      "65\n",
      "----------\n"
     ]
    }
   ],
   "source": [
    "\"\"\"\n",
    "strftime(format[, tuple]) -> string\n",
    "将指定的struct_time(默认为当前时间)，根据指定的格式化字符串输出\n",
    "python中时间日期格式化符号：\n",
    "%y 两位数的年份表示（00-99）\n",
    "%Y 四位数的年份表示（000-9999）\n",
    "%m 月份（01-12）\n",
    "%d 月内中的一天（0-31）\n",
    "%H 24小时制小时数（0-23）\n",
    "%I 12小时制小时数（01-12） \n",
    "%M 分钟数（00=59）\n",
    "%S 秒（00-59）\n",
    "\n",
    "%a 本地简化星期名称\n",
    "%A 本地完整星期名称\n",
    "%b 本地简化的月份名称\n",
    "%B 本地完整的月份名称\n",
    "%c 本地相应的日期表示和时间表示\n",
    "%j 年内的一天（001-366）\n",
    "%p 本地A.M.或P.M.的等价符\n",
    "%U 一年中的星期数（00-53）星期天为星期的开始\n",
    "%w 星期（0-6），星期天为星期的开始\n",
    "%W 一年中的星期数（00-53）星期一为星期的开始\n",
    "%x 本地相应的日期表示\n",
    "%X 本地相应的时间表示\n",
    "%Z 当前时区的名称\n",
    "%% %号本身\n",
    "\"\"\"\n",
    "\n",
    "import time\n",
    "for i in range(2):\n",
    "    print(time.localtime(time.time())) #格式化时间戳为本地的时间-time.localtime()\n",
    "    print(time.strftime('%Y-%m-%d %H:%M:%S %A', time.localtime(time.time()))) #优化格式化化版本-time.strftime()\n",
    "    print(time.time())\n",
    "    print(int(time.time()))\n",
    "    print(str(int(time.time())))\n",
    "    print(str(int(time.time()))[-2:])\n",
    "    print(\"-\"*10)\n",
    "    time.sleep(1)"
   ]
  },
  {
   "cell_type": "code",
   "execution_count": 40,
   "metadata": {},
   "outputs": [
    {
     "name": "stdout",
     "output_type": "stream",
     "text": [
      "2020-06-10 17:36:19\n",
      "2020-06-10 17:36:20\n",
      "2020-06-10 17:36:21\n",
      "2020-06-10 17:36:22\n"
     ]
    }
   ],
   "source": [
    "\"\"\"\n",
    "实例010：给人看的时间\n",
    "**题目：**暂停一秒输出，并格式化当前时间。\n",
    "\n",
    "**程序分析：**同009.\n",
    "\"\"\"\n",
    "\n",
    "import time\n",
    "\n",
    "for i in range(4):\n",
    "    print(time.strftime('%Y-%m-%d %H:%M:%S',time.localtime(time.time())))\n",
    "    time.sleep(1)"
   ]
  },
  {
   "cell_type": "code",
   "execution_count": 82,
   "metadata": {},
   "outputs": [
    {
     "name": "stdout",
     "output_type": "stream",
     "text": [
      "2020-06-11\n",
      "2333-02-03\n",
      "11-06-2020\n",
      "1133-02-03\n"
     ]
    }
   ],
   "source": [
    "\"\"\"\n",
    "实例016：输出日期\n",
    "**题目：**输出指定格式的日期。\n",
    "\n",
    "**程序分析：**使用 datetime 模块。\n",
    "\"\"\"\n",
    "\n",
    "import datetime\n",
    "print(datetime.date.today())\n",
    "print(datetime.date(2333,2,3))\n",
    "print(datetime.date.today().strftime('%d/%m/%Y'))\n",
    "day=datetime.date(1111,2,3)\n",
    "day=day.replace(year=day.year+22)\n",
    "print(day)"
   ]
  },
  {
   "cell_type": "code",
   "execution_count": 42,
   "metadata": {},
   "outputs": [
    {
     "name": "stdout",
     "output_type": "stream",
     "text": [
      "繁殖几个月？： 20\n",
      "第1个月共 1 对兔子\n",
      "其中1月兔： 0\n",
      "其中2月兔： 1\n",
      "其中3月兔： 0\n",
      "其中成年兔： 0\n",
      "第2个月共 1 对兔子\n",
      "其中1月兔： 0\n",
      "其中2月兔： 0\n",
      "其中3月兔： 1\n",
      "其中成年兔： 0\n",
      "第3个月共 2 对兔子\n",
      "其中1月兔： 1\n",
      "其中2月兔： 0\n",
      "其中3月兔： 0\n",
      "其中成年兔： 1\n",
      "第4个月共 3 对兔子\n",
      "其中1月兔： 1\n",
      "其中2月兔： 1\n",
      "其中3月兔： 0\n",
      "其中成年兔： 1\n",
      "第5个月共 4 对兔子\n",
      "其中1月兔： 1\n",
      "其中2月兔： 1\n",
      "其中3月兔： 1\n",
      "其中成年兔： 1\n",
      "第6个月共 6 对兔子\n",
      "其中1月兔： 2\n",
      "其中2月兔： 1\n",
      "其中3月兔： 1\n",
      "其中成年兔： 2\n",
      "第7个月共 9 对兔子\n",
      "其中1月兔： 3\n",
      "其中2月兔： 2\n",
      "其中3月兔： 1\n",
      "其中成年兔： 3\n",
      "第8个月共 13 对兔子\n",
      "其中1月兔： 4\n",
      "其中2月兔： 3\n",
      "其中3月兔： 2\n",
      "其中成年兔： 4\n",
      "第9个月共 19 对兔子\n",
      "其中1月兔： 6\n",
      "其中2月兔： 4\n",
      "其中3月兔： 3\n",
      "其中成年兔： 6\n",
      "第10个月共 28 对兔子\n",
      "其中1月兔： 9\n",
      "其中2月兔： 6\n",
      "其中3月兔： 4\n",
      "其中成年兔： 9\n",
      "第11个月共 41 对兔子\n",
      "其中1月兔： 13\n",
      "其中2月兔： 9\n",
      "其中3月兔： 6\n",
      "其中成年兔： 13\n",
      "第12个月共 60 对兔子\n",
      "其中1月兔： 19\n",
      "其中2月兔： 13\n",
      "其中3月兔： 9\n",
      "其中成年兔： 19\n",
      "第13个月共 88 对兔子\n",
      "其中1月兔： 28\n",
      "其中2月兔： 19\n",
      "其中3月兔： 13\n",
      "其中成年兔： 28\n",
      "第14个月共 129 对兔子\n",
      "其中1月兔： 41\n",
      "其中2月兔： 28\n",
      "其中3月兔： 19\n",
      "其中成年兔： 41\n",
      "第15个月共 189 对兔子\n",
      "其中1月兔： 60\n",
      "其中2月兔： 41\n",
      "其中3月兔： 28\n",
      "其中成年兔： 60\n",
      "第16个月共 277 对兔子\n",
      "其中1月兔： 88\n",
      "其中2月兔： 60\n",
      "其中3月兔： 41\n",
      "其中成年兔： 88\n",
      "第17个月共 406 对兔子\n",
      "其中1月兔： 129\n",
      "其中2月兔： 88\n",
      "其中3月兔： 60\n",
      "其中成年兔： 129\n",
      "第18个月共 595 对兔子\n",
      "其中1月兔： 189\n",
      "其中2月兔： 129\n",
      "其中3月兔： 88\n",
      "其中成年兔： 189\n",
      "第19个月共 872 对兔子\n",
      "其中1月兔： 277\n",
      "其中2月兔： 189\n",
      "其中3月兔： 129\n",
      "其中成年兔： 277\n",
      "第20个月共 1278 对兔子\n",
      "其中1月兔： 406\n",
      "其中2月兔： 277\n",
      "其中3月兔： 189\n",
      "其中成年兔： 406\n"
     ]
    }
   ],
   "source": [
    "\"\"\"\n",
    "实例011：养兔子\n",
    "**题目：**有一对兔子，从出生后第3个月起每个月都生一对兔子，小兔子长到第三个月后每个月又生一对兔子，\n",
    "假如兔子都不死，问每个月的兔子总数为多少？\n",
    "\n",
    "**程序分析：**我认为原文的解法有点扯，没有考虑3个月成熟的问题，人家还是婴儿怎么生孩子？考虑到三个月成熟，\n",
    "可以构建四个数据，其中：一月兔每个月长大成为二月兔，二月兔变三月兔，三月兔变成年兔，成年兔（包括新成熟的三月兔）生等量的一月兔。\n",
    "\"\"\"\n",
    "\n",
    "month=int(input('繁殖几个月？： '))\n",
    "month_1=1\n",
    "month_2=0\n",
    "month_3=0\n",
    "month_elder=0\n",
    "for i in range(month):\n",
    "    month_1,month_2,month_3,month_elder=month_elder+month_3,month_1,month_2,month_elder+month_3\n",
    "    print('第%d个月共'%(i+1),month_1+month_2+month_3+month_elder,'对兔子')\n",
    "    print('其中1月兔：',month_1)\n",
    "    print('其中2月兔：',month_2)\n",
    "    print('其中3月兔：',month_3)\n",
    "    print('其中成年兔：',month_elder)"
   ]
  },
  {
   "cell_type": "code",
   "execution_count": 54,
   "metadata": {},
   "outputs": [
    {
     "name": "stdout",
     "output_type": "stream",
     "text": [
      "一共有21个素数： [101, 103, 107, 109, 113, 127, 131, 137, 139, 149, 151, 157, 163, 167, 173, 179, 181, 191, 193, 197, 199]\n",
      "\n",
      "Simplify the code with \"else\"\n",
      "\n",
      "一共有21个素数： [101, 103, 107, 109, 113, 127, 131, 137, 139, 149, 151, 157, 163, 167, 173, 179, 181, 191, 193, 197, 199]\n"
     ]
    }
   ],
   "source": [
    "\"\"\"\n",
    "实例012:100到200的素数\n",
    "**题目：**判断101-200之间有多少个素数，并输出所有素数。\n",
    "\n",
    "【定义：】质数又称素数。一个大于1的自然数，除了1和它自身外，不能被其他自然数整除的数叫做质数；否则称为合数。\n",
    "\n",
    "**程序分析：**判断素数的方法：用一个数分别去除2到sqrt(这个数)，如果能被整除，则表明此数不是素数，反之是素数。\n",
    "\"\"\"\n",
    "\n",
    "import math\n",
    "ls = []\n",
    "for i in range(100,200):\n",
    "    flag=0\n",
    "    for j in range(2,round(math.sqrt(i))+1):\n",
    "        if i%j==0:\n",
    "            flag=1\n",
    "            break\n",
    "    if flag:\n",
    "        continue\n",
    "    # print(i)\n",
    "    ls.append(i)\n",
    "    \n",
    "print(\"一共有{}个素数：\".format(len(ls)),ls)\n",
    "\n",
    "print('\\nSimplify the code with \"else\"\\n')\n",
    "\n",
    "\n",
    "ls_2 = []\n",
    "for i in range(100,200):\n",
    "    for j in range(2,round(math.sqrt(i))+1):\n",
    "        if i%j==0:\n",
    "            break\n",
    "    else:\n",
    "        #print(i)\n",
    "        ls_2.append(i)\n",
    "\n",
    "print(\"一共有{}个素数：\".format(len(ls_2)),ls_2)"
   ]
  },
  {
   "cell_type": "code",
   "execution_count": 61,
   "metadata": {},
   "outputs": [
    {
     "name": "stdout",
     "output_type": "stream",
     "text": [
      "153\n",
      "370\n",
      "371\n",
      "407\n",
      "0.20046758651733398\n"
     ]
    }
   ],
   "source": [
    "\"\"\"\n",
    "实例013：所有水仙花数\n",
    "**题目：**打印出所有的\"水仙花数\"，所谓\"水仙花数\"是指一个三位数，其各位数字立方和等于该数本身。例如：153是一个\"水仙花数\"，因为153=1的三次方＋5的三次方＋3的三次方。\n",
    "\n",
    "**程序分析：**利用for循环控制100-999个数，每个数分解出个位，十位，百位。\n",
    "\"\"\"\n",
    "\n",
    "import time\n",
    "start = time.time()\n",
    "\n",
    "for x in range(100,1000):\n",
    "    for i in range(1,10):\n",
    "        for j in range(0,10):\n",
    "            for k in range(0,10):\n",
    "                if i*100+j*10+k == x and i**3+j**3+k**3 == x:\n",
    "                    print(str(i)+str(j)+str(k))\n",
    "\n",
    "end = time.time()\n",
    "print(end-start)"
   ]
  },
  {
   "cell_type": "code",
   "execution_count": 62,
   "metadata": {},
   "outputs": [
    {
     "name": "stdout",
     "output_type": "stream",
     "text": [
      "153\n",
      "370\n",
      "371\n",
      "407\n",
      "0.002962350845336914\n"
     ]
    }
   ],
   "source": [
    "import time\n",
    "start = time.time()\n",
    "\n",
    "for i in range(100,1000):\n",
    "    s=str(i)\n",
    "    one=int(s[-1])\n",
    "    ten=int(s[-2])\n",
    "    hun=int(s[-3])\n",
    "    if i == one**3+ten**3+hun**3:\n",
    "        print(i)\n",
    "\n",
    "end = time.time()\n",
    "print(end-start)"
   ]
  },
  {
   "cell_type": "code",
   "execution_count": 80,
   "metadata": {},
   "outputs": [
    {
     "name": "stdout",
     "output_type": "stream",
     "text": [
      "输入一个整数：8\n",
      "8 = 2*2*2"
     ]
    }
   ],
   "source": [
    "\"\"\"\n",
    "实例014：分解质因数\n",
    "**题目：**将一个整数分解质因数。例如：输入90,打印出90=233*5。\n",
    "\n",
    "**程序分析：**根本不需要判断是否是质数，从2开始向数本身遍历，能整除的肯定是最小的质数。\n",
    "\"\"\"\n",
    "target=int(input('输入一个整数：'))\n",
    "print(target,'= ',end='')\n",
    "\n",
    "if target<0:\n",
    "    target=abs(target)\n",
    "    print('-1*',end='')\n",
    "\n",
    "flag=0\n",
    "if target<=1:\n",
    "    print(target)\n",
    "    flag=1\n",
    "\n",
    "\n",
    "while True:\n",
    "    if flag:\n",
    "        break\n",
    "    for i in range(2,int(target+1)):\n",
    "        if target%i==0:\n",
    "            print(\"%d\"%i,end='')\n",
    "            if target==i:\n",
    "                flag=1\n",
    "                break\n",
    "            print('*',end='')\n",
    "            target/=i\n",
    "            break"
   ]
  },
  {
   "cell_type": "code",
   "execution_count": 107,
   "metadata": {},
   "outputs": [
    {
     "name": "stdout",
     "output_type": "stream",
     "text": [
      "中文字符个数： 5\n",
      "英文字符个数： 21\n",
      "数字字符个数： 14\n",
      "空格字符个数： 3\n",
      "空格字符个数： 3\n",
      "其他字符个数： 19\n"
     ]
    }
   ],
   "source": [
    "\"\"\"\n",
    "**题目：**输入一行字符，分别统计出其中英文字母、空格、数字和其它字符的个数。\n",
    "\n",
    "**程序分析：**利用 while 或 for 语句,条件为输入的字符不为 '\\n'。\n",
    "\"\"\"\n",
    "import re\n",
    "str_test = \"sldkfg25%^&* 68*+654+?.,/.&%9(;kGFHhn5668  [}-09baymax白色的天空sdf\"\n",
    "res_cn = re.findall('([\\u4e00-\\u9fa5])',str_test)\n",
    "print(\"中文字符个数：\",len(res_cn))\n",
    "res_en = re.findall('[a-zA-Z]',str_test)\n",
    "print(\"英文字符个数：\",len(res_en))\n",
    "res_ma = re.findall('[\\d]',str_test)\n",
    "print(\"数字字符个数：\",len(res_ma))\n",
    "res_na = re.findall('[ ]',str_test)\n",
    "print(\"空格字符个数：\",len(res_na))\n",
    "# res_na_2 = []\n",
    "# for i in str_test:\n",
    "#     if i.isspace() == True:\n",
    "#         res_na_2.append(i)\n",
    "# print(\"空格字符个数：\",len(res_na_2))\n",
    "print(\"其他字符个数：\",len(str_test)-len(res_cn)-len(res_en)-len(res_ma)-len(res_na))"
   ]
  },
  {
   "cell_type": "code",
   "execution_count": 104,
   "metadata": {},
   "outputs": [
    {
     "name": "stdout",
     "output_type": "stream",
     "text": [
      "输入字符串：sldkfg25%^&* 68*+654+?.,/.&%9(;kGFHhn5668  [}-09baymax白色的天空sdf\n",
      "space:  3\n",
      "digit:  14\n",
      "alpha:  26\n",
      "other:  19\n"
     ]
    }
   ],
   "source": [
    "string=input(\"输入字符串：\")\n",
    "alp=0\n",
    "num=0\n",
    "spa=0\n",
    "oth=0\n",
    "for i in range(len(string)):\n",
    "    if string[i].isspace(): # 是否空格\n",
    "        spa+=1\n",
    "    elif string[i].isdigit(): # 是否\n",
    "        num+=1\n",
    "    elif string[i].isalpha():\n",
    "        alp+=1\n",
    "    else:\n",
    "        oth+=1\n",
    "print('space: ',spa)\n",
    "print('digit: ',num)\n",
    "print('alpha: ',alp)\n",
    "print('other: ',oth)"
   ]
  },
  {
   "cell_type": "code",
   "execution_count": 114,
   "metadata": {},
   "outputs": [
    {
     "name": "stdout",
     "output_type": "stream",
     "text": [
      "请输入a的值：7\n",
      "请输入a最终的长度12\n",
      "864197530854\n",
      "0.0\n"
     ]
    }
   ],
   "source": [
    "\"\"\"\n",
    "实例018：复读机相加\n",
    "**题目：**求s=a+aa+aaa+aaaa+aa...a的值，其中a是一个数字。例如2+22+222+2222+22222(此时共有5个数相加)，几个数相加由键盘控制。\n",
    "\n",
    "**程序分析：**用字符串解决。\n",
    "\"\"\"\n",
    "a = int(input(\"请输入a的值：\",))\n",
    "l = int(input(\"请输入a最终的长度\",))\n",
    "sum = 0\n",
    "for i in range(1,l+1):\n",
    "    sum += int(str(a)*i)\n",
    "import time\n",
    "start = time.time()\n",
    "print(sum)\n",
    "end = time.time()\n",
    "print(end-start)"
   ]
  },
  {
   "cell_type": "code",
   "execution_count": 113,
   "metadata": {},
   "outputs": [
    {
     "name": "stdout",
     "output_type": "stream",
     "text": [
      "被加数字：7\n",
      "加几次？：12\n",
      "结果是： 864197530854\n"
     ]
    }
   ],
   "source": [
    "a=input('被加数字：')\n",
    "n=int(input('加几次？：'))\n",
    "res=0\n",
    "for i in range(n):\n",
    "    res+=int(a)\n",
    "    a+=a[0]\n",
    "print('结果是：',res)"
   ]
  },
  {
   "cell_type": "code",
   "execution_count": 183,
   "metadata": {},
   "outputs": [
    {
     "name": "stdout",
     "output_type": "stream",
     "text": [
      "6\n",
      "28\n",
      "496\n"
     ]
    }
   ],
   "source": [
    "\"\"\"\n",
    "实例019：完数\n",
    "**题目：**一个数如果恰好等于它的因子之和，这个数就称为\"完数\"。例如6=1＋2＋3.编程找出1000以内的所有完数。\n",
    "\n",
    "**程序分析：**将每一对因子加进集合，在这个过程中已经自动去重。最后的结果要求不计算其本身。\n",
    "\"\"\"\n",
    "\n",
    "def factor(num):\n",
    "    target=int(num)\n",
    "    res=set()\n",
    "    for i in range(1,num):\n",
    "        if num%i==0:\n",
    "            res.add(i)\n",
    "            res.add(num/i)\n",
    "    return res\n",
    "\n",
    "for i in range(2,1001):\n",
    "    sum = 0\n",
    "    ls = list(factor(i))\n",
    "    ls.sort()\n",
    "    for j in ls[0:-1]:\n",
    "        sum = sum + j\n",
    "    if i == int(sum):\n",
    "        print(i)"
   ]
  },
  {
   "cell_type": "code",
   "execution_count": 10,
   "metadata": {},
   "outputs": [
    {
     "name": "stdout",
     "output_type": "stream",
     "text": [
      "第1次反弹高度50.0米\n",
      "第1次落地时共经过200.0米\n",
      "--------------------------------------------------\n",
      "第2次反弹高度25.0米\n",
      "第2次落地时共经过250.0米\n",
      "--------------------------------------------------\n",
      "第3次反弹高度12.5米\n",
      "第3次落地时共经过275.0米\n",
      "--------------------------------------------------\n",
      "第4次反弹高度6.25米\n",
      "第4次落地时共经过287.5米\n",
      "--------------------------------------------------\n",
      "第5次反弹高度3.125米\n",
      "第5次落地时共经过293.75米\n",
      "--------------------------------------------------\n",
      "第6次反弹高度1.5625米\n",
      "第6次落地时共经过296.875米\n",
      "--------------------------------------------------\n",
      "第7次反弹高度0.78125米\n",
      "第7次落地时共经过298.4375米\n",
      "--------------------------------------------------\n",
      "第8次反弹高度0.390625米\n",
      "第8次落地时共经过299.21875米\n",
      "--------------------------------------------------\n",
      "第9次反弹高度0.1953125米\n",
      "第9次落地时共经过299.609375米\n",
      "--------------------------------------------------\n",
      "第10次反弹高度0.09765625米\n",
      "第10次落地时共经过299.8046875米\n",
      "--------------------------------------------------\n"
     ]
    }
   ],
   "source": [
    "\"\"\"\n",
    "实例020：高空抛物\n",
    "**题目：**一球从100米高度自由落下，每次落地后反跳回原高度的一半；再落下，求它在第10次落地时，共经过多少米？第10次反弹多高？\n",
    "\n",
    "**程序分析：**无\n",
    "\"\"\"\n",
    "i = 10\n",
    "sum = 100\n",
    "for j in range(i):\n",
    "    j += 1\n",
    "    h = 100/(2 ** (j - 1))/2\n",
    "    sum += 100/(2 ** (j - 1))\n",
    "    print(\"第{}次反弹高度{}米\".format(j,h))\n",
    "    print(\"第{}次落地时共经过{}米\".format(j,sum))\n",
    "    print(\"-\"*50)  "
   ]
  },
  {
   "cell_type": "code",
   "execution_count": 15,
   "metadata": {},
   "outputs": [
    {
     "name": "stdout",
     "output_type": "stream",
     "text": [
      "4\n",
      "10\n",
      "22\n",
      "46\n",
      "94\n",
      "190\n",
      "382\n",
      "766\n",
      "1534\n",
      "1534\n"
     ]
    }
   ],
   "source": [
    "\"\"\"\n",
    "实例021：猴子偷桃\n",
    "**题目：**猴子吃桃问题：猴子第一天摘下若干个桃子，当即吃了一半，还不瘾，又多吃了一个\n",
    "第二天早上又将剩下的桃子吃掉一半，又多吃了一个。以后每天早上都吃了前一天剩下的一半零一个。\n",
    "到第10天早上想再吃时，见只剩下一个桃子了。求第一天共摘了多少。\n",
    "\n",
    "**程序分析：**按规则反向推断：猴子有一个桃子，他偷来一个桃子，觉得不够又偷来了与手上等量的桃子，一共偷了9天。\n",
    "\"\"\"\n",
    "\n",
    "x = 1\n",
    "for i in range(9):\n",
    "    x = (x + 1) * 2\n",
    "    print(x)"
   ]
  },
  {
   "cell_type": "code",
   "execution_count": 16,
   "metadata": {},
   "outputs": [
    {
     "name": "stdout",
     "output_type": "stream",
     "text": [
      "a:z,b:x,c:y\n"
     ]
    }
   ],
   "source": [
    "\"\"\"\n",
    "实例022：比赛对手\n",
    "**题目：**两个乒乓球队进行比赛，各出三人。甲队为a,b,c三人，乙队为x,y,z三人。已抽签决定比赛名单。\n",
    "有人向队员打听比赛的名单。a说他不和x比，c说他不和x,z比，请编程序找出三队赛手的名单。\n",
    "\n",
    "**程序分析：**找到条件下不重复的三个对手即可。\n",
    "\"\"\"\n",
    "\n",
    "# 利用字典的可去重性，set函数，可以将列表转为字典\n",
    "a=set(['x','y','z'])\n",
    "b=set(['x','y','z'])\n",
    "c=set(['x','y','z'])\n",
    "c-=set(('x','z'))\n",
    "a-=set('x')\n",
    "for i in a: # y,z\n",
    "    for j in b: # x,y,z\n",
    "        for k in c: # y\n",
    "            if len(set((i,j,k)))==3:\n",
    "                print('a:%s,b:%s,c:%s'%(i,j,k))"
   ]
  },
  {
   "cell_type": "markdown",
   "metadata": {},
   "source": [
    "set   是一个不允许内容重复的组合，而且set里的内容位置是随意的，所以不能用索引列出。可进行关系测试，删除重复数据，还可以计算交集、差集、并集等。\n",
    "\n",
    "1、创建set集合\n",
    "\n",
    ">>> set([1,2,3])\n",
    "{1, 2, 3}\n",
    ">>> set('123')\n",
    "{'1', '2', '3'}\n",
    ">>> set()\n",
    "set() #创建一个空set\n",
    "\n",
    "2、添加删除元素\n",
    "\n",
    "python 集合的添加有两种常用方法，分别是add和update。\n",
    "集合add方法：是把要传入的元素做为一个整个添加到集合中\n",
    "\n",
    ">>> a = set()\n",
    ">>> a.add('python')\n",
    ">>> a\n",
    "{'python'}\n",
    ">>> a.add('love')\n",
    ">>> a\n",
    "{'love', 'python'}\n",
    ">>> a.add('i')\n",
    ">>> a\n",
    "{'love', 'i', 'python'}\n",
    "集合update方法：是把要传入的元素拆分，做为个体传入到集合中\n",
    "\n",
    ">>> a = set('love')\n",
    ">>> a\n",
    "{'l', 'v', 'o', 'e'}\n",
    ">>> a.update('python')\n",
    ">>> a\n",
    "{'h', 'y', 'e', 'n', 'o', 'p', 't', 'l', 'v'}\n",
    "集合删除操作方法：remove\n",
    "\n",
    ">>> a = set(['i', 'love', 'python'])\n",
    ">>> a\n",
    "{'love', 'i', 'python'}\n",
    ">>> a.remove('love')\n",
    ">>> a\n",
    "{'i', 'python'}"
   ]
  },
  {
   "cell_type": "code",
   "execution_count": 21,
   "metadata": {},
   "outputs": [
    {
     "name": "stdout",
     "output_type": "stream",
     "text": [
      "    *    \n",
      "   ***   \n",
      "  *****  \n",
      " ******* \n",
      "  *****  \n",
      "   ***   \n",
      "    *    \n"
     ]
    }
   ],
   "source": [
    "\"\"\"\n",
    "实例023：画菱形\n",
    "**题目：**打印出如下图案（菱形）:\n",
    "\n",
    "    *    ***   *****  *******   *****    ***     *\n",
    "\n",
    "**程序分析：**递归调用即可。\n",
    "\"\"\"\n",
    "\n",
    "def draw(num):\n",
    "    a=\"*\"*(2*(4-num)+1)\n",
    "    print(a.center(9,' '))\n",
    "    if num!=1:\n",
    "        draw(num-1)\n",
    "        print(a.center(9,' '))\n",
    "draw(4)"
   ]
  },
  {
   "cell_type": "code",
   "execution_count": 26,
   "metadata": {},
   "outputs": [
    {
     "name": "stdout",
     "output_type": "stream",
     "text": [
      "20\n",
      "21\n",
      "--------------------------------------------------\n",
      "19\n",
      "400\n",
      "--------------------------------------------------\n",
      "18\n",
      "7201\n",
      "--------------------------------------------------\n",
      "17\n",
      "122418\n",
      "--------------------------------------------------\n",
      "16\n",
      "1958689\n",
      "--------------------------------------------------\n",
      "15\n",
      "29380336\n",
      "--------------------------------------------------\n",
      "14\n",
      "411324705\n",
      "--------------------------------------------------\n",
      "13\n",
      "5347221166\n",
      "--------------------------------------------------\n",
      "12\n",
      "64166653993\n",
      "--------------------------------------------------\n",
      "11\n",
      "705833193924\n",
      "--------------------------------------------------\n",
      "10\n",
      "7058331939241\n",
      "--------------------------------------------------\n",
      "9\n",
      "63524987453170\n",
      "--------------------------------------------------\n",
      "8\n",
      "508199899625361\n",
      "--------------------------------------------------\n",
      "7\n",
      "3557399297377528\n",
      "--------------------------------------------------\n",
      "6\n",
      "21344395784265169\n",
      "--------------------------------------------------\n",
      "5\n",
      "106721978921325846\n",
      "--------------------------------------------------\n",
      "4\n",
      "426887915685303385\n",
      "--------------------------------------------------\n",
      "3\n",
      "1280663747055910156\n",
      "--------------------------------------------------\n",
      "2\n",
      "2561327494111820313\n",
      "--------------------------------------------------\n"
     ]
    }
   ],
   "source": [
    "\"\"\"\n",
    "实例025： 阶乘求和\n",
    "**题目：**求1+2!+3!+...+20!的和。\n",
    "\n",
    "**程序分析：**1+2!+3!+...+20!=1+2(1+3(1+4(...20(1))))\n",
    "\"\"\"\n",
    "\n",
    "res=1\n",
    "for i in range(20,1,-1):\n",
    "    res=i*res+1\n",
    "    print(i)\n",
    "    print(res)\n",
    "    print(\"-\"*50)\n",
    "    \n",
    "print(res)"
   ]
  },
  {
   "cell_type": "code",
   "execution_count": 47,
   "metadata": {},
   "outputs": [
    {
     "data": {
      "text/plain": [
       "120"
      ]
     },
     "execution_count": 47,
     "metadata": {},
     "output_type": "execute_result"
    }
   ],
   "source": [
    "def factorial(n):\n",
    "    return n*factorial(n-1) if n>1 else 1\n",
    "factorial(5)"
   ]
  },
  {
   "cell_type": "code",
   "execution_count": 49,
   "metadata": {},
   "outputs": [
    {
     "data": {
      "text/plain": [
       "120"
      ]
     },
     "execution_count": 49,
     "metadata": {},
     "output_type": "execute_result"
    }
   ],
   "source": [
    "def digui(num):\n",
    "    if num>1:\n",
    "        return num*digui(num-1)\n",
    "    else:\n",
    "        return 1\n",
    "digui(5)"
   ]
  },
  {
   "cell_type": "code",
   "execution_count": 52,
   "metadata": {},
   "outputs": [
    {
     "name": "stdout",
     "output_type": "stream",
     "text": [
      "string here:12345\n",
      "54321"
     ]
    }
   ],
   "source": [
    "\"\"\"\n",
    "实例027：递归输出\n",
    "**题目：**利用递归函数调用方式，将所输入的5个字符，以相反顺序打印出来。\n",
    "\n",
    "**程序分析：**递归真是蠢方法。\n",
    "\"\"\"\n",
    "\n",
    "def rec(string):\n",
    "    if len(string)!=1:\n",
    "        rec(string[1:])\n",
    "#         print(string)\n",
    "#         print(string[0],end='')\n",
    "    print(string[0],end='')\n",
    "\n",
    "rec(input('string here:'))"
   ]
  },
  {
   "cell_type": "code",
   "execution_count": null,
   "metadata": {},
   "outputs": [],
   "source": [
    "\"\"\"\n",
    "降序的多种方法\n",
    "\n",
    "列表排序介绍\n",
    "\"\"\"\n",
    "\n",
    "str = \"648514486554486352135415\"\n",
    "to_list = list(str)\n",
    "print(to_list)\n",
    "to_list.reverse() #逆序（非降序）\n",
    "print(to_list)\n",
    "to_list.sort() #升序排列\n",
    "print(to_list)\n",
    "to_list.reverse() #实现降序排列，即先升序排列，再逆序排列\n",
    "print(to_list)"
   ]
  },
  {
   "cell_type": "code",
   "execution_count": 58,
   "metadata": {},
   "outputs": [
    {
     "data": {
      "text/plain": [
       "'654321'"
      ]
     },
     "execution_count": 58,
     "metadata": {},
     "output_type": "execute_result"
    }
   ],
   "source": [
    "def func1(one_str): \n",
    "    '''\n",
    "    直接使用字符串切片功能逆转字符串 \n",
    "    ''' \n",
    "    return one_str[::-1]\n",
    "\n",
    "func1(\"123456\")"
   ]
  },
  {
   "cell_type": "code",
   "execution_count": 54,
   "metadata": {},
   "outputs": [
    {
     "data": {
      "text/plain": [
       "'654321'"
      ]
     },
     "execution_count": 54,
     "metadata": {},
     "output_type": "execute_result"
    }
   ],
   "source": [
    "def func2(one_str): \n",
    "    '''\n",
    "    将字符串转换为列表使用reverse函数 \n",
    "    ''' \n",
    "    one_str_list = list(one_str) \n",
    "    one_str_list.reverse() \n",
    "    return ''.join(one_str_list) \n",
    "\n",
    "func2(\"123456\")"
   ]
  },
  {
   "cell_type": "code",
   "execution_count": 59,
   "metadata": {},
   "outputs": [
    {
     "name": "stdout",
     "output_type": "stream",
     "text": [
      "18\n"
     ]
    }
   ],
   "source": [
    "\"\"\"\n",
    "实例028：递归求等差数列\n",
    "**题目：**有5个人坐在一起，问第五个人多少岁？他说比第4个人大2岁。\n",
    "问第4个人岁数，他说比第3个人大2岁。问第三个人，又说比第2人大两岁。\n",
    "问第2个人，说比第一个人大两岁。最后问第一个人，他说是10岁。请问第五个人多大？\n",
    "\n",
    "**程序分析：**就一等差数列。\n",
    "\"\"\"\n",
    "\n",
    "def age(n):\n",
    "    if n==1:\n",
    "        return 10\n",
    "    return 2+age(n-1)\n",
    "print(age(5))"
   ]
  },
  {
   "cell_type": "code",
   "execution_count": 65,
   "metadata": {},
   "outputs": [
    {
     "name": "stdout",
     "output_type": "stream",
     "text": [
      "['three', 'two', 'one']\n"
     ]
    }
   ],
   "source": [
    "\"\"\"\n",
    "实例032：反向输出II\n",
    "**题目：**按相反的顺序输出列表的值。\n",
    "\n",
    "**程序分析：**无。\n",
    "\"\"\"\n",
    "\n",
    "a = ['one', 'two', 'three']\n",
    "print(a[::-1])"
   ]
  },
  {
   "cell_type": "code",
   "execution_count": 71,
   "metadata": {},
   "outputs": [
    {
     "name": "stdout",
     "output_type": "stream",
     "text": [
      "请输入第一位字母:m\n",
      "monday\n"
     ]
    }
   ],
   "source": [
    "\"\"\"\n",
    "实例031：字母识词\n",
    "**题目：**请输入星期几的第一个字母来判断一下是星期几，如果第一个字母一样，则继续判断第二个字母。\n",
    "\n",
    "**程序分析：**这里用字典的形式直接将对照关系存好。\n",
    "\"\"\"\n",
    "\n",
    "weekT={'h':'thursday',\n",
    "       'u':'tuesday'}\n",
    "weekS={'a':'saturday',\n",
    "       'u':'sunday'}\n",
    "week={'t':weekT,\n",
    "      's':weekS,\n",
    "      'm':'monday',\n",
    "      'w':'wensday',\n",
    "      'f':'friday'}\n",
    "a=week[input('请输入第一位字母:').lower()]\n",
    "if a==weekT or a==weekS:\n",
    "    print(a[input('请输入第二位字母:').lower()])\n",
    "else:\n",
    "    print(a)"
   ]
  },
  {
   "cell_type": "code",
   "execution_count": 1,
   "metadata": {},
   "outputs": [
    {
     "name": "stdout",
     "output_type": "stream",
     "text": [
      "1,2,3,4,5\n"
     ]
    }
   ],
   "source": [
    "\"\"\"\n",
    "实例033：列表转字符串\n",
    "**题目：**按逗号分隔列表。\n",
    "\n",
    "**程序分析：**无。\n",
    "\"\"\"\n",
    "\n",
    "L = [1,2,3,4,5]\n",
    "L_1 = []\n",
    "for i in L:\n",
    "    L_1.append(str(i))\n",
    "a = ','.join(L_1)\n",
    "print(a)\n",
    "\n",
    "# https://blog.csdn.net/flyer_tang/article/details/80417173 解决报错：TypeError:'str' object is not callable 问题解决办法"
   ]
  },
  {
   "cell_type": "code",
   "execution_count": 2,
   "metadata": {},
   "outputs": [
    {
     "name": "stdout",
     "output_type": "stream",
     "text": [
      "1,2,3,4,5\n"
     ]
    }
   ],
   "source": [
    "L = [1,2,3,4,5]\n",
    "print(','.join(str(n) for n in L))"
   ]
  },
  {
   "cell_type": "code",
   "execution_count": 22,
   "metadata": {},
   "outputs": [
    {
     "name": "stdout",
     "output_type": "stream",
     "text": [
      "警告的颜色字体?\n",
      "\u001b[92m警告的颜色字体?\n",
      "\u001b[95m警告的颜色字体?\n",
      "\u001b[94m警告的颜色字体?\n",
      "\u001b[93m警告的颜色字体?\n",
      "\u001b[91m警告的颜色字体?\n",
      "\u001b[1m警告的颜色字体?\n",
      "\u001b[4m警告的颜色字体?\n",
      "\u001b[94m警告的颜色字体?\u001b[0m\n",
      "警告的颜色字体?\n"
     ]
    }
   ],
   "source": [
    "\"\"\"\n",
    "实例035：设置输出颜色\n",
    "**题目：**文本颜色设置。\n",
    "\n",
    "**程序分析：**无。\n",
    "\"\"\"\n",
    "\n",
    "class bcolors:\n",
    "    HEADER = '\\033[95m' # 紫色\n",
    "    OKBLUE = '\\033[94m' # 蓝色\n",
    "    OKGREEN = '\\033[92m' # 绿色\n",
    "    WARNING = '\\033[93m' # 黄色\n",
    "    FAIL = '\\033[91m' # 红色\n",
    "    ENDC = '\\033[0m' # 还原（通常加在字符串的最后面，防止影响后面的字符串颜色输出）\n",
    "    BOLD = '\\033[1m' # 加粗\n",
    "    UNDERLINE = '\\033[4m' # 下划线\n",
    "print(\"警告的颜色字体?\")\n",
    "print(bcolors.OKGREEN + \"警告的颜色字体?\")\n",
    "print(bcolors.HEADER + \"警告的颜色字体?\")\n",
    "print(bcolors.OKBLUE + \"警告的颜色字体?\")\n",
    "print(bcolors.WARNING + \"警告的颜色字体?\")\n",
    "print(bcolors.FAIL + \"警告的颜色字体?\")\n",
    "print(bcolors.BOLD + \"警告的颜色字体?\")\n",
    "print(bcolors.UNDERLINE + \"警告的颜色字体?\")\n",
    "\n",
    "print(bcolors.OKBLUE + \"警告的颜色字体?\" + bcolors.ENDC)\n",
    "print(\"警告的颜色字体?\") # 还原（通常加在字符串的最后面，防止影响后面的字符串颜色输出）不会影响这条打印的输出"
   ]
  },
  {
   "cell_type": "code",
   "execution_count": 23,
   "metadata": {},
   "outputs": [
    {
     "name": "stdout",
     "output_type": "stream",
     "text": [
      "下限：0\n",
      "上限：100\n",
      "2\n",
      "3\n",
      "5\n",
      "7\n",
      "11\n",
      "13\n",
      "17\n",
      "19\n",
      "23\n",
      "29\n",
      "31\n",
      "37\n",
      "41\n",
      "43\n",
      "47\n",
      "53\n",
      "59\n",
      "61\n",
      "67\n",
      "71\n",
      "73\n",
      "79\n",
      "83\n",
      "89\n",
      "97\n"
     ]
    }
   ],
   "source": [
    "\"\"\"\n",
    "实例036：算素数\n",
    "**题目：**求100之内的素数。\n",
    "\n",
    "**程序分析：**用else执行for循环的奖励代码（如果for是正常完结，非break）。\n",
    "\"\"\"\n",
    "\n",
    "lo=int(input('下限：'))\n",
    "hi=int(input('上限：'))\n",
    "for i in range(lo,hi+1):\n",
    "    if i > 1:\n",
    "        for j in range(2,i):\n",
    "            if (i % j) == 0: #这也是一种if和else的配合，注意这种方法的巧妙之处（2，2）直接跳到else\n",
    "                break\n",
    "        else:\n",
    "            print(i)"
   ]
  },
  {
   "cell_type": "code",
   "execution_count": 24,
   "metadata": {},
   "outputs": [
    {
     "name": "stdout",
     "output_type": "stream",
     "text": [
      "int0: 1\n",
      "int1: 2\n",
      "int2: 5\n",
      "int3: 2\n",
      "int4: 4\n",
      "int5: 6\n",
      "int6: 8\n",
      "int7: 43\n",
      "int8: 25\n",
      "int9: 1\n",
      "[1, 1, 2, 2, 4, 5, 6, 8, 25, 43]\n"
     ]
    }
   ],
   "source": [
    "\"\"\"\n",
    "实例037：排序\n",
    "**题目：**对10个数进行排序。\n",
    "\n",
    "**程序分析：**同实例005。\n",
    "\"\"\"\n",
    "\n",
    "# 冒泡思维\n",
    "raw=[]\n",
    "for i in range(10):\n",
    "    x=int(input('int%d: '%(i)))\n",
    "    raw.append(x)\n",
    "    \n",
    "for i in range(len(raw)):\n",
    "    for j in range(i,len(raw)):\n",
    "        if raw[i]>raw[j]:\n",
    "            raw[i],raw[j]=raw[j],raw[i]\n",
    "print(raw)"
   ]
  },
  {
   "cell_type": "code",
   "execution_count": 25,
   "metadata": {},
   "outputs": [
    {
     "name": "stdout",
     "output_type": "stream",
     "text": [
      "11\n"
     ]
    }
   ],
   "source": [
    "\"\"\"\n",
    "实例038：矩阵对角线之和\n",
    "**题目：**求一个3*3矩阵主对角线元素之和。\n",
    "\n",
    "**程序分析：**无。\n",
    "\"\"\"\n",
    "\n",
    "mat=[[1,2,3],\n",
    "     [3,4,5],\n",
    "     [4,5,6]\n",
    "    ]\n",
    "res=0\n",
    "for i in range(len(mat)):\n",
    "    res+=mat[i][i]\n",
    "print(res)"
   ]
  },
  {
   "cell_type": "code",
   "execution_count": 26,
   "metadata": {},
   "outputs": [
    {
     "name": "stdout",
     "output_type": "stream",
     "text": [
      "insert a number: 5\n",
      "[1, 5, 10, 100, 1000, 10000, 100000]\n"
     ]
    }
   ],
   "source": [
    "\"\"\"\n",
    "实例039：有序列表插入元素\n",
    "**题目：**有一个已经排好序的数组。现输入一个数，要求按原来的规律将它插入数组中。\n",
    "\n",
    "**程序分析：**首先判断此数是否大于最后一个数，然后再考虑插入中间的数的情况，插入后此元素之后的数，依次后移一个位置。\n",
    "\"\"\"\n",
    "\n",
    "lis=[1,10,100,1000,10000,100000]\n",
    "n=int(input('insert a number: '))\n",
    "lis.append(n)\n",
    "for i in range(len(lis)-1):\n",
    "    if lis[i]>=n:\n",
    "        for j in range(i,len(lis)):\n",
    "            lis[j],lis[-1]=lis[-1],lis[j] #这也是一种for循环和else的配合，注意这种方法的巧妙之处（6，6）直接跳到break\n",
    "        break\n",
    "print(lis)"
   ]
  },
  {
   "cell_type": "code",
   "execution_count": 28,
   "metadata": {},
   "outputs": [
    {
     "name": "stdout",
     "output_type": "stream",
     "text": [
      "insert a number: 45\n"
     ]
    },
    {
     "data": {
      "text/plain": [
       "[100000, 10000, 1000, 100, 45, 10, 1]"
      ]
     },
     "execution_count": 28,
     "metadata": {},
     "output_type": "execute_result"
    }
   ],
   "source": [
    "lis=[1,10,100,1000,10000,100000]\n",
    "n=int(input('insert a number: '))\n",
    "lis.append(n)\n",
    "lis.sort()\n",
    "lis.reverse()\n",
    "lis"
   ]
  },
  {
   "cell_type": "code",
   "execution_count": 30,
   "metadata": {},
   "outputs": [
    {
     "name": "stdout",
     "output_type": "stream",
     "text": [
      "0\n",
      "0\n",
      "--------------------------------------------------\n",
      "0\n",
      "1\n",
      "--------------------------------------------------\n",
      "0\n",
      "2\n",
      "--------------------------------------------------\n",
      "0\n",
      "3\n",
      "--------------------------------------------------\n",
      "0\n",
      "4\n",
      "--------------------------------------------------\n",
      "0\n",
      "5\n",
      "--------------------------------------------------\n",
      "0\n",
      "6\n",
      "--------------------------------------------------\n",
      "0\n",
      "7\n",
      "--------------------------------------------------\n",
      "0\n",
      "8\n",
      "--------------------------------------------------\n",
      "0\n",
      "9\n",
      "--------------------------------------------------\n",
      "0\n",
      "10\n",
      "--------------------------------------------------\n",
      "0\n",
      "11\n",
      "--------------------------------------------------\n",
      "0\n",
      "12\n",
      "--------------------------------------------------\n",
      "0\n",
      "13\n",
      "--------------------------------------------------\n",
      "0\n",
      "14\n",
      "--------------------------------------------------\n",
      "0\n",
      "15\n",
      "--------------------------------------------------\n",
      "0\n",
      "16\n",
      "--------------------------------------------------\n",
      "0\n",
      "17\n",
      "--------------------------------------------------\n",
      "0\n",
      "18\n",
      "--------------------------------------------------\n",
      "0\n",
      "19\n",
      "--------------------------------------------------\n",
      "0\n",
      "20\n",
      "--------------------------------------------------\n",
      "0\n",
      "21\n",
      "--------------------------------------------------\n",
      "0\n",
      "22\n",
      "--------------------------------------------------\n",
      "0\n",
      "23\n",
      "--------------------------------------------------\n",
      "0\n",
      "24\n",
      "--------------------------------------------------\n",
      "0\n",
      "25\n",
      "--------------------------------------------------\n",
      "0\n",
      "26\n",
      "--------------------------------------------------\n",
      "0\n",
      "27\n",
      "--------------------------------------------------\n",
      "0\n",
      "28\n",
      "--------------------------------------------------\n",
      "0\n",
      "29\n",
      "--------------------------------------------------\n",
      "0\n",
      "30\n",
      "--------------------------------------------------\n",
      "0\n",
      "31\n",
      "--------------------------------------------------\n",
      "0\n",
      "32\n",
      "--------------------------------------------------\n",
      "0\n",
      "33\n",
      "--------------------------------------------------\n",
      "0\n",
      "34\n",
      "--------------------------------------------------\n",
      "0\n",
      "35\n",
      "--------------------------------------------------\n",
      "0\n",
      "36\n",
      "--------------------------------------------------\n",
      "0\n",
      "37\n",
      "--------------------------------------------------\n",
      "0\n",
      "38\n",
      "--------------------------------------------------\n",
      "0\n",
      "39\n",
      "--------------------------------------------------\n",
      "0\n",
      "40\n",
      "--------------------------------------------------\n",
      "0\n",
      "41\n",
      "--------------------------------------------------\n",
      "0\n",
      "42\n",
      "--------------------------------------------------\n",
      "0\n",
      "43\n",
      "--------------------------------------------------\n",
      "0\n",
      "44\n",
      "--------------------------------------------------\n",
      "0\n",
      "45\n",
      "--------------------------------------------------\n",
      "0\n",
      "46\n",
      "--------------------------------------------------\n",
      "0\n",
      "47\n",
      "--------------------------------------------------\n",
      "0\n",
      "48\n",
      "--------------------------------------------------\n",
      "0\n",
      "49\n",
      "--------------------------------------------------\n"
     ]
    }
   ],
   "source": [
    "\"\"\"\n",
    "实例041：类的方法与变量\n",
    "**题目：**模仿静态变量的用法。\n",
    "\n",
    "**程序分析：**构造类，了解类的方法与变量。\n",
    "\"\"\"\n",
    "\n",
    "def dummy():\n",
    "    i=0\n",
    "    print(i)\n",
    "    i+=1\n",
    "\n",
    "class cls:\n",
    "    i=0\n",
    "    def dummy(self):\n",
    "        print(self.i)\n",
    "        self.i+=1\n",
    "\n",
    "a=cls()\n",
    "for i in range(50):\n",
    "    dummy()\n",
    "    a.dummy()\n",
    "    print(\"-\"*50)"
   ]
  },
  {
   "cell_type": "code",
   "execution_count": 32,
   "metadata": {},
   "outputs": [
    {
     "name": "stdout",
     "output_type": "stream",
     "text": [
      "函数内部的同名变量\n",
      "0\n",
      "0\n",
      "--------------------------------------------------\n",
      "1\n",
      "0\n",
      "--------------------------------------------------\n",
      "2\n",
      "0\n",
      "--------------------------------------------------\n",
      "3\n",
      "0\n",
      "--------------------------------------------------\n",
      "4\n",
      "0\n",
      "--------------------------------------------------\n",
      "5\n",
      "0\n",
      "--------------------------------------------------\n",
      "6\n",
      "0\n",
      "--------------------------------------------------\n",
      "7\n",
      "0\n",
      "--------------------------------------------------\n",
      "8\n",
      "0\n",
      "--------------------------------------------------\n",
      "9\n",
      "0\n",
      "--------------------------------------------------\n",
      "10\n",
      "0\n",
      "--------------------------------------------------\n",
      "11\n",
      "0\n",
      "--------------------------------------------------\n",
      "12\n",
      "0\n",
      "--------------------------------------------------\n",
      "13\n",
      "0\n",
      "--------------------------------------------------\n",
      "14\n",
      "0\n",
      "--------------------------------------------------\n",
      "15\n",
      "0\n",
      "--------------------------------------------------\n",
      "16\n",
      "0\n",
      "--------------------------------------------------\n",
      "17\n",
      "0\n",
      "--------------------------------------------------\n",
      "18\n",
      "0\n",
      "--------------------------------------------------\n",
      "19\n",
      "0\n",
      "--------------------------------------------------\n",
      "global声明同名变量\n",
      "0\n",
      "0\n",
      "--------------------------------------------------\n",
      "11\n",
      "11\n",
      "--------------------------------------------------\n",
      "22\n",
      "22\n",
      "--------------------------------------------------\n",
      "33\n",
      "33\n",
      "--------------------------------------------------\n",
      "44\n",
      "44\n",
      "--------------------------------------------------\n",
      "55\n",
      "55\n",
      "--------------------------------------------------\n",
      "66\n",
      "66\n",
      "--------------------------------------------------\n",
      "77\n",
      "77\n",
      "--------------------------------------------------\n",
      "88\n",
      "88\n",
      "--------------------------------------------------\n",
      "99\n",
      "99\n",
      "--------------------------------------------------\n",
      "110\n",
      "110\n",
      "--------------------------------------------------\n",
      "121\n",
      "121\n",
      "--------------------------------------------------\n",
      "132\n",
      "132\n",
      "--------------------------------------------------\n",
      "143\n",
      "143\n",
      "--------------------------------------------------\n",
      "154\n",
      "154\n",
      "--------------------------------------------------\n",
      "165\n",
      "165\n",
      "--------------------------------------------------\n",
      "176\n",
      "176\n",
      "--------------------------------------------------\n",
      "187\n",
      "187\n",
      "--------------------------------------------------\n",
      "198\n",
      "198\n",
      "--------------------------------------------------\n",
      "209\n",
      "209\n",
      "--------------------------------------------------\n"
     ]
    }
   ],
   "source": [
    "\"\"\"\n",
    "实例042：变量作用域\n",
    "**题目：**学习使用auto定义变量的用法。\n",
    "\n",
    "**程序分析：**python中的变量作用域。\n",
    "\"\"\"\n",
    "\n",
    "i=0\n",
    "n=0\n",
    "def dummy():\n",
    "    i=0\n",
    "    print(i)\n",
    "    i+=1\n",
    "def dummy2():\n",
    "    global n\n",
    "    print(n)\n",
    "    n+=1\n",
    "print('函数内部的同名变量')\n",
    "for j in range(20):\n",
    "    print(i)\n",
    "    dummy()\n",
    "    print(\"-\"*50)\n",
    "    i+=1\n",
    "print('global声明同名变量')\n",
    "for k in range(20):\n",
    "    print(n)\n",
    "    dummy2()\n",
    "    print(\"-\"*50)\n",
    "    n+=10"
   ]
  },
  {
   "cell_type": "code",
   "execution_count": 33,
   "metadata": {},
   "outputs": [
    {
     "name": "stdout",
     "output_type": "stream",
     "text": [
      "class dummy num: 1\n",
      "global num:  10\n",
      "class dummy num: 2\n",
      "global num:  100\n",
      "class dummy num: 3\n",
      "global num:  1000\n",
      "class dummy num: 4\n",
      "global num:  10000\n",
      "class dummy num: 5\n",
      "global num:  100000\n"
     ]
    }
   ],
   "source": [
    "\"\"\"\n",
    "实例043：作用域、类的方法与变量\n",
    "**题目：**模仿静态变量(static)另一案例。\n",
    "\n",
    "**程序分析：**综合实例041和实例042。\n",
    "\"\"\"\n",
    "\n",
    "class dummy:\n",
    "    num=1\n",
    "    def Num(self):\n",
    "        print('class dummy num:',self.num)\n",
    "        print('global num: ',num)\n",
    "        self.num+=1\n",
    "\n",
    "n=dummy()\n",
    "num=1\n",
    "for i in range(5):\n",
    "    num*=10\n",
    "    n.Num()"
   ]
  },
  {
   "cell_type": "code",
   "execution_count": 34,
   "metadata": {},
   "outputs": [
    {
     "name": "stdout",
     "output_type": "stream",
     "text": [
      "[[17, 15, 4], [10, 12, 9], [11, 13, 18]]\n"
     ]
    }
   ],
   "source": [
    "\"\"\"\n",
    "实例044：矩阵相加\n",
    "**题目：**计算两个矩阵相加。\n",
    "\n",
    "**程序分析：**创建一个新的矩阵，使用 for 迭代并取出 X 和 Y 矩阵中对应位置的值，相加后放到新矩阵的对应位置中。\n",
    "\"\"\"\n",
    "\n",
    "X = [[12,7,3],\n",
    "    [4 ,5,6],\n",
    "    [7 ,8,9]]\n",
    " \n",
    "Y = [[5,8,1],\n",
    "    [6,7,3],\n",
    "    [4,5,9]]\n",
    " \n",
    "res=[[0,0,0],\n",
    "    [0,0,0],\n",
    "    [0,0,0]]\n",
    "for i in range(len(res)):\n",
    "    for j in range(len(res[0])):\n",
    "        res[i][j]=X[i][j]+Y[i][j]\n",
    "print(res)\n"
   ]
  },
  {
   "cell_type": "code",
   "execution_count": 35,
   "metadata": {},
   "outputs": [
    {
     "name": "stdout",
     "output_type": "stream",
     "text": [
      "[[17 15  4]\n",
      " [10 12  9]\n",
      " [11 13 18]]\n"
     ]
    }
   ],
   "source": [
    "import numpy as np\n",
    "x = np.array( [[12,7,3],\n",
    "               [4 ,5,6],\n",
    "               [7 ,8,9]])\n",
    "y = np.array( [[5,8,1],\n",
    "               [6,7,3],\n",
    "               [4,5,9]])\n",
    "z = x+y\n",
    "print(z)"
   ]
  },
  {
   "cell_type": "code",
   "execution_count": 37,
   "metadata": {},
   "outputs": [
    {
     "name": "stdout",
     "output_type": "stream",
     "text": [
      "[[12, 7, 3], [4, 5, 6], [7, 8, 9], [5, 8, 1], [6, 7, 3], [4, 5, 9]]\n"
     ]
    }
   ],
   "source": [
    "# 如果直接相加，则是将两个列表合并\n",
    "\n",
    "x =  [[12,7,3],\n",
    "      [4 ,5,6],\n",
    "      [7 ,8,9]]\n",
    "y =  [[5,8,1],\n",
    "      [6,7,3],\n",
    "      [4,5,9]]\n",
    "z = x+y\n",
    "print(z)"
   ]
  },
  {
   "cell_type": "code",
   "execution_count": 40,
   "metadata": {},
   "outputs": [
    {
     "name": "stdout",
     "output_type": "stream",
     "text": [
      "5050\n"
     ]
    }
   ],
   "source": [
    "\"\"\"\n",
    "实例045：求和\n",
    "**题目：**统计 1 到 100 之和。\n",
    "\n",
    "**程序分析：**无\n",
    "\"\"\"\n",
    "\n",
    "res=0\n",
    "for i in range(1,101):\n",
    "    res+=i\n",
    "print(res)"
   ]
  },
  {
   "cell_type": "code",
   "execution_count": 43,
   "metadata": {},
   "outputs": [
    {
     "name": "stdout",
     "output_type": "stream",
     "text": [
      "输入一个数字：15\n",
      "其平方为： 225.0\n",
      "输入一个数字：10\n",
      "其平方为： 100.0\n",
      "输入一个数字：20\n",
      "其平方为： 400.0\n",
      "输入一个数字：8\n",
      "其平方为： 64.0\n",
      "输入一个数字：9.9\n",
      "其平方为： 98.01\n",
      "输入一个数字：7.7\n",
      "其平方为： 59.290000000000006\n",
      "输入一个数字：6\n",
      "其平方为： 36.0\n",
      "平方小于50，退出\n"
     ]
    }
   ],
   "source": [
    "\"\"\"\n",
    "实例046：打破循环\n",
    "**题目：**求输入数字的平方，如果平方运算后小于 50 则退出。\n",
    "\n",
    "**程序分析：**无\n",
    "\"\"\"\n",
    "\n",
    "while True:\n",
    "    try:\n",
    "        n=float(input('输入一个数字：'))\n",
    "    except:\n",
    "        print('输入错误')\n",
    "        continue\n",
    "    dn=n**2\n",
    "    print('其平方为：',dn)\n",
    "    if dn<50:\n",
    "        print('平方小于50，退出')\n",
    "        break"
   ]
  },
  {
   "cell_type": "code",
   "execution_count": 46,
   "metadata": {},
   "outputs": [
    {
     "name": "stdout",
     "output_type": "stream",
     "text": [
      "10 0\n"
     ]
    }
   ],
   "source": [
    "\"\"\"\n",
    "实例047：函数交换变量\n",
    "**题目：**两个变量值用函数互换。\n",
    "\n",
    "**程序分析：**无\n",
    "\"\"\"\n",
    "\n",
    "def exc(a,b):\n",
    "    return b,a\n",
    "a=0\n",
    "b=10\n",
    "a,b=exc(a,b)\n",
    "print(a,b)"
   ]
  },
  {
   "cell_type": "raw",
   "metadata": {},
   "source": [
    "\"\"\"\n",
    "实例049：lambda\n",
    "**题目：**使用lambda来创建匿名函数。\n",
    "\n",
    "**程序分析：**无\n",
    "\"\"\"\n",
    "\n",
    "Max=lambda x,y:x*(x>=y)+y*(y>x)\n",
    "Min=lambda x,y:x*(x<=y)+y*(y<x)\n",
    "\n",
    "a=int(input('1:'))\n",
    "b=int(input('2:'))\n",
    "\n",
    "print(Max(a,b))\n",
    "print(Min(a,b))"
   ]
  },
  {
   "cell_type": "code",
   "execution_count": 57,
   "metadata": {},
   "outputs": [
    {
     "name": "stdout",
     "output_type": "stream",
     "text": [
      "13.333791759439595 16\n"
     ]
    }
   ],
   "source": [
    "\"\"\"\n",
    "实例050：随机数\n",
    "**题目：**输出一个随机数。\n",
    "\n",
    "**程序分析：**使用 random 模块。\n",
    "\"\"\"\n",
    "\n",
    "import random\n",
    "a = random.uniform(10,20) # 随机浮点数\n",
    "f = random.randint(10,20) # 随机整数\n",
    "print(a,f)"
   ]
  },
  {
   "cell_type": "code",
   "execution_count": 59,
   "metadata": {},
   "outputs": [
    {
     "name": "stdout",
     "output_type": "stream",
     "text": [
      "63\n",
      "3\n",
      "3\n"
     ]
    }
   ],
   "source": [
    "\"\"\"\n",
    "实例051：按位与\n",
    "**题目：**学习使用按位与 & 。\n",
    "\n",
    "**程序分析：**0&0=0; 0&1=0; 1&0=0; 1&1=1。\n",
    "\"\"\"\n",
    "\n",
    "a=0o77\n",
    "print(a)\n",
    "b=a&3\n",
    "print(b)\n",
    "b=b&7\n",
    "print(b)"
   ]
  },
  {
   "cell_type": "code",
   "execution_count": 60,
   "metadata": {},
   "outputs": [
    {
     "name": "stdout",
     "output_type": "stream",
     "text": [
      "63\n",
      "63\n"
     ]
    }
   ],
   "source": [
    "\"\"\"\n",
    "实例052：按位或\n",
    "**题目：**学习使用按位或 | 。\n",
    "\n",
    "**程序分析：**0|0=0; 0|1=1; 1|0=1; 1|1=1\n",
    "\"\"\"\n",
    "\n",
    "a=0o77\n",
    "print(a|3)\n",
    "print(a|3|7)"
   ]
  },
  {
   "cell_type": "raw",
   "metadata": {},
   "source": [
    "\"\"\"\n",
    "实例053：按位异或\n",
    "**题目：**学习使用按位异或 ^ 。\n",
    "\n",
    "**程序分析：**0^0=0; 0^1=1; 1^0=1; 1^1=0\n",
    "\"\"\"\n",
    "\n",
    "a=0o77\n",
    "print(a^3)\n",
    "print(a^3^7)"
   ]
  },
  {
   "cell_type": "raw",
   "metadata": {},
   "source": [
    "\"\"\"\n",
    "实例054：位取反、位移动\n",
    "**题目：**取一个整数a从右端开始的4〜7位。\n",
    "\n",
    "**程序分析：**可以这样考虑： (1)先使a右移4位。 (2)设置一个低4位全为1,其余全为0的数。可用~(~0<<4) (3)将上面二者进行&运算。\n",
    "\"\"\"\n",
    "\n",
    "a=int(input('输入一个数字: '))\n",
    "b=0                 #     0\n",
    "b=~b                #     1\n",
    "b=b<<4              # 10000\n",
    "b=~b                #  1111\n",
    "c=a>>4\n",
    "d=c&b\n",
    "print('a:',bin(a))\n",
    "print('b:',bin(b))\n",
    "print('c:',bin(c))\n",
    "print('d:',bin(d))"
   ]
  },
  {
   "cell_type": "code",
   "execution_count": 66,
   "metadata": {},
   "outputs": [
    {
     "name": "stdout",
     "output_type": "stream",
     "text": [
      "-1\n",
      "-2\n",
      "-3\n",
      "-4\n",
      "-11\n",
      "-101\n",
      "-1001\n",
      "-10001\n",
      "0\n",
      "-235\n",
      "234\n"
     ]
    }
   ],
   "source": [
    "\"\"\"\n",
    "实例055：按位取反\n",
    "\n",
    "可以理解为取0为第一个正数，取坐标轴对称点。\n",
    "\"\"\"\n",
    "print(~0)\n",
    "print(~1)\n",
    "print(~2)\n",
    "print(~3)\n",
    "print(~10)\n",
    "print(~100)\n",
    "print(~1000)\n",
    "print(~10000)\n",
    "print(~-1)\n",
    "print(~234)\n",
    "print(~~234)"
   ]
  },
  {
   "cell_type": "code",
   "execution_count": 9,
   "metadata": {},
   "outputs": [
    {
     "name": "stdout",
     "output_type": "stream",
     "text": [
      "                  [1]                   \n",
      "                 [1, 1]                 \n",
      "               [1, 2, 1]                \n",
      "              [1, 3, 3, 1]              \n",
      "            [1, 4, 6, 4, 1]             \n",
      "          [1, 5, 10, 10, 5, 1]          \n",
      "        [1, 6, 15, 20, 15, 6, 1]        \n",
      "      [1, 7, 21, 35, 35, 21, 7, 1]      \n",
      "    [1, 8, 28, 56, 70, 56, 28, 8, 1]    \n",
      " [1, 9, 36, 84, 126, 126, 84, 36, 9, 1] \n"
     ]
    }
   ],
   "source": [
    "\"\"\"\n",
    "实例061：杨辉三角\n",
    "**题目：**打印出杨辉三角形前十行。　　\n",
    "\n",
    "**程序分析：**无。\n",
    "\n",
    "Python map() 函数\n",
    "https://www.runoob.com/python/python-func-map.html\n",
    "\"\"\"\n",
    "\n",
    "\n",
    "\n",
    "def generate(numRows):\n",
    "    r = [[1]]\n",
    "    for i in range(1,numRows):\n",
    "        r.append(list(map(lambda x,y:x+y, [0]+r[-1],r[-1]+[0])))\n",
    "    return r[:numRows]\n",
    "a=generate(10)\n",
    "for i in a:\n",
    "    print(\"{}\".format(i).center(40,' '))"
   ]
  },
  {
   "cell_type": "code",
   "execution_count": 20,
   "metadata": {},
   "outputs": [
    {
     "data": {
      "text/plain": [
       "[8, 2, 5, 7, 3, 5, 1]"
      ]
     },
     "execution_count": 20,
     "metadata": {},
     "output_type": "execute_result"
    }
   ],
   "source": [
    "\"\"\"\n",
    "实例067：交换位置\n",
    "**题目：**输入数组，最大的与第一个元素交换，最小的与最后一个元素交换，输出数组。\n",
    "\n",
    "**程序分析：**无。\n",
    "\"\"\"\n",
    "\n",
    "li=[3,2,5,7,8,1,5]\n",
    "\n",
    "li[-1],li[li.index(min(li))]=li[li.index(min(li))],li[-1]\n",
    "\n",
    "m=li[0]\n",
    "ind=li.index(max(li))\n",
    "li[0]=li[ind]\n",
    "li[ind]=m\n",
    "\n",
    "li"
   ]
  },
  {
   "cell_type": "code",
   "execution_count": 22,
   "metadata": {},
   "outputs": [
    {
     "name": "stdout",
     "output_type": "stream",
     "text": [
      "[1, 2, 3, 4, 5, 6, 7, 8, 9]\n",
      "rotate:5\n",
      "[5, 6, 7, 8, 9, 1, 2, 3, 4]\n"
     ]
    }
   ],
   "source": [
    "\"\"\"\n",
    "实例068：旋转数列\n",
    "**题目：**有n个整数，使其前面各数顺序向后移m个位置，最后m个数变成最前面的m个数\n",
    "\n",
    "**程序分析：**无。\n",
    "\"\"\"\n",
    "\n",
    "from collections import *\n",
    "li=[1,2,3,4,5,6,7,8,9]\n",
    "deq=deque(li,maxlen=len(li))\n",
    "print(li)\n",
    "deq.rotate(int(input('rotate:')))\n",
    "print(list(deq))"
   ]
  },
  {
   "cell_type": "raw",
   "metadata": {},
   "source": [
    "\"\"\"\n",
    "实例069：报数\n",
    "**题目：**有n个人围成一圈，顺序排号。从第一个人开始报数（从1到3报数），凡报到3的人退出圈子，问最后留下的是原来第几号的那位。\n",
    "\n",
    "**程序分析：**无。\n",
    "\"\"\"\n",
    "\n",
    "if __name__ == '__main__':\n",
    "    nmax = 50\n",
    "    n = int(input('请输入总人数:'))\n",
    "    num = []\n",
    "    for i in range(n):\n",
    "        num.append(i + 1)\n",
    " \n",
    "    i = 0\n",
    "    k = 0\n",
    "    m = 0\n",
    " \n",
    "    while m < n - 1:\n",
    "        if num[i] != 0 : k += 1\n",
    "        if k == 3:\n",
    "            num[i] = 0\n",
    "            k = 0\n",
    "            m += 1\n",
    "        i += 1\n",
    "        if i == n : i = 0\n",
    " \n",
    "    i = 0\n",
    "    while num[i] == 0: i += 1\n",
    "    print(num[i])"
   ]
  },
  {
   "cell_type": "raw",
   "metadata": {},
   "source": [
    "\"\"\"\n",
    "实例072：创建链表\n",
    "**题目：**创建一个链表。\n",
    "\n",
    "**程序分析：**原文不太靠谱。\n",
    "\"\"\"\n",
    "\n",
    "class Node:\n",
    "\n",
    "    def __init__(self, data):\n",
    "        self.data = data\n",
    "        self.next = None\n",
    "\n",
    "    def get_data(self):\n",
    "        return self.data\n",
    "\n",
    "class List:\n",
    "\n",
    "    def __init__(self, head):\n",
    "        self.head = head\n",
    "\n",
    "    def is_empty(self): \n",
    "        return self.get_len() == 0\n",
    "\n",
    "    def get_len(self):  \n",
    "        length = 0\n",
    "        temp = self.head\n",
    "        while temp is not None:\n",
    "            length += 1\n",
    "            temp = temp.next\n",
    "        return length\n",
    "\n",
    "    def append(self, node):\n",
    "        temp = self.head\n",
    "        while temp.next is not None:\n",
    "            temp = temp.next\n",
    "        temp.next = node\n",
    "\n",
    "    def delete(self, index): \n",
    "        if index < 1 or index > self.get_len():\n",
    "            print(\"给定位置不合理\")\n",
    "            return\n",
    "        if index == 1:\n",
    "            self.head = self.head.next\n",
    "            return\n",
    "        temp = self.head\n",
    "        cur_pos = 0\n",
    "        while temp is not None:\n",
    "            cur_pos += 1\n",
    "            if cur_pos == index-1:\n",
    "                temp.next = temp.next.next\n",
    "            temp = temp.next\n",
    "\n",
    "    def insert(self, pos, node):\n",
    "        if pos < 1 or pos > self.get_len():\n",
    "            print(\"插入结点位置不合理\")\n",
    "            return\n",
    "        temp = self.head\n",
    "        cur_pos = 0\n",
    "        while temp is not Node:\n",
    "            cur_pos += 1\n",
    "            if cur_pos == pos-1:\n",
    "                node.next = temp.next\n",
    "                temp.next =node\n",
    "                break\n",
    "            temp = temp.next\n",
    "\n",
    "    def reverse(self, head):\n",
    "        if head is None and head.next is None:\n",
    "            return head\n",
    "        pre = head\n",
    "        cur = head.next\n",
    "        while cur is not None:\n",
    "            temp = cur.next\n",
    "            cur.next = pre\n",
    "            pre = cur\n",
    "            cur = temp\n",
    "        head.next = None\n",
    "        return pre\n",
    "\n",
    "    def print_list(self, head):\n",
    "        init_data = []\n",
    "        while head is not None:\n",
    "            init_data.append(head.get_data())\n",
    "            head = head.next\n",
    "        return init_data\n",
    "\n",
    "if __name__=='__main__':\n",
    "    head=Node('head')\n",
    "    link=List(head)\n",
    "    for i in range(10):\n",
    "        node=Node(i)\n",
    "        link.append(node)\n",
    "    print(link.print_list(head))"
   ]
  },
  {
   "cell_type": "code",
   "execution_count": 38,
   "metadata": {},
   "outputs": [
    {
     "name": "stdout",
     "output_type": "stream",
     "text": [
      "[0, 2, 4, 6, 7, 8]\n"
     ]
    }
   ],
   "source": [
    "\"\"\"\n",
    "实例074：列表排序、连接\n",
    "**题目：**列表排序及连接。\n",
    "\n",
    "**程序分析：**排序可使用 sort() 方法，连接可以使用 + 号或 extend() 方法。\n",
    "\"\"\"\n",
    "\n",
    "a=[2,6,8]\n",
    "b=[7,0,4]\n",
    "a.extend(b)\n",
    "# a = a + b\n",
    "a.sort()\n",
    "print(a)"
   ]
  },
  {
   "cell_type": "code",
   "execution_count": 40,
   "metadata": {},
   "outputs": [
    {
     "name": "stdout",
     "output_type": "stream",
     "text": [
      "input a number: 55\n",
      "2.6478838353000462\n"
     ]
    }
   ],
   "source": [
    "\"\"\"\n",
    "实例076：做函数\n",
    "**题目：**编写一个函数，输入n为偶数时，调用函数求1/2+1/4+...+1/n,当输入n为奇数时，调用函数1/1+1/3+...+1/n\n",
    "\n",
    "**程序分析：**无。\n",
    "\"\"\"\n",
    "\n",
    "def peven(n):\n",
    "    i = 0\n",
    "    s = 0.0\n",
    "    for i in range(2,n + 1,2):\n",
    "        s += 1.0 / i\n",
    "    return s\n",
    " \n",
    "def podd(n):\n",
    "    s = 0.0\n",
    "    for i in range(1, n + 1,2):\n",
    "        s += 1.0 / i\n",
    "    return s\n",
    " \n",
    "def dcall(fp,n):\n",
    "    s = fp(n)\n",
    "    return s\n",
    " \n",
    "if __name__ == '__main__':\n",
    "    n = int(input('input a number: '))\n",
    "    if n % 2 == 0:\n",
    "        sum = dcall(peven,n)\n",
    "    else:\n",
    "        sum = dcall(podd,n)\n",
    "    print (sum)"
   ]
  },
  {
   "cell_type": "raw",
   "metadata": {},
   "source": [
    "\"\"\"\n",
    "实例078：字典\n",
    "**题目：**找到年龄最大的人，并输出。请找出程序中有什么问题。\n",
    "\n",
    "**程序分析：**无。\n",
    "\"\"\"\n",
    "\n",
    "if __name__ == '__main__':\n",
    "    person = {\"li\":18,\"wang\":50,\"zhang\":20,\"sun\":22}\n",
    "    m = 'li'\n",
    "    for key in person.keys():\n",
    "        if person[m] < person[key]:\n",
    "            m = key\n",
    " \n",
    "    print ('%s,%d' % (m,person[m]))"
   ]
  },
  {
   "cell_type": "code",
   "execution_count": 53,
   "metadata": {},
   "outputs": [
    {
     "name": "stdout",
     "output_type": "stream",
     "text": [
      "1234\n",
      "9876\n"
     ]
    }
   ],
   "source": [
    "\"\"\"\n",
    "实例089：解码\n",
    "**题目：**某个公司采用公用电话传递数据，数据是四位的整数，在传递过程中是加密的，加密规则如下：\n",
    "每位数字都加上5,然后用和除以10的余数代替该数字，再将第一位和第四位交换，第二位和第三位交换。\n",
    "\n",
    "**程序分析：**无。\n",
    "\"\"\"\n",
    "\n",
    "n=input()\n",
    "n = str(n)\n",
    "a=[]\n",
    "for i in range(4):\n",
    "    a.append((int(n[i])+5)%10)\n",
    "a[0],a[3]=a[3],a[0]\n",
    "a[1],a[2]=a[2],a[1]\n",
    "print (\"\".join('%s' %s for s in a))"
   ]
  },
  {
   "cell_type": "code",
   "execution_count": 1,
   "metadata": {},
   "outputs": [
    {
     "name": "stdout",
     "output_type": "stream",
     "text": [
      "3121.0\n",
      "1020.0\n"
     ]
    }
   ],
   "source": [
    "\"\"\"\n",
    "实例080：猴子分桃\n",
    "**题目：**海滩上有一堆桃子，五只猴子来分。第一只猴子把这堆桃子平均分为五份，\n",
    "多了一个，这只猴子把多的一个扔入海中，拿走了一份。第二只猴子把剩下的桃子又平均分成五份，\n",
    "又多了一个，它同样把多的一个扔入海中，拿走了一份，第三、第四、第五只猴子都是这样做的，问海滩上原来最少有多少个桃子？\n",
    "\n",
    "**程序分析：**无。\n",
    "\"\"\"\n",
    "\n",
    "if __name__ == '__main__':\n",
    "    i = 0\n",
    "    j = 1\n",
    "    x = 0\n",
    "    while (i < 5) :\n",
    "        x = 4 * j\n",
    "        for i in range(0,5) :\n",
    "            if(x%4 != 0) :\n",
    "                break\n",
    "            else :\n",
    "                i += 1\n",
    "            x = (x/4) * 5 +1\n",
    "        j += 1\n",
    "    print(x)\n",
    "\n",
    "    for p in range(5):\n",
    "        x=(x-1)/5*4\n",
    "    print(x)"
   ]
  },
  {
   "cell_type": "code",
   "execution_count": null,
   "metadata": {},
   "outputs": [],
   "source": []
  }
 ],
 "metadata": {
  "kernelspec": {
   "display_name": "Python 3",
   "language": "python",
   "name": "python3"
  },
  "language_info": {
   "codemirror_mode": {
    "name": "ipython",
    "version": 3
   },
   "file_extension": ".py",
   "mimetype": "text/x-python",
   "name": "python",
   "nbconvert_exporter": "python",
   "pygments_lexer": "ipython3",
   "version": "3.7.3"
  }
 },
 "nbformat": 4,
 "nbformat_minor": 4
}
