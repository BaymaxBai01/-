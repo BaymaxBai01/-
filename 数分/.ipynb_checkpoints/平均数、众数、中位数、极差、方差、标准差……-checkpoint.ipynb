{
 "cells": [
  {
   "cell_type": "code",
   "execution_count": 12,
   "metadata": {},
   "outputs": [
    {
     "name": "stdout",
     "output_type": "stream",
     "text": [
      "请逐条添加数据！  （若退出请输入0000）\n",
      "请输入:\n",
      "1\n",
      "请输入:\n",
      "2\n",
      "请输入:\n",
      "3\n",
      "请输入:\n",
      "4\n",
      "请输入:\n",
      "5\n",
      "请输入:\n",
      "4\n",
      "请输入:\n",
      "3\n",
      "请输入:\n",
      "4\n",
      "请输入:\n",
      "5\n",
      "请输入:\n",
      "4\n",
      "请输入:\n",
      "3\n",
      "请输入:\n",
      "4\n",
      "请输入:\n",
      "5\n",
      "请输入:\n",
      "6\n",
      "请输入:\n",
      "677\n",
      "请输入:\n",
      "11\n",
      "请输入:\n",
      "0000\n"
     ]
    }
   ],
   "source": [
    "def num(a):\n",
    "    if float(a) == int(a):\n",
    "        return int(a)\n",
    "    return float(a)\n",
    "#添加数据\n",
    "li = []\n",
    "print(\"请逐条添加数据！  （若退出请输入0000）\")\n",
    "while True:\n",
    "    print(\"请输入:\")\n",
    "    x = input()\n",
    "    if x == \"0000\":\n",
    "        break\n",
    "    li.append(num(float(x)))"
   ]
  },
  {
   "cell_type": "code",
   "execution_count": 4,
   "metadata": {},
   "outputs": [
    {
     "name": "stdout",
     "output_type": "stream",
     "text": [
      "最大值： 112\n",
      "最小值： 1\n",
      "总和： 159\n"
     ]
    }
   ],
   "source": [
    "\"\"\"\n",
    "功能一：最大值、最小值、总和\n",
    "\"\"\"\n",
    "print(\"最大值：\",max(li))\n",
    "print(\"最小值：\",min(li))\n",
    "print(\"总和：\",sum(li))"
   ]
  },
  {
   "cell_type": "code",
   "execution_count": 40,
   "metadata": {},
   "outputs": [
    {
     "name": "stdout",
     "output_type": "stream",
     "text": [
      "平均数： 46.3125\n"
     ]
    }
   ],
   "source": [
    "\"\"\"\n",
    "功能二：平均数\n",
    "平均数，统计学术语，是表示一组数据集中趋势的量数，是指在一组数据中所有数据之和再除以这组数据的个数。\n",
    "它是反映数据集中趋势的一项指标。解答平均数应用题的关键在于确定“总数量”以及和总数量对应的总份数。\n",
    "\"\"\"\n",
    "avg = sum(li) / len(li)\n",
    "print(\"平均数：\",avg)"
   ]
  },
  {
   "cell_type": "code",
   "execution_count": 38,
   "metadata": {},
   "outputs": [
    {
     "name": "stdout",
     "output_type": "stream",
     "text": [
      "[1, 2, 3, 4, 5, 4, 3, 4, 5, 4, 3, 4, 5, 6, 677, 11]\n",
      "众数： 4\n"
     ]
    }
   ],
   "source": [
    "\"\"\"\n",
    "功能三：众数\n",
    "是一组数据中出现次数最多的数值，叫众数，有时众数在一组数中有好几个。\n",
    "\"\"\"\n",
    "print(li)\n",
    "\n",
    "d = {}\n",
    "\n",
    "for i in li:\n",
    "    ss = d.get(i)    \n",
    "    if ss == None:\n",
    "        d[i] = 1\n",
    "    else:\n",
    "        d[i] += 1\n",
    "\n",
    "for i in d.items():\n",
    "    if i[1] == max(d.values()):\n",
    "        print(\"众数：\",i[0])\n"
   ]
  },
  {
   "cell_type": "code",
   "execution_count": 39,
   "metadata": {},
   "outputs": [
    {
     "name": "stdout",
     "output_type": "stream",
     "text": [
      "中位数： 4.0\n"
     ]
    }
   ],
   "source": [
    "\"\"\"\n",
    "功能四：中位数\n",
    "对于有限的数集，可以通过把所有观察值高低排序后找出正中间的一个作为中位数。如果观察值有偶数个，通常取最中间的两个数值的平均数作为中位数。\n",
    "\"\"\"\n",
    "\n",
    "lis = sorted(li)\n",
    "if len(lis) % 2 == 1:\n",
    "    print(\"中位数：\",lis[int((len(lis) - 1) / 2)])\n",
    "else:\n",
    "    print(\"中位数：\",(lis[int(len(lis) / 2 - 1)] + lis[int(len(lis) / 2)]) / 2)"
   ]
  },
  {
   "cell_type": "code",
   "execution_count": 41,
   "metadata": {},
   "outputs": [
    {
     "name": "stdout",
     "output_type": "stream",
     "text": [
      "极差： 676\n"
     ]
    }
   ],
   "source": [
    "\"\"\"\n",
    "功能五：极差\n",
    "极差又称范围误差或全距(Range)，以R表示，\n",
    "是用来表示统计资料中的变异量数(measures of variation)，其最大值与最小值之间的差距，即最大值减最小值后所得之数据。\n",
    "\"\"\"\n",
    "\n",
    "print(\"极差：\",max(li) - min(li))"
   ]
  },
  {
   "cell_type": "code",
   "execution_count": 42,
   "metadata": {},
   "outputs": [
    {
     "name": "stdout",
     "output_type": "stream",
     "text": [
      "方差： 26522.21484375\n",
      "标准差： 162.8564240174455\n"
     ]
    }
   ],
   "source": [
    "\"\"\"\n",
    "功能六：方差与标准差\n",
    "统计中的方差（样本方差）是每个样本值与全体样本值的平均数之差的平方值的平均数。在许多实际问题中，研究方差即偏离程度有着重要意义。\n",
    "标准差（Standard Deviation） ，中文环境中又常称均方差，是离均差平方的算术平均数的平方根，用σ表示。标准差是方差的算术平方根。\n",
    "标准差能反映一个数据集的离散程度。平均数相同的两组数据，标准差未必相同。\n",
    "\"\"\"\n",
    "\n",
    "sum1 = 0\n",
    "for i in li:\n",
    "    sum1 += (i - avg) ** 2\n",
    "print(\"方差：\",sum1 / len(li))\n",
    "print(\"标准差：\",(sum1 / len(li)) ** (1 / 2))\n",
    "\n",
    "\"\"\"\n",
    " 方差越小越稳定。 例如,1.1.2.2,波动大,方差为0.25;而1.1.1.1,没有波动,方差就是0。 所以方差越小越稳定。\n",
    "\"\"\""
   ]
  },
  {
   "cell_type": "code",
   "execution_count": null,
   "metadata": {},
   "outputs": [],
   "source": []
  }
 ],
 "metadata": {
  "kernelspec": {
   "display_name": "Python 3",
   "language": "python",
   "name": "python3"
  },
  "language_info": {
   "codemirror_mode": {
    "name": "ipython",
    "version": 3
   },
   "file_extension": ".py",
   "mimetype": "text/x-python",
   "name": "python",
   "nbconvert_exporter": "python",
   "pygments_lexer": "ipython3",
   "version": "3.7.3"
  }
 },
 "nbformat": 4,
 "nbformat_minor": 4
}
