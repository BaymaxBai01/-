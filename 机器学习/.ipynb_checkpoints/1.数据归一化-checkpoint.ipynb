{
 "cells": [
  {
   "cell_type": "code",
   "execution_count": 1,
   "metadata": {},
   "outputs": [],
   "source": [
    "# 1.最值归一化 2.均值归一化"
   ]
  },
  {
   "cell_type": "code",
   "execution_count": 2,
   "metadata": {},
   "outputs": [],
   "source": [
    "import numpy as np"
   ]
  },
  {
   "cell_type": "markdown",
   "metadata": {},
   "source": [
    "# 最值归一化"
   ]
  },
  {
   "cell_type": "code",
   "execution_count": 3,
   "metadata": {},
   "outputs": [],
   "source": [
    "data = np.random.randint(1,100,size=100)\n",
    "data = np.array(data,dtype='float')"
   ]
  },
  {
   "cell_type": "code",
   "execution_count": 4,
   "metadata": {},
   "outputs": [
    {
     "data": {
      "text/plain": [
       "array([[48., 81.],\n",
       "       [31., 85.],\n",
       "       [63., 94.],\n",
       "       [62., 85.],\n",
       "       [69., 18.],\n",
       "       [ 5., 17.],\n",
       "       [79., 87.],\n",
       "       [21., 56.],\n",
       "       [28., 58.],\n",
       "       [16., 65.],\n",
       "       [48., 26.],\n",
       "       [27., 68.],\n",
       "       [ 5., 70.],\n",
       "       [69., 12.],\n",
       "       [93., 11.],\n",
       "       [83.,  7.],\n",
       "       [87., 26.],\n",
       "       [ 7., 23.],\n",
       "       [27., 36.],\n",
       "       [47.,  1.],\n",
       "       [ 3., 69.],\n",
       "       [22., 42.],\n",
       "       [23.,  5.],\n",
       "       [52., 33.],\n",
       "       [74., 30.],\n",
       "       [89., 29.],\n",
       "       [ 7., 67.],\n",
       "       [85.,  1.],\n",
       "       [79., 41.],\n",
       "       [41., 36.],\n",
       "       [64.,  4.],\n",
       "       [83., 93.],\n",
       "       [78., 22.],\n",
       "       [35., 94.],\n",
       "       [74., 77.],\n",
       "       [16.,  7.],\n",
       "       [45., 48.],\n",
       "       [89., 53.],\n",
       "       [28., 83.],\n",
       "       [97., 19.],\n",
       "       [13., 95.],\n",
       "       [65., 85.],\n",
       "       [29., 80.],\n",
       "       [72., 23.],\n",
       "       [ 4., 29.],\n",
       "       [11., 54.],\n",
       "       [79., 61.],\n",
       "       [83., 86.],\n",
       "       [41., 84.],\n",
       "       [10., 28.]])"
      ]
     },
     "execution_count": 4,
     "metadata": {},
     "output_type": "execute_result"
    }
   ],
   "source": [
    "data.reshape(-1,2) # -1是系统自动计算出的值，可以不用输入具体的数值（50，2）"
   ]
  },
  {
   "cell_type": "code",
   "execution_count": null,
   "metadata": {},
   "outputs": [],
   "source": []
  },
  {
   "cell_type": "markdown",
   "metadata": {},
   "source": [
    "# 均值归一化"
   ]
  },
  {
   "cell_type": "markdown",
   "metadata": {},
   "source": [
    "# sklearn中调用归一化"
   ]
  },
  {
   "cell_type": "code",
   "execution_count": 5,
   "metadata": {},
   "outputs": [],
   "source": [
    "import numpy as np\n",
    "data = np.random.randint(1,100,size=100).reshape(-1,1) # 1列，不是一行\n",
    "data = np.array(data,dtype='float')"
   ]
  },
  {
   "cell_type": "code",
   "execution_count": 6,
   "metadata": {},
   "outputs": [],
   "source": [
    "from sklearn.preprocessing import StandardScaler"
   ]
  },
  {
   "cell_type": "code",
   "execution_count": 7,
   "metadata": {},
   "outputs": [
    {
     "data": {
      "text/plain": [
       "StandardScaler()"
      ]
     },
     "execution_count": 7,
     "metadata": {},
     "output_type": "execute_result"
    }
   ],
   "source": [
    "std_scaler = StandardScaler()\n",
    "std_scaler.fit(data) # 计算均值和方差，没有转换"
   ]
  },
  {
   "cell_type": "code",
   "execution_count": 8,
   "metadata": {},
   "outputs": [],
   "source": [
    "X_std = std_scaler.transform(data) # 归一化转换"
   ]
  },
  {
   "cell_type": "code",
   "execution_count": 9,
   "metadata": {},
   "outputs": [
    {
     "data": {
      "text/plain": [
       "array([[0., 0., 0., 0., 0., 0., 0., 0., 0., 0., 0., 0., 0., 0., 0., 0.,\n",
       "        0., 0., 0., 0., 0., 0., 0., 0., 0., 0., 0., 0., 0., 0., 0., 0.,\n",
       "        0., 0., 0., 0., 0., 0., 0., 0., 0., 0., 0., 0., 0., 0., 0., 0.,\n",
       "        0., 0., 0., 0., 0., 0., 0., 0., 0., 0., 0., 0., 0., 0., 0., 0.,\n",
       "        0., 0., 0., 0., 0., 0., 0., 0., 0., 0., 0., 0., 0., 0., 0., 0.,\n",
       "        0., 0., 0., 0., 0., 0., 0., 0., 0., 0., 0., 0., 0., 0., 0., 0.,\n",
       "        0., 0., 0., 0.]])"
      ]
     },
     "execution_count": 9,
     "metadata": {},
     "output_type": "execute_result"
    }
   ],
   "source": [
    "X_std"
   ]
  },
  {
   "cell_type": "code",
   "execution_count": null,
   "metadata": {},
   "outputs": [],
   "source": []
  }
 ],
 "metadata": {
  "kernelspec": {
   "display_name": "Python 3",
   "language": "python",
   "name": "python3"
  },
  "language_info": {
   "codemirror_mode": {
    "name": "ipython",
    "version": 3
   },
   "file_extension": ".py",
   "mimetype": "text/x-python",
   "name": "python",
   "nbconvert_exporter": "python",
   "pygments_lexer": "ipython3",
   "version": "3.7.4"
  }
 },
 "nbformat": 4,
 "nbformat_minor": 4
}
