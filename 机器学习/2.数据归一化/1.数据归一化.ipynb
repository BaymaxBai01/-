{
 "cells": [
  {
   "cell_type": "code",
   "execution_count": 1,
   "metadata": {},
   "outputs": [],
   "source": [
    "# 1.最值归一化 2.均值归一化"
   ]
  },
  {
   "cell_type": "code",
   "execution_count": 2,
   "metadata": {},
   "outputs": [],
   "source": [
    "import numpy as np"
   ]
  },
  {
   "cell_type": "markdown",
   "metadata": {},
   "source": [
    "# 最值归一化"
   ]
  },
  {
   "cell_type": "code",
   "execution_count": 3,
   "metadata": {},
   "outputs": [],
   "source": [
    "data = np.random.randint(1,100,size=100)\n",
    "data = np.array(data,dtype='float')"
   ]
  },
  {
   "cell_type": "code",
   "execution_count": 4,
   "metadata": {},
   "outputs": [
    {
     "data": {
      "text/plain": [
       "array([[48., 81.],\n",
       "       [31., 85.],\n",
       "       [63., 94.],\n",
       "       [62., 85.],\n",
       "       [69., 18.],\n",
       "       [ 5., 17.],\n",
       "       [79., 87.],\n",
       "       [21., 56.],\n",
       "       [28., 58.],\n",
       "       [16., 65.],\n",
       "       [48., 26.],\n",
       "       [27., 68.],\n",
       "       [ 5., 70.],\n",
       "       [69., 12.],\n",
       "       [93., 11.],\n",
       "       [83.,  7.],\n",
       "       [87., 26.],\n",
       "       [ 7., 23.],\n",
       "       [27., 36.],\n",
       "       [47.,  1.],\n",
       "       [ 3., 69.],\n",
       "       [22., 42.],\n",
       "       [23.,  5.],\n",
       "       [52., 33.],\n",
       "       [74., 30.],\n",
       "       [89., 29.],\n",
       "       [ 7., 67.],\n",
       "       [85.,  1.],\n",
       "       [79., 41.],\n",
       "       [41., 36.],\n",
       "       [64.,  4.],\n",
       "       [83., 93.],\n",
       "       [78., 22.],\n",
       "       [35., 94.],\n",
       "       [74., 77.],\n",
       "       [16.,  7.],\n",
       "       [45., 48.],\n",
       "       [89., 53.],\n",
       "       [28., 83.],\n",
       "       [97., 19.],\n",
       "       [13., 95.],\n",
       "       [65., 85.],\n",
       "       [29., 80.],\n",
       "       [72., 23.],\n",
       "       [ 4., 29.],\n",
       "       [11., 54.],\n",
       "       [79., 61.],\n",
       "       [83., 86.],\n",
       "       [41., 84.],\n",
       "       [10., 28.]])"
      ]
     },
     "execution_count": 4,
     "metadata": {},
     "output_type": "execute_result"
    }
   ],
   "source": [
    "data.reshape(-1,2) # -1是系统自动计算出的值，可以不用输入具体的数值（50，2）"
   ]
  },
  {
   "cell_type": "code",
   "execution_count": null,
   "metadata": {},
   "outputs": [],
   "source": []
  },
  {
   "cell_type": "markdown",
   "metadata": {},
   "source": [
    "# 均值归一化"
   ]
  },
  {
   "cell_type": "markdown",
   "metadata": {},
   "source": [
    "# sklearn中调用归一化"
   ]
  },
  {
   "cell_type": "code",
   "execution_count": 10,
   "metadata": {},
   "outputs": [],
   "source": [
    "import numpy as np\n",
    "data = np.random.randint(1,100,size=100).reshape(-1,1) # 1列，不是一行\n",
    "data = np.array(data,dtype='float')"
   ]
  },
  {
   "cell_type": "code",
   "execution_count": 11,
   "metadata": {},
   "outputs": [],
   "source": [
    "from sklearn.preprocessing import StandardScaler"
   ]
  },
  {
   "cell_type": "code",
   "execution_count": 12,
   "metadata": {},
   "outputs": [
    {
     "data": {
      "text/plain": [
       "StandardScaler()"
      ]
     },
     "execution_count": 12,
     "metadata": {},
     "output_type": "execute_result"
    }
   ],
   "source": [
    "std_scaler = StandardScaler()\n",
    "std_scaler.fit(data) # 计算均值和方差，没有转换"
   ]
  },
  {
   "cell_type": "code",
   "execution_count": 13,
   "metadata": {},
   "outputs": [],
   "source": [
    "X_std = std_scaler.transform(data) # 归一化转换"
   ]
  },
  {
   "cell_type": "code",
   "execution_count": 14,
   "metadata": {},
   "outputs": [
    {
     "data": {
      "text/plain": [
       "array([[ 0.22371088],\n",
       "       [ 1.14842992],\n",
       "       [-1.69685945],\n",
       "       [-0.5587437 ],\n",
       "       [ 1.43295886],\n",
       "       [ 0.57937205],\n",
       "       [ 0.8994671 ],\n",
       "       [-0.87883875],\n",
       "       [ 1.18399604],\n",
       "       [-1.44789663],\n",
       "       [ 1.50409109],\n",
       "       [-0.48761147],\n",
       "       [ 0.15257864],\n",
       "       [ 1.32626051],\n",
       "       [-0.41647923],\n",
       "       [-1.27006604],\n",
       "       [-0.06081806],\n",
       "       [-0.38091311],\n",
       "       [-0.27421476],\n",
       "       [ 0.04588029],\n",
       "       [-0.13195029],\n",
       "       [-1.66129333],\n",
       "       [-0.345347  ],\n",
       "       [-0.48761147],\n",
       "       [ 0.15257864],\n",
       "       [-1.83912392],\n",
       "       [-0.87883875],\n",
       "       [-1.73242557],\n",
       "       [ 0.33040923],\n",
       "       [ 1.57522333],\n",
       "       [ 1.07729769],\n",
       "       [ 0.86390099],\n",
       "       [ 0.08144641],\n",
       "       [ 0.40154146],\n",
       "       [-0.23864865],\n",
       "       [ 1.11286381],\n",
       "       [ 0.01031417],\n",
       "       [-1.41233051],\n",
       "       [ 1.21956216],\n",
       "       [ 0.72163652],\n",
       "       [ 1.32626051],\n",
       "       [-0.27421476],\n",
       "       [-0.41647923],\n",
       "       [-0.7721404 ],\n",
       "       [ 1.21956216],\n",
       "       [-0.87883875],\n",
       "       [ 1.32626051],\n",
       "       [-0.98553711],\n",
       "       [ 0.54380593],\n",
       "       [-0.345347  ],\n",
       "       [ 0.04588029],\n",
       "       [-0.98553711],\n",
       "       [-1.09223546],\n",
       "       [ 1.36182663],\n",
       "       [ 0.57937205],\n",
       "       [-1.5901611 ],\n",
       "       [ 0.25927699],\n",
       "       [-0.84327264],\n",
       "       [ 0.86390099],\n",
       "       [ 0.93503322],\n",
       "       [ 1.43295886],\n",
       "       [-1.30563216],\n",
       "       [ 1.21956216],\n",
       "       [-0.59430982],\n",
       "       [-0.30978088],\n",
       "       [-1.23449993],\n",
       "       [ 0.29484311],\n",
       "       [ 0.11701253],\n",
       "       [ 1.07729769],\n",
       "       [-0.09638418],\n",
       "       [ 1.61078945],\n",
       "       [-0.52317758],\n",
       "       [-0.59430982],\n",
       "       [-0.70100817],\n",
       "       [-1.05666934],\n",
       "       [ 0.15257864],\n",
       "       [-1.83912392],\n",
       "       [ 0.86390099],\n",
       "       [ 0.33040923],\n",
       "       [ 1.21956216],\n",
       "       [-1.66129333],\n",
       "       [ 1.11286381],\n",
       "       [-0.5587437 ],\n",
       "       [-1.87469004],\n",
       "       [ 1.14842992],\n",
       "       [-1.44789663],\n",
       "       [-1.41233051],\n",
       "       [ 1.53965721],\n",
       "       [ 0.36597535],\n",
       "       [ 0.54380593],\n",
       "       [-1.37676439],\n",
       "       [ 1.04173157],\n",
       "       [ 0.57937205],\n",
       "       [ 0.25927699],\n",
       "       [ 0.82833487],\n",
       "       [-0.7721404 ],\n",
       "       [ 1.43295886],\n",
       "       [-0.62987593],\n",
       "       [ 1.25512827],\n",
       "       [-0.5587437 ]])"
      ]
     },
     "execution_count": 14,
     "metadata": {},
     "output_type": "execute_result"
    }
   ],
   "source": [
    "X_std"
   ]
  },
  {
   "cell_type": "code",
   "execution_count": null,
   "metadata": {},
   "outputs": [],
   "source": []
  }
 ],
 "metadata": {
  "kernelspec": {
   "display_name": "Python 3",
   "language": "python",
   "name": "python3"
  },
  "language_info": {
   "codemirror_mode": {
    "name": "ipython",
    "version": 3
   },
   "file_extension": ".py",
   "mimetype": "text/x-python",
   "name": "python",
   "nbconvert_exporter": "python",
   "pygments_lexer": "ipython3",
   "version": "3.7.4"
  }
 },
 "nbformat": 4,
 "nbformat_minor": 4
}
