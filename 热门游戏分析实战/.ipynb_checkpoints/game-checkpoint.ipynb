{
 "cells": [
  {
   "cell_type": "markdown",
   "metadata": {},
   "source": [
    "### 1.导入相关的库\n",
    "导入需要的库,并进行初始化设置"
   ]
  },
  {
   "cell_type": "code",
   "execution_count": 1,
   "metadata": {},
   "outputs": [],
   "source": [
    "import numpy as np\n",
    "import pandas as pd\n",
    "import matplotlib as mpl\n",
    "import matplotlib.pyplot as plt\n",
    "import jieba\n",
    "from pyecharts import WordCloud\n",
    "import re\n",
    "\n",
    "# 支持中文\n",
    "mpl.rcParams[\"font.family\"] = \"SimHei\"\n",
    "mpl.rcParams[\"axes.unicode_minus\"] = False"
   ]
  },
  {
   "cell_type": "markdown",
   "metadata": {},
   "source": [
    "### 2. 加载数据集\n",
    "* 查看数据整体情况\n",
    "* 使用tail/head/sample查看部分数据\n",
    "* 字段过多可以使用set_option设置显示字段数"
   ]
  },
  {
   "cell_type": "code",
   "execution_count": 2,
   "metadata": {},
   "outputs": [
    {
     "data": {
      "text/html": [
       "<div>\n",
       "<style scoped>\n",
       "    .dataframe tbody tr th:only-of-type {\n",
       "        vertical-align: middle;\n",
       "    }\n",
       "\n",
       "    .dataframe tbody tr th {\n",
       "        vertical-align: top;\n",
       "    }\n",
       "\n",
       "    .dataframe thead th {\n",
       "        text-align: right;\n",
       "    }\n",
       "</style>\n",
       "<table border=\"1\" class=\"dataframe\">\n",
       "  <thead>\n",
       "    <tr style=\"text-align: right;\">\n",
       "      <th></th>\n",
       "      <th>downloadCount</th>\n",
       "      <th>displayName</th>\n",
       "      <th>gameId</th>\n",
       "      <th>gameType</th>\n",
       "      <th>introduction</th>\n",
       "      <th>publisherName</th>\n",
       "      <th>developer_name</th>\n",
       "      <th>shortDesc</th>\n",
       "      <th>current</th>\n",
       "      <th>change</th>\n",
       "      <th>score</th>\n",
       "      <th>cnt</th>\n",
       "      <th>bcnt</th>\n",
       "      <th>gameTag</th>\n",
       "    </tr>\n",
       "  </thead>\n",
       "  <tbody>\n",
       "    <tr>\n",
       "      <td>0</td>\n",
       "      <td>441275501</td>\n",
       "      <td>迷你世界</td>\n",
       "      <td>62233113</td>\n",
       "      <td>1</td>\n",
       "      <td>威震世界，擎天出击！天生我才，敢想敢造！</td>\n",
       "      <td>迷你玩科技</td>\n",
       "      <td>迷你玩</td>\n",
       "      <td>威震世界，擎天出击！天生我才，敢想敢造！</td>\n",
       "      <td>1</td>\n",
       "      <td>0</td>\n",
       "      <td>8.6</td>\n",
       "      <td>73315</td>\n",
       "      <td>88017</td>\n",
       "      <td>冒险,创造,开放世界,编程,社交,3D,像素,沙盒,动作冒险</td>\n",
       "    </tr>\n",
       "    <tr>\n",
       "      <td>1</td>\n",
       "      <td>525530777</td>\n",
       "      <td>和平精英</td>\n",
       "      <td>62233238</td>\n",
       "      <td>1</td>\n",
       "      <td>腾讯光子工作室群自研打造的反恐军事竞赛体验手游。</td>\n",
       "      <td>深圳市腾讯计算机系统有限公司</td>\n",
       "      <td>腾讯移动游戏</td>\n",
       "      <td>腾讯光子工作室群自研打造的反恐军事竞赛体验手游。</td>\n",
       "      <td>2</td>\n",
       "      <td>0</td>\n",
       "      <td>8.1</td>\n",
       "      <td>83732</td>\n",
       "      <td>95150</td>\n",
       "      <td>吃鸡,枪战,求生,PVP,3D,写实,正版授权,电子竞技</td>\n",
       "    </tr>\n",
       "    <tr>\n",
       "      <td>2</td>\n",
       "      <td>807890510</td>\n",
       "      <td>王者荣耀</td>\n",
       "      <td>62230288</td>\n",
       "      <td>1</td>\n",
       "      <td>白蛇再临西子湖畔，只为赴你千年之约</td>\n",
       "      <td>深圳市腾讯计算机系统有限公司</td>\n",
       "      <td>腾讯移动游戏</td>\n",
       "      <td>白蛇再临西子湖畔，只为赴你千年之约</td>\n",
       "      <td>3</td>\n",
       "      <td>1</td>\n",
       "      <td>7.6</td>\n",
       "      <td>86276</td>\n",
       "      <td>100566</td>\n",
       "      <td>MOBA,竞技,自走棋,电子竞技,PVP,手速,社交,2.5D,卡通</td>\n",
       "    </tr>\n",
       "    <tr>\n",
       "      <td>3</td>\n",
       "      <td>2286808</td>\n",
       "      <td>金币大富翁</td>\n",
       "      <td>62265867</td>\n",
       "      <td>1</td>\n",
       "      <td>草根继承豪宅逆袭成为商业霸主</td>\n",
       "      <td>芜湖易玩网络科技有限公司</td>\n",
       "      <td>益玩游戏</td>\n",
       "      <td>草根继承豪宅逆袭成为商业霸主</td>\n",
       "      <td>4</td>\n",
       "      <td>-1</td>\n",
       "      <td>6.1</td>\n",
       "      <td>254</td>\n",
       "      <td>295</td>\n",
       "      <td>城镇建设,放置挂机,收集,2D,卡通,模拟经营</td>\n",
       "    </tr>\n",
       "    <tr>\n",
       "      <td>4</td>\n",
       "      <td>203444485</td>\n",
       "      <td>我的世界</td>\n",
       "      <td>62232113</td>\n",
       "      <td>1</td>\n",
       "      <td>自由创造，从一个方块开始</td>\n",
       "      <td>上海网之易吾世界网络科技有限公司</td>\n",
       "      <td>网易_我的世界_运营组</td>\n",
       "      <td>自由创造，从一个方块开始</td>\n",
       "      <td>5</td>\n",
       "      <td>0</td>\n",
       "      <td>8.9</td>\n",
       "      <td>32049</td>\n",
       "      <td>38172</td>\n",
       "      <td>冒险,创造,开放世界,情怀,3D,像素,沙盒,端游移植,动作冒险</td>\n",
       "    </tr>\n",
       "  </tbody>\n",
       "</table>\n",
       "</div>"
      ],
      "text/plain": [
       "   downloadCount displayName    gameId  gameType              introduction  \\\n",
       "0      441275501        迷你世界  62233113         1      威震世界，擎天出击！天生我才，敢想敢造！   \n",
       "1      525530777        和平精英  62233238         1  腾讯光子工作室群自研打造的反恐军事竞赛体验手游。   \n",
       "2      807890510        王者荣耀  62230288         1         白蛇再临西子湖畔，只为赴你千年之约   \n",
       "3        2286808       金币大富翁  62265867         1            草根继承豪宅逆袭成为商业霸主   \n",
       "4      203444485        我的世界  62232113         1              自由创造，从一个方块开始   \n",
       "\n",
       "      publisherName developer_name                 shortDesc  current  change  \\\n",
       "0             迷你玩科技            迷你玩      威震世界，擎天出击！天生我才，敢想敢造！        1       0   \n",
       "1    深圳市腾讯计算机系统有限公司         腾讯移动游戏  腾讯光子工作室群自研打造的反恐军事竞赛体验手游。        2       0   \n",
       "2    深圳市腾讯计算机系统有限公司         腾讯移动游戏         白蛇再临西子湖畔，只为赴你千年之约        3       1   \n",
       "3      芜湖易玩网络科技有限公司           益玩游戏            草根继承豪宅逆袭成为商业霸主        4      -1   \n",
       "4  上海网之易吾世界网络科技有限公司    网易_我的世界_运营组              自由创造，从一个方块开始        5       0   \n",
       "\n",
       "   score    cnt    bcnt                             gameTag  \n",
       "0    8.6  73315   88017      冒险,创造,开放世界,编程,社交,3D,像素,沙盒,动作冒险  \n",
       "1    8.1  83732   95150        吃鸡,枪战,求生,PVP,3D,写实,正版授权,电子竞技  \n",
       "2    7.6  86276  100566  MOBA,竞技,自走棋,电子竞技,PVP,手速,社交,2.5D,卡通  \n",
       "3    6.1    254     295             城镇建设,放置挂机,收集,2D,卡通,模拟经营  \n",
       "4    8.9  32049   38172    冒险,创造,开放世界,情怀,3D,像素,沙盒,端游移植,动作冒险  "
      ]
     },
     "execution_count": 2,
     "metadata": {},
     "output_type": "execute_result"
    }
   ],
   "source": [
    "data = pd.read_csv(\"game.csv\",encoding=\"gbk\")\n",
    "pd.set_option(\"max_columns\",100)\n",
    "data.head()"
   ]
  },
  {
   "cell_type": "markdown",
   "metadata": {},
   "source": [
    "### 3.数据清洗\n",
    "* 缺失值处理\n",
    "    + 通过info查看缺失值信息（以及每列的类型信息）。  \n",
    "    + 可以通过isnull, any, dropna，fillna等方法结合使用，对缺失值进行处理。  "
   ]
  },
  {
   "cell_type": "code",
   "execution_count": 3,
   "metadata": {},
   "outputs": [
    {
     "name": "stdout",
     "output_type": "stream",
     "text": [
      "<class 'pandas.core.frame.DataFrame'>\n",
      "RangeIndex: 148 entries, 0 to 147\n",
      "Data columns (total 14 columns):\n",
      "downloadCount     148 non-null int64\n",
      "displayName       148 non-null object\n",
      "gameId            148 non-null int64\n",
      "gameType          148 non-null int64\n",
      "introduction      148 non-null object\n",
      "publisherName     148 non-null object\n",
      "developer_name    97 non-null object\n",
      "shortDesc         148 non-null object\n",
      "current           148 non-null int64\n",
      "change            148 non-null int64\n",
      "score             141 non-null float64\n",
      "cnt               148 non-null int64\n",
      "bcnt              148 non-null int64\n",
      "gameTag           148 non-null object\n",
      "dtypes: float64(1), int64(7), object(6)\n",
      "memory usage: 16.3+ KB\n"
     ]
    },
    {
     "data": {
      "text/html": [
       "<div>\n",
       "<style scoped>\n",
       "    .dataframe tbody tr th:only-of-type {\n",
       "        vertical-align: middle;\n",
       "    }\n",
       "\n",
       "    .dataframe tbody tr th {\n",
       "        vertical-align: top;\n",
       "    }\n",
       "\n",
       "    .dataframe thead th {\n",
       "        text-align: right;\n",
       "    }\n",
       "</style>\n",
       "<table border=\"1\" class=\"dataframe\">\n",
       "  <thead>\n",
       "    <tr style=\"text-align: right;\">\n",
       "      <th></th>\n",
       "      <th>downloadCount</th>\n",
       "      <th>displayName</th>\n",
       "      <th>gameId</th>\n",
       "      <th>gameType</th>\n",
       "      <th>introduction</th>\n",
       "      <th>publisherName</th>\n",
       "      <th>developer_name</th>\n",
       "      <th>shortDesc</th>\n",
       "      <th>current</th>\n",
       "      <th>change</th>\n",
       "      <th>score</th>\n",
       "      <th>cnt</th>\n",
       "      <th>bcnt</th>\n",
       "      <th>gameTag</th>\n",
       "    </tr>\n",
       "  </thead>\n",
       "  <tbody>\n",
       "    <tr>\n",
       "      <td>0</td>\n",
       "      <td>441275501</td>\n",
       "      <td>迷你世界</td>\n",
       "      <td>62233113</td>\n",
       "      <td>1</td>\n",
       "      <td>威震世界，擎天出击！天生我才，敢想敢造！</td>\n",
       "      <td>迷你玩科技</td>\n",
       "      <td>迷你玩</td>\n",
       "      <td>威震世界，擎天出击！天生我才，敢想敢造！</td>\n",
       "      <td>1</td>\n",
       "      <td>0</td>\n",
       "      <td>8.6</td>\n",
       "      <td>73315</td>\n",
       "      <td>88017</td>\n",
       "      <td>冒险,创造,开放世界,编程,社交,3D,像素,沙盒,动作冒险</td>\n",
       "    </tr>\n",
       "    <tr>\n",
       "      <td>1</td>\n",
       "      <td>525530777</td>\n",
       "      <td>和平精英</td>\n",
       "      <td>62233238</td>\n",
       "      <td>1</td>\n",
       "      <td>腾讯光子工作室群自研打造的反恐军事竞赛体验手游。</td>\n",
       "      <td>深圳市腾讯计算机系统有限公司</td>\n",
       "      <td>腾讯移动游戏</td>\n",
       "      <td>腾讯光子工作室群自研打造的反恐军事竞赛体验手游。</td>\n",
       "      <td>2</td>\n",
       "      <td>0</td>\n",
       "      <td>8.1</td>\n",
       "      <td>83732</td>\n",
       "      <td>95150</td>\n",
       "      <td>吃鸡,枪战,求生,PVP,3D,写实,正版授权,电子竞技</td>\n",
       "    </tr>\n",
       "    <tr>\n",
       "      <td>2</td>\n",
       "      <td>807890510</td>\n",
       "      <td>王者荣耀</td>\n",
       "      <td>62230288</td>\n",
       "      <td>1</td>\n",
       "      <td>白蛇再临西子湖畔，只为赴你千年之约</td>\n",
       "      <td>深圳市腾讯计算机系统有限公司</td>\n",
       "      <td>腾讯移动游戏</td>\n",
       "      <td>白蛇再临西子湖畔，只为赴你千年之约</td>\n",
       "      <td>3</td>\n",
       "      <td>1</td>\n",
       "      <td>7.6</td>\n",
       "      <td>86276</td>\n",
       "      <td>100566</td>\n",
       "      <td>MOBA,竞技,自走棋,电子竞技,PVP,手速,社交,2.5D,卡通</td>\n",
       "    </tr>\n",
       "    <tr>\n",
       "      <td>3</td>\n",
       "      <td>2286808</td>\n",
       "      <td>金币大富翁</td>\n",
       "      <td>62265867</td>\n",
       "      <td>1</td>\n",
       "      <td>草根继承豪宅逆袭成为商业霸主</td>\n",
       "      <td>芜湖易玩网络科技有限公司</td>\n",
       "      <td>益玩游戏</td>\n",
       "      <td>草根继承豪宅逆袭成为商业霸主</td>\n",
       "      <td>4</td>\n",
       "      <td>-1</td>\n",
       "      <td>6.1</td>\n",
       "      <td>254</td>\n",
       "      <td>295</td>\n",
       "      <td>城镇建设,放置挂机,收集,2D,卡通,模拟经营</td>\n",
       "    </tr>\n",
       "    <tr>\n",
       "      <td>4</td>\n",
       "      <td>203444485</td>\n",
       "      <td>我的世界</td>\n",
       "      <td>62232113</td>\n",
       "      <td>1</td>\n",
       "      <td>自由创造，从一个方块开始</td>\n",
       "      <td>上海网之易吾世界网络科技有限公司</td>\n",
       "      <td>网易_我的世界_运营组</td>\n",
       "      <td>自由创造，从一个方块开始</td>\n",
       "      <td>5</td>\n",
       "      <td>0</td>\n",
       "      <td>8.9</td>\n",
       "      <td>32049</td>\n",
       "      <td>38172</td>\n",
       "      <td>冒险,创造,开放世界,情怀,3D,像素,沙盒,端游移植,动作冒险</td>\n",
       "    </tr>\n",
       "    <tr>\n",
       "      <td>...</td>\n",
       "      <td>...</td>\n",
       "      <td>...</td>\n",
       "      <td>...</td>\n",
       "      <td>...</td>\n",
       "      <td>...</td>\n",
       "      <td>...</td>\n",
       "      <td>...</td>\n",
       "      <td>...</td>\n",
       "      <td>...</td>\n",
       "      <td>...</td>\n",
       "      <td>...</td>\n",
       "      <td>...</td>\n",
       "      <td>...</td>\n",
       "      <td>...</td>\n",
       "    </tr>\n",
       "    <tr>\n",
       "      <td>143</td>\n",
       "      <td>9197258</td>\n",
       "      <td>狂野飙车9：竞速传奇</td>\n",
       "      <td>62273845</td>\n",
       "      <td>1</td>\n",
       "      <td>拟真顶级豪车 主机级飙车体验</td>\n",
       "      <td>广州爱九游信息技术有限公司</td>\n",
       "      <td>广州爱九游</td>\n",
       "      <td>拟真顶级豪车 主机级飙车体验</td>\n",
       "      <td>36</td>\n",
       "      <td>12</td>\n",
       "      <td>7.5</td>\n",
       "      <td>2207</td>\n",
       "      <td>2524</td>\n",
       "      <td>赛车,漂移,PVP,2.5D,高画质,体育竞速</td>\n",
       "    </tr>\n",
       "    <tr>\n",
       "      <td>144</td>\n",
       "      <td>2108159</td>\n",
       "      <td>屠夫躲猫猫</td>\n",
       "      <td>62290514</td>\n",
       "      <td>1</td>\n",
       "      <td>屠夫躲猫猫是一款非常好玩的像素风躲猫猫游戏</td>\n",
       "      <td>深圳阡陌互动网络科技有限公司</td>\n",
       "      <td>NaN</td>\n",
       "      <td>屠夫躲猫猫是一款非常好玩的像素风躲猫猫游戏</td>\n",
       "      <td>37</td>\n",
       "      <td>0</td>\n",
       "      <td>5.5</td>\n",
       "      <td>204</td>\n",
       "      <td>220</td>\n",
       "      <td>冒险,潜行,闯关,魔性,2D,像素,动作冒险</td>\n",
       "    </tr>\n",
       "    <tr>\n",
       "      <td>145</td>\n",
       "      <td>131406315</td>\n",
       "      <td>球球大作战</td>\n",
       "      <td>62231391</td>\n",
       "      <td>1</td>\n",
       "      <td>5亿年轻人都爱玩</td>\n",
       "      <td>巨人移动科技有限公司</td>\n",
       "      <td>巨人移动</td>\n",
       "      <td>5亿年轻人都爱玩</td>\n",
       "      <td>38</td>\n",
       "      <td>4</td>\n",
       "      <td>8.5</td>\n",
       "      <td>8823</td>\n",
       "      <td>9829</td>\n",
       "      <td>io,冒险,躲避,PVP,社交,魔性,2D,卡通</td>\n",
       "    </tr>\n",
       "    <tr>\n",
       "      <td>146</td>\n",
       "      <td>64914793</td>\n",
       "      <td>滚动的天空</td>\n",
       "      <td>62232191</td>\n",
       "      <td>1</td>\n",
       "      <td>爽快而虐心，我们等你来挑战</td>\n",
       "      <td>北京猎豹网络科技有限公司</td>\n",
       "      <td>NaN</td>\n",
       "      <td>爽快而虐心，我们等你来挑战</td>\n",
       "      <td>39</td>\n",
       "      <td>4</td>\n",
       "      <td>8.6</td>\n",
       "      <td>1655</td>\n",
       "      <td>1792</td>\n",
       "      <td>节奏,反应,躲避,手速,竖屏,2.5D,简约,音乐节奏</td>\n",
       "    </tr>\n",
       "    <tr>\n",
       "      <td>147</td>\n",
       "      <td>33254918</td>\n",
       "      <td>疯狂动物园</td>\n",
       "      <td>62231526</td>\n",
       "      <td>1</td>\n",
       "      <td>让我们去好好大干一场吧</td>\n",
       "      <td>北京游道易网络文化有限公司</td>\n",
       "      <td>北京游道易</td>\n",
       "      <td>让我们去好好大干一场吧</td>\n",
       "      <td>40</td>\n",
       "      <td>0</td>\n",
       "      <td>8.0</td>\n",
       "      <td>2301</td>\n",
       "      <td>2500</td>\n",
       "      <td>跑酷,养成,躲避,抖M虐心,竖屏,2.5D,像素,宠物,动作冒险</td>\n",
       "    </tr>\n",
       "  </tbody>\n",
       "</table>\n",
       "<p>141 rows × 14 columns</p>\n",
       "</div>"
      ],
      "text/plain": [
       "     downloadCount displayName    gameId  gameType              introduction  \\\n",
       "0        441275501        迷你世界  62233113         1      威震世界，擎天出击！天生我才，敢想敢造！   \n",
       "1        525530777        和平精英  62233238         1  腾讯光子工作室群自研打造的反恐军事竞赛体验手游。   \n",
       "2        807890510        王者荣耀  62230288         1         白蛇再临西子湖畔，只为赴你千年之约   \n",
       "3          2286808       金币大富翁  62265867         1            草根继承豪宅逆袭成为商业霸主   \n",
       "4        203444485        我的世界  62232113         1              自由创造，从一个方块开始   \n",
       "..             ...         ...       ...       ...                       ...   \n",
       "143        9197258  狂野飙车9：竞速传奇  62273845         1            拟真顶级豪车 主机级飙车体验   \n",
       "144        2108159       屠夫躲猫猫  62290514         1     屠夫躲猫猫是一款非常好玩的像素风躲猫猫游戏   \n",
       "145      131406315       球球大作战  62231391         1                  5亿年轻人都爱玩   \n",
       "146       64914793       滚动的天空  62232191         1             爽快而虐心，我们等你来挑战   \n",
       "147       33254918       疯狂动物园  62231526         1               让我们去好好大干一场吧   \n",
       "\n",
       "        publisherName developer_name                 shortDesc  current  \\\n",
       "0               迷你玩科技            迷你玩      威震世界，擎天出击！天生我才，敢想敢造！        1   \n",
       "1      深圳市腾讯计算机系统有限公司         腾讯移动游戏  腾讯光子工作室群自研打造的反恐军事竞赛体验手游。        2   \n",
       "2      深圳市腾讯计算机系统有限公司         腾讯移动游戏         白蛇再临西子湖畔，只为赴你千年之约        3   \n",
       "3        芜湖易玩网络科技有限公司           益玩游戏            草根继承豪宅逆袭成为商业霸主        4   \n",
       "4    上海网之易吾世界网络科技有限公司    网易_我的世界_运营组              自由创造，从一个方块开始        5   \n",
       "..                ...            ...                       ...      ...   \n",
       "143     广州爱九游信息技术有限公司          广州爱九游            拟真顶级豪车 主机级飙车体验       36   \n",
       "144    深圳阡陌互动网络科技有限公司            NaN     屠夫躲猫猫是一款非常好玩的像素风躲猫猫游戏       37   \n",
       "145        巨人移动科技有限公司           巨人移动                  5亿年轻人都爱玩       38   \n",
       "146      北京猎豹网络科技有限公司            NaN             爽快而虐心，我们等你来挑战       39   \n",
       "147     北京游道易网络文化有限公司          北京游道易               让我们去好好大干一场吧       40   \n",
       "\n",
       "     change  score    cnt    bcnt                             gameTag  \n",
       "0         0    8.6  73315   88017      冒险,创造,开放世界,编程,社交,3D,像素,沙盒,动作冒险  \n",
       "1         0    8.1  83732   95150        吃鸡,枪战,求生,PVP,3D,写实,正版授权,电子竞技  \n",
       "2         1    7.6  86276  100566  MOBA,竞技,自走棋,电子竞技,PVP,手速,社交,2.5D,卡通  \n",
       "3        -1    6.1    254     295             城镇建设,放置挂机,收集,2D,卡通,模拟经营  \n",
       "4         0    8.9  32049   38172    冒险,创造,开放世界,情怀,3D,像素,沙盒,端游移植,动作冒险  \n",
       "..      ...    ...    ...     ...                                 ...  \n",
       "143      12    7.5   2207    2524             赛车,漂移,PVP,2.5D,高画质,体育竞速  \n",
       "144       0    5.5    204     220              冒险,潜行,闯关,魔性,2D,像素,动作冒险  \n",
       "145       4    8.5   8823    9829            io,冒险,躲避,PVP,社交,魔性,2D,卡通  \n",
       "146       4    8.6   1655    1792         节奏,反应,躲避,手速,竖屏,2.5D,简约,音乐节奏  \n",
       "147       0    8.0   2301    2500    跑酷,养成,躲避,抖M虐心,竖屏,2.5D,像素,宠物,动作冒险  \n",
       "\n",
       "[141 rows x 14 columns]"
      ]
     },
     "execution_count": 3,
     "metadata": {},
     "output_type": "execute_result"
    }
   ],
   "source": [
    "# 查看整体状况\n",
    "data.info()\n",
    "# 确实数据处理\n",
    "data = data[data[\"score\"].notnull()]\n",
    "data"
   ]
  },
  {
   "cell_type": "markdown",
   "metadata": {},
   "source": [
    "* 异常值处理\n",
    "    + 通过describe查看数值信息。\n",
    "    + 可配合箱线图辅助"
   ]
  },
  {
   "cell_type": "code",
   "execution_count": 4,
   "metadata": {},
   "outputs": [
    {
     "data": {
      "text/plain": [
       "<matplotlib.axes._subplots.AxesSubplot at 0x210da829d88>"
      ]
     },
     "execution_count": 4,
     "metadata": {},
     "output_type": "execute_result"
    },
    {
     "data": {
      "image/png": "[encoded data removed]",
      "text/plain": [
       "<Figure size 432x288 with 1 Axes>"
      ]
     },
     "metadata": {
      "needs_background": "light"
     },
     "output_type": "display_data"
    }
   ],
   "source": [
    "data.describe()\n",
    "data[\"score\"].plot(kind=\"box\")"
   ]
  },
  {
   "cell_type": "markdown",
   "metadata": {},
   "source": [
    "* 重复值处理\n",
    "    + 使用duplicate检查重复值。可配合keep参数进行调整。\n",
    "    + 使用drop_duplicate删除重复值。"
   ]
  },
  {
   "cell_type": "code",
   "execution_count": 5,
   "metadata": {},
   "outputs": [
    {
     "data": {
      "text/plain": [
       "0      False\n",
       "1      False\n",
       "2      False\n",
       "3      False\n",
       "4      False\n",
       "       ...  \n",
       "143    False\n",
       "144    False\n",
       "145    False\n",
       "146    False\n",
       "147    False\n",
       "Length: 141, dtype: bool"
      ]
     },
     "execution_count": 5,
     "metadata": {},
     "output_type": "execute_result"
    }
   ],
   "source": [
    "data.duplicated()"
   ]
  },
  {
   "cell_type": "markdown",
   "metadata": {},
   "source": [
    "### 4.业务分析\n",
    "* 1. 游戏热门程度与评分关联性的分析"
   ]
  },
  {
   "cell_type": "code",
   "execution_count": 6,
   "metadata": {},
   "outputs": [
    {
     "data": {
      "text/plain": [
       "<matplotlib.collections.PathCollection at 0x210daba1c48>"
      ]
     },
     "execution_count": 6,
     "metadata": {},
     "output_type": "execute_result"
    },
    {
     "data": {
      "image/png": "[encoded data removed]",
      "text/plain": [
       "<Figure size 432x288 with 1 Axes>"
      ]
     },
     "metadata": {
      "needs_background": "light"
     },
     "output_type": "display_data"
    }
   ],
   "source": [
    "t = data.copy()\n",
    "x = t[\"current\"]\n",
    "y = t[\"score\"]\n",
    "plt.scatter(x,y)"
   ]
  },
  {
   "cell_type": "markdown",
   "metadata": {},
   "source": [
    "从图中可看出,游戏的热门程度与评分没有绝对的关联关系    \n",
    "有部分热门游戏评分非常低(刷?)"
   ]
  },
  {
   "cell_type": "markdown",
   "metadata": {},
   "source": [
    "* 2. 热门游戏分数所处的区间"
   ]
  },
  {
   "cell_type": "code",
   "execution_count": 7,
   "metadata": {},
   "outputs": [
    {
     "data": {
      "text/plain": [
       "(array([ 0.,  4., 11., 54., 72.]),\n",
       " array([ 0,  2,  4,  6,  8, 10]),\n",
       " <a list of 5 Patch objects>)"
      ]
     },
     "execution_count": 7,
     "metadata": {},
     "output_type": "execute_result"
    },
    {
     "data": {
      "image/png": "[encoded data removed]",
      "text/plain": [
       "<Figure size 432x288 with 1 Axes>"
      ]
     },
     "metadata": {
      "needs_background": "light"
     },
     "output_type": "display_data"
    }
   ],
   "source": [
    "t = data.copy()\n",
    "plt.hist(t[\"score\"],[0,2,4,6,8,10])"
   ]
  },
  {
   "cell_type": "markdown",
   "metadata": {},
   "source": [
    "* 3. 热门游戏的名称分词分析"
   ]
  },
  {
   "cell_type": "code",
   "execution_count": 15,
   "metadata": {},
   "outputs": [],
   "source": [
    "# # 加载背景图\n",
    "# bg = np.array(Image.open(\"background.png\"))\n",
    "t = data.copy()\n",
    "\n",
    "stopwords = open('停用词表.txt','r',encoding=\"utf-8\").read()\n",
    "stopwords = stopwords.split('\\n')\n",
    "\n",
    "texts = ''.join(t[\"displayName\"].values.tolist())\n",
    "texts =''.join(re.findall(r'[\\u4e00-\\u9fa5]',texts))\n",
    "result = jieba.cut(texts,cut_all=False)\n",
    "\n",
    "\n",
    "allwords = [word for word in result if len(word)>1 and word not in stopwords]\n",
    "\n",
    "result = pd.DataFrame(allwords)\n",
    "result.columns =['word']\n",
    "res = result.word.groupby(result.word).count()\n",
    "res.index.name = 'text'\n",
    "res = res.reset_index()\n",
    "res = res.loc[res.word >= 1].reset_index(drop = True)\n",
    "\n",
    "# # 标题词云\n",
    "name = res.text.tolist()\n",
    "value = res.word.tolist()\n",
    "# wordcloud = WordCloud(width=1300, height=620)\n",
    "# wordcloud.add(\"\", name, value, word_size_range=[10, 80])\n",
    "# wordcloud.render('游戏名称高频词.html')\n",
    "wc = WordCloud(width=1300, height=620)\n",
    "wc.add(\"\", name, value, word_size_range=[20, 100])\n",
    "wc.render(\"词云.html\")"
   ]
  },
  {
   "cell_type": "markdown",
   "metadata": {},
   "source": [
    "* 4. 热门游戏的分数,评分人数和名次变化情况"
   ]
  },
  {
   "cell_type": "code",
   "execution_count": 74,
   "metadata": {},
   "outputs": [
    {
     "data": {
      "image/png": "[encoded data removed]",
      "text/plain": [
       "<Figure size 432x288 with 1 Axes>"
      ]
     },
     "metadata": {
      "needs_background": "light"
     },
     "output_type": "display_data"
    }
   ],
   "source": [
    "# 排名前十的游戏及其分数\n",
    "\n",
    "t = data.copy()\n",
    "# t = t.sort_values(by=\"score\",ascending = False).head(10)\n",
    "t = t.head(10)\n",
    "\n",
    "# figure, ax = plt.subplots(1, 1)\n",
    "# ax.set_xticklabels(t[\"displayName\"],rotation=90)\n",
    "# ax.bar(t[\"displayName\"],t[\"score\"])\n",
    "\n",
    "x = top10[\"displayName\"]\n",
    "y = top10[\"score\"]\n",
    "\n",
    "figure, ax = plt.subplots(1, 1)\n",
    "ax.set_xticklabels(t[\"displayName\"],rotation=90)\n",
    "ax.bar(x, height=y, width=0.5, label=\"游戏评分\", tick_label=x)\n",
    "ax.plot(x,top10[\"change\"],label=\"名次变化\",color=\"orange\",marker=\"o\")\n",
    "\n",
    "# 添加数据标签\n",
    "for a, b in zip(x, y):\n",
    "    ax.text(a, b + 0.05, '%.1f' % b, ha='center', va='bottom', fontsize=10)\n",
    "\n",
    "# 添加图例\n",
    "plt.legend(loc=(1, 1))\n",
    "\n",
    "# 展示图形\n",
    "plt.show()"
   ]
  }
 ],
 "metadata": {
  "kernelspec": {
   "display_name": "Python 3",
   "language": "python",
   "name": "python3"
  },
  "language_info": {
   "codemirror_mode": {
    "name": "ipython",
    "version": 3
   },
   "file_extension": ".py",
   "mimetype": "text/x-python",
   "name": "python",
   "nbconvert_exporter": "python",
   "pygments_lexer": "ipython3",
   "version": "3.7.4"
  }
 },
 "nbformat": 4,
 "nbformat_minor": 2
}
