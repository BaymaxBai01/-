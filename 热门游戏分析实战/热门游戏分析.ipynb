{
 "cells": [
  {
   "cell_type": "markdown",
   "metadata": {},
   "source": [
    "### 1. 数据分析和python数据分析"
   ]
  },
  {
   "cell_type": "markdown",
   "metadata": {},
   "source": [
    "#### 1.1. 数据分析介绍   \n",
    "数据分析是指用适当的统计分析方法对收集来的大量数据进行分析和研究。最终概括总结出对业务决策有价值的现象和规律。以求最大化地开发数据的功能，发挥数据的作用。\n",
    "\n",
    "协助各行业的企事业单位进行战略决策。包括从市场调研、售后服务、最终处置的各个过程都是需要运用数据分析过程的，以此提升各阶段工作的有效性。"
   ]
  },
  {
   "cell_type": "markdown",
   "metadata": {},
   "source": [
    "#### 1.2 数据分析应用场景\n",
    "\n",
    "不同行业的各个工作阶段都可以通过数据分析，更高效准确的完成工作，提升绩效。    \n",
    "例如：   \n",
    "1）金融行业：可以通过对用户的数据分析，进行风险控制和金融反欺诈；   \n",
    "2）电商行业：可以通过对用户的交易数据分析，实时进行精准产品推荐；   \n",
    "3）医疗行业：可以通过病例分析，辅助临床决策和疾病预防；    \n",
    "4）服务行业：可以通过用户基本数据和行为分析，确定有效用户类型，定制合理服务方案等；   \n",
    "总之，和发展预测，产品推荐，提高效率，个性化产品，精准营销等有关的行业都需要使用数据分析。    "
   ]
  },
  {
   "cell_type": "markdown",
   "metadata": {},
   "source": [
    "#### 1.3 python数据分析\n",
    "\n",
    "* 相关库   \n",
    "    numpy \n",
    "        NumPy是科学计算基础的一个库，提供了大量关于科学计算的相关功能，其提供的最核心的类型为多维数组类型（ndarray）。  \n",
    "    matplotlib  \n",
    "        matplotlib是用于Python的绘图库，提供各种常用图形的绘制。\n",
    "    pandas  \n",
    "        基于NumPy 的一种工具，该工具是为了解决数据分析任务而创建的.实现多维数组的分析处理\n",
    "* 相关开发工具  \n",
    "    PyCharm  \n",
    "    Anaconda  \n",
    "    IPython  \n",
    "    Jupyter notebook  \n",
    "    Spyder  "
   ]
  },
  {
   "cell_type": "markdown",
   "metadata": {},
   "source": [
    "### 2. 案例需求分析"
   ]
  },
  {
   "cell_type": "markdown",
   "metadata": {},
   "source": [
    "#### 2.1 背景及任务说明\n",
    "\n",
    "   对某游戏网站的手游数据进行爬取,分析游戏的评分,热度相关性以及名称的特征\n"
   ]
  },
  {
   "cell_type": "markdown",
   "metadata": {},
   "source": [
    "### 3.Scrapy实现数据爬取"
   ]
  },
  {
   "cell_type": "markdown",
   "metadata": {},
   "source": [
    "#### 3.1 Scrapy介绍\n",
    "\n",
    "Scrapy是用纯Python实现一个为了爬取网站数据、提取结构性数据而编写的应用框架，用户只需要定制开发几个模块就可以轻松的实现一个爬虫，用来抓取网页内容以及各种图片"
   ]
  },
  {
   "cell_type": "markdown",
   "metadata": {},
   "source": [
    "#### 3.2 结构图及原理说明\n",
    "![\"架构图\"](imgs/架构图.webp)\n",
    "\n",
    "* crapy Engine(引擎): 负责Spider、ItemPipeline、Downloader、Scheduler中间的通讯，信号、数据传递等\n",
    "* Scheduler(调度器): 它负责接受引擎发送过来的Request请求，并按照一定的方式进行整理排列，入队，当引擎需要时，交还给引擎\n",
    "* Downloader（下载器）：负责下载Scrapy Engine(引擎)发送的所有Requests请求，并将其获取到的Responses交还给Scrapy Engine(引擎)，由引擎交给Spider来处理\n",
    "* Spider（爬虫）：它负责处理所有Responses,从中分析提取数据，获取Item字段需要的数据，并将需要跟进的URL提交给引擎，再次进入Scheduler(调度器)\n",
    "* Item Pipeline(管道)：它负责处理Spider中获取到的Item，并进行进行后期处理（详细分析、过滤、存储等）的地方\n",
    "* Downloader Middlewares（下载中间件）：自定义扩展下载功能的组件\n",
    "* Spider Middlewares（Spider中间件）：可以自定扩展和操作引擎和Spider中间通信的功能组件（比如进入Spider的Responses;和从Spider出去的Requests）\n"
   ]
  },
  {
   "cell_type": "markdown",
   "metadata": {},
   "source": [
    "#### 3.3 项目创建及代码演示\n",
    "\n",
    "* 创建爬虫项目，命令：scrapy startproject 项目名称\n",
    "* 创建爬虫文件，命令：scrapy genspider 文件名称 域名\n"
   ]
  },
  {
   "cell_type": "markdown",
   "metadata": {},
   "source": [
    "### 4.数据清洗"
   ]
  },
  {
   "cell_type": "markdown",
   "metadata": {},
   "source": [
    "#### 4.1 字段说明\n",
    "* game_name: 游戏名称\n",
    "* box_txt: 游戏公司、游戏类型、网络\n",
    "* game_tag: 标签信息\n",
    "* game_fever: 热度\n",
    "* game_fav: 好评数\n",
    "* game_nag: 差评数\n",
    "* feedback_rate: 好评率\n",
    "* game_avg: 评分\n",
    "* detail_url: 详情页\n",
    "* game_intro: 游戏介绍"
   ]
  },
  {
   "cell_type": "markdown",
   "metadata": {},
   "source": [
    "#### 4.2 导入相关库\n",
    "导入需要的库,并进行初始化设置"
   ]
  },
  {
   "cell_type": "code",
   "execution_count": 1,
   "metadata": {},
   "outputs": [
    {
     "name": "stdout",
     "output_type": "stream",
     "text": [
      "Requirement already satisfied: pyecharts in c:\\users\\v-liba\\appdata\\local\\programs\\python\\python37\\lib\\site-packages (0.1.9.4)\n",
      "Requirement already satisfied: pillow in c:\\users\\v-liba\\appdata\\local\\programs\\python\\python37\\lib\\site-packages (from pyecharts) (7.0.0)\n",
      "Requirement already satisfied: future in c:\\users\\v-liba\\appdata\\local\\programs\\python\\python37\\lib\\site-packages (from pyecharts) (0.18.2)\n",
      "Requirement already satisfied: jinja2 in c:\\users\\v-liba\\appdata\\local\\programs\\python\\python37\\lib\\site-packages (from pyecharts) (2.11.1)\n",
      "Requirement already satisfied: MarkupSafe>=0.23 in c:\\users\\v-liba\\appdata\\local\\programs\\python\\python37\\lib\\site-packages (from jinja2->pyecharts) (1.1.1)\n",
      "Note: you may need to restart the kernel to use updated packages.\n"
     ]
    }
   ],
   "source": [
    "pip install pyecharts"
   ]
  },
  {
   "cell_type": "code",
   "execution_count": 10,
   "metadata": {},
   "outputs": [],
   "source": [
    "import numpy as np\n",
    "import pandas as pd\n",
    "import matplotlib as mpl\n",
    "import matplotlib.pyplot as plt\n",
    "import jieba       #结巴库  中文分词算法（自然语言处理）\n",
    "from pyecharts import WordCloud  #词云  将关键词绘制成画像\n",
    "import re\n",
    "\n",
    "# 支持中文\n",
    "mpl.rcParams[\"font.family\"] = \"SimHei\" # 用来正常显示中文标签\n",
    "mpl.rcParams[\"axes.unicode_minus\"] = False # 用来正常显示负号"
   ]
  },
  {
   "cell_type": "markdown",
   "metadata": {},
   "source": [
    "#### 4.3 加载数据集\n",
    "* 查看数据整体情况\n",
    "* 使用tail/head/sample查看部分数据\n",
    "* 字段过多可以使用set_option设置显示字段数"
   ]
  },
  {
   "cell_type": "code",
   "execution_count": 3,
   "metadata": {},
   "outputs": [
    {
     "data": {
      "text/html": [
       "<div>\n",
       "<style scoped>\n",
       "    .dataframe tbody tr th:only-of-type {\n",
       "        vertical-align: middle;\n",
       "    }\n",
       "\n",
       "    .dataframe tbody tr th {\n",
       "        vertical-align: top;\n",
       "    }\n",
       "\n",
       "    .dataframe thead th {\n",
       "        text-align: right;\n",
       "    }\n",
       "</style>\n",
       "<table border=\"1\" class=\"dataframe\">\n",
       "  <thead>\n",
       "    <tr style=\"text-align: right;\">\n",
       "      <th></th>\n",
       "      <th>game_name</th>\n",
       "      <th>box_txt</th>\n",
       "      <th>game_tag</th>\n",
       "      <th>game_fever</th>\n",
       "      <th>game_fav</th>\n",
       "      <th>game_nag</th>\n",
       "      <th>feedback_rate</th>\n",
       "      <th>game_avg</th>\n",
       "      <th>detail_url</th>\n",
       "      <th>game_intro</th>\n",
       "    </tr>\n",
       "  </thead>\n",
       "  <tbody>\n",
       "    <tr>\n",
       "      <th>0</th>\n",
       "      <td>饥饿鲨：世界</td>\n",
       "      <td>开发：Ubisoft | 网络：单机 | 类型：休闲益智</td>\n",
       "      <td>3D</td>\n",
       "      <td>20.6w</td>\n",
       "      <td>5389.0</td>\n",
       "      <td>697.0</td>\n",
       "      <td>89.0</td>\n",
       "      <td>8.1</td>\n",
       "      <td>https://shouyou.gamersky.com/ku/1181165.shtml</td>\n",
       "      <td>【安卓版注意事项】  游戏需要Google Play支持。【游戏介绍】  《饥饿鲨：世界》是...</td>\n",
       "    </tr>\n",
       "    <tr>\n",
       "      <th>1</th>\n",
       "      <td>精灵宝可梦：GO</td>\n",
       "      <td>开发：NianticLabs | 网络：网游 | 类型：冒险</td>\n",
       "      <td>3D二次元</td>\n",
       "      <td>22.9w</td>\n",
       "      <td>6893.0</td>\n",
       "      <td>3451.0</td>\n",
       "      <td>67.0</td>\n",
       "      <td>6.4</td>\n",
       "      <td>https://shouyou.gamersky.com/ku/728405.shtml</td>\n",
       "      <td>【安卓版注意事项】  游戏需要Google Play账号，Google Play市场、G...</td>\n",
       "    </tr>\n",
       "    <tr>\n",
       "      <th>2</th>\n",
       "      <td>地下城与勇士：魂</td>\n",
       "      <td>开发：NEXON Company | 网络：网游 | 类型：动作</td>\n",
       "      <td>3D横版卷轴</td>\n",
       "      <td>0</td>\n",
       "      <td>978.0</td>\n",
       "      <td>536.0</td>\n",
       "      <td>65.0</td>\n",
       "      <td>5.2</td>\n",
       "      <td>https://shouyou.gamersky.com/ku/728405.shtml</td>\n",
       "      <td>《地下城与勇士：魂》是由NEXON Company出品的一款动作游戏。在游戏中，玩家...</td>\n",
       "    </tr>\n",
       "  </tbody>\n",
       "</table>\n",
       "</div>"
      ],
      "text/plain": [
       "  game_name                           box_txt game_tag game_fever  game_fav  \\\n",
       "0    饥饿鲨：世界      开发：Ubisoft | 网络：单机 | 类型：休闲益智       3D      20.6w    5389.0   \n",
       "1  精灵宝可梦：GO    开发：NianticLabs | 网络：网游 | 类型：冒险    3D二次元      22.9w    6893.0   \n",
       "2  地下城与勇士：魂  开发：NEXON Company | 网络：网游 | 类型：动作   3D横版卷轴          0     978.0   \n",
       "\n",
       "   game_nag  feedback_rate  game_avg  \\\n",
       "0     697.0           89.0       8.1   \n",
       "1    3451.0           67.0       6.4   \n",
       "2     536.0           65.0       5.2   \n",
       "\n",
       "                                      detail_url  \\\n",
       "0  https://shouyou.gamersky.com/ku/1181165.shtml   \n",
       "1   https://shouyou.gamersky.com/ku/728405.shtml   \n",
       "2   https://shouyou.gamersky.com/ku/728405.shtml   \n",
       "\n",
       "                                          game_intro  \n",
       "0  【安卓版注意事项】  游戏需要Google Play支持。【游戏介绍】  《饥饿鲨：世界》是...  \n",
       "1    【安卓版注意事项】  游戏需要Google Play账号，Google Play市场、G...  \n",
       "2      《地下城与勇士：魂》是由NEXON Company出品的一款动作游戏。在游戏中，玩家...  "
      ]
     },
     "execution_count": 3,
     "metadata": {},
     "output_type": "execute_result"
    }
   ],
   "source": [
    "df = pd.read_csv(\"hotgame.csv\",encoding=\"gbk\")  # 读取csv文件\n",
    "pd.set_option(\"max_columns\",100)  # 设置：显示的列数最大为100列\n",
    "df.head(3) # 显示前3行"
   ]
  },
  {
   "cell_type": "markdown",
   "metadata": {},
   "source": [
    "#### 4.4 数据清洗及预处理 "
   ]
  },
  {
   "cell_type": "markdown",
   "metadata": {},
   "source": [
    "##### 4.4.1 缺失值处理\n",
    "* 通过info查看缺失值信息（以及每列的类型信息）。\n",
    "* 可以通过isnull, any, dropna，fillna等方法结合使用，对缺失值进行处理。"
   ]
  },
  {
   "cell_type": "code",
   "execution_count": 4,
   "metadata": {},
   "outputs": [
    {
     "name": "stdout",
     "output_type": "stream",
     "text": [
      "<class 'pandas.core.frame.DataFrame'>\n",
      "RangeIndex: 2632 entries, 0 to 2631\n",
      "Data columns (total 10 columns):\n",
      " #   Column         Non-Null Count  Dtype  \n",
      "---  ------         --------------  -----  \n",
      " 0   game_name      2595 non-null   object \n",
      " 1   box_txt        2595 non-null   object \n",
      " 2   game_tag       1833 non-null   object \n",
      " 3   game_fever     2595 non-null   object \n",
      " 4   game_fav       2595 non-null   float64\n",
      " 5   game_nag       2595 non-null   float64\n",
      " 6   feedback_rate  2595 non-null   float64\n",
      " 7   game_avg       2595 non-null   float64\n",
      " 8   detail_url     2632 non-null   object \n",
      " 9   game_intro     2595 non-null   object \n",
      "dtypes: float64(4), object(6)\n",
      "memory usage: 205.8+ KB\n"
     ]
    }
   ],
   "source": [
    "df.info() #info方法，查看每一条数据的数量，查看是否存在缺失值\n",
    "# 要求: \n",
    "df = df[df[\"game_name\"].notnull()] # 名称必须不能为空\n",
    "# df = df[df[\"game_tag\"].notnull()]  # 标签必须不能为空"
   ]
  },
  {
   "cell_type": "markdown",
   "metadata": {},
   "source": [
    "##### 4.4.2 无效值处理\n",
    "* 通过describe查看数值信息。\n",
    "* 可配合箱线图辅助"
   ]
  },
  {
   "cell_type": "code",
   "execution_count": 5,
   "metadata": {},
   "outputs": [
    {
     "data": {
      "text/plain": [
       "<matplotlib.axes._subplots.AxesSubplot at 0x216216afd30>"
      ]
     },
     "execution_count": 5,
     "metadata": {},
     "output_type": "execute_result"
    },
    {
     "data": {
      "image/png": "[encoded data removed]",
      "text/plain": [
       "<Figure size 432x288 with 1 Axes>"
      ]
     },
     "metadata": {
      "needs_background": "light"
     },
     "output_type": "display_data"
    }
   ],
   "source": [
    "# 统计数据的数据要把偏离主体较远的数据清理掉\n",
    "df.describe() # describe 方法，可以查看数据的整体情况 (std:方差)\n",
    "\n",
    "# 分数: 通过箱线图对分数的无效值处理\n",
    "df[\"feedback_rate\"].plot(kind=\"box\")"
   ]
  },
  {
   "cell_type": "markdown",
   "metadata": {},
   "source": [
    "##### 4.4.3 重复值处理\n",
    "* 使用duplicate检查重复值。可配合keep参数进行调整。\n",
    "* 使用drop_duplicates删除重复值。"
   ]
  },
  {
   "cell_type": "code",
   "execution_count": 6,
   "metadata": {},
   "outputs": [
    {
     "data": {
      "text/html": [
       "<div>\n",
       "<style scoped>\n",
       "    .dataframe tbody tr th:only-of-type {\n",
       "        vertical-align: middle;\n",
       "    }\n",
       "\n",
       "    .dataframe tbody tr th {\n",
       "        vertical-align: top;\n",
       "    }\n",
       "\n",
       "    .dataframe thead th {\n",
       "        text-align: right;\n",
       "    }\n",
       "</style>\n",
       "<table border=\"1\" class=\"dataframe\">\n",
       "  <thead>\n",
       "    <tr style=\"text-align: right;\">\n",
       "      <th></th>\n",
       "      <th>game_name</th>\n",
       "      <th>box_txt</th>\n",
       "      <th>game_tag</th>\n",
       "      <th>game_fever</th>\n",
       "      <th>game_fav</th>\n",
       "      <th>game_nag</th>\n",
       "      <th>feedback_rate</th>\n",
       "      <th>game_avg</th>\n",
       "      <th>detail_url</th>\n",
       "      <th>game_intro</th>\n",
       "    </tr>\n",
       "  </thead>\n",
       "  <tbody>\n",
       "    <tr>\n",
       "      <th>0</th>\n",
       "      <td>饥饿鲨：世界</td>\n",
       "      <td>开发：Ubisoft | 网络：单机 | 类型：休闲益智</td>\n",
       "      <td>3D</td>\n",
       "      <td>20.6w</td>\n",
       "      <td>5389.0</td>\n",
       "      <td>697.0</td>\n",
       "      <td>89.0</td>\n",
       "      <td>8.1</td>\n",
       "      <td>https://shouyou.gamersky.com/ku/1181165.shtml</td>\n",
       "      <td>【安卓版注意事项】  游戏需要Google Play支持。【游戏介绍】  《饥饿鲨：世界》是...</td>\n",
       "    </tr>\n",
       "    <tr>\n",
       "      <th>1</th>\n",
       "      <td>精灵宝可梦：GO</td>\n",
       "      <td>开发：NianticLabs | 网络：网游 | 类型：冒险</td>\n",
       "      <td>3D二次元</td>\n",
       "      <td>22.9w</td>\n",
       "      <td>6893.0</td>\n",
       "      <td>3451.0</td>\n",
       "      <td>67.0</td>\n",
       "      <td>6.4</td>\n",
       "      <td>https://shouyou.gamersky.com/ku/728405.shtml</td>\n",
       "      <td>【安卓版注意事项】  游戏需要Google Play账号，Google Play市场、G...</td>\n",
       "    </tr>\n",
       "    <tr>\n",
       "      <th>2</th>\n",
       "      <td>地下城与勇士：魂</td>\n",
       "      <td>开发：NEXON Company | 网络：网游 | 类型：动作</td>\n",
       "      <td>3D横版卷轴</td>\n",
       "      <td>0</td>\n",
       "      <td>978.0</td>\n",
       "      <td>536.0</td>\n",
       "      <td>65.0</td>\n",
       "      <td>5.2</td>\n",
       "      <td>https://shouyou.gamersky.com/ku/728405.shtml</td>\n",
       "      <td>《地下城与勇士：魂》是由NEXON Company出品的一款动作游戏。在游戏中，玩家...</td>\n",
       "    </tr>\n",
       "    <tr>\n",
       "      <th>3</th>\n",
       "      <td>闪耀暖暖</td>\n",
       "      <td>开发：叠纸游戏 | 网络：网游 | 类型：养成</td>\n",
       "      <td>美少女国产3D高画质</td>\n",
       "      <td>8.3w</td>\n",
       "      <td>1235.0</td>\n",
       "      <td>151.0</td>\n",
       "      <td>89.0</td>\n",
       "      <td>7.8</td>\n",
       "      <td>https://shouyou.gamersky.com/ku/728405.shtml</td>\n",
       "      <td>暖暖系列首款次世代3D巨作，以最高技术标准呈现数千种不同的材质，打造无限风格的至美服装盛...</td>\n",
       "    </tr>\n",
       "    <tr>\n",
       "      <th>4</th>\n",
       "      <td>命运-冠位指定</td>\n",
       "      <td>开发：TYPE-MOON | 网络：网游 | 类型：角色扮演</td>\n",
       "      <td>3D二次元</td>\n",
       "      <td>8.6w</td>\n",
       "      <td>10506.0</td>\n",
       "      <td>2075.0</td>\n",
       "      <td>84.0</td>\n",
       "      <td>8.2</td>\n",
       "      <td>https://shouyou.gamersky.com/ku/728405.shtml</td>\n",
       "      <td>《命运-冠位指定》是一款由TYPE-MOON开发的角色扮演游戏。本作根据《命运之夜》改编...</td>\n",
       "    </tr>\n",
       "    <tr>\n",
       "      <th>...</th>\n",
       "      <td>...</td>\n",
       "      <td>...</td>\n",
       "      <td>...</td>\n",
       "      <td>...</td>\n",
       "      <td>...</td>\n",
       "      <td>...</td>\n",
       "      <td>...</td>\n",
       "      <td>...</td>\n",
       "      <td>...</td>\n",
       "      <td>...</td>\n",
       "    </tr>\n",
       "    <tr>\n",
       "      <th>2627</th>\n",
       "      <td>OVERLORD：追思弥撒</td>\n",
       "      <td>开发：Kadokawa Games | 网络：网游 | 类型：角色扮演</td>\n",
       "      <td>二次元</td>\n",
       "      <td>0</td>\n",
       "      <td>87.0</td>\n",
       "      <td>2.0</td>\n",
       "      <td>98.0</td>\n",
       "      <td>8.7</td>\n",
       "      <td>https://shouyou.gamersky.com/ku/863263.shtml</td>\n",
       "      <td>《OVERLORD：追思弥撒》是由Kadokawa Games出品的一款角色扮演游戏，改...</td>\n",
       "    </tr>\n",
       "    <tr>\n",
       "      <th>2628</th>\n",
       "      <td>风云岛行动</td>\n",
       "      <td>开发：网易游戏 | 网络：网游 | 类型：冒险</td>\n",
       "      <td>生存高画质科幻国产</td>\n",
       "      <td>528</td>\n",
       "      <td>39.0</td>\n",
       "      <td>79.0</td>\n",
       "      <td>33.0</td>\n",
       "      <td>2.8</td>\n",
       "      <td>https://shouyou.gamersky.com/ku/863263.shtml</td>\n",
       "      <td>3名全新英雄陆续上线，隐身、瞬移、遁地、奶人……无所不能！新玩法周期事件、房间约战、新鲜...</td>\n",
       "    </tr>\n",
       "    <tr>\n",
       "      <th>2629</th>\n",
       "      <td>小林正雪2：抉择之惑</td>\n",
       "      <td>开发：Genuine Studio | 网络：单机 | 类型：解谜</td>\n",
       "      <td>NaN</td>\n",
       "      <td>0</td>\n",
       "      <td>8.0</td>\n",
       "      <td>0.0</td>\n",
       "      <td>100.0</td>\n",
       "      <td>9.5</td>\n",
       "      <td>https://shouyou.gamersky.com/ku/863263.shtml</td>\n",
       "      <td>《小林正雪2：抉择之惑》是由香港手机游戏开发团队Genuine Studio所推出的一款...</td>\n",
       "    </tr>\n",
       "    <tr>\n",
       "      <th>2630</th>\n",
       "      <td>每天早上，田中都会来迎接你</td>\n",
       "      <td>开发：torino Inc. | 网络：单机 | 类型：益智解谜</td>\n",
       "      <td>NaN</td>\n",
       "      <td>0</td>\n",
       "      <td>1.0</td>\n",
       "      <td>0.0</td>\n",
       "      <td>100.0</td>\n",
       "      <td>0.0</td>\n",
       "      <td>https://shouyou.gamersky.com/ku/863263.shtml</td>\n",
       "      <td>击退每天早上来迎接你的田中吧！  不知道为什么，每天早上田中都会来迎接玩家，所以玩家要利...</td>\n",
       "    </tr>\n",
       "    <tr>\n",
       "      <th>2631</th>\n",
       "      <td>破晓唤龙者</td>\n",
       "      <td>开发：网易 | 网络：单机 | 类型：动作</td>\n",
       "      <td>NaN</td>\n",
       "      <td>0</td>\n",
       "      <td>6.0</td>\n",
       "      <td>1.0</td>\n",
       "      <td>86.0</td>\n",
       "      <td>8.1</td>\n",
       "      <td>https://shouyou.gamersky.com/ku/863263.shtml</td>\n",
       "      <td>《破晓唤龙者》是网易首款以VR技术呈现的第一人称ARPG游戏。玩家可以在游戏中体验东方奇...</td>\n",
       "    </tr>\n",
       "  </tbody>\n",
       "</table>\n",
       "<p>2595 rows × 10 columns</p>\n",
       "</div>"
      ],
      "text/plain": [
       "          game_name                              box_txt    game_tag  \\\n",
       "0            饥饿鲨：世界         开发：Ubisoft | 网络：单机 | 类型：休闲益智          3D   \n",
       "1          精灵宝可梦：GO       开发：NianticLabs | 网络：网游 | 类型：冒险       3D二次元   \n",
       "2          地下城与勇士：魂     开发：NEXON Company | 网络：网游 | 类型：动作      3D横版卷轴   \n",
       "3              闪耀暖暖              开发：叠纸游戏 | 网络：网游 | 类型：养成  美少女国产3D高画质   \n",
       "4           命运-冠位指定       开发：TYPE-MOON | 网络：网游 | 类型：角色扮演       3D二次元   \n",
       "...             ...                                  ...         ...   \n",
       "2627  OVERLORD：追思弥撒  开发：Kadokawa Games | 网络：网游 | 类型：角色扮演         二次元   \n",
       "2628          风云岛行动              开发：网易游戏 | 网络：网游 | 类型：冒险   生存高画质科幻国产   \n",
       "2629     小林正雪2：抉择之惑    开发：Genuine Studio | 网络：单机 | 类型：解谜         NaN   \n",
       "2630  每天早上，田中都会来迎接你     开发：torino Inc. | 网络：单机 | 类型：益智解谜         NaN   \n",
       "2631          破晓唤龙者                开发：网易 | 网络：单机 | 类型：动作         NaN   \n",
       "\n",
       "     game_fever  game_fav  game_nag  feedback_rate  game_avg  \\\n",
       "0         20.6w    5389.0     697.0           89.0       8.1   \n",
       "1         22.9w    6893.0    3451.0           67.0       6.4   \n",
       "2             0     978.0     536.0           65.0       5.2   \n",
       "3          8.3w    1235.0     151.0           89.0       7.8   \n",
       "4          8.6w   10506.0    2075.0           84.0       8.2   \n",
       "...         ...       ...       ...            ...       ...   \n",
       "2627          0      87.0       2.0           98.0       8.7   \n",
       "2628        528      39.0      79.0           33.0       2.8   \n",
       "2629          0       8.0       0.0          100.0       9.5   \n",
       "2630          0       1.0       0.0          100.0       0.0   \n",
       "2631          0       6.0       1.0           86.0       8.1   \n",
       "\n",
       "                                         detail_url  \\\n",
       "0     https://shouyou.gamersky.com/ku/1181165.shtml   \n",
       "1      https://shouyou.gamersky.com/ku/728405.shtml   \n",
       "2      https://shouyou.gamersky.com/ku/728405.shtml   \n",
       "3      https://shouyou.gamersky.com/ku/728405.shtml   \n",
       "4      https://shouyou.gamersky.com/ku/728405.shtml   \n",
       "...                                             ...   \n",
       "2627   https://shouyou.gamersky.com/ku/863263.shtml   \n",
       "2628   https://shouyou.gamersky.com/ku/863263.shtml   \n",
       "2629   https://shouyou.gamersky.com/ku/863263.shtml   \n",
       "2630   https://shouyou.gamersky.com/ku/863263.shtml   \n",
       "2631   https://shouyou.gamersky.com/ku/863263.shtml   \n",
       "\n",
       "                                             game_intro  \n",
       "0     【安卓版注意事项】  游戏需要Google Play支持。【游戏介绍】  《饥饿鲨：世界》是...  \n",
       "1       【安卓版注意事项】  游戏需要Google Play账号，Google Play市场、G...  \n",
       "2         《地下城与勇士：魂》是由NEXON Company出品的一款动作游戏。在游戏中，玩家...  \n",
       "3       暖暖系列首款次世代3D巨作，以最高技术标准呈现数千种不同的材质，打造无限风格的至美服装盛...  \n",
       "4       《命运-冠位指定》是一款由TYPE-MOON开发的角色扮演游戏。本作根据《命运之夜》改编...  \n",
       "...                                                 ...  \n",
       "2627    《OVERLORD：追思弥撒》是由Kadokawa Games出品的一款角色扮演游戏，改...  \n",
       "2628    3名全新英雄陆续上线，隐身、瞬移、遁地、奶人……无所不能！新玩法周期事件、房间约战、新鲜...  \n",
       "2629    《小林正雪2：抉择之惑》是由香港手机游戏开发团队Genuine Studio所推出的一款...  \n",
       "2630    击退每天早上来迎接你的田中吧！  不知道为什么，每天早上田中都会来迎接玩家，所以玩家要利...  \n",
       "2631    《破晓唤龙者》是网易首款以VR技术呈现的第一人称ARPG游戏。玩家可以在游戏中体验东方奇...  \n",
       "\n",
       "[2595 rows x 10 columns]"
      ]
     },
     "execution_count": 6,
     "metadata": {},
     "output_type": "execute_result"
    }
   ],
   "source": [
    "# 判断\n",
    "df.duplicated() # 通过duplicated 方法查看哪些行是重复值\n",
    "# 去重\n",
    "df = df.drop_duplicates() # drop_duplicates 方法去重\n",
    "\n",
    "# 此时数据已经基本很干净了\n",
    "df"
   ]
  },
  {
   "cell_type": "markdown",
   "metadata": {},
   "source": [
    "##### 4.4.4 其他数据预处理\n",
    "* 切分box_txt字段数据"
   ]
  },
  {
   "cell_type": "code",
   "execution_count": 7,
   "metadata": {},
   "outputs": [],
   "source": [
    "# 由于box_txt字段是三条信息混在一起，所以要进行分列，并生成三列新的字段\n",
    "'''\n",
    "在原表后面追加三列新的字段如下：\n",
    "dev       net      type\n",
    "Ubisoft   单机     休闲益智\n",
    "'''\n",
    "# df[\"dev\"],df[\"net\"],df[\"type\"] = df[\"box_txt\"].str.split(\"|\").str\n",
    "\n",
    "# 删除原有的box_txt字段\n",
    "del df[\"box_txt\"]"
   ]
  },
  {
   "cell_type": "code",
   "execution_count": 8,
   "metadata": {},
   "outputs": [
    {
     "data": {
      "text/html": [
       "<div>\n",
       "<style scoped>\n",
       "    .dataframe tbody tr th:only-of-type {\n",
       "        vertical-align: middle;\n",
       "    }\n",
       "\n",
       "    .dataframe tbody tr th {\n",
       "        vertical-align: top;\n",
       "    }\n",
       "\n",
       "    .dataframe thead th {\n",
       "        text-align: right;\n",
       "    }\n",
       "</style>\n",
       "<table border=\"1\" class=\"dataframe\">\n",
       "  <thead>\n",
       "    <tr style=\"text-align: right;\">\n",
       "      <th></th>\n",
       "      <th>game_name</th>\n",
       "      <th>game_tag</th>\n",
       "      <th>game_fever</th>\n",
       "      <th>game_fav</th>\n",
       "      <th>game_nag</th>\n",
       "      <th>feedback_rate</th>\n",
       "      <th>game_avg</th>\n",
       "      <th>detail_url</th>\n",
       "      <th>game_intro</th>\n",
       "    </tr>\n",
       "  </thead>\n",
       "  <tbody>\n",
       "    <tr>\n",
       "      <th>0</th>\n",
       "      <td>饥饿鲨：世界</td>\n",
       "      <td>3D</td>\n",
       "      <td>20.6w</td>\n",
       "      <td>5389.0</td>\n",
       "      <td>697.0</td>\n",
       "      <td>89.0</td>\n",
       "      <td>8.1</td>\n",
       "      <td>https://shouyou.gamersky.com/ku/1181165.shtml</td>\n",
       "      <td>【安卓版注意事项】  游戏需要Google Play支持。【游戏介绍】  《饥饿鲨：世界》是...</td>\n",
       "    </tr>\n",
       "    <tr>\n",
       "      <th>1</th>\n",
       "      <td>精灵宝可梦：GO</td>\n",
       "      <td>3D二次元</td>\n",
       "      <td>22.9w</td>\n",
       "      <td>6893.0</td>\n",
       "      <td>3451.0</td>\n",
       "      <td>67.0</td>\n",
       "      <td>6.4</td>\n",
       "      <td>https://shouyou.gamersky.com/ku/728405.shtml</td>\n",
       "      <td>【安卓版注意事项】  游戏需要Google Play账号，Google Play市场、G...</td>\n",
       "    </tr>\n",
       "    <tr>\n",
       "      <th>2</th>\n",
       "      <td>地下城与勇士：魂</td>\n",
       "      <td>3D横版卷轴</td>\n",
       "      <td>0</td>\n",
       "      <td>978.0</td>\n",
       "      <td>536.0</td>\n",
       "      <td>65.0</td>\n",
       "      <td>5.2</td>\n",
       "      <td>https://shouyou.gamersky.com/ku/728405.shtml</td>\n",
       "      <td>《地下城与勇士：魂》是由NEXON Company出品的一款动作游戏。在游戏中，玩家...</td>\n",
       "    </tr>\n",
       "    <tr>\n",
       "      <th>3</th>\n",
       "      <td>闪耀暖暖</td>\n",
       "      <td>美少女国产3D高画质</td>\n",
       "      <td>8.3w</td>\n",
       "      <td>1235.0</td>\n",
       "      <td>151.0</td>\n",
       "      <td>89.0</td>\n",
       "      <td>7.8</td>\n",
       "      <td>https://shouyou.gamersky.com/ku/728405.shtml</td>\n",
       "      <td>暖暖系列首款次世代3D巨作，以最高技术标准呈现数千种不同的材质，打造无限风格的至美服装盛...</td>\n",
       "    </tr>\n",
       "    <tr>\n",
       "      <th>4</th>\n",
       "      <td>命运-冠位指定</td>\n",
       "      <td>3D二次元</td>\n",
       "      <td>8.6w</td>\n",
       "      <td>10506.0</td>\n",
       "      <td>2075.0</td>\n",
       "      <td>84.0</td>\n",
       "      <td>8.2</td>\n",
       "      <td>https://shouyou.gamersky.com/ku/728405.shtml</td>\n",
       "      <td>《命运-冠位指定》是一款由TYPE-MOON开发的角色扮演游戏。本作根据《命运之夜》改编...</td>\n",
       "    </tr>\n",
       "    <tr>\n",
       "      <th>...</th>\n",
       "      <td>...</td>\n",
       "      <td>...</td>\n",
       "      <td>...</td>\n",
       "      <td>...</td>\n",
       "      <td>...</td>\n",
       "      <td>...</td>\n",
       "      <td>...</td>\n",
       "      <td>...</td>\n",
       "      <td>...</td>\n",
       "    </tr>\n",
       "    <tr>\n",
       "      <th>2627</th>\n",
       "      <td>OVERLORD：追思弥撒</td>\n",
       "      <td>二次元</td>\n",
       "      <td>0</td>\n",
       "      <td>87.0</td>\n",
       "      <td>2.0</td>\n",
       "      <td>98.0</td>\n",
       "      <td>8.7</td>\n",
       "      <td>https://shouyou.gamersky.com/ku/863263.shtml</td>\n",
       "      <td>《OVERLORD：追思弥撒》是由Kadokawa Games出品的一款角色扮演游戏，改...</td>\n",
       "    </tr>\n",
       "    <tr>\n",
       "      <th>2628</th>\n",
       "      <td>风云岛行动</td>\n",
       "      <td>生存高画质科幻国产</td>\n",
       "      <td>528</td>\n",
       "      <td>39.0</td>\n",
       "      <td>79.0</td>\n",
       "      <td>33.0</td>\n",
       "      <td>2.8</td>\n",
       "      <td>https://shouyou.gamersky.com/ku/863263.shtml</td>\n",
       "      <td>3名全新英雄陆续上线，隐身、瞬移、遁地、奶人……无所不能！新玩法周期事件、房间约战、新鲜...</td>\n",
       "    </tr>\n",
       "    <tr>\n",
       "      <th>2629</th>\n",
       "      <td>小林正雪2：抉择之惑</td>\n",
       "      <td>NaN</td>\n",
       "      <td>0</td>\n",
       "      <td>8.0</td>\n",
       "      <td>0.0</td>\n",
       "      <td>100.0</td>\n",
       "      <td>9.5</td>\n",
       "      <td>https://shouyou.gamersky.com/ku/863263.shtml</td>\n",
       "      <td>《小林正雪2：抉择之惑》是由香港手机游戏开发团队Genuine Studio所推出的一款...</td>\n",
       "    </tr>\n",
       "    <tr>\n",
       "      <th>2630</th>\n",
       "      <td>每天早上，田中都会来迎接你</td>\n",
       "      <td>NaN</td>\n",
       "      <td>0</td>\n",
       "      <td>1.0</td>\n",
       "      <td>0.0</td>\n",
       "      <td>100.0</td>\n",
       "      <td>0.0</td>\n",
       "      <td>https://shouyou.gamersky.com/ku/863263.shtml</td>\n",
       "      <td>击退每天早上来迎接你的田中吧！  不知道为什么，每天早上田中都会来迎接玩家，所以玩家要利...</td>\n",
       "    </tr>\n",
       "    <tr>\n",
       "      <th>2631</th>\n",
       "      <td>破晓唤龙者</td>\n",
       "      <td>NaN</td>\n",
       "      <td>0</td>\n",
       "      <td>6.0</td>\n",
       "      <td>1.0</td>\n",
       "      <td>86.0</td>\n",
       "      <td>8.1</td>\n",
       "      <td>https://shouyou.gamersky.com/ku/863263.shtml</td>\n",
       "      <td>《破晓唤龙者》是网易首款以VR技术呈现的第一人称ARPG游戏。玩家可以在游戏中体验东方奇...</td>\n",
       "    </tr>\n",
       "  </tbody>\n",
       "</table>\n",
       "<p>2595 rows × 9 columns</p>\n",
       "</div>"
      ],
      "text/plain": [
       "          game_name    game_tag game_fever  game_fav  game_nag  feedback_rate  \\\n",
       "0            饥饿鲨：世界          3D      20.6w    5389.0     697.0           89.0   \n",
       "1          精灵宝可梦：GO       3D二次元      22.9w    6893.0    3451.0           67.0   \n",
       "2          地下城与勇士：魂      3D横版卷轴          0     978.0     536.0           65.0   \n",
       "3              闪耀暖暖  美少女国产3D高画质       8.3w    1235.0     151.0           89.0   \n",
       "4           命运-冠位指定       3D二次元       8.6w   10506.0    2075.0           84.0   \n",
       "...             ...         ...        ...       ...       ...            ...   \n",
       "2627  OVERLORD：追思弥撒         二次元          0      87.0       2.0           98.0   \n",
       "2628          风云岛行动   生存高画质科幻国产        528      39.0      79.0           33.0   \n",
       "2629     小林正雪2：抉择之惑         NaN          0       8.0       0.0          100.0   \n",
       "2630  每天早上，田中都会来迎接你         NaN          0       1.0       0.0          100.0   \n",
       "2631          破晓唤龙者         NaN          0       6.0       1.0           86.0   \n",
       "\n",
       "      game_avg                                     detail_url  \\\n",
       "0          8.1  https://shouyou.gamersky.com/ku/1181165.shtml   \n",
       "1          6.4   https://shouyou.gamersky.com/ku/728405.shtml   \n",
       "2          5.2   https://shouyou.gamersky.com/ku/728405.shtml   \n",
       "3          7.8   https://shouyou.gamersky.com/ku/728405.shtml   \n",
       "4          8.2   https://shouyou.gamersky.com/ku/728405.shtml   \n",
       "...        ...                                            ...   \n",
       "2627       8.7   https://shouyou.gamersky.com/ku/863263.shtml   \n",
       "2628       2.8   https://shouyou.gamersky.com/ku/863263.shtml   \n",
       "2629       9.5   https://shouyou.gamersky.com/ku/863263.shtml   \n",
       "2630       0.0   https://shouyou.gamersky.com/ku/863263.shtml   \n",
       "2631       8.1   https://shouyou.gamersky.com/ku/863263.shtml   \n",
       "\n",
       "                                             game_intro  \n",
       "0     【安卓版注意事项】  游戏需要Google Play支持。【游戏介绍】  《饥饿鲨：世界》是...  \n",
       "1       【安卓版注意事项】  游戏需要Google Play账号，Google Play市场、G...  \n",
       "2         《地下城与勇士：魂》是由NEXON Company出品的一款动作游戏。在游戏中，玩家...  \n",
       "3       暖暖系列首款次世代3D巨作，以最高技术标准呈现数千种不同的材质，打造无限风格的至美服装盛...  \n",
       "4       《命运-冠位指定》是一款由TYPE-MOON开发的角色扮演游戏。本作根据《命运之夜》改编...  \n",
       "...                                                 ...  \n",
       "2627    《OVERLORD：追思弥撒》是由Kadokawa Games出品的一款角色扮演游戏，改...  \n",
       "2628    3名全新英雄陆续上线，隐身、瞬移、遁地、奶人……无所不能！新玩法周期事件、房间约战、新鲜...  \n",
       "2629    《小林正雪2：抉择之惑》是由香港手机游戏开发团队Genuine Studio所推出的一款...  \n",
       "2630    击退每天早上来迎接你的田中吧！  不知道为什么，每天早上田中都会来迎接玩家，所以玩家要利...  \n",
       "2631    《破晓唤龙者》是网易首款以VR技术呈现的第一人称ARPG游戏。玩家可以在游戏中体验东方奇...  \n",
       "\n",
       "[2595 rows x 9 columns]"
      ]
     },
     "execution_count": 8,
     "metadata": {},
     "output_type": "execute_result"
    }
   ],
   "source": [
    "df"
   ]
  },
  {
   "cell_type": "code",
   "execution_count": 9,
   "metadata": {},
   "outputs": [
    {
     "ename": "KeyError",
     "evalue": "'dev'",
     "output_type": "error",
     "traceback": [
      "\u001b[1;31m---------------------------------------------------------------------------\u001b[0m",
      "\u001b[1;31mKeyError\u001b[0m                                  Traceback (most recent call last)",
      "\u001b[1;32mc:\\users\\v-liba\\appdata\\local\\programs\\python\\python37\\lib\\site-packages\\pandas\\core\\indexes\\base.py\u001b[0m in \u001b[0;36mget_loc\u001b[1;34m(self, key, method, tolerance)\u001b[0m\n\u001b[0;32m   2645\u001b[0m             \u001b[1;32mtry\u001b[0m\u001b[1;33m:\u001b[0m\u001b[1;33m\u001b[0m\u001b[1;33m\u001b[0m\u001b[0m\n\u001b[1;32m-> 2646\u001b[1;33m                 \u001b[1;32mreturn\u001b[0m \u001b[0mself\u001b[0m\u001b[1;33m.\u001b[0m\u001b[0m_engine\u001b[0m\u001b[1;33m.\u001b[0m\u001b[0mget_loc\u001b[0m\u001b[1;33m(\u001b[0m\u001b[0mkey\u001b[0m\u001b[1;33m)\u001b[0m\u001b[1;33m\u001b[0m\u001b[1;33m\u001b[0m\u001b[0m\n\u001b[0m\u001b[0;32m   2647\u001b[0m             \u001b[1;32mexcept\u001b[0m \u001b[0mKeyError\u001b[0m\u001b[1;33m:\u001b[0m\u001b[1;33m\u001b[0m\u001b[1;33m\u001b[0m\u001b[0m\n",
      "\u001b[1;32mpandas\\_libs\\index.pyx\u001b[0m in \u001b[0;36mpandas._libs.index.IndexEngine.get_loc\u001b[1;34m()\u001b[0m\n",
      "\u001b[1;32mpandas\\_libs\\index.pyx\u001b[0m in \u001b[0;36mpandas._libs.index.IndexEngine.get_loc\u001b[1;34m()\u001b[0m\n",
      "\u001b[1;32mpandas\\_libs\\hashtable_class_helper.pxi\u001b[0m in \u001b[0;36mpandas._libs.hashtable.PyObjectHashTable.get_item\u001b[1;34m()\u001b[0m\n",
      "\u001b[1;32mpandas\\_libs\\hashtable_class_helper.pxi\u001b[0m in \u001b[0;36mpandas._libs.hashtable.PyObjectHashTable.get_item\u001b[1;34m()\u001b[0m\n",
      "\u001b[1;31mKeyError\u001b[0m: 'dev'",
      "\nDuring handling of the above exception, another exception occurred:\n",
      "\u001b[1;31mKeyError\u001b[0m                                  Traceback (most recent call last)",
      "\u001b[1;32m<ipython-input-9-28549e424d4f>\u001b[0m in \u001b[0;36m<module>\u001b[1;34m\u001b[0m\n\u001b[0;32m      1\u001b[0m \u001b[1;31m# extract 提取函数，通过正则表达式把需要的字符串提取出来\u001b[0m\u001b[1;33m\u001b[0m\u001b[1;33m\u001b[0m\u001b[1;33m\u001b[0m\u001b[0m\n\u001b[1;32m----> 2\u001b[1;33m \u001b[0mdf\u001b[0m\u001b[1;33m[\u001b[0m\u001b[1;34m\"dev\"\u001b[0m\u001b[1;33m]\u001b[0m \u001b[1;33m=\u001b[0m \u001b[0mdf\u001b[0m\u001b[1;33m[\u001b[0m\u001b[1;34m\"dev\"\u001b[0m\u001b[1;33m]\u001b[0m\u001b[1;33m.\u001b[0m\u001b[0mstr\u001b[0m\u001b[1;33m.\u001b[0m\u001b[0mextract\u001b[0m\u001b[1;33m(\u001b[0m\u001b[1;34m\"：([\\u4e00-\\u9fa5]+|[a-zA-Z]+)\"\u001b[0m\u001b[1;33m)\u001b[0m   \u001b[1;31m#\\u4e00-\\u9fa5 中文    [a-zA-Z]+ 英文\u001b[0m\u001b[1;33m\u001b[0m\u001b[1;33m\u001b[0m\u001b[0m\n\u001b[0m\u001b[0;32m      3\u001b[0m \u001b[0mdf\u001b[0m\u001b[1;33m[\u001b[0m\u001b[1;34m\"net\"\u001b[0m\u001b[1;33m]\u001b[0m \u001b[1;33m=\u001b[0m \u001b[0mdf\u001b[0m\u001b[1;33m[\u001b[0m\u001b[1;34m\"net\"\u001b[0m\u001b[1;33m]\u001b[0m\u001b[1;33m.\u001b[0m\u001b[0mstr\u001b[0m\u001b[1;33m.\u001b[0m\u001b[0mextract\u001b[0m\u001b[1;33m(\u001b[0m\u001b[1;34m\"：([\\u4e00-\\u9fa5]+|[a-zA-Z]+)\"\u001b[0m\u001b[1;33m)\u001b[0m\u001b[1;33m\u001b[0m\u001b[1;33m\u001b[0m\u001b[0m\n\u001b[0;32m      4\u001b[0m \u001b[0mdf\u001b[0m\u001b[1;33m[\u001b[0m\u001b[1;34m\"type\"\u001b[0m\u001b[1;33m]\u001b[0m \u001b[1;33m=\u001b[0m \u001b[0mdf\u001b[0m\u001b[1;33m[\u001b[0m\u001b[1;34m\"type\"\u001b[0m\u001b[1;33m]\u001b[0m\u001b[1;33m.\u001b[0m\u001b[0mstr\u001b[0m\u001b[1;33m.\u001b[0m\u001b[0mextract\u001b[0m\u001b[1;33m(\u001b[0m\u001b[1;34m\"：([\\u4e00-\\u9fa5]+|[a-zA-Z]+)\"\u001b[0m\u001b[1;33m)\u001b[0m\u001b[1;33m\u001b[0m\u001b[1;33m\u001b[0m\u001b[0m\n",
      "\u001b[1;32mc:\\users\\v-liba\\appdata\\local\\programs\\python\\python37\\lib\\site-packages\\pandas\\core\\frame.py\u001b[0m in \u001b[0;36m__getitem__\u001b[1;34m(self, key)\u001b[0m\n\u001b[0;32m   2798\u001b[0m             \u001b[1;32mif\u001b[0m \u001b[0mself\u001b[0m\u001b[1;33m.\u001b[0m\u001b[0mcolumns\u001b[0m\u001b[1;33m.\u001b[0m\u001b[0mnlevels\u001b[0m \u001b[1;33m>\u001b[0m \u001b[1;36m1\u001b[0m\u001b[1;33m:\u001b[0m\u001b[1;33m\u001b[0m\u001b[1;33m\u001b[0m\u001b[0m\n\u001b[0;32m   2799\u001b[0m                 \u001b[1;32mreturn\u001b[0m \u001b[0mself\u001b[0m\u001b[1;33m.\u001b[0m\u001b[0m_getitem_multilevel\u001b[0m\u001b[1;33m(\u001b[0m\u001b[0mkey\u001b[0m\u001b[1;33m)\u001b[0m\u001b[1;33m\u001b[0m\u001b[1;33m\u001b[0m\u001b[0m\n\u001b[1;32m-> 2800\u001b[1;33m             \u001b[0mindexer\u001b[0m \u001b[1;33m=\u001b[0m \u001b[0mself\u001b[0m\u001b[1;33m.\u001b[0m\u001b[0mcolumns\u001b[0m\u001b[1;33m.\u001b[0m\u001b[0mget_loc\u001b[0m\u001b[1;33m(\u001b[0m\u001b[0mkey\u001b[0m\u001b[1;33m)\u001b[0m\u001b[1;33m\u001b[0m\u001b[1;33m\u001b[0m\u001b[0m\n\u001b[0m\u001b[0;32m   2801\u001b[0m             \u001b[1;32mif\u001b[0m \u001b[0mis_integer\u001b[0m\u001b[1;33m(\u001b[0m\u001b[0mindexer\u001b[0m\u001b[1;33m)\u001b[0m\u001b[1;33m:\u001b[0m\u001b[1;33m\u001b[0m\u001b[1;33m\u001b[0m\u001b[0m\n\u001b[0;32m   2802\u001b[0m                 \u001b[0mindexer\u001b[0m \u001b[1;33m=\u001b[0m \u001b[1;33m[\u001b[0m\u001b[0mindexer\u001b[0m\u001b[1;33m]\u001b[0m\u001b[1;33m\u001b[0m\u001b[1;33m\u001b[0m\u001b[0m\n",
      "\u001b[1;32mc:\\users\\v-liba\\appdata\\local\\programs\\python\\python37\\lib\\site-packages\\pandas\\core\\indexes\\base.py\u001b[0m in \u001b[0;36mget_loc\u001b[1;34m(self, key, method, tolerance)\u001b[0m\n\u001b[0;32m   2646\u001b[0m                 \u001b[1;32mreturn\u001b[0m \u001b[0mself\u001b[0m\u001b[1;33m.\u001b[0m\u001b[0m_engine\u001b[0m\u001b[1;33m.\u001b[0m\u001b[0mget_loc\u001b[0m\u001b[1;33m(\u001b[0m\u001b[0mkey\u001b[0m\u001b[1;33m)\u001b[0m\u001b[1;33m\u001b[0m\u001b[1;33m\u001b[0m\u001b[0m\n\u001b[0;32m   2647\u001b[0m             \u001b[1;32mexcept\u001b[0m \u001b[0mKeyError\u001b[0m\u001b[1;33m:\u001b[0m\u001b[1;33m\u001b[0m\u001b[1;33m\u001b[0m\u001b[0m\n\u001b[1;32m-> 2648\u001b[1;33m                 \u001b[1;32mreturn\u001b[0m \u001b[0mself\u001b[0m\u001b[1;33m.\u001b[0m\u001b[0m_engine\u001b[0m\u001b[1;33m.\u001b[0m\u001b[0mget_loc\u001b[0m\u001b[1;33m(\u001b[0m\u001b[0mself\u001b[0m\u001b[1;33m.\u001b[0m\u001b[0m_maybe_cast_indexer\u001b[0m\u001b[1;33m(\u001b[0m\u001b[0mkey\u001b[0m\u001b[1;33m)\u001b[0m\u001b[1;33m)\u001b[0m\u001b[1;33m\u001b[0m\u001b[1;33m\u001b[0m\u001b[0m\n\u001b[0m\u001b[0;32m   2649\u001b[0m         \u001b[0mindexer\u001b[0m \u001b[1;33m=\u001b[0m \u001b[0mself\u001b[0m\u001b[1;33m.\u001b[0m\u001b[0mget_indexer\u001b[0m\u001b[1;33m(\u001b[0m\u001b[1;33m[\u001b[0m\u001b[0mkey\u001b[0m\u001b[1;33m]\u001b[0m\u001b[1;33m,\u001b[0m \u001b[0mmethod\u001b[0m\u001b[1;33m=\u001b[0m\u001b[0mmethod\u001b[0m\u001b[1;33m,\u001b[0m \u001b[0mtolerance\u001b[0m\u001b[1;33m=\u001b[0m\u001b[0mtolerance\u001b[0m\u001b[1;33m)\u001b[0m\u001b[1;33m\u001b[0m\u001b[1;33m\u001b[0m\u001b[0m\n\u001b[0;32m   2650\u001b[0m         \u001b[1;32mif\u001b[0m \u001b[0mindexer\u001b[0m\u001b[1;33m.\u001b[0m\u001b[0mndim\u001b[0m \u001b[1;33m>\u001b[0m \u001b[1;36m1\u001b[0m \u001b[1;32mor\u001b[0m \u001b[0mindexer\u001b[0m\u001b[1;33m.\u001b[0m\u001b[0msize\u001b[0m \u001b[1;33m>\u001b[0m \u001b[1;36m1\u001b[0m\u001b[1;33m:\u001b[0m\u001b[1;33m\u001b[0m\u001b[1;33m\u001b[0m\u001b[0m\n",
      "\u001b[1;32mpandas\\_libs\\index.pyx\u001b[0m in \u001b[0;36mpandas._libs.index.IndexEngine.get_loc\u001b[1;34m()\u001b[0m\n",
      "\u001b[1;32mpandas\\_libs\\index.pyx\u001b[0m in \u001b[0;36mpandas._libs.index.IndexEngine.get_loc\u001b[1;34m()\u001b[0m\n",
      "\u001b[1;32mpandas\\_libs\\hashtable_class_helper.pxi\u001b[0m in \u001b[0;36mpandas._libs.hashtable.PyObjectHashTable.get_item\u001b[1;34m()\u001b[0m\n",
      "\u001b[1;32mpandas\\_libs\\hashtable_class_helper.pxi\u001b[0m in \u001b[0;36mpandas._libs.hashtable.PyObjectHashTable.get_item\u001b[1;34m()\u001b[0m\n",
      "\u001b[1;31mKeyError\u001b[0m: 'dev'"
     ]
    }
   ],
   "source": [
    "# extract 提取函数，通过正则表达式把需要的字符串提取出来\n",
    "df[\"dev\"] = df[\"dev\"].str.extract(\"：([\\u4e00-\\u9fa5]+|[a-zA-Z]+)\")   #\\u4e00-\\u9fa5 中文    [a-zA-Z]+ 英文\n",
    "df[\"net\"] = df[\"net\"].str.extract(\"：([\\u4e00-\\u9fa5]+|[a-zA-Z]+)\")\n",
    "df[\"type\"] = df[\"type\"].str.extract(\"：([\\u4e00-\\u9fa5]+|[a-zA-Z]+)\")"
   ]
  },
  {
   "cell_type": "markdown",
   "metadata": {},
   "source": [
    "* 热度转换为整数值"
   ]
  },
  {
   "cell_type": "code",
   "execution_count": null,
   "metadata": {},
   "outputs": [],
   "source": [
    "# 如果为了防止多次操作导致把表改坏，可以通过copy函数赋值给新的表名\n",
    "t = df.copy()\n",
    "# nan处理不了,先把nan数据清理\n",
    "t = t[t[\"game_fever\"]!=0 & t[\"game_fever\"].notnull()] # & 交集\n",
    "# 把W替换掉，*10000\n",
    "t[\"game_fever\"] = t[\"game_fever\"][t[\"game_fever\"].str.contains(\"w\")].replace(\"w\",\"\",regex=True).astype(np.float64)*10000   #regex=True一定要加上，表示允许使用正则表达式"
   ]
  },
  {
   "cell_type": "markdown",
   "metadata": {},
   "source": [
    "### 5.分析案例"
   ]
  },
  {
   "cell_type": "markdown",
   "metadata": {},
   "source": [
    "#### 5.1 游戏热度与评分关联性的分析"
   ]
  },
  {
   "cell_type": "code",
   "execution_count": null,
   "metadata": {},
   "outputs": [],
   "source": [
    "t1 = t.copy() # 重新复制一张表t1\n",
    "x = t1[\"game_fever\"]   # 热度\n",
    "y = t1[\"feedback_rate\"] # 评分\n",
    "plt.scatter(x,y) # 绘制散点图\n",
    "\n",
    "# 发现热度和评分没有明显的联系，热度高的游戏评分不一定高"
   ]
  },
  {
   "cell_type": "markdown",
   "metadata": {},
   "source": [
    "#### 5.2 热门游戏分数所处的区间"
   ]
  },
  {
   "cell_type": "code",
   "execution_count": null,
   "metadata": {},
   "outputs": [],
   "source": [
    "t1 = t.copy()\n",
    "plt.hist(t1[\"game_avg\"],[0,1,2,3,4,5,6,7,8,9,10]) # 绘制直方图，可以根据自己的需求分层"
   ]
  },
  {
   "cell_type": "markdown",
   "metadata": {},
   "source": [
    "#### 5.3 热门游戏的名称分词分析"
   ]
  },
  {
   "cell_type": "code",
   "execution_count": null,
   "metadata": {},
   "outputs": [],
   "source": [
    "# cut 函数可以用来切词，默认的是精准模式\n",
    "# 光标移动到方法上面，按shift+tab，弹出文档，连续按选择文档详细程度\n",
    "result = jieba.cut(\"这是数据分析的课程\")  # result不能直接输出，结果是一个生成器，通过join解析\n",
    "print(\",\".join(result)) # 这是，的，这种数据是我们不需要的数据，可以放在停用词表中"
   ]
  },
  {
   "cell_type": "code",
   "execution_count": null,
   "metadata": {},
   "outputs": [],
   "source": [
    "t1 = t.copy()\n",
    "# 1.获取所有的游戏的名称(只要中文名字)\n",
    "texts = \"\".join(df[\"game_name\"].values.tolist()) # 用.values把表转成一列值，.tolist转化为列表，然后拼接成一个字符串\n",
    "# 获取中文\n",
    "texts = \"\".join(re.findall(r'[\\u4e00-\\u9fa5]',texts)) # 对texts正则\n",
    "# 切分\n",
    "result = jieba.cut(texts)\n",
    "\n",
    "# 2.导入停用词表的数据(忽略此数据)\n",
    "stopwords = open(\"停用词表.txt\",encoding=\"utf-8\").read()\n",
    "stopwords = stopwords.split(\"\\n\")  # 去掉换行符\n",
    "\n",
    "# 3.过滤分词的结果\n",
    "allwords = [word for word in result if len(word) > 1 and word not in stopwords]  #取到词的长度大于1并且词不在停用词表中的\n",
    "\n",
    "# 4.创建dataframe对象,并统计单词及其次数\n",
    "res = pd.DataFrame(allwords,columns=[\"word\"])  # 把allowords封装，赋列名\n",
    "res = res[\"word\"].groupby(res[\"word\"]).count() # 对词的出现频率进行统计 groupby函数\n",
    "\n",
    "# 列设置名称\n",
    "res.index.name=\"txt\" # 给列设置名称\n",
    "res = res.reset_index() # 把索引进行重置\n",
    "\n",
    "# 5.给索引列赋值,并过滤出超过3的单词\n",
    "res = res[res[\"word\"] > 3].reset_index(drop=True) # 只保留大于3的值，其余清理掉\n",
    "\n",
    "# 6.标题词云展示数据\n",
    "name = res[\"txt\"].tolist()\n",
    "value = res[\"word\"].tolist()\n",
    "\n",
    "wc = WordCloud(width=1366,height=600)\n",
    "wc.add(\"\",name,value,word_size_range=[20,100],shape='circle')\n",
    "wc.render(\"游戏分析.html\")"
   ]
  },
  {
   "cell_type": "markdown",
   "metadata": {},
   "source": [
    "#### 5.4 热度排名前十的成绩分布"
   ]
  },
  {
   "cell_type": "code",
   "execution_count": null,
   "metadata": {},
   "outputs": [],
   "source": [
    "# 排名前十的游戏及其分数\n",
    "t = df.copy()\n",
    "top10 = t.head(10)\n",
    "\n",
    "x = top10[\"game_name\"]\n",
    "y = top10[\"game_avg\"]\n",
    "\n",
    "figure, ax = plt.subplots(1, 1)\n",
    "ax.set_xticklabels(t[\"game_name\"],rotation=90)\n",
    "ax.bar(x, height=y, width=0.5, label=\"游戏评分\", tick_label=x)\n",
    "\n",
    "# 添加数据标签\n",
    "for a, b in zip(x, y):\n",
    "    ax.text(a, b + 0.05, '%.1f' % b, ha='center', va='bottom', fontsize=10)\n",
    "\n",
    "# 添加图例\n",
    "plt.legend(loc=(1, 1))\n",
    "\n",
    "# 展示图形\n",
    "plt.show()"
   ]
  },
  {
   "cell_type": "code",
   "execution_count": null,
   "metadata": {},
   "outputs": [],
   "source": []
  }
 ],
 "metadata": {
  "kernelspec": {
   "display_name": "Python 3",
   "language": "python",
   "name": "python3"
  },
  "language_info": {
   "codemirror_mode": {
    "name": "ipython",
    "version": 3
   },
   "file_extension": ".py",
   "mimetype": "text/x-python",
   "name": "python",
   "nbconvert_exporter": "python",
   "pygments_lexer": "ipython3",
   "version": "3.7.4"
  }
 },
 "nbformat": 4,
 "nbformat_minor": 2
}
