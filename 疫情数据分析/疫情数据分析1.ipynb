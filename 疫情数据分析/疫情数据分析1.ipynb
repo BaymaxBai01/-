{
 "cells": [
  {
   "cell_type": "code",
   "execution_count": 3,
   "metadata": {},
   "outputs": [],
   "source": [
    "import numpy as np\n",
    "import pandas as pd\n",
    "import matplotlib as mpl\n",
    "import matplotlib.pyplot as plt\n",
    "import warnings\n",
    "\n",
    "# print(np.__version__)\n",
    "# print(pd.__version__)\n",
    "# print(mpl.__version__)\n",
    "\n",
    "# 解决中文乱码问题\n",
    "mpl.rcParams[\"font.family\"] = \"SimHei\"\n",
    "mpl.rcParams[\"axes.unicode_minus\"]=False # 用来正常显示负号\n",
    "plt.rcParams['font.sans-serif']=['SimHei'] # 用来正常显示中文标签\n",
    "%matplotlib inline  \n",
    "# 排除警告\n",
    "warnings.filterwarnings(\"ignore\")"
   ]
  },
  {
   "cell_type": "code",
   "execution_count": 11,
   "metadata": {},
   "outputs": [
    {
     "name": "stdout",
     "output_type": "stream",
     "text": [
      "      FIPS     Admin2  Province_State Country_Region          Last_Update  \\\n",
      "0  45001.0  Abbeville  South Carolina             US  2020-05-21 02:32:48   \n",
      "1  22001.0     Acadia       Louisiana             US  2020-05-21 02:32:48   \n",
      "2  51001.0   Accomack        Virginia             US  2020-05-21 02:32:48   \n",
      "\n",
      "         Lat      Long_  Confirmed  Deaths  Recovered  Active  \\\n",
      "0  34.223334 -82.461707         36       0          0      36   \n",
      "1  30.295065 -92.414197        262      12          0     250   \n",
      "2  37.767072 -75.632346        709      11          0     698   \n",
      "\n",
      "                    Combined_Key  \n",
      "0  Abbeville, South Carolina, US  \n",
      "1          Acadia, Louisiana, US  \n",
      "2         Accomack, Virginia, US  \n",
      "--------------------------------------------------\n",
      "Index(['FIPS', 'Admin2', 'Province_State', 'Country_Region', 'Last_Update',\n",
      "       'Lat', 'Long_', 'Confirmed', 'Deaths', 'Recovered', 'Active',\n",
      "       'Combined_Key'],\n",
      "      dtype='object')\n",
      "--------------------------------------------------\n"
     ]
    }
   ],
   "source": [
    "data = pd.read_csv(r'dataset.csv')\n",
    "print(data.head(3))\n",
    "print('-'*50)\n",
    "print(data.columns)\n",
    "print('-'*50)"
   ]
  },
  {
   "cell_type": "code",
   "execution_count": 15,
   "metadata": {},
   "outputs": [
    {
     "name": "stdout",
     "output_type": "stream",
     "text": [
      "3394\n",
      "['US' 'Italy' 'Brazil' 'Mexico' 'Canada' 'Spain' 'United Kingdom' 'China'\n",
      " 'Chile' 'Netherlands' 'Australia' 'Germany' 'Denmark' 'France'\n",
      " 'Afghanistan' 'Albania' 'Algeria' 'Andorra' 'Angola'\n",
      " 'Antigua and Barbuda' 'Argentina' 'Armenia' 'Austria' 'Azerbaijan'\n",
      " 'Bahamas' 'Bahrain' 'Bangladesh' 'Barbados' 'Belarus' 'Belgium' 'Belize'\n",
      " 'Benin' 'Bhutan' 'Bolivia' 'Bosnia and Herzegovina' 'Botswana' 'Brunei'\n",
      " 'Bulgaria' 'Burkina Faso' 'Burma' 'Burundi' 'Cabo Verde' 'Cambodia'\n",
      " 'Cameroon' 'Central African Republic' 'Chad' 'Colombia' 'Comoros'\n",
      " 'Congo (Brazzaville)' 'Congo (Kinshasa)' 'Costa Rica' \"Cote d'Ivoire\"\n",
      " 'Croatia' 'Cuba' 'Cyprus' 'Czechia' 'Diamond Princess' 'Djibouti'\n",
      " 'Dominica' 'Dominican Republic' 'Ecuador' 'Egypt' 'El Salvador'\n",
      " 'Equatorial Guinea' 'Eritrea' 'Estonia' 'Eswatini' 'Ethiopia' 'Fiji'\n",
      " 'Finland' 'Gabon' 'Gambia' 'Georgia' 'Ghana' 'Greece' 'Grenada'\n",
      " 'Guatemala' 'Guinea' 'Guinea-Bissau' 'Guyana' 'Haiti' 'Holy See'\n",
      " 'Honduras' 'Hungary' 'Iceland' 'India' 'Indonesia' 'Iran' 'Iraq'\n",
      " 'Ireland' 'Israel' 'Jamaica' 'Japan' 'Jordan' 'Kazakhstan' 'Kenya'\n",
      " 'Korea, South' 'Kosovo' 'Kuwait' 'Kyrgyzstan' 'Laos' 'Latvia' 'Lebanon'\n",
      " 'Lesotho' 'Liberia' 'Libya' 'Liechtenstein' 'Lithuania' 'Luxembourg'\n",
      " 'MS Zaandam' 'Madagascar' 'Malawi' 'Malaysia' 'Maldives' 'Mali' 'Malta'\n",
      " 'Mauritania' 'Mauritius' 'Moldova' 'Monaco' 'Mongolia' 'Montenegro'\n",
      " 'Morocco' 'Mozambique' 'Namibia' 'Nepal' 'New Zealand' 'Nicaragua'\n",
      " 'Niger' 'Nigeria' 'North Macedonia' 'Norway' 'Oman' 'Pakistan' 'Panama'\n",
      " 'Papua New Guinea' 'Paraguay' 'Peru' 'Philippines' 'Poland' 'Portugal'\n",
      " 'Qatar' 'Romania' 'Russia' 'Rwanda' 'Saint Kitts and Nevis' 'Saint Lucia'\n",
      " 'Saint Vincent and the Grenadines' 'San Marino' 'Sao Tome and Principe'\n",
      " 'Saudi Arabia' 'Senegal' 'Serbia' 'Seychelles' 'Sierra Leone' 'Singapore'\n",
      " 'Slovakia' 'Slovenia' 'Somalia' 'South Africa' 'South Sudan' 'Sri Lanka'\n",
      " 'Sudan' 'Suriname' 'Sweden' 'Switzerland' 'Syria' 'Taiwan*' 'Tajikistan'\n",
      " 'Tanzania' 'Thailand' 'Timor-Leste' 'Togo' 'Trinidad and Tobago'\n",
      " 'Tunisia' 'Turkey' 'Uganda' 'Ukraine' 'United Arab Emirates' 'Uruguay'\n",
      " 'Uzbekistan' 'Venezuela' 'Vietnam' 'West Bank and Gaza' 'Western Sahara'\n",
      " 'Yemen' 'Zambia' 'Zimbabwe']\n",
      "188\n"
     ]
    }
   ],
   "source": [
    "# 查看有多少个国家\n",
    "total_country = data['Country_Region'].count() # 统计出现次数\n",
    "print(total_country) \n",
    "total_country = data['Country_Region'].unique() # 去重明细\n",
    "print(total_country)\n",
    "total_country = data['Country_Region'].nunique() # 去重统计\n",
    "print(total_country)"
   ]
  },
  {
   "cell_type": "code",
   "execution_count": 19,
   "metadata": {},
   "outputs": [
    {
     "name": "stdout",
     "output_type": "stream",
     "text": [
      "3000\n",
      "['US']\n",
      "1\n"
     ]
    }
   ],
   "source": [
    "# 统计美国确诊和死亡人数\n",
    "total_in_US = data[  data['Country_Region'] == 'US'  ]\n",
    "# 用于验证的测试代码\n",
    "print(total_in_US['Country_Region'].count())\n",
    "print(total_in_US['Country_Region'].unique())\n",
    "print(total_in_US['Country_Region'].nunique())"
   ]
  },
  {
   "cell_type": "code",
   "execution_count": 22,
   "metadata": {},
   "outputs": [
    {
     "name": "stdout",
     "output_type": "stream",
     "text": [
      "Confirmed    1551853\n",
      "Deaths         93439\n",
      "dtype: int64\n"
     ]
    }
   ],
   "source": [
    "total_in_US = data[  data['Country_Region'] == 'US'  ][['Confirmed','Deaths']].sum()\n",
    "print(total_in_US)"
   ]
  },
  {
   "cell_type": "code",
   "execution_count": 31,
   "metadata": {},
   "outputs": [
    {
     "name": "stdout",
     "output_type": "stream",
     "text": [
      "                Confirmed  Deaths\n",
      "Country_Region                   \n",
      "US                1551853   93439\n",
      "Russia             308705    2972\n",
      "Brazil             291579   18859\n",
      "United Kingdom     249619   35786\n",
      "Spain              232555   27888\n",
      "Italy              227364   32330\n",
      "France             181700   28135\n",
      "Germany            178473    8144\n",
      "Turkey             152587    4222\n",
      "Iran               126949    7183\n",
      "Index(['Confirmed', 'Deaths'], dtype='object')\n"
     ]
    }
   ],
   "source": [
    "# 统计各个国家的确诊和死亡\n",
    "each_country = data[['Country_Region','Confirmed','Deaths']].groupby('Country_Region').agg('sum') # groupby分组，agg聚合方式\n",
    "print(each_country.sort_values(by = 'Confirmed',ascending= False).head(10)) # sort_values 排序，by：排序列，ascending排序方式，True升序，False降序\n",
    "\n",
    "# 这里的打印出来的结果只有两列，最左边一列是索引值，不属于列，可以在groupby中添加一个as_index=False 的参数。\n",
    "print(each_country.columns)"
   ]
  },
  {
   "cell_type": "code",
   "execution_count": 41,
   "metadata": {},
   "outputs": [
    {
     "name": "stdout",
     "output_type": "stream",
     "text": [
      "     Country_Region  Confirmed  Deaths\n",
      "174              US    1551853   93439\n",
      "140          Russia     308705    2972\n",
      "23           Brazil     291579   18859\n",
      "178  United Kingdom     249619   35786\n",
      "158           Spain     232555   27888\n",
      "85            Italy     227364   32330\n",
      "62           France     181700   28135\n",
      "66          Germany     178473    8144\n",
      "173          Turkey     152587    4222\n",
      "81             Iran     126949    7183\n"
     ]
    }
   ],
   "source": [
    "each_country = data[['Country_Region','Confirmed','Deaths']].groupby('Country_Region',as_index=False).agg('sum') # groupby分组，agg聚合方式\n",
    "print(each_country.sort_values(by = 'Confirmed',ascending= False).head(10)) # sort_values 排序，by：排序列，ascending排序方式，True升序，False降序"
   ]
  },
  {
   "cell_type": "code",
   "execution_count": 43,
   "metadata": {},
   "outputs": [
    {
     "data": {
      "image/png": "[encoded data removed]",
      "text/plain": [
       "<Figure size 432x288 with 1 Axes>"
      ]
     },
     "metadata": {
      "needs_background": "light"
     },
     "output_type": "display_data"
    }
   ],
   "source": [
    "# 画图\n",
    "result = each_country.sort_values(by = 'Confirmed',ascending= False).head(10)\n",
    "x = result['Country_Region']\n",
    "y1 = result['Confirmed']\n",
    "y2 = result['Deaths']\n",
    "\n",
    "plt.bar(range(len(x)),y1,color='green') #将x转为int类型\n",
    "plt.bar(range(len(x)),y2,color='red') #将x转为int类型\n",
    "plt.xticks(range(len(x)),x,rotation= 45) #int和x建立新的映射关系，并旋转45度rotation函数。\n",
    "plt.title('each_country')\n",
    "plt.show()"
   ]
  },
  {
   "cell_type": "code",
   "execution_count": 45,
   "metadata": {},
   "outputs": [
    {
     "name": "stdout",
     "output_type": "stream",
     "text": [
      "Confirmed    84063\n",
      "Active         115\n",
      "dtype: int64\n"
     ]
    }
   ],
   "source": [
    "# 统计中国数据\n",
    "total_in_china = data[  data['Country_Region'] == 'China'  ][['Confirmed','Active']].sum()\n",
    "print(total_in_china)"
   ]
  },
  {
   "cell_type": "code",
   "execution_count": 48,
   "metadata": {},
   "outputs": [
    {
     "name": "stdout",
     "output_type": "stream",
     "text": [
      "      Province_State  Confirmed  Active\n",
      "3084           Hubei      68135       7\n",
      "3072       Guangdong       1590       3\n",
      "3080           Henan       1276       0\n",
      "3215        Zhejiang       1268       0\n",
      "3083       Hong Kong       1055      26\n",
      "3085           Hunan       1019       0\n",
      "3002           Anhui        991       0\n",
      "3079    Heilongjiang        945       0\n",
      "3090         Jiangxi        937       0\n",
      "3177        Shandong        788       1\n",
      "3178        Shanghai        666      18\n",
      "3089         Jiangsu        653       0\n",
      "3019         Beijing        593       6\n",
      "3043       Chongqing        579       0\n",
      "3180         Sichuan        561       0\n",
      "3061          Fujian        356       0\n",
      "3078           Hebei        328       0\n",
      "3176         Shaanxi        308       2\n",
      "3073         Guangxi        254       0\n",
      "3086  Inner Mongolia        216      19\n",
      "3179          Shanxi        198       0\n",
      "3192         Tianjin        192       2\n",
      "3213          Yunnan        185       0\n",
      "3076          Hainan        169       1\n",
      "3091           Jilin        151      26\n",
      "3094        Liaoning        149       3\n",
      "3075         Guizhou        147       0\n",
      "3063           Gansu        139       0\n",
      "3210        Xinjiang         76       0\n",
      "3127         Ningxia         75       0\n",
      "3099           Macau         45       1\n",
      "3151         Qinghai         18       0\n",
      "3193           Tibet          1       0\n"
     ]
    }
   ],
   "source": [
    "# 统计中国各个省份的数据\n",
    "china_each_province = data[  data['Country_Region'] == 'China'  ][['Province_State','Confirmed','Active']]\n",
    "print(china_each_province.sort_values(by = 'Confirmed',ascending=False))"
   ]
  },
  {
   "cell_type": "code",
   "execution_count": 57,
   "metadata": {},
   "outputs": [
    {
     "name": "stdout",
     "output_type": "stream",
     "text": [
      "     Country_Region  Deaths\n",
      "174              US   93439\n",
      "178  United Kingdom   35786\n",
      "85            Italy   32330\n",
      "62           France   28135\n",
      "158           Spain   27888\n",
      "23           Brazil   18859\n",
      "16          Belgium    9150\n",
      "66          Germany    8144\n",
      "81             Iran    7183\n",
      "32           Canada    6150\n",
      "113          Mexico    6090\n",
      "122     Netherlands    5767\n"
     ]
    }
   ],
   "source": [
    "# 统计死亡人数大于中国的人数\n",
    "china_death_num = data[ data['Country_Region'] == 'China' ]['Deaths'].sum() # 这里的deaths如果放在双层[[]]里的话，和单层输出的格式是不一样的\n",
    "# print(china_death_num)\n",
    "each_country_death = data[['Country_Region','Deaths']].groupby('Country_Region',as_index=False).agg('sum')\n",
    "# print(each_country_death)\n",
    "death_more_than_china = each_country_death[ each_country_death['Deaths'] > china_death_num]\n",
    "print(death_more_than_china.sort_values(by='Deaths',ascending=False))"
   ]
  },
  {
   "cell_type": "code",
   "execution_count": null,
   "metadata": {},
   "outputs": [],
   "source": []
  }
 ],
 "metadata": {
  "kernelspec": {
   "display_name": "Python 3",
   "language": "python",
   "name": "python3"
  },
  "language_info": {
   "codemirror_mode": {
    "name": "ipython",
    "version": 3
   },
   "file_extension": ".py",
   "mimetype": "text/x-python",
   "name": "python",
   "nbconvert_exporter": "python",
   "pygments_lexer": "ipython3",
   "version": "3.7.4"
  }
 },
 "nbformat": 4,
 "nbformat_minor": 4
}
