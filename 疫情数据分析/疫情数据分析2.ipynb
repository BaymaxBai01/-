{
 "cells": [
  {
   "cell_type": "code",
   "execution_count": 1,
   "metadata": {},
   "outputs": [],
   "source": [
    "import numpy as np\n",
    "import pandas as pd\n",
    "import matplotlib as mpl\n",
    "import matplotlib.pyplot as plt\n",
    "import warnings\n",
    "\n",
    "# print(np.__version__)\n",
    "# print(pd.__version__)\n",
    "# print(mpl.__version__)\n",
    "\n",
    "# 解决中文乱码问题\n",
    "mpl.rcParams[\"font.family\"] = \"SimHei\"\n",
    "mpl.rcParams[\"axes.unicode_minus\"]=False # 用来正常显示负号\n",
    "plt.rcParams['font.sans-serif']=['SimHei'] # 用来正常显示中文标签\n",
    "%matplotlib inline  \n",
    "# 排除警告\n",
    "warnings.filterwarnings(\"ignore\")"
   ]
  },
  {
   "cell_type": "code",
   "execution_count": 2,
   "metadata": {},
   "outputs": [
    {
     "name": "stdout",
     "output_type": "stream",
     "text": [
      "  Province/State Country/Region      Lat     Long  1/22/20  1/23/20  1/24/20  \\\n",
      "0            NaN    Afghanistan  33.0000  65.0000        0        0        0   \n",
      "1            NaN        Albania  41.1533  20.1683        0        0        0   \n",
      "2            NaN        Algeria  28.0339   1.6596        0        0        0   \n",
      "\n",
      "   1/25/20  1/26/20  1/27/20  ...  6/28/20  6/29/20  6/30/20  7/1/20  7/2/20  \\\n",
      "0        0        0        0  ...    30967    31238    31517   31836   32022   \n",
      "1        0        0        0  ...     2402     2466     2535    2580    2662   \n",
      "2        0        0        0  ...    13273    13571    13907   14272   14657   \n",
      "\n",
      "   7/3/20  7/4/20  7/5/20  7/6/20  7/7/20  \n",
      "0   32324   32672   32951   33190   33384  \n",
      "1    2752    2819    2893    2964    3038  \n",
      "2   15070   15500   15941   16404   16879  \n",
      "\n",
      "[3 rows x 172 columns]\n"
     ]
    }
   ],
   "source": [
    "data = pd.read_csv(r'time_series.csv')\n",
    "print(data.head(3))"
   ]
  },
  {
   "cell_type": "code",
   "execution_count": 4,
   "metadata": {},
   "outputs": [
    {
     "name": "stdout",
     "output_type": "stream",
     "text": [
      "    Province/State Country/Region      Lat     Long  1/22/20  1/23/20  \\\n",
      "225            NaN             US  37.0902 -95.7129        1        1   \n",
      "\n",
      "     1/24/20  1/25/20  1/26/20  1/27/20  ...  6/28/20  6/29/20  6/30/20  \\\n",
      "225        2        2        5        5  ...  2549294  2590668  2636414   \n",
      "\n",
      "      7/1/20   7/2/20   7/3/20   7/4/20   7/5/20   7/6/20   7/7/20  \n",
      "225  2687588  2742049  2795361  2841241  2891124  2936077  2996098  \n",
      "\n",
      "[1 rows x 172 columns]\n"
     ]
    }
   ],
   "source": [
    "# 取美国数据\n",
    "US_data = data[ data['Country/Region'] == \"US\" ]\n",
    "print(US_data)"
   ]
  },
  {
   "cell_type": "code",
   "execution_count": 8,
   "metadata": {},
   "outputs": [
    {
     "name": "stdout",
     "output_type": "stream",
     "text": [
      "                    225\n",
      "Province/State      NaN\n",
      "Country/Region       US\n",
      "Lat             37.0902\n",
      "Long           -95.7129\n",
      "1/22/20               1\n",
      "...                 ...\n",
      "7/3/20          2795361\n",
      "7/4/20          2841241\n",
      "7/5/20          2891124\n",
      "7/6/20          2936077\n",
      "7/7/20          2996098\n",
      "\n",
      "[172 rows x 1 columns]\n",
      "             225\n",
      "6/24/20  2382426\n",
      "6/25/20  2422299\n",
      "6/26/20  2467554\n",
      "6/27/20  2510259\n",
      "6/28/20  2549294\n",
      "6/29/20  2590668\n",
      "6/30/20  2636414\n",
      "7/1/20   2687588\n",
      "7/2/20   2742049\n",
      "7/3/20   2795361\n",
      "7/4/20   2841241\n",
      "7/5/20   2891124\n",
      "7/6/20   2936077\n",
      "7/7/20   2996098\n",
      "     6/24/20  6/25/20  6/26/20  6/27/20  6/28/20  6/29/20  6/30/20   7/1/20  \\\n",
      "225  2382426  2422299  2467554  2510259  2549294  2590668  2636414  2687588   \n",
      "\n",
      "      7/2/20   7/3/20   7/4/20   7/5/20   7/6/20   7/7/20  \n",
      "225  2742049  2795361  2841241  2891124  2936077  2996098  \n"
     ]
    }
   ],
   "source": [
    "# 取最近14天美国的数据-需要先进行转置，因为列无法使用切片，只有行才可以使用切片\n",
    "US_data_T = US_data.T # .T 转置操作\n",
    "print(US_data_T)\n",
    "print(US_data_T[-14:])\n",
    "print(US_data_T[-14:].T) # 再次转置获得行数据，这是一个DataFrame格式的数据"
   ]
  },
  {
   "cell_type": "code",
   "execution_count": 16,
   "metadata": {},
   "outputs": [
    {
     "name": "stdout",
     "output_type": "stream",
     "text": [
      "['6/24/20', '6/25/20', '6/26/20', '6/27/20', '6/28/20', '6/29/20', '6/30/20', '7/1/20', '7/2/20', '7/3/20', '7/4/20', '7/5/20', '7/6/20', '7/7/20']\n",
      "[2382426, 2422299, 2467554, 2510259, 2549294, 2590668, 2636414, 2687588, 2742049, 2795361, 2841241, 2891124, 2936077, 2996098]\n"
     ]
    }
   ],
   "source": [
    "result = US_data_T[-14:].T  \n",
    "print(result.columns.tolist()) #可以通过columns方法取出表头，然后tolist，转为列表\n",
    "print(result.values.tolist()[0]) #可以通过columns方法取出二维数组的值，然后tolist，转为列表"
   ]
  },
  {
   "cell_type": "code",
   "execution_count": 18,
   "metadata": {},
   "outputs": [
    {
     "data": {
      "image/png": "[encoded data removed]",
      "text/plain": [
       "<Figure size 432x288 with 1 Axes>"
      ]
     },
     "metadata": {
      "needs_background": "light"
     },
     "output_type": "display_data"
    }
   ],
   "source": [
    "x = result.columns.tolist()\n",
    "y = result.values.tolist()[0]\n",
    "\n",
    "plt.plot(range(len(x)),y)\n",
    "plt.xticks(range(len(x)),x,rotation=45)\n",
    "plt.show()"
   ]
  },
  {
   "cell_type": "code",
   "execution_count": null,
   "metadata": {},
   "outputs": [],
   "source": []
  }
 ],
 "metadata": {
  "kernelspec": {
   "display_name": "Python 3",
   "language": "python",
   "name": "python3"
  },
  "language_info": {
   "codemirror_mode": {
    "name": "ipython",
    "version": 3
   },
   "file_extension": ".py",
   "mimetype": "text/x-python",
   "name": "python",
   "nbconvert_exporter": "python",
   "pygments_lexer": "ipython3",
   "version": "3.7.4"
  }
 },
 "nbformat": 4,
 "nbformat_minor": 4
}
